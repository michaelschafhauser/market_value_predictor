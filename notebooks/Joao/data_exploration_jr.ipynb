{
 "cells": [
  {
   "cell_type": "markdown",
   "id": "eac92533-ee3d-49f2-be34-b23cf364650d",
   "metadata": {
    "tags": []
   },
   "source": [
    "# 1. Imports"
   ]
  },
  {
   "cell_type": "code",
   "execution_count": 1,
   "id": "63bf6aba-0ea9-432e-bee3-89546bcdc30e",
   "metadata": {},
   "outputs": [],
   "source": [
    "import pandas as pd\n",
    "import numpy as np\n",
    "import matplotlib.pyplot as plt"
   ]
  },
  {
   "cell_type": "markdown",
   "id": "00cba30d-eee3-4e71-93b9-471a86239356",
   "metadata": {},
   "source": [
    "# 2. Data importing"
   ]
  },
  {
   "cell_type": "code",
   "execution_count": 2,
   "id": "755a82bc-499b-4894-ac03-2c164a769eda",
   "metadata": {},
   "outputs": [],
   "source": [
    "data = pd.read_csv('../../raw_data/data.csv')"
   ]
  },
  {
   "cell_type": "code",
   "execution_count": 3,
   "id": "4fbe6cbd-930d-4e5a-a64e-82519487fb25",
   "metadata": {},
   "outputs": [
    {
     "data": {
      "text/html": [
       "<div>\n",
       "<style scoped>\n",
       "    .dataframe tbody tr th:only-of-type {\n",
       "        vertical-align: middle;\n",
       "    }\n",
       "\n",
       "    .dataframe tbody tr th {\n",
       "        vertical-align: top;\n",
       "    }\n",
       "\n",
       "    .dataframe thead th {\n",
       "        text-align: right;\n",
       "    }\n",
       "</style>\n",
       "<table border=\"1\" class=\"dataframe\">\n",
       "  <thead>\n",
       "    <tr style=\"text-align: right;\">\n",
       "      <th></th>\n",
       "      <th>Unnamed: 0</th>\n",
       "      <th>Unnamed: 0.1</th>\n",
       "      <th>club_name_x</th>\n",
       "      <th>player_name</th>\n",
       "      <th>age_x</th>\n",
       "      <th>position</th>\n",
       "      <th>club_involved_name</th>\n",
       "      <th>fee</th>\n",
       "      <th>transfer_movement</th>\n",
       "      <th>transfer_period</th>\n",
       "      <th>...</th>\n",
       "      <th>lwb</th>\n",
       "      <th>ldm</th>\n",
       "      <th>cdm</th>\n",
       "      <th>rdm</th>\n",
       "      <th>rwb</th>\n",
       "      <th>lb</th>\n",
       "      <th>lcb</th>\n",
       "      <th>cb</th>\n",
       "      <th>rcb</th>\n",
       "      <th>rb</th>\n",
       "    </tr>\n",
       "  </thead>\n",
       "  <tbody>\n",
       "    <tr>\n",
       "      <th>0</th>\n",
       "      <td>0</td>\n",
       "      <td>0</td>\n",
       "      <td>Paris Saint-Germain</td>\n",
       "      <td>angel di maria</td>\n",
       "      <td>27.0</td>\n",
       "      <td>Right Winger</td>\n",
       "      <td>Man Utd</td>\n",
       "      <td>£56.70m</td>\n",
       "      <td>in</td>\n",
       "      <td>Summer</td>\n",
       "      <td>...</td>\n",
       "      <td>75+2</td>\n",
       "      <td>73+2</td>\n",
       "      <td>73+2</td>\n",
       "      <td>73+2</td>\n",
       "      <td>75+2</td>\n",
       "      <td>70+2</td>\n",
       "      <td>64+2</td>\n",
       "      <td>64+2</td>\n",
       "      <td>64+2</td>\n",
       "      <td>70+2</td>\n",
       "    </tr>\n",
       "    <tr>\n",
       "      <th>1</th>\n",
       "      <td>1</td>\n",
       "      <td>1</td>\n",
       "      <td>Olympique Lyon</td>\n",
       "      <td>sergi darder</td>\n",
       "      <td>21.0</td>\n",
       "      <td>Central Midfield</td>\n",
       "      <td>Málaga CF</td>\n",
       "      <td>£11.79m</td>\n",
       "      <td>in</td>\n",
       "      <td>Summer</td>\n",
       "      <td>...</td>\n",
       "      <td>68+0</td>\n",
       "      <td>71+0</td>\n",
       "      <td>71+0</td>\n",
       "      <td>71+0</td>\n",
       "      <td>68+0</td>\n",
       "      <td>66+0</td>\n",
       "      <td>66+0</td>\n",
       "      <td>66+0</td>\n",
       "      <td>66+0</td>\n",
       "      <td>66+0</td>\n",
       "    </tr>\n",
       "    <tr>\n",
       "      <th>2</th>\n",
       "      <td>2</td>\n",
       "      <td>2</td>\n",
       "      <td>RCD Espanyol Barcelona</td>\n",
       "      <td>sergi darder</td>\n",
       "      <td>23.0</td>\n",
       "      <td>Central Midfield</td>\n",
       "      <td>Olympique Lyon</td>\n",
       "      <td>Loan fee:£270Th.</td>\n",
       "      <td>in</td>\n",
       "      <td>Summer</td>\n",
       "      <td>...</td>\n",
       "      <td>71+1</td>\n",
       "      <td>75+1</td>\n",
       "      <td>75+1</td>\n",
       "      <td>75+1</td>\n",
       "      <td>71+1</td>\n",
       "      <td>69+1</td>\n",
       "      <td>69+1</td>\n",
       "      <td>69+1</td>\n",
       "      <td>69+1</td>\n",
       "      <td>69+1</td>\n",
       "    </tr>\n",
       "    <tr>\n",
       "      <th>3</th>\n",
       "      <td>3</td>\n",
       "      <td>3</td>\n",
       "      <td>RCD Espanyol Barcelona</td>\n",
       "      <td>sergi darder</td>\n",
       "      <td>24.0</td>\n",
       "      <td>Central Midfield</td>\n",
       "      <td>Olympique Lyon</td>\n",
       "      <td>£7.20m</td>\n",
       "      <td>in</td>\n",
       "      <td>Summer</td>\n",
       "      <td>...</td>\n",
       "      <td>69+1</td>\n",
       "      <td>73+1</td>\n",
       "      <td>73+1</td>\n",
       "      <td>73+1</td>\n",
       "      <td>69+1</td>\n",
       "      <td>67+1</td>\n",
       "      <td>66+1</td>\n",
       "      <td>66+1</td>\n",
       "      <td>66+1</td>\n",
       "      <td>67+1</td>\n",
       "    </tr>\n",
       "    <tr>\n",
       "      <th>4</th>\n",
       "      <td>4</td>\n",
       "      <td>4</td>\n",
       "      <td>Olympique Lyon</td>\n",
       "      <td>rafael</td>\n",
       "      <td>25.0</td>\n",
       "      <td>Right-Back</td>\n",
       "      <td>Man Utd</td>\n",
       "      <td>£2.88m</td>\n",
       "      <td>in</td>\n",
       "      <td>Summer</td>\n",
       "      <td>...</td>\n",
       "      <td>58+0</td>\n",
       "      <td>54+0</td>\n",
       "      <td>54+0</td>\n",
       "      <td>54+0</td>\n",
       "      <td>58+0</td>\n",
       "      <td>52+0</td>\n",
       "      <td>43+0</td>\n",
       "      <td>43+0</td>\n",
       "      <td>43+0</td>\n",
       "      <td>52+0</td>\n",
       "    </tr>\n",
       "  </tbody>\n",
       "</table>\n",
       "<p>5 rows × 120 columns</p>\n",
       "</div>"
      ],
      "text/plain": [
       "   Unnamed: 0  Unnamed: 0.1             club_name_x     player_name  age_x  \\\n",
       "0           0             0     Paris Saint-Germain  angel di maria   27.0   \n",
       "1           1             1          Olympique Lyon    sergi darder   21.0   \n",
       "2           2             2  RCD Espanyol Barcelona    sergi darder   23.0   \n",
       "3           3             3  RCD Espanyol Barcelona    sergi darder   24.0   \n",
       "4           4             4          Olympique Lyon          rafael   25.0   \n",
       "\n",
       "           position club_involved_name               fee transfer_movement  \\\n",
       "0      Right Winger            Man Utd           £56.70m                in   \n",
       "1  Central Midfield          Málaga CF           £11.79m                in   \n",
       "2  Central Midfield     Olympique Lyon  Loan fee:£270Th.                in   \n",
       "3  Central Midfield     Olympique Lyon            £7.20m                in   \n",
       "4        Right-Back            Man Utd            £2.88m                in   \n",
       "\n",
       "  transfer_period  ...   lwb   ldm   cdm   rdm   rwb    lb   lcb    cb   rcb  \\\n",
       "0          Summer  ...  75+2  73+2  73+2  73+2  75+2  70+2  64+2  64+2  64+2   \n",
       "1          Summer  ...  68+0  71+0  71+0  71+0  68+0  66+0  66+0  66+0  66+0   \n",
       "2          Summer  ...  71+1  75+1  75+1  75+1  71+1  69+1  69+1  69+1  69+1   \n",
       "3          Summer  ...  69+1  73+1  73+1  73+1  69+1  67+1  66+1  66+1  66+1   \n",
       "4          Summer  ...  58+0  54+0  54+0  54+0  58+0  52+0  43+0  43+0  43+0   \n",
       "\n",
       "     rb  \n",
       "0  70+2  \n",
       "1  66+0  \n",
       "2  69+1  \n",
       "3  67+1  \n",
       "4  52+0  \n",
       "\n",
       "[5 rows x 120 columns]"
      ]
     },
     "execution_count": 3,
     "metadata": {},
     "output_type": "execute_result"
    }
   ],
   "source": [
    "data.head()"
   ]
  },
  {
   "cell_type": "code",
   "execution_count": 4,
   "id": "9ebf67cd-1039-4e67-92ac-445218783489",
   "metadata": {},
   "outputs": [
    {
     "data": {
      "text/plain": [
       "(5234, 120)"
      ]
     },
     "execution_count": 4,
     "metadata": {},
     "output_type": "execute_result"
    }
   ],
   "source": [
    "data.shape"
   ]
  },
  {
   "cell_type": "code",
   "execution_count": 8,
   "id": "5ce9bf1b-5120-4ee6-9ed0-fdf3730ad951",
   "metadata": {},
   "outputs": [],
   "source": [
    "data.drop(columns=['Unnamed: 0','Unnamed: 0.1'], inplace=True)"
   ]
  },
  {
   "cell_type": "code",
   "execution_count": 9,
   "id": "08ba22ab-b0c6-4061-84f3-266190a12803",
   "metadata": {},
   "outputs": [
    {
     "data": {
      "text/html": [
       "<div>\n",
       "<style scoped>\n",
       "    .dataframe tbody tr th:only-of-type {\n",
       "        vertical-align: middle;\n",
       "    }\n",
       "\n",
       "    .dataframe tbody tr th {\n",
       "        vertical-align: top;\n",
       "    }\n",
       "\n",
       "    .dataframe thead th {\n",
       "        text-align: right;\n",
       "    }\n",
       "</style>\n",
       "<table border=\"1\" class=\"dataframe\">\n",
       "  <thead>\n",
       "    <tr style=\"text-align: right;\">\n",
       "      <th></th>\n",
       "      <th>club_name_x</th>\n",
       "      <th>player_name</th>\n",
       "      <th>age_x</th>\n",
       "      <th>position</th>\n",
       "      <th>club_involved_name</th>\n",
       "      <th>fee</th>\n",
       "      <th>transfer_movement</th>\n",
       "      <th>transfer_period</th>\n",
       "      <th>fee_cleaned</th>\n",
       "      <th>league_name_x</th>\n",
       "      <th>...</th>\n",
       "      <th>lwb</th>\n",
       "      <th>ldm</th>\n",
       "      <th>cdm</th>\n",
       "      <th>rdm</th>\n",
       "      <th>rwb</th>\n",
       "      <th>lb</th>\n",
       "      <th>lcb</th>\n",
       "      <th>cb</th>\n",
       "      <th>rcb</th>\n",
       "      <th>rb</th>\n",
       "    </tr>\n",
       "  </thead>\n",
       "  <tbody>\n",
       "    <tr>\n",
       "      <th>0</th>\n",
       "      <td>Paris Saint-Germain</td>\n",
       "      <td>angel di maria</td>\n",
       "      <td>27.0</td>\n",
       "      <td>Right Winger</td>\n",
       "      <td>Man Utd</td>\n",
       "      <td>£56.70m</td>\n",
       "      <td>in</td>\n",
       "      <td>Summer</td>\n",
       "      <td>56.70</td>\n",
       "      <td>Ligue 1</td>\n",
       "      <td>...</td>\n",
       "      <td>75+2</td>\n",
       "      <td>73+2</td>\n",
       "      <td>73+2</td>\n",
       "      <td>73+2</td>\n",
       "      <td>75+2</td>\n",
       "      <td>70+2</td>\n",
       "      <td>64+2</td>\n",
       "      <td>64+2</td>\n",
       "      <td>64+2</td>\n",
       "      <td>70+2</td>\n",
       "    </tr>\n",
       "    <tr>\n",
       "      <th>1</th>\n",
       "      <td>Olympique Lyon</td>\n",
       "      <td>sergi darder</td>\n",
       "      <td>21.0</td>\n",
       "      <td>Central Midfield</td>\n",
       "      <td>Málaga CF</td>\n",
       "      <td>£11.79m</td>\n",
       "      <td>in</td>\n",
       "      <td>Summer</td>\n",
       "      <td>11.79</td>\n",
       "      <td>Ligue 1</td>\n",
       "      <td>...</td>\n",
       "      <td>68+0</td>\n",
       "      <td>71+0</td>\n",
       "      <td>71+0</td>\n",
       "      <td>71+0</td>\n",
       "      <td>68+0</td>\n",
       "      <td>66+0</td>\n",
       "      <td>66+0</td>\n",
       "      <td>66+0</td>\n",
       "      <td>66+0</td>\n",
       "      <td>66+0</td>\n",
       "    </tr>\n",
       "    <tr>\n",
       "      <th>2</th>\n",
       "      <td>RCD Espanyol Barcelona</td>\n",
       "      <td>sergi darder</td>\n",
       "      <td>23.0</td>\n",
       "      <td>Central Midfield</td>\n",
       "      <td>Olympique Lyon</td>\n",
       "      <td>Loan fee:£270Th.</td>\n",
       "      <td>in</td>\n",
       "      <td>Summer</td>\n",
       "      <td>0.27</td>\n",
       "      <td>Primera Division</td>\n",
       "      <td>...</td>\n",
       "      <td>71+1</td>\n",
       "      <td>75+1</td>\n",
       "      <td>75+1</td>\n",
       "      <td>75+1</td>\n",
       "      <td>71+1</td>\n",
       "      <td>69+1</td>\n",
       "      <td>69+1</td>\n",
       "      <td>69+1</td>\n",
       "      <td>69+1</td>\n",
       "      <td>69+1</td>\n",
       "    </tr>\n",
       "    <tr>\n",
       "      <th>3</th>\n",
       "      <td>RCD Espanyol Barcelona</td>\n",
       "      <td>sergi darder</td>\n",
       "      <td>24.0</td>\n",
       "      <td>Central Midfield</td>\n",
       "      <td>Olympique Lyon</td>\n",
       "      <td>£7.20m</td>\n",
       "      <td>in</td>\n",
       "      <td>Summer</td>\n",
       "      <td>7.20</td>\n",
       "      <td>Primera Division</td>\n",
       "      <td>...</td>\n",
       "      <td>69+1</td>\n",
       "      <td>73+1</td>\n",
       "      <td>73+1</td>\n",
       "      <td>73+1</td>\n",
       "      <td>69+1</td>\n",
       "      <td>67+1</td>\n",
       "      <td>66+1</td>\n",
       "      <td>66+1</td>\n",
       "      <td>66+1</td>\n",
       "      <td>67+1</td>\n",
       "    </tr>\n",
       "    <tr>\n",
       "      <th>4</th>\n",
       "      <td>Olympique Lyon</td>\n",
       "      <td>rafael</td>\n",
       "      <td>25.0</td>\n",
       "      <td>Right-Back</td>\n",
       "      <td>Man Utd</td>\n",
       "      <td>£2.88m</td>\n",
       "      <td>in</td>\n",
       "      <td>Summer</td>\n",
       "      <td>2.88</td>\n",
       "      <td>Ligue 1</td>\n",
       "      <td>...</td>\n",
       "      <td>58+0</td>\n",
       "      <td>54+0</td>\n",
       "      <td>54+0</td>\n",
       "      <td>54+0</td>\n",
       "      <td>58+0</td>\n",
       "      <td>52+0</td>\n",
       "      <td>43+0</td>\n",
       "      <td>43+0</td>\n",
       "      <td>43+0</td>\n",
       "      <td>52+0</td>\n",
       "    </tr>\n",
       "  </tbody>\n",
       "</table>\n",
       "<p>5 rows × 118 columns</p>\n",
       "</div>"
      ],
      "text/plain": [
       "              club_name_x     player_name  age_x          position  \\\n",
       "0     Paris Saint-Germain  angel di maria   27.0      Right Winger   \n",
       "1          Olympique Lyon    sergi darder   21.0  Central Midfield   \n",
       "2  RCD Espanyol Barcelona    sergi darder   23.0  Central Midfield   \n",
       "3  RCD Espanyol Barcelona    sergi darder   24.0  Central Midfield   \n",
       "4          Olympique Lyon          rafael   25.0        Right-Back   \n",
       "\n",
       "  club_involved_name               fee transfer_movement transfer_period  \\\n",
       "0            Man Utd           £56.70m                in          Summer   \n",
       "1          Málaga CF           £11.79m                in          Summer   \n",
       "2     Olympique Lyon  Loan fee:£270Th.                in          Summer   \n",
       "3     Olympique Lyon            £7.20m                in          Summer   \n",
       "4            Man Utd            £2.88m                in          Summer   \n",
       "\n",
       "   fee_cleaned     league_name_x  ...   lwb   ldm   cdm   rdm   rwb    lb  \\\n",
       "0        56.70           Ligue 1  ...  75+2  73+2  73+2  73+2  75+2  70+2   \n",
       "1        11.79           Ligue 1  ...  68+0  71+0  71+0  71+0  68+0  66+0   \n",
       "2         0.27  Primera Division  ...  71+1  75+1  75+1  75+1  71+1  69+1   \n",
       "3         7.20  Primera Division  ...  69+1  73+1  73+1  73+1  69+1  67+1   \n",
       "4         2.88           Ligue 1  ...  58+0  54+0  54+0  54+0  58+0  52+0   \n",
       "\n",
       "    lcb    cb   rcb    rb  \n",
       "0  64+2  64+2  64+2  70+2  \n",
       "1  66+0  66+0  66+0  66+0  \n",
       "2  69+1  69+1  69+1  69+1  \n",
       "3  66+1  66+1  66+1  67+1  \n",
       "4  43+0  43+0  43+0  52+0  \n",
       "\n",
       "[5 rows x 118 columns]"
      ]
     },
     "execution_count": 9,
     "metadata": {},
     "output_type": "execute_result"
    }
   ],
   "source": [
    "data.head()"
   ]
  },
  {
   "cell_type": "code",
   "execution_count": 13,
   "id": "ede324df-fd5a-4703-96f8-e61be298a9d1",
   "metadata": {},
   "outputs": [
    {
     "data": {
      "text/plain": [
       "['club_name_x',\n",
       " 'player_name',\n",
       " 'age_x',\n",
       " 'position',\n",
       " 'club_involved_name',\n",
       " 'fee',\n",
       " 'transfer_movement',\n",
       " 'transfer_period',\n",
       " 'fee_cleaned',\n",
       " 'league_name_x',\n",
       " 'year',\n",
       " 'season',\n",
       " 'fifa year',\n",
       " 'sofifa_id',\n",
       " 'player_url',\n",
       " 'short_name',\n",
       " 'long_name',\n",
       " 'dob',\n",
       " 'height_cm',\n",
       " 'weight_kg',\n",
       " 'nationality',\n",
       " 'club_name_y',\n",
       " 'league_name_y',\n",
       " 'league_rank',\n",
       " 'overall',\n",
       " 'potential',\n",
       " 'value_eur',\n",
       " 'wage_eur',\n",
       " 'player_positions',\n",
       " 'preferred_foot',\n",
       " 'international_reputation',\n",
       " 'weak_foot',\n",
       " 'skill_moves',\n",
       " 'work_rate',\n",
       " 'body_type',\n",
       " 'real_face',\n",
       " 'release_clause_eur',\n",
       " 'player_tags',\n",
       " 'team_position',\n",
       " 'team_jersey_number',\n",
       " 'loaned_from',\n",
       " 'joined',\n",
       " 'contract_valid_until',\n",
       " 'nation_position',\n",
       " 'nation_jersey_number',\n",
       " 'pace',\n",
       " 'shooting',\n",
       " 'passing',\n",
       " 'dribbling',\n",
       " 'defending',\n",
       " 'physic',\n",
       " 'gk_diving',\n",
       " 'gk_handling',\n",
       " 'gk_kicking',\n",
       " 'gk_reflexes',\n",
       " 'gk_speed',\n",
       " 'gk_positioning',\n",
       " 'player_traits',\n",
       " 'attacking_crossing',\n",
       " 'attacking_finishing',\n",
       " 'attacking_heading_accuracy',\n",
       " 'attacking_short_passing',\n",
       " 'attacking_volleys',\n",
       " 'skill_dribbling',\n",
       " 'skill_curve',\n",
       " 'skill_fk_accuracy',\n",
       " 'skill_long_passing',\n",
       " 'skill_ball_control',\n",
       " 'movement_acceleration',\n",
       " 'movement_sprint_speed',\n",
       " 'movement_agility',\n",
       " 'movement_reactions',\n",
       " 'movement_balance',\n",
       " 'power_shot_power',\n",
       " 'power_jumping',\n",
       " 'power_stamina',\n",
       " 'power_strength',\n",
       " 'power_long_shots',\n",
       " 'mentality_aggression',\n",
       " 'mentality_interceptions',\n",
       " 'mentality_positioning',\n",
       " 'mentality_vision',\n",
       " 'mentality_penalties',\n",
       " 'mentality_composure',\n",
       " 'defending_marking',\n",
       " 'defending_standing_tackle',\n",
       " 'defending_sliding_tackle',\n",
       " 'goalkeeping_diving',\n",
       " 'goalkeeping_handling',\n",
       " 'goalkeeping_kicking',\n",
       " 'goalkeeping_positioning',\n",
       " 'goalkeeping_reflexes',\n",
       " 'ls',\n",
       " 'st',\n",
       " 'rs',\n",
       " 'lw',\n",
       " 'lf',\n",
       " 'cf',\n",
       " 'rf',\n",
       " 'rw',\n",
       " 'lam',\n",
       " 'cam',\n",
       " 'ram',\n",
       " 'lm',\n",
       " 'lcm',\n",
       " 'cm',\n",
       " 'rcm',\n",
       " 'rm',\n",
       " 'lwb',\n",
       " 'ldm',\n",
       " 'cdm',\n",
       " 'rdm',\n",
       " 'rwb',\n",
       " 'lb',\n",
       " 'lcb',\n",
       " 'cb',\n",
       " 'rcb',\n",
       " 'rb']"
      ]
     },
     "execution_count": 13,
     "metadata": {},
     "output_type": "execute_result"
    }
   ],
   "source": [
    "list(data.columns)"
   ]
  },
  {
   "cell_type": "markdown",
   "id": "87861045-208a-496b-be2b-73f812be37ab",
   "metadata": {
    "tags": []
   },
   "source": [
    "# 3. Exploratory Data Analysis"
   ]
  },
  {
   "cell_type": "code",
   "execution_count": 10,
   "id": "2de725a4-c8bc-4491-a2d7-6de90f600f65",
   "metadata": {},
   "outputs": [
    {
     "data": {
      "text/plain": [
       "<AxesSubplot:>"
      ]
     },
     "execution_count": 10,
     "metadata": {},
     "output_type": "execute_result"
    },
    {
     "data": {
      "image/png": "[encoded data removed]",
      "text/plain": [
       "<Figure size 432x288 with 1 Axes>"
      ]
     },
     "metadata": {
      "needs_background": "light"
     },
     "output_type": "display_data"
    }
   ],
   "source": [
    "data['fee_cleaned'].hist()"
   ]
  },
  {
   "cell_type": "code",
   "execution_count": 14,
   "id": "81557470-8aed-4551-98e3-e53eb245eaf5",
   "metadata": {},
   "outputs": [
    {
     "data": {
      "text/plain": [
       "<AxesSubplot:>"
      ]
     },
     "execution_count": 14,
     "metadata": {},
     "output_type": "execute_result"
    },
    {
     "data": {
      "image/png": "[encoded data removed]",
      "text/plain": [
       "<Figure size 432x288 with 1 Axes>"
      ]
     },
     "metadata": {
      "needs_background": "light"
     },
     "output_type": "display_data"
    }
   ],
   "source": [
    "data['wage_eur'].hist()"
   ]
  },
  {
   "cell_type": "markdown",
   "id": "dcd8dd49-feed-4cd3-b9d1-1a5483c45761",
   "metadata": {},
   "source": [
    "## 3.1. Who are the top 10 best paid players?"
   ]
  },
  {
   "cell_type": "code",
   "execution_count": 21,
   "id": "ccbd2508-1448-41b4-920e-620d40291b1b",
   "metadata": {},
   "outputs": [],
   "source": [
    "top10_wage_index = data['wage_eur'].sort_values(ascending=False).head(10).index"
   ]
  },
  {
   "cell_type": "code",
   "execution_count": 22,
   "id": "b754b3ff-4842-4dff-8904-1e1361f89839",
   "metadata": {},
   "outputs": [
    {
     "data": {
      "text/plain": [
       "Int64Index([95, 94, 3592, 93, 725, 92, 4012, 975, 1434, 4899], dtype='int64')"
      ]
     },
     "execution_count": 22,
     "metadata": {},
     "output_type": "execute_result"
    }
   ],
   "source": []
  },
  {
   "cell_type": "code",
   "execution_count": 32,
   "id": "bb98ac32-0de0-492e-8aa9-14aa6bc4a731",
   "metadata": {},
   "outputs": [
    {
     "data": {
      "text/plain": [
       "club_name_x                                                         AS Monaco\n",
       "player_name                                                             naldo\n",
       "age_x                                                                    36.0\n",
       "position                                                          Centre-Back\n",
       "club_involved_name                                              FC Schalke 04\n",
       "fee                                                                    £1.80m\n",
       "transfer_movement                                                          in\n",
       "transfer_period                                                        Winter\n",
       "fee_cleaned                                                               1.8\n",
       "league_name_x                                                         Ligue 1\n",
       "year                                                                     2018\n",
       "season                                                              2018/2019\n",
       "fifa year                                                                2018\n",
       "sofifa_id                                                               20801\n",
       "player_url                  https://sofifa.com/player/20801/c-ronaldo-dos-...\n",
       "short_name                                                  Cristiano Ronaldo\n",
       "long_name                                 Cristiano Ronaldo dos Santos Aveiro\n",
       "dob                                                                1985-02-05\n",
       "height_cm                                                                 185\n",
       "weight_kg                                                                  80\n",
       "nationality                                                          Portugal\n",
       "club_name_y                                                       Real Madrid\n",
       "league_name_y                                          Spain Primera Division\n",
       "league_rank                                                               1.0\n",
       "overall                                                                    94\n",
       "potential                                                                  94\n",
       "value_eur                                                            95500000\n",
       "wage_eur                                                               575000\n",
       "player_positions                                                       LW, ST\n",
       "preferred_foot                                                          Right\n",
       "international_reputation                                                    5\n",
       "Name: 95, dtype: object"
      ]
     },
     "execution_count": 32,
     "metadata": {},
     "output_type": "execute_result"
    }
   ],
   "source": [
    "data.iloc[95][['club_name_x','player_name','age_x','position','club_involved_name','fee','transfer_movement',\n",
    "               'transfer_period','fee_cleaned','league_name_x','year','season','fifa year','sofifa_id','player_url',\n",
    "               'short_name','long_name','dob','height_cm','weight_kg','nationality','club_name_y','league_name_y',\n",
    "               'league_rank','overall','potential','value_eur','wage_eur','player_positions','preferred_foot','international_reputation']]"
   ]
  },
  {
   "cell_type": "code",
   "execution_count": 33,
   "id": "81fb96cb-3448-4254-874c-d2320e687bc8",
   "metadata": {},
   "outputs": [
    {
     "data": {
      "text/plain": [
       "club_name_x                                            RCD Espanyol Barcelona\n",
       "player_name                                                             naldo\n",
       "age_x                                                                    28.0\n",
       "position                                                          Centre-Back\n",
       "club_involved_name                                                  Krasnodar\n",
       "fee                                                                    £2.25m\n",
       "transfer_movement                                                          in\n",
       "transfer_period                                                        Summer\n",
       "fee_cleaned                                                              2.25\n",
       "league_name_x                                                Primera Division\n",
       "year                                                                     2017\n",
       "season                                                              2017/2018\n",
       "fifa year                                                                2017\n",
       "sofifa_id                                                               20801\n",
       "player_url                  https://sofifa.com/player/20801/c-ronaldo-dos-...\n",
       "short_name                                                  Cristiano Ronaldo\n",
       "long_name                                 Cristiano Ronaldo dos Santos Aveiro\n",
       "dob                                                                1985-02-05\n",
       "height_cm                                                                 185\n",
       "weight_kg                                                                  80\n",
       "nationality                                                          Portugal\n",
       "club_name_y                                                       Real Madrid\n",
       "league_name_y                                          Spain Primera Division\n",
       "league_rank                                                               1.0\n",
       "overall                                                                    94\n",
       "potential                                                                  94\n",
       "value_eur                                                            87000000\n",
       "wage_eur                                                               575000\n",
       "player_positions                                                   LW, LM, ST\n",
       "preferred_foot                                                          Right\n",
       "international_reputation                                                    5\n",
       "Name: 94, dtype: object"
      ]
     },
     "execution_count": 33,
     "metadata": {},
     "output_type": "execute_result"
    }
   ],
   "source": [
    "data.iloc[94][['club_name_x','player_name','age_x','position','club_involved_name','fee','transfer_movement',\n",
    "               'transfer_period','fee_cleaned','league_name_x','year','season','fifa year','sofifa_id','player_url',\n",
    "               'short_name','long_name','dob','height_cm','weight_kg','nationality','club_name_y','league_name_y',\n",
    "               'league_rank','overall','potential','value_eur','wage_eur','player_positions','preferred_foot','international_reputation']]"
   ]
  },
  {
   "cell_type": "markdown",
   "id": "a809f69a-59d7-444c-abe8-420a310674db",
   "metadata": {},
   "source": [
    "### **NOTE**: we can notice that the top 2 best paid players are in the list because their name \"naldo\" has been confused with Ronaldo, hence mixing them with cristiano"
   ]
  },
  {
   "cell_type": "code",
   "execution_count": 41,
   "id": "1885385a-e6c6-4032-bacf-6f6b0e469ba9",
   "metadata": {},
   "outputs": [
    {
     "name": "stdout",
     "output_type": "stream",
     "text": [
      "#0 Player name:naldo @ index 95\n",
      "#1 Player name:naldo @ index 94\n",
      "#2 Player name:cristiano ronaldo @ index 3592\n",
      "#3 Player name:naldo @ index 93\n",
      "#4 Player name:neymar @ index 725\n",
      "#5 Player name:naldo @ index 92\n",
      "#6 Player name:philippe coutinho @ index 4012\n",
      "#7 Player name:philippe coutinho @ index 975\n",
      "#8 Player name:luis suarez @ index 1434\n",
      "#9 Player name:luis suarez @ index 4899\n"
     ]
    }
   ],
   "source": [
    "for idx, val in enumerate(top10_wage_index):\n",
    "    print(f\"#{idx} Player name:{data.iloc[val]['player_name']} @ index {val}\")"
   ]
  },
  {
   "cell_type": "markdown",
   "id": "baa6c963-9f4d-4404-b93a-aaacb02e0344",
   "metadata": {},
   "source": [
    " * This will generate a problem of having too many repeated instances of the same player."
   ]
  },
  {
   "cell_type": "code",
   "execution_count": 36,
   "id": "0d07c9a1-e6c5-49a4-89a9-9d54427e9925",
   "metadata": {},
   "outputs": [
    {
     "data": {
      "text/plain": [
       "2902"
      ]
     },
     "execution_count": 36,
     "metadata": {},
     "output_type": "execute_result"
    }
   ],
   "source": [
    "data.player_name.nunique()"
   ]
  },
  {
   "cell_type": "code",
   "execution_count": 37,
   "id": "88409ee0-8beb-483b-9cbf-c487127069a7",
   "metadata": {},
   "outputs": [
    {
     "data": {
      "text/plain": [
       "(4194, 118)"
      ]
     },
     "execution_count": 37,
     "metadata": {},
     "output_type": "execute_result"
    }
   ],
   "source": [
    "data.drop_duplicates().shape"
   ]
  },
  {
   "cell_type": "code",
   "execution_count": 38,
   "id": "5bc9477a-a504-444d-a954-d1bcbe5bf6f0",
   "metadata": {},
   "outputs": [
    {
     "data": {
      "text/plain": [
       "(5234, 118)"
      ]
     },
     "execution_count": 38,
     "metadata": {},
     "output_type": "execute_result"
    }
   ],
   "source": [
    "data.shape"
   ]
  },
  {
   "cell_type": "markdown",
   "id": "d26dd685-7c11-4daa-acb1-255b5a4c8b75",
   "metadata": {},
   "source": [
    " * If we drop duplicates immediatelly we will be able to reduce 1040 repeated instances"
   ]
  },
  {
   "cell_type": "code",
   "execution_count": 39,
   "id": "df398ac4-92e3-4b5c-8fda-e5f508004581",
   "metadata": {},
   "outputs": [],
   "source": [
    "data2 = data.drop_duplicates()"
   ]
  },
  {
   "cell_type": "code",
   "execution_count": 40,
   "id": "9122576d-e604-4378-842b-c333d580b522",
   "metadata": {},
   "outputs": [
    {
     "data": {
      "text/plain": [
       "Int64Index([3592, 95, 94, 93, 725, 92, 1434, 975, 4471, 542], dtype='int64')"
      ]
     },
     "execution_count": 40,
     "metadata": {},
     "output_type": "execute_result"
    }
   ],
   "source": [
    "top10_wage_no_duplicates = data2['wage_eur'].sort_values(ascending=False).head(10).index\n",
    "top10_wage_no_duplicates"
   ]
  },
  {
   "cell_type": "code",
   "execution_count": 42,
   "id": "3bc20297-8333-4cc9-b722-e0dacfeaca81",
   "metadata": {},
   "outputs": [
    {
     "name": "stdout",
     "output_type": "stream",
     "text": [
      "#0 Player name:massimo luongo @ index 3592\n",
      "#1 Player name:naldo @ index 95\n",
      "#2 Player name:naldo @ index 94\n",
      "#3 Player name:naldo @ index 93\n",
      "#4 Player name:neymar @ index 725\n",
      "#5 Player name:naldo @ index 92\n",
      "#6 Player name:luis suarez @ index 1434\n",
      "#7 Player name:philippe coutinho @ index 975\n"
     ]
    },
    {
     "ename": "IndexError",
     "evalue": "single positional indexer is out-of-bounds",
     "output_type": "error",
     "traceback": [
      "\u001b[0;31m---------------------------------------------------------------------------\u001b[0m",
      "\u001b[0;31mIndexError\u001b[0m                                Traceback (most recent call last)",
      "\u001b[0;32m/tmp/ipykernel_23874/1403760209.py\u001b[0m in \u001b[0;36m<module>\u001b[0;34m\u001b[0m\n\u001b[1;32m      1\u001b[0m \u001b[0;32mfor\u001b[0m \u001b[0midx\u001b[0m\u001b[0;34m,\u001b[0m \u001b[0mval\u001b[0m \u001b[0;32min\u001b[0m \u001b[0menumerate\u001b[0m\u001b[0;34m(\u001b[0m\u001b[0mtop10_wage_no_duplicates\u001b[0m\u001b[0;34m)\u001b[0m\u001b[0;34m:\u001b[0m\u001b[0;34m\u001b[0m\u001b[0;34m\u001b[0m\u001b[0m\n\u001b[0;32m----> 2\u001b[0;31m     \u001b[0mprint\u001b[0m\u001b[0;34m(\u001b[0m\u001b[0;34mf\"#{idx} Player name:{data2.iloc[val]['player_name']} @ index {val}\"\u001b[0m\u001b[0;34m)\u001b[0m\u001b[0;34m\u001b[0m\u001b[0;34m\u001b[0m\u001b[0m\n\u001b[0m",
      "\u001b[0;32m~/.pyenv/versions/3.8.12/envs/lewagon/lib/python3.8/site-packages/pandas/core/indexing.py\u001b[0m in \u001b[0;36m__getitem__\u001b[0;34m(self, key)\u001b[0m\n\u001b[1;32m    929\u001b[0m \u001b[0;34m\u001b[0m\u001b[0m\n\u001b[1;32m    930\u001b[0m             \u001b[0mmaybe_callable\u001b[0m \u001b[0;34m=\u001b[0m \u001b[0mcom\u001b[0m\u001b[0;34m.\u001b[0m\u001b[0mapply_if_callable\u001b[0m\u001b[0;34m(\u001b[0m\u001b[0mkey\u001b[0m\u001b[0;34m,\u001b[0m \u001b[0mself\u001b[0m\u001b[0;34m.\u001b[0m\u001b[0mobj\u001b[0m\u001b[0;34m)\u001b[0m\u001b[0;34m\u001b[0m\u001b[0;34m\u001b[0m\u001b[0m\n\u001b[0;32m--> 931\u001b[0;31m             \u001b[0;32mreturn\u001b[0m \u001b[0mself\u001b[0m\u001b[0;34m.\u001b[0m\u001b[0m_getitem_axis\u001b[0m\u001b[0;34m(\u001b[0m\u001b[0mmaybe_callable\u001b[0m\u001b[0;34m,\u001b[0m \u001b[0maxis\u001b[0m\u001b[0;34m=\u001b[0m\u001b[0maxis\u001b[0m\u001b[0;34m)\u001b[0m\u001b[0;34m\u001b[0m\u001b[0;34m\u001b[0m\u001b[0m\n\u001b[0m\u001b[1;32m    932\u001b[0m \u001b[0;34m\u001b[0m\u001b[0m\n\u001b[1;32m    933\u001b[0m     \u001b[0;32mdef\u001b[0m \u001b[0m_is_scalar_access\u001b[0m\u001b[0;34m(\u001b[0m\u001b[0mself\u001b[0m\u001b[0;34m,\u001b[0m \u001b[0mkey\u001b[0m\u001b[0;34m:\u001b[0m \u001b[0mtuple\u001b[0m\u001b[0;34m)\u001b[0m\u001b[0;34m:\u001b[0m\u001b[0;34m\u001b[0m\u001b[0;34m\u001b[0m\u001b[0m\n",
      "\u001b[0;32m~/.pyenv/versions/3.8.12/envs/lewagon/lib/python3.8/site-packages/pandas/core/indexing.py\u001b[0m in \u001b[0;36m_getitem_axis\u001b[0;34m(self, key, axis)\u001b[0m\n\u001b[1;32m   1564\u001b[0m \u001b[0;34m\u001b[0m\u001b[0m\n\u001b[1;32m   1565\u001b[0m             \u001b[0;31m# validate the location\u001b[0m\u001b[0;34m\u001b[0m\u001b[0;34m\u001b[0m\u001b[0;34m\u001b[0m\u001b[0m\n\u001b[0;32m-> 1566\u001b[0;31m             \u001b[0mself\u001b[0m\u001b[0;34m.\u001b[0m\u001b[0m_validate_integer\u001b[0m\u001b[0;34m(\u001b[0m\u001b[0mkey\u001b[0m\u001b[0;34m,\u001b[0m \u001b[0maxis\u001b[0m\u001b[0;34m)\u001b[0m\u001b[0;34m\u001b[0m\u001b[0;34m\u001b[0m\u001b[0m\n\u001b[0m\u001b[1;32m   1567\u001b[0m \u001b[0;34m\u001b[0m\u001b[0m\n\u001b[1;32m   1568\u001b[0m             \u001b[0;32mreturn\u001b[0m \u001b[0mself\u001b[0m\u001b[0;34m.\u001b[0m\u001b[0mobj\u001b[0m\u001b[0;34m.\u001b[0m\u001b[0m_ixs\u001b[0m\u001b[0;34m(\u001b[0m\u001b[0mkey\u001b[0m\u001b[0;34m,\u001b[0m \u001b[0maxis\u001b[0m\u001b[0;34m=\u001b[0m\u001b[0maxis\u001b[0m\u001b[0;34m)\u001b[0m\u001b[0;34m\u001b[0m\u001b[0;34m\u001b[0m\u001b[0m\n",
      "\u001b[0;32m~/.pyenv/versions/3.8.12/envs/lewagon/lib/python3.8/site-packages/pandas/core/indexing.py\u001b[0m in \u001b[0;36m_validate_integer\u001b[0;34m(self, key, axis)\u001b[0m\n\u001b[1;32m   1498\u001b[0m         \u001b[0mlen_axis\u001b[0m \u001b[0;34m=\u001b[0m \u001b[0mlen\u001b[0m\u001b[0;34m(\u001b[0m\u001b[0mself\u001b[0m\u001b[0;34m.\u001b[0m\u001b[0mobj\u001b[0m\u001b[0;34m.\u001b[0m\u001b[0m_get_axis\u001b[0m\u001b[0;34m(\u001b[0m\u001b[0maxis\u001b[0m\u001b[0;34m)\u001b[0m\u001b[0;34m)\u001b[0m\u001b[0;34m\u001b[0m\u001b[0;34m\u001b[0m\u001b[0m\n\u001b[1;32m   1499\u001b[0m         \u001b[0;32mif\u001b[0m \u001b[0mkey\u001b[0m \u001b[0;34m>=\u001b[0m \u001b[0mlen_axis\u001b[0m \u001b[0;32mor\u001b[0m \u001b[0mkey\u001b[0m \u001b[0;34m<\u001b[0m \u001b[0;34m-\u001b[0m\u001b[0mlen_axis\u001b[0m\u001b[0;34m:\u001b[0m\u001b[0;34m\u001b[0m\u001b[0;34m\u001b[0m\u001b[0m\n\u001b[0;32m-> 1500\u001b[0;31m             \u001b[0;32mraise\u001b[0m \u001b[0mIndexError\u001b[0m\u001b[0;34m(\u001b[0m\u001b[0;34m\"single positional indexer is out-of-bounds\"\u001b[0m\u001b[0;34m)\u001b[0m\u001b[0;34m\u001b[0m\u001b[0;34m\u001b[0m\u001b[0m\n\u001b[0m\u001b[1;32m   1501\u001b[0m \u001b[0;34m\u001b[0m\u001b[0m\n\u001b[1;32m   1502\u001b[0m     \u001b[0;31m# -------------------------------------------------------------------\u001b[0m\u001b[0;34m\u001b[0m\u001b[0;34m\u001b[0m\u001b[0;34m\u001b[0m\u001b[0m\n",
      "\u001b[0;31mIndexError\u001b[0m: single positional indexer is out-of-bounds"
     ]
    }
   ],
   "source": [
    "for idx, val in enumerate(top10_wage_no_duplicates):\n",
    "    print(f\"#{idx} Player name:{data2.iloc[val]['player_name']} @ index {val}\")"
   ]
  },
  {
   "cell_type": "code",
   "execution_count": null,
   "id": "85d9180f-1a94-4c49-b2bc-8cadb7a83623",
   "metadata": {},
   "outputs": [],
   "source": []
  }
 ],
 "metadata": {
  "kernelspec": {
   "display_name": "Python 3 (ipykernel)",
   "language": "python",
   "name": "python3"
  },
  "language_info": {
   "codemirror_mode": {
    "name": "ipython",
    "version": 3
   },
   "file_extension": ".py",
   "mimetype": "text/x-python",
   "name": "python",
   "nbconvert_exporter": "python",
   "pygments_lexer": "ipython3",
   "version": "3.8.12"
  }
 },
 "nbformat": 4,
 "nbformat_minor": 5
}
