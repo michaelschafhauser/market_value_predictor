{
 "cells": [
  {
   "cell_type": "code",
   "execution_count": 1,
   "id": "8a7e8d84",
   "metadata": {},
   "outputs": [],
   "source": [
    "%load_ext autoreload\n",
    "%autoreload 2\n",
    "\n",
    "import seaborn as sns\n",
    "import matplotlib.pyplot as plt\n",
    "import pandas as pd\n",
    "import numpy as np\n",
    "df_model = pd.read_csv(\"../../raw_data/master_data_train.csv\")"
   ]
  },
  {
   "cell_type": "code",
   "execution_count": 2,
   "id": "304f9d97",
   "metadata": {},
   "outputs": [],
   "source": [
    "from market_value_predictor.preproc import manual_encoding"
   ]
  },
  {
   "cell_type": "markdown",
   "id": "8d12abaf",
   "metadata": {},
   "source": [
    "manual_encoding(df_model,\"player_positions\")"
   ]
  },
  {
   "cell_type": "code",
   "execution_count": 3,
   "id": "de20e58a",
   "metadata": {
    "scrolled": true
   },
   "outputs": [
    {
     "name": "stdout",
     "output_type": "stream",
     "text": [
      "['Unnamed: 0', 'fee_cleaned', 'age', 'height_cm', 'weight_kg', 'nationality', 'club_name', 'league_name', 'league_rank', 'overall', 'potential', 'wage_eur', 'player_positions', 'preferred_foot', 'international_reputation', 'weak_foot', 'skill_moves', 'work_rate', 'body_type', 'real_face', 'release_clause_eur', 'player_tags', 'team_position', 'team_jersey_number', 'pace', 'shooting', 'passing', 'dribbling', 'defending', 'physic', 'gk_diving', 'gk_handling', 'gk_kicking', 'gk_reflexes', 'gk_speed', 'gk_positioning', 'player_traits', 'attacking_crossing', 'attacking_finishing', 'attacking_heading_accuracy', 'attacking_short_passing', 'attacking_volleys', 'skill_dribbling', 'skill_curve', 'skill_fk_accuracy', 'skill_long_passing', 'skill_ball_control', 'movement_acceleration', 'movement_sprint_speed', 'movement_agility', 'movement_reactions', 'movement_balance', 'power_shot_power', 'power_jumping', 'power_stamina', 'power_strength', 'power_long_shots', 'mentality_aggression', 'mentality_interceptions', 'mentality_positioning', 'mentality_vision', 'mentality_penalties', 'mentality_composure', 'defending_marking', 'defending_standing_tackle', 'defending_sliding_tackle', 'goalkeeping_diving', 'goalkeeping_handling', 'goalkeeping_kicking', 'goalkeeping_positioning', 'goalkeeping_reflexes', 'ls', 'st', 'rs', 'lw', 'lf', 'cf', 'rf', 'rw', 'lam', 'cam', 'ram', 'lm', 'lcm', 'cm', 'rcm', 'rm', 'lwb', 'ldm', 'cdm', 'rdm', 'rwb', 'lb', 'lcb', 'cb', 'rcb', 'rb', 'fifa year', 'national_team', 'seasons_with_club', 'on_loan', 'remaining_seasons_on_contract']\n"
     ]
    }
   ],
   "source": [
    "print(df_model.columns.tolist())\n"
   ]
  },
  {
   "cell_type": "markdown",
   "id": "f9995a26",
   "metadata": {},
   "source": [
    "df_model.drop('height_cm', axis=1, inplace=True)\n",
    "df_model.drop('weight_kg', axis=1, inplace=True)\n",
    "df_model.drop('nationality', axis=1, inplace=True)\n",
    "df_model.drop('fifa year', axis=1, inplace=True)\n",
    "df_model.drop('preferred_foot', axis=1, inplace=True)\n",
    "df_model.drop('on_loan', axis=1, inplace=True)"
   ]
  },
  {
   "cell_type": "code",
   "execution_count": 4,
   "id": "1ab991dc",
   "metadata": {},
   "outputs": [],
   "source": [
    "df_model=df_model[[\"fee_cleaned\",\"age\",\"overall\",\"potential\",\"wage_eur\",\"player_positions\",\"release_clause_eur\",\"remaining_seasons_on_contract\",\"team_position\"]]"
   ]
  },
  {
   "cell_type": "code",
   "execution_count": 5,
   "id": "0d5e8442",
   "metadata": {},
   "outputs": [
    {
     "data": {
      "text/plain": [
       "0       19\n",
       "1       18\n",
       "2       18\n",
       "3       27\n",
       "4       24\n",
       "        ..\n",
       "3127    24\n",
       "3128    26\n",
       "3129    22\n",
       "3130    19\n",
       "3131    28\n",
       "Name: age, Length: 3132, dtype: int64"
      ]
     },
     "execution_count": 5,
     "metadata": {},
     "output_type": "execute_result"
    }
   ],
   "source": [
    "df_model[\"age\"]"
   ]
  },
  {
   "cell_type": "code",
   "execution_count": 6,
   "id": "33b81ee9",
   "metadata": {
    "scrolled": true
   },
   "outputs": [
    {
     "data": {
      "text/html": [
       "<div>\n",
       "<style scoped>\n",
       "    .dataframe tbody tr th:only-of-type {\n",
       "        vertical-align: middle;\n",
       "    }\n",
       "\n",
       "    .dataframe tbody tr th {\n",
       "        vertical-align: top;\n",
       "    }\n",
       "\n",
       "    .dataframe thead th {\n",
       "        text-align: right;\n",
       "    }\n",
       "</style>\n",
       "<table border=\"1\" class=\"dataframe\">\n",
       "  <thead>\n",
       "    <tr style=\"text-align: right;\">\n",
       "      <th></th>\n",
       "      <th>fee_cleaned</th>\n",
       "      <th>age</th>\n",
       "      <th>overall</th>\n",
       "      <th>potential</th>\n",
       "      <th>wage_eur</th>\n",
       "      <th>player_positions</th>\n",
       "      <th>release_clause_eur</th>\n",
       "      <th>remaining_seasons_on_contract</th>\n",
       "      <th>team_position</th>\n",
       "    </tr>\n",
       "  </thead>\n",
       "  <tbody>\n",
       "    <tr>\n",
       "      <th>0</th>\n",
       "      <td>4.50</td>\n",
       "      <td>19</td>\n",
       "      <td>63</td>\n",
       "      <td>77</td>\n",
       "      <td>2000</td>\n",
       "      <td>LB, LM</td>\n",
       "      <td>1500000.0</td>\n",
       "      <td>3.0</td>\n",
       "      <td>LCM</td>\n",
       "    </tr>\n",
       "    <tr>\n",
       "      <th>1</th>\n",
       "      <td>4.50</td>\n",
       "      <td>18</td>\n",
       "      <td>67</td>\n",
       "      <td>83</td>\n",
       "      <td>6000</td>\n",
       "      <td>CB</td>\n",
       "      <td>3600000.0</td>\n",
       "      <td>1.0</td>\n",
       "      <td>RES</td>\n",
       "    </tr>\n",
       "    <tr>\n",
       "      <th>2</th>\n",
       "      <td>5.72</td>\n",
       "      <td>18</td>\n",
       "      <td>58</td>\n",
       "      <td>78</td>\n",
       "      <td>650</td>\n",
       "      <td>CB</td>\n",
       "      <td>625000.0</td>\n",
       "      <td>4.0</td>\n",
       "      <td>SUB</td>\n",
       "    </tr>\n",
       "    <tr>\n",
       "      <th>3</th>\n",
       "      <td>8.10</td>\n",
       "      <td>27</td>\n",
       "      <td>80</td>\n",
       "      <td>81</td>\n",
       "      <td>60000</td>\n",
       "      <td>ST</td>\n",
       "      <td>27600000.0</td>\n",
       "      <td>1.0</td>\n",
       "      <td>ST</td>\n",
       "    </tr>\n",
       "    <tr>\n",
       "      <th>4</th>\n",
       "      <td>0.90</td>\n",
       "      <td>24</td>\n",
       "      <td>74</td>\n",
       "      <td>79</td>\n",
       "      <td>30000</td>\n",
       "      <td>LW, RW</td>\n",
       "      <td>14800000.0</td>\n",
       "      <td>2.0</td>\n",
       "      <td>SUB</td>\n",
       "    </tr>\n",
       "    <tr>\n",
       "      <th>...</th>\n",
       "      <td>...</td>\n",
       "      <td>...</td>\n",
       "      <td>...</td>\n",
       "      <td>...</td>\n",
       "      <td>...</td>\n",
       "      <td>...</td>\n",
       "      <td>...</td>\n",
       "      <td>...</td>\n",
       "      <td>...</td>\n",
       "    </tr>\n",
       "    <tr>\n",
       "      <th>3127</th>\n",
       "      <td>3.15</td>\n",
       "      <td>24</td>\n",
       "      <td>76</td>\n",
       "      <td>80</td>\n",
       "      <td>30000</td>\n",
       "      <td>CAM, LM</td>\n",
       "      <td>NaN</td>\n",
       "      <td>0.0</td>\n",
       "      <td>SUB</td>\n",
       "    </tr>\n",
       "    <tr>\n",
       "      <th>3128</th>\n",
       "      <td>1.80</td>\n",
       "      <td>26</td>\n",
       "      <td>70</td>\n",
       "      <td>72</td>\n",
       "      <td>40000</td>\n",
       "      <td>ST, LW</td>\n",
       "      <td>NaN</td>\n",
       "      <td>3.0</td>\n",
       "      <td>ST</td>\n",
       "    </tr>\n",
       "    <tr>\n",
       "      <th>3129</th>\n",
       "      <td>0.45</td>\n",
       "      <td>22</td>\n",
       "      <td>75</td>\n",
       "      <td>84</td>\n",
       "      <td>9000</td>\n",
       "      <td>RW, LW</td>\n",
       "      <td>24200000.0</td>\n",
       "      <td>3.0</td>\n",
       "      <td>RW</td>\n",
       "    </tr>\n",
       "    <tr>\n",
       "      <th>3130</th>\n",
       "      <td>6.30</td>\n",
       "      <td>19</td>\n",
       "      <td>68</td>\n",
       "      <td>86</td>\n",
       "      <td>15000</td>\n",
       "      <td>ST</td>\n",
       "      <td>4900000.0</td>\n",
       "      <td>2.0</td>\n",
       "      <td>SUB</td>\n",
       "    </tr>\n",
       "    <tr>\n",
       "      <th>3131</th>\n",
       "      <td>14.40</td>\n",
       "      <td>28</td>\n",
       "      <td>82</td>\n",
       "      <td>82</td>\n",
       "      <td>20000</td>\n",
       "      <td>CDM, CM</td>\n",
       "      <td>40000000.0</td>\n",
       "      <td>1.0</td>\n",
       "      <td>LCM</td>\n",
       "    </tr>\n",
       "  </tbody>\n",
       "</table>\n",
       "<p>3132 rows × 9 columns</p>\n",
       "</div>"
      ],
      "text/plain": [
       "      fee_cleaned  age  overall  potential  wage_eur player_positions  \\\n",
       "0            4.50   19       63         77      2000           LB, LM   \n",
       "1            4.50   18       67         83      6000               CB   \n",
       "2            5.72   18       58         78       650               CB   \n",
       "3            8.10   27       80         81     60000               ST   \n",
       "4            0.90   24       74         79     30000           LW, RW   \n",
       "...           ...  ...      ...        ...       ...              ...   \n",
       "3127         3.15   24       76         80     30000          CAM, LM   \n",
       "3128         1.80   26       70         72     40000           ST, LW   \n",
       "3129         0.45   22       75         84      9000           RW, LW   \n",
       "3130         6.30   19       68         86     15000               ST   \n",
       "3131        14.40   28       82         82     20000          CDM, CM   \n",
       "\n",
       "      release_clause_eur  remaining_seasons_on_contract team_position  \n",
       "0              1500000.0                            3.0           LCM  \n",
       "1              3600000.0                            1.0           RES  \n",
       "2               625000.0                            4.0           SUB  \n",
       "3             27600000.0                            1.0            ST  \n",
       "4             14800000.0                            2.0           SUB  \n",
       "...                  ...                            ...           ...  \n",
       "3127                 NaN                            0.0           SUB  \n",
       "3128                 NaN                            3.0            ST  \n",
       "3129          24200000.0                            3.0            RW  \n",
       "3130           4900000.0                            2.0           SUB  \n",
       "3131          40000000.0                            1.0           LCM  \n",
       "\n",
       "[3132 rows x 9 columns]"
      ]
     },
     "execution_count": 6,
     "metadata": {},
     "output_type": "execute_result"
    }
   ],
   "source": [
    "df_model"
   ]
  },
  {
   "cell_type": "code",
   "execution_count": 7,
   "id": "a22f804e",
   "metadata": {},
   "outputs": [],
   "source": [
    "bins = [10,20,22,25,29,45, np.inf]\n",
    "names = ['less desirable', 'desirable', 'highly desirable', 'desirable2', 'less desirable2','sd']\n",
    "\n",
    "df_model['age'] = pd.cut(df_model['age'], bins, labels=names)\n",
    "\n",
    "df_model\n",
    "\n",
    "df_model['age'] = df_model['age'].apply(lambda x: 'desirable' if x == 'desirable2' else x)\n",
    "df_model['age'] = df_model['age'].apply(lambda x: 'less desirable' if x == 'less desirable2' else x)\n"
   ]
  },
  {
   "cell_type": "code",
   "execution_count": 8,
   "id": "b65173e7",
   "metadata": {},
   "outputs": [],
   "source": [
    "df_model[\"potencial\"]=df_model[\"potential\"]-df_model[\"overall\"]\n",
    "df_model.drop('potential', axis=1, inplace=True)\n",
    "\n",
    "bins = [-1,5,10,20, np.inf]\n",
    "names = ['low potential', 'good potential', 'high potential', 'very high potential']\n",
    "\n",
    "df_model['potencial'] = pd.cut(df_model['potencial'], bins, labels=names)"
   ]
  },
  {
   "cell_type": "code",
   "execution_count": 9,
   "id": "4f291d15",
   "metadata": {},
   "outputs": [
    {
     "data": {
      "text/html": [
       "<div>\n",
       "<style scoped>\n",
       "    .dataframe tbody tr th:only-of-type {\n",
       "        vertical-align: middle;\n",
       "    }\n",
       "\n",
       "    .dataframe tbody tr th {\n",
       "        vertical-align: top;\n",
       "    }\n",
       "\n",
       "    .dataframe thead th {\n",
       "        text-align: right;\n",
       "    }\n",
       "</style>\n",
       "<table border=\"1\" class=\"dataframe\">\n",
       "  <thead>\n",
       "    <tr style=\"text-align: right;\">\n",
       "      <th></th>\n",
       "      <th>fee_cleaned</th>\n",
       "      <th>age</th>\n",
       "      <th>overall</th>\n",
       "      <th>wage_eur</th>\n",
       "      <th>player_positions</th>\n",
       "      <th>release_clause_eur</th>\n",
       "      <th>remaining_seasons_on_contract</th>\n",
       "      <th>team_position</th>\n",
       "      <th>potencial</th>\n",
       "    </tr>\n",
       "  </thead>\n",
       "  <tbody>\n",
       "    <tr>\n",
       "      <th>0</th>\n",
       "      <td>4.50</td>\n",
       "      <td>less desirable</td>\n",
       "      <td>63</td>\n",
       "      <td>2000</td>\n",
       "      <td>LB, LM</td>\n",
       "      <td>1500000.0</td>\n",
       "      <td>3.0</td>\n",
       "      <td>LCM</td>\n",
       "      <td>high potential</td>\n",
       "    </tr>\n",
       "    <tr>\n",
       "      <th>1</th>\n",
       "      <td>4.50</td>\n",
       "      <td>less desirable</td>\n",
       "      <td>67</td>\n",
       "      <td>6000</td>\n",
       "      <td>CB</td>\n",
       "      <td>3600000.0</td>\n",
       "      <td>1.0</td>\n",
       "      <td>RES</td>\n",
       "      <td>high potential</td>\n",
       "    </tr>\n",
       "    <tr>\n",
       "      <th>2</th>\n",
       "      <td>5.72</td>\n",
       "      <td>less desirable</td>\n",
       "      <td>58</td>\n",
       "      <td>650</td>\n",
       "      <td>CB</td>\n",
       "      <td>625000.0</td>\n",
       "      <td>4.0</td>\n",
       "      <td>SUB</td>\n",
       "      <td>high potential</td>\n",
       "    </tr>\n",
       "    <tr>\n",
       "      <th>3</th>\n",
       "      <td>8.10</td>\n",
       "      <td>desirable</td>\n",
       "      <td>80</td>\n",
       "      <td>60000</td>\n",
       "      <td>ST</td>\n",
       "      <td>27600000.0</td>\n",
       "      <td>1.0</td>\n",
       "      <td>ST</td>\n",
       "      <td>low potential</td>\n",
       "    </tr>\n",
       "    <tr>\n",
       "      <th>4</th>\n",
       "      <td>0.90</td>\n",
       "      <td>highly desirable</td>\n",
       "      <td>74</td>\n",
       "      <td>30000</td>\n",
       "      <td>LW, RW</td>\n",
       "      <td>14800000.0</td>\n",
       "      <td>2.0</td>\n",
       "      <td>SUB</td>\n",
       "      <td>low potential</td>\n",
       "    </tr>\n",
       "    <tr>\n",
       "      <th>...</th>\n",
       "      <td>...</td>\n",
       "      <td>...</td>\n",
       "      <td>...</td>\n",
       "      <td>...</td>\n",
       "      <td>...</td>\n",
       "      <td>...</td>\n",
       "      <td>...</td>\n",
       "      <td>...</td>\n",
       "      <td>...</td>\n",
       "    </tr>\n",
       "    <tr>\n",
       "      <th>3127</th>\n",
       "      <td>3.15</td>\n",
       "      <td>highly desirable</td>\n",
       "      <td>76</td>\n",
       "      <td>30000</td>\n",
       "      <td>CAM, LM</td>\n",
       "      <td>NaN</td>\n",
       "      <td>0.0</td>\n",
       "      <td>SUB</td>\n",
       "      <td>low potential</td>\n",
       "    </tr>\n",
       "    <tr>\n",
       "      <th>3128</th>\n",
       "      <td>1.80</td>\n",
       "      <td>desirable</td>\n",
       "      <td>70</td>\n",
       "      <td>40000</td>\n",
       "      <td>ST, LW</td>\n",
       "      <td>NaN</td>\n",
       "      <td>3.0</td>\n",
       "      <td>ST</td>\n",
       "      <td>low potential</td>\n",
       "    </tr>\n",
       "    <tr>\n",
       "      <th>3129</th>\n",
       "      <td>0.45</td>\n",
       "      <td>desirable</td>\n",
       "      <td>75</td>\n",
       "      <td>9000</td>\n",
       "      <td>RW, LW</td>\n",
       "      <td>24200000.0</td>\n",
       "      <td>3.0</td>\n",
       "      <td>RW</td>\n",
       "      <td>good potential</td>\n",
       "    </tr>\n",
       "    <tr>\n",
       "      <th>3130</th>\n",
       "      <td>6.30</td>\n",
       "      <td>less desirable</td>\n",
       "      <td>68</td>\n",
       "      <td>15000</td>\n",
       "      <td>ST</td>\n",
       "      <td>4900000.0</td>\n",
       "      <td>2.0</td>\n",
       "      <td>SUB</td>\n",
       "      <td>high potential</td>\n",
       "    </tr>\n",
       "    <tr>\n",
       "      <th>3131</th>\n",
       "      <td>14.40</td>\n",
       "      <td>desirable</td>\n",
       "      <td>82</td>\n",
       "      <td>20000</td>\n",
       "      <td>CDM, CM</td>\n",
       "      <td>40000000.0</td>\n",
       "      <td>1.0</td>\n",
       "      <td>LCM</td>\n",
       "      <td>low potential</td>\n",
       "    </tr>\n",
       "  </tbody>\n",
       "</table>\n",
       "<p>3132 rows × 9 columns</p>\n",
       "</div>"
      ],
      "text/plain": [
       "      fee_cleaned               age  overall  wage_eur player_positions  \\\n",
       "0            4.50    less desirable       63      2000           LB, LM   \n",
       "1            4.50    less desirable       67      6000               CB   \n",
       "2            5.72    less desirable       58       650               CB   \n",
       "3            8.10         desirable       80     60000               ST   \n",
       "4            0.90  highly desirable       74     30000           LW, RW   \n",
       "...           ...               ...      ...       ...              ...   \n",
       "3127         3.15  highly desirable       76     30000          CAM, LM   \n",
       "3128         1.80         desirable       70     40000           ST, LW   \n",
       "3129         0.45         desirable       75      9000           RW, LW   \n",
       "3130         6.30    less desirable       68     15000               ST   \n",
       "3131        14.40         desirable       82     20000          CDM, CM   \n",
       "\n",
       "      release_clause_eur  remaining_seasons_on_contract team_position  \\\n",
       "0              1500000.0                            3.0           LCM   \n",
       "1              3600000.0                            1.0           RES   \n",
       "2               625000.0                            4.0           SUB   \n",
       "3             27600000.0                            1.0            ST   \n",
       "4             14800000.0                            2.0           SUB   \n",
       "...                  ...                            ...           ...   \n",
       "3127                 NaN                            0.0           SUB   \n",
       "3128                 NaN                            3.0            ST   \n",
       "3129          24200000.0                            3.0            RW   \n",
       "3130           4900000.0                            2.0           SUB   \n",
       "3131          40000000.0                            1.0           LCM   \n",
       "\n",
       "           potencial  \n",
       "0     high potential  \n",
       "1     high potential  \n",
       "2     high potential  \n",
       "3      low potential  \n",
       "4      low potential  \n",
       "...              ...  \n",
       "3127   low potential  \n",
       "3128   low potential  \n",
       "3129  good potential  \n",
       "3130  high potential  \n",
       "3131   low potential  \n",
       "\n",
       "[3132 rows x 9 columns]"
      ]
     },
     "execution_count": 9,
     "metadata": {},
     "output_type": "execute_result"
    }
   ],
   "source": [
    "df_model"
   ]
  },
  {
   "cell_type": "code",
   "execution_count": 10,
   "id": "c9d69b19",
   "metadata": {},
   "outputs": [
    {
     "data": {
      "text/plain": [
       "[<matplotlib.axis.XTick at 0x7f1701f59430>,\n",
       " <matplotlib.axis.XTick at 0x7f1701f59400>,\n",
       " <matplotlib.axis.XTick at 0x7f16ffeb29d0>,\n",
       " <matplotlib.axis.XTick at 0x7f16ffed89d0>,\n",
       " <matplotlib.axis.XTick at 0x7f16ffed85b0>,\n",
       " <matplotlib.axis.XTick at 0x7f16ffe724c0>,\n",
       " <matplotlib.axis.XTick at 0x7f16ffe72c10>,\n",
       " <matplotlib.axis.XTick at 0x7f16ffe783a0>,\n",
       " <matplotlib.axis.XTick at 0x7f16ffed8400>,\n",
       " <matplotlib.axis.XTick at 0x7f16ffeb25e0>,\n",
       " <matplotlib.axis.XTick at 0x7f1701f0cdc0>]"
      ]
     },
     "execution_count": 10,
     "metadata": {},
     "output_type": "execute_result"
    },
    {
     "data": {
      "image/png": "[encoded data removed]",
      "text/plain": [
       "<Figure size 432x288 with 1 Axes>"
      ]
     },
     "metadata": {
      "needs_background": "light"
     },
     "output_type": "display_data"
    }
   ],
   "source": [
    "ax = sns.histplot(df_model, x='release_clause_eur', bins=[0,10000000,20000000,30000000,40000000,50000000,60000000,70000000,80000000,90000000,100000000])\n",
    "ax.set_xticks([0,10000000,20000000,30000000,40000000,50000000,60000000,70000000,80000000,90000000,100000000])"
   ]
  },
  {
   "cell_type": "code",
   "execution_count": 11,
   "id": "0396dff4",
   "metadata": {},
   "outputs": [],
   "source": [
    "bins = [-1,20000001,np.inf]\n",
    "names = ['under_20M', 'over_20M']\n",
    "\n",
    "df_model['release_clause_eur'] = pd.cut(df_model['release_clause_eur'], bins, labels=names)"
   ]
  },
  {
   "cell_type": "code",
   "execution_count": 12,
   "id": "89641d0b",
   "metadata": {},
   "outputs": [],
   "source": [
    "df_model[['release_clause_eur']] = df_model[['release_clause_eur']].applymap(lambda x: \"None\" if pd.isnull(x) else x)"
   ]
  },
  {
   "cell_type": "code",
   "execution_count": 13,
   "id": "c82a4507",
   "metadata": {},
   "outputs": [
    {
     "data": {
      "text/plain": [
       "None         1746\n",
       "under_20M    1061\n",
       "over_20M      325\n",
       "Name: release_clause_eur, dtype: int64"
      ]
     },
     "execution_count": 13,
     "metadata": {},
     "output_type": "execute_result"
    }
   ],
   "source": [
    "df_model.release_clause_eur.value_counts()"
   ]
  },
  {
   "cell_type": "code",
   "execution_count": 14,
   "id": "8df792ae",
   "metadata": {},
   "outputs": [
    {
     "data": {
      "text/html": [
       "<div>\n",
       "<style scoped>\n",
       "    .dataframe tbody tr th:only-of-type {\n",
       "        vertical-align: middle;\n",
       "    }\n",
       "\n",
       "    .dataframe tbody tr th {\n",
       "        vertical-align: top;\n",
       "    }\n",
       "\n",
       "    .dataframe thead th {\n",
       "        text-align: right;\n",
       "    }\n",
       "</style>\n",
       "<table border=\"1\" class=\"dataframe\">\n",
       "  <thead>\n",
       "    <tr style=\"text-align: right;\">\n",
       "      <th></th>\n",
       "      <th>fee_cleaned</th>\n",
       "      <th>age</th>\n",
       "      <th>overall</th>\n",
       "      <th>wage_eur</th>\n",
       "      <th>player_positions</th>\n",
       "      <th>release_clause_eur</th>\n",
       "      <th>remaining_seasons_on_contract</th>\n",
       "      <th>team_position</th>\n",
       "      <th>potencial</th>\n",
       "    </tr>\n",
       "  </thead>\n",
       "  <tbody>\n",
       "    <tr>\n",
       "      <th>0</th>\n",
       "      <td>4.50</td>\n",
       "      <td>less desirable</td>\n",
       "      <td>63</td>\n",
       "      <td>2000</td>\n",
       "      <td>LB, LM</td>\n",
       "      <td>under_20M</td>\n",
       "      <td>3.0</td>\n",
       "      <td>LCM</td>\n",
       "      <td>high potential</td>\n",
       "    </tr>\n",
       "    <tr>\n",
       "      <th>1</th>\n",
       "      <td>4.50</td>\n",
       "      <td>less desirable</td>\n",
       "      <td>67</td>\n",
       "      <td>6000</td>\n",
       "      <td>CB</td>\n",
       "      <td>under_20M</td>\n",
       "      <td>1.0</td>\n",
       "      <td>RES</td>\n",
       "      <td>high potential</td>\n",
       "    </tr>\n",
       "    <tr>\n",
       "      <th>2</th>\n",
       "      <td>5.72</td>\n",
       "      <td>less desirable</td>\n",
       "      <td>58</td>\n",
       "      <td>650</td>\n",
       "      <td>CB</td>\n",
       "      <td>under_20M</td>\n",
       "      <td>4.0</td>\n",
       "      <td>SUB</td>\n",
       "      <td>high potential</td>\n",
       "    </tr>\n",
       "    <tr>\n",
       "      <th>3</th>\n",
       "      <td>8.10</td>\n",
       "      <td>desirable</td>\n",
       "      <td>80</td>\n",
       "      <td>60000</td>\n",
       "      <td>ST</td>\n",
       "      <td>over_20M</td>\n",
       "      <td>1.0</td>\n",
       "      <td>ST</td>\n",
       "      <td>low potential</td>\n",
       "    </tr>\n",
       "    <tr>\n",
       "      <th>4</th>\n",
       "      <td>0.90</td>\n",
       "      <td>highly desirable</td>\n",
       "      <td>74</td>\n",
       "      <td>30000</td>\n",
       "      <td>LW, RW</td>\n",
       "      <td>under_20M</td>\n",
       "      <td>2.0</td>\n",
       "      <td>SUB</td>\n",
       "      <td>low potential</td>\n",
       "    </tr>\n",
       "    <tr>\n",
       "      <th>...</th>\n",
       "      <td>...</td>\n",
       "      <td>...</td>\n",
       "      <td>...</td>\n",
       "      <td>...</td>\n",
       "      <td>...</td>\n",
       "      <td>...</td>\n",
       "      <td>...</td>\n",
       "      <td>...</td>\n",
       "      <td>...</td>\n",
       "    </tr>\n",
       "    <tr>\n",
       "      <th>3127</th>\n",
       "      <td>3.15</td>\n",
       "      <td>highly desirable</td>\n",
       "      <td>76</td>\n",
       "      <td>30000</td>\n",
       "      <td>CAM, LM</td>\n",
       "      <td>None</td>\n",
       "      <td>0.0</td>\n",
       "      <td>SUB</td>\n",
       "      <td>low potential</td>\n",
       "    </tr>\n",
       "    <tr>\n",
       "      <th>3128</th>\n",
       "      <td>1.80</td>\n",
       "      <td>desirable</td>\n",
       "      <td>70</td>\n",
       "      <td>40000</td>\n",
       "      <td>ST, LW</td>\n",
       "      <td>None</td>\n",
       "      <td>3.0</td>\n",
       "      <td>ST</td>\n",
       "      <td>low potential</td>\n",
       "    </tr>\n",
       "    <tr>\n",
       "      <th>3129</th>\n",
       "      <td>0.45</td>\n",
       "      <td>desirable</td>\n",
       "      <td>75</td>\n",
       "      <td>9000</td>\n",
       "      <td>RW, LW</td>\n",
       "      <td>over_20M</td>\n",
       "      <td>3.0</td>\n",
       "      <td>RW</td>\n",
       "      <td>good potential</td>\n",
       "    </tr>\n",
       "    <tr>\n",
       "      <th>3130</th>\n",
       "      <td>6.30</td>\n",
       "      <td>less desirable</td>\n",
       "      <td>68</td>\n",
       "      <td>15000</td>\n",
       "      <td>ST</td>\n",
       "      <td>under_20M</td>\n",
       "      <td>2.0</td>\n",
       "      <td>SUB</td>\n",
       "      <td>high potential</td>\n",
       "    </tr>\n",
       "    <tr>\n",
       "      <th>3131</th>\n",
       "      <td>14.40</td>\n",
       "      <td>desirable</td>\n",
       "      <td>82</td>\n",
       "      <td>20000</td>\n",
       "      <td>CDM, CM</td>\n",
       "      <td>over_20M</td>\n",
       "      <td>1.0</td>\n",
       "      <td>LCM</td>\n",
       "      <td>low potential</td>\n",
       "    </tr>\n",
       "  </tbody>\n",
       "</table>\n",
       "<p>3132 rows × 9 columns</p>\n",
       "</div>"
      ],
      "text/plain": [
       "      fee_cleaned               age  overall  wage_eur player_positions  \\\n",
       "0            4.50    less desirable       63      2000           LB, LM   \n",
       "1            4.50    less desirable       67      6000               CB   \n",
       "2            5.72    less desirable       58       650               CB   \n",
       "3            8.10         desirable       80     60000               ST   \n",
       "4            0.90  highly desirable       74     30000           LW, RW   \n",
       "...           ...               ...      ...       ...              ...   \n",
       "3127         3.15  highly desirable       76     30000          CAM, LM   \n",
       "3128         1.80         desirable       70     40000           ST, LW   \n",
       "3129         0.45         desirable       75      9000           RW, LW   \n",
       "3130         6.30    less desirable       68     15000               ST   \n",
       "3131        14.40         desirable       82     20000          CDM, CM   \n",
       "\n",
       "     release_clause_eur  remaining_seasons_on_contract team_position  \\\n",
       "0             under_20M                            3.0           LCM   \n",
       "1             under_20M                            1.0           RES   \n",
       "2             under_20M                            4.0           SUB   \n",
       "3              over_20M                            1.0            ST   \n",
       "4             under_20M                            2.0           SUB   \n",
       "...                 ...                            ...           ...   \n",
       "3127               None                            0.0           SUB   \n",
       "3128               None                            3.0            ST   \n",
       "3129           over_20M                            3.0            RW   \n",
       "3130          under_20M                            2.0           SUB   \n",
       "3131           over_20M                            1.0           LCM   \n",
       "\n",
       "           potencial  \n",
       "0     high potential  \n",
       "1     high potential  \n",
       "2     high potential  \n",
       "3      low potential  \n",
       "4      low potential  \n",
       "...              ...  \n",
       "3127   low potential  \n",
       "3128   low potential  \n",
       "3129  good potential  \n",
       "3130  high potential  \n",
       "3131   low potential  \n",
       "\n",
       "[3132 rows x 9 columns]"
      ]
     },
     "execution_count": 14,
     "metadata": {},
     "output_type": "execute_result"
    }
   ],
   "source": [
    "df_model"
   ]
  },
  {
   "cell_type": "code",
   "execution_count": 15,
   "id": "1792a05f",
   "metadata": {},
   "outputs": [
    {
     "name": "stderr",
     "output_type": "stream",
     "text": [
      "/home/ricardo/.pyenv/versions/3.8.12/envs/lewagon/lib/python3.8/site-packages/numpy/lib/histograms.py:839: RuntimeWarning: invalid value encountered in greater_equal\n",
      "  keep = (tmp_a >= first_edge)\n",
      "/home/ricardo/.pyenv/versions/3.8.12/envs/lewagon/lib/python3.8/site-packages/numpy/lib/histograms.py:840: RuntimeWarning: invalid value encountered in less_equal\n",
      "  keep &= (tmp_a <= last_edge)\n"
     ]
    },
    {
     "data": {
      "text/plain": [
       "(array([ 13., 768., 831., 775., 493., 188.,  31.,  13.,   0.,   1.]),\n",
       " array([-1. , -0.1,  0.8,  1.7,  2.6,  3.5,  4.4,  5.3,  6.2,  7.1,  8. ]),\n",
       " <BarContainer object of 10 artists>)"
      ]
     },
     "execution_count": 15,
     "metadata": {},
     "output_type": "execute_result"
    },
    {
     "data": {
      "image/png": "[encoded data removed]",
      "text/plain": [
       "<Figure size 432x288 with 1 Axes>"
      ]
     },
     "metadata": {
      "needs_background": "light"
     },
     "output_type": "display_data"
    }
   ],
   "source": [
    "plt.hist(df_model[\"remaining_seasons_on_contract\"])"
   ]
  },
  {
   "cell_type": "code",
   "execution_count": 16,
   "id": "29df910f",
   "metadata": {},
   "outputs": [
    {
     "data": {
      "text/plain": [
       "<seaborn.axisgrid.FacetGrid at 0x7f16ffdd88e0>"
      ]
     },
     "execution_count": 16,
     "metadata": {},
     "output_type": "execute_result"
    },
    {
     "data": {
      "image/png": "[encoded data removed]",
      "text/plain": [
       "<Figure size 1008x504 with 1 Axes>"
      ]
     },
     "metadata": {
      "needs_background": "light"
     },
     "output_type": "display_data"
    }
   ],
   "source": [
    "sns.catplot(data=df_model, x='remaining_seasons_on_contract',y='fee_cleaned', kind='box', showfliers=False, height=7,aspect=2)"
   ]
  },
  {
   "cell_type": "code",
   "execution_count": 17,
   "id": "2e3cd9f7",
   "metadata": {},
   "outputs": [],
   "source": [
    "bins = [-1,2,4,np.inf]\n",
    "names = ['other', '2-4y','over_4y']\n",
    "\n",
    "df_model['remaining_seasons_on_contract'] = pd.cut(df_model['remaining_seasons_on_contract'], bins, labels=names)\n",
    "df_model['remaining_seasons_on_contract'] = df_model['remaining_seasons_on_contract'].apply(lambda x: 'other' if x == 'over_4y' else x)"
   ]
  },
  {
   "cell_type": "code",
   "execution_count": 18,
   "id": "6dc40f0d",
   "metadata": {},
   "outputs": [
    {
     "data": {
      "text/plain": [
       "other    2419\n",
       "2-4y      681\n",
       "Name: remaining_seasons_on_contract, dtype: int64"
      ]
     },
     "execution_count": 18,
     "metadata": {},
     "output_type": "execute_result"
    }
   ],
   "source": [
    "df_model.remaining_seasons_on_contract.value_counts()"
   ]
  },
  {
   "cell_type": "code",
   "execution_count": 19,
   "id": "e74f98de",
   "metadata": {},
   "outputs": [
    {
     "data": {
      "text/html": [
       "<div>\n",
       "<style scoped>\n",
       "    .dataframe tbody tr th:only-of-type {\n",
       "        vertical-align: middle;\n",
       "    }\n",
       "\n",
       "    .dataframe tbody tr th {\n",
       "        vertical-align: top;\n",
       "    }\n",
       "\n",
       "    .dataframe thead th {\n",
       "        text-align: right;\n",
       "    }\n",
       "</style>\n",
       "<table border=\"1\" class=\"dataframe\">\n",
       "  <thead>\n",
       "    <tr style=\"text-align: right;\">\n",
       "      <th></th>\n",
       "      <th>fee_cleaned</th>\n",
       "      <th>age</th>\n",
       "      <th>overall</th>\n",
       "      <th>wage_eur</th>\n",
       "      <th>player_positions</th>\n",
       "      <th>release_clause_eur</th>\n",
       "      <th>remaining_seasons_on_contract</th>\n",
       "      <th>team_position</th>\n",
       "      <th>potencial</th>\n",
       "    </tr>\n",
       "  </thead>\n",
       "  <tbody>\n",
       "    <tr>\n",
       "      <th>0</th>\n",
       "      <td>4.50</td>\n",
       "      <td>less desirable</td>\n",
       "      <td>63</td>\n",
       "      <td>2000</td>\n",
       "      <td>LB, LM</td>\n",
       "      <td>under_20M</td>\n",
       "      <td>2-4y</td>\n",
       "      <td>LCM</td>\n",
       "      <td>high potential</td>\n",
       "    </tr>\n",
       "    <tr>\n",
       "      <th>1</th>\n",
       "      <td>4.50</td>\n",
       "      <td>less desirable</td>\n",
       "      <td>67</td>\n",
       "      <td>6000</td>\n",
       "      <td>CB</td>\n",
       "      <td>under_20M</td>\n",
       "      <td>other</td>\n",
       "      <td>RES</td>\n",
       "      <td>high potential</td>\n",
       "    </tr>\n",
       "    <tr>\n",
       "      <th>2</th>\n",
       "      <td>5.72</td>\n",
       "      <td>less desirable</td>\n",
       "      <td>58</td>\n",
       "      <td>650</td>\n",
       "      <td>CB</td>\n",
       "      <td>under_20M</td>\n",
       "      <td>2-4y</td>\n",
       "      <td>SUB</td>\n",
       "      <td>high potential</td>\n",
       "    </tr>\n",
       "    <tr>\n",
       "      <th>3</th>\n",
       "      <td>8.10</td>\n",
       "      <td>desirable</td>\n",
       "      <td>80</td>\n",
       "      <td>60000</td>\n",
       "      <td>ST</td>\n",
       "      <td>over_20M</td>\n",
       "      <td>other</td>\n",
       "      <td>ST</td>\n",
       "      <td>low potential</td>\n",
       "    </tr>\n",
       "    <tr>\n",
       "      <th>4</th>\n",
       "      <td>0.90</td>\n",
       "      <td>highly desirable</td>\n",
       "      <td>74</td>\n",
       "      <td>30000</td>\n",
       "      <td>LW, RW</td>\n",
       "      <td>under_20M</td>\n",
       "      <td>other</td>\n",
       "      <td>SUB</td>\n",
       "      <td>low potential</td>\n",
       "    </tr>\n",
       "    <tr>\n",
       "      <th>...</th>\n",
       "      <td>...</td>\n",
       "      <td>...</td>\n",
       "      <td>...</td>\n",
       "      <td>...</td>\n",
       "      <td>...</td>\n",
       "      <td>...</td>\n",
       "      <td>...</td>\n",
       "      <td>...</td>\n",
       "      <td>...</td>\n",
       "    </tr>\n",
       "    <tr>\n",
       "      <th>3127</th>\n",
       "      <td>3.15</td>\n",
       "      <td>highly desirable</td>\n",
       "      <td>76</td>\n",
       "      <td>30000</td>\n",
       "      <td>CAM, LM</td>\n",
       "      <td>None</td>\n",
       "      <td>other</td>\n",
       "      <td>SUB</td>\n",
       "      <td>low potential</td>\n",
       "    </tr>\n",
       "    <tr>\n",
       "      <th>3128</th>\n",
       "      <td>1.80</td>\n",
       "      <td>desirable</td>\n",
       "      <td>70</td>\n",
       "      <td>40000</td>\n",
       "      <td>ST, LW</td>\n",
       "      <td>None</td>\n",
       "      <td>2-4y</td>\n",
       "      <td>ST</td>\n",
       "      <td>low potential</td>\n",
       "    </tr>\n",
       "    <tr>\n",
       "      <th>3129</th>\n",
       "      <td>0.45</td>\n",
       "      <td>desirable</td>\n",
       "      <td>75</td>\n",
       "      <td>9000</td>\n",
       "      <td>RW, LW</td>\n",
       "      <td>over_20M</td>\n",
       "      <td>2-4y</td>\n",
       "      <td>RW</td>\n",
       "      <td>good potential</td>\n",
       "    </tr>\n",
       "    <tr>\n",
       "      <th>3130</th>\n",
       "      <td>6.30</td>\n",
       "      <td>less desirable</td>\n",
       "      <td>68</td>\n",
       "      <td>15000</td>\n",
       "      <td>ST</td>\n",
       "      <td>under_20M</td>\n",
       "      <td>other</td>\n",
       "      <td>SUB</td>\n",
       "      <td>high potential</td>\n",
       "    </tr>\n",
       "    <tr>\n",
       "      <th>3131</th>\n",
       "      <td>14.40</td>\n",
       "      <td>desirable</td>\n",
       "      <td>82</td>\n",
       "      <td>20000</td>\n",
       "      <td>CDM, CM</td>\n",
       "      <td>over_20M</td>\n",
       "      <td>other</td>\n",
       "      <td>LCM</td>\n",
       "      <td>low potential</td>\n",
       "    </tr>\n",
       "  </tbody>\n",
       "</table>\n",
       "<p>3132 rows × 9 columns</p>\n",
       "</div>"
      ],
      "text/plain": [
       "      fee_cleaned               age  overall  wage_eur player_positions  \\\n",
       "0            4.50    less desirable       63      2000           LB, LM   \n",
       "1            4.50    less desirable       67      6000               CB   \n",
       "2            5.72    less desirable       58       650               CB   \n",
       "3            8.10         desirable       80     60000               ST   \n",
       "4            0.90  highly desirable       74     30000           LW, RW   \n",
       "...           ...               ...      ...       ...              ...   \n",
       "3127         3.15  highly desirable       76     30000          CAM, LM   \n",
       "3128         1.80         desirable       70     40000           ST, LW   \n",
       "3129         0.45         desirable       75      9000           RW, LW   \n",
       "3130         6.30    less desirable       68     15000               ST   \n",
       "3131        14.40         desirable       82     20000          CDM, CM   \n",
       "\n",
       "     release_clause_eur remaining_seasons_on_contract team_position  \\\n",
       "0             under_20M                          2-4y           LCM   \n",
       "1             under_20M                         other           RES   \n",
       "2             under_20M                          2-4y           SUB   \n",
       "3              over_20M                         other            ST   \n",
       "4             under_20M                         other           SUB   \n",
       "...                 ...                           ...           ...   \n",
       "3127               None                         other           SUB   \n",
       "3128               None                          2-4y            ST   \n",
       "3129           over_20M                          2-4y            RW   \n",
       "3130          under_20M                         other           SUB   \n",
       "3131           over_20M                         other           LCM   \n",
       "\n",
       "           potencial  \n",
       "0     high potential  \n",
       "1     high potential  \n",
       "2     high potential  \n",
       "3      low potential  \n",
       "4      low potential  \n",
       "...              ...  \n",
       "3127   low potential  \n",
       "3128   low potential  \n",
       "3129  good potential  \n",
       "3130  high potential  \n",
       "3131   low potential  \n",
       "\n",
       "[3132 rows x 9 columns]"
      ]
     },
     "execution_count": 19,
     "metadata": {},
     "output_type": "execute_result"
    }
   ],
   "source": [
    "df_model"
   ]
  },
  {
   "cell_type": "code",
   "execution_count": 20,
   "id": "b35ebf3f",
   "metadata": {
    "scrolled": true
   },
   "outputs": [
    {
     "data": {
      "text/plain": [
       "SUB    1196\n",
       "RES     230\n",
       "ST      149\n",
       "LCB     141\n",
       "RCB     132\n",
       "GK      124\n",
       "LB      110\n",
       "RB      105\n",
       "LM      102\n",
       "LCM      98\n",
       "RCM      95\n",
       "RM       93\n",
       "CAM      92\n",
       "RS       65\n",
       "LS       62\n",
       "RDM      59\n",
       "LW       52\n",
       "RW       49\n",
       "LDM      45\n",
       "CDM      35\n",
       "CM       21\n",
       "CB       12\n",
       "RWB      10\n",
       "RAM       8\n",
       "LF        6\n",
       "RF        6\n",
       "LWB       6\n",
       "LAM       6\n",
       "CF        4\n",
       "Name: team_position, dtype: int64"
      ]
     },
     "execution_count": 20,
     "metadata": {},
     "output_type": "execute_result"
    }
   ],
   "source": [
    "df_model.team_position.value_counts()"
   ]
  },
  {
   "cell_type": "code",
   "execution_count": 21,
   "id": "0ee5450b",
   "metadata": {},
   "outputs": [
    {
     "data": {
      "text/plain": [
       "ST             418\n",
       "CB             398\n",
       "GK             198\n",
       "CDM, CM        150\n",
       "CM             123\n",
       "              ... \n",
       "RM, LM, CF       1\n",
       "CDM, CM, LB      1\n",
       "RB, LB, RW       1\n",
       "RB, CDM, CM      1\n",
       "LM, LW, RM       1\n",
       "Name: player_positions, Length: 348, dtype: int64"
      ]
     },
     "execution_count": 21,
     "metadata": {},
     "output_type": "execute_result"
    }
   ],
   "source": [
    "df_model.player_positions.value_counts()"
   ]
  },
  {
   "cell_type": "code",
   "execution_count": 22,
   "id": "1296f84c",
   "metadata": {},
   "outputs": [],
   "source": [
    "positions_dict = {\"ST\": [0,3],\"RS\":[0,3],\"LS\":[0,3],\"CF\":[0,3],\"LF\":[1,3],\"LW\":[1,3],\"RF\":[-1,3],\"RW\":[-1,3],\n",
    "                  \"CDM\":[0,2],\"CM\":[0,2],\"RCM\":[0,2],\"LCM\":[0,2],\"CAM\":[0,2],\"CDB\":[0,2],\"LM\":[1,2],\"LDM\":[1,2],\"LAM\":[1,2],\"RM\":[-1,2],\"RAM\":[-1,2],\"RDM\":[-1,2],\n",
    "                  \"CB\":[0,1],\"RCB\":[0,1],\"LCB\":[0,1],\"LB\":[1,1],\"LWB\":[1,1],\"RB\":[-1,1],\"RWB\":[-1,1],\n",
    "                  \"GK\":[0,0]}\n"
   ]
  },
  {
   "cell_type": "code",
   "execution_count": 23,
   "id": "17e0e87e",
   "metadata": {},
   "outputs": [],
   "source": [
    "positions_dict={k:np.array(v) for k,v in positions_dict.items()}"
   ]
  },
  {
   "cell_type": "code",
   "execution_count": 24,
   "id": "b1b12071",
   "metadata": {},
   "outputs": [],
   "source": [
    "temp=df_model.player_positions.str.split(\", \").explode()"
   ]
  },
  {
   "cell_type": "code",
   "execution_count": 25,
   "id": "a030c709",
   "metadata": {},
   "outputs": [
    {
     "data": {
      "text/plain": [
       "0        LB\n",
       "0        LM\n",
       "1        CB\n",
       "2        CB\n",
       "3        ST\n",
       "       ... \n",
       "3129     RW\n",
       "3129     LW\n",
       "3130     ST\n",
       "3131    CDM\n",
       "3131     CM\n",
       "Name: player_positions, Length: 5295, dtype: object"
      ]
     },
     "execution_count": 25,
     "metadata": {},
     "output_type": "execute_result"
    }
   ],
   "source": [
    "temp"
   ]
  },
  {
   "cell_type": "code",
   "execution_count": 26,
   "id": "c83c0579",
   "metadata": {
    "scrolled": true
   },
   "outputs": [],
   "source": [
    "position_list=temp.map(positions_dict).groupby(temp.index).mean()"
   ]
  },
  {
   "cell_type": "code",
   "execution_count": 27,
   "id": "555aed06",
   "metadata": {},
   "outputs": [
    {
     "data": {
      "text/plain": [
       "0       [1.0, 1.5]\n",
       "1       [0.0, 1.0]\n",
       "2       [0.0, 1.0]\n",
       "3       [0.0, 3.0]\n",
       "4       [0.0, 3.0]\n",
       "           ...    \n",
       "3127    [0.5, 2.0]\n",
       "3128    [0.5, 3.0]\n",
       "3129    [0.0, 3.0]\n",
       "3130    [0.0, 3.0]\n",
       "3131    [0.0, 2.0]\n",
       "Name: player_positions, Length: 3132, dtype: object"
      ]
     },
     "execution_count": 27,
     "metadata": {},
     "output_type": "execute_result"
    }
   ],
   "source": [
    "position_list"
   ]
  },
  {
   "cell_type": "code",
   "execution_count": 28,
   "id": "198487c6",
   "metadata": {},
   "outputs": [],
   "source": [
    "df_model[\"x-axis position\"]=position_list.apply(lambda x: x[0] )"
   ]
  },
  {
   "cell_type": "code",
   "execution_count": 29,
   "id": "985d6c0e",
   "metadata": {},
   "outputs": [],
   "source": [
    "df_model[\"y-axis position\"]=position_list.apply(lambda x: x[1] )"
   ]
  },
  {
   "cell_type": "code",
   "execution_count": 30,
   "id": "8f2e6c2a",
   "metadata": {
    "scrolled": true
   },
   "outputs": [],
   "source": [
    "df_model.drop('team_position', axis=1, inplace=True)\n",
    "df_model.drop('player_positions', axis=1, inplace=True)"
   ]
  },
  {
   "cell_type": "code",
   "execution_count": 31,
   "id": "dcdae69f",
   "metadata": {},
   "outputs": [
    {
     "data": {
      "text/html": [
       "<div>\n",
       "<style scoped>\n",
       "    .dataframe tbody tr th:only-of-type {\n",
       "        vertical-align: middle;\n",
       "    }\n",
       "\n",
       "    .dataframe tbody tr th {\n",
       "        vertical-align: top;\n",
       "    }\n",
       "\n",
       "    .dataframe thead th {\n",
       "        text-align: right;\n",
       "    }\n",
       "</style>\n",
       "<table border=\"1\" class=\"dataframe\">\n",
       "  <thead>\n",
       "    <tr style=\"text-align: right;\">\n",
       "      <th></th>\n",
       "      <th>fee_cleaned</th>\n",
       "      <th>age</th>\n",
       "      <th>overall</th>\n",
       "      <th>wage_eur</th>\n",
       "      <th>release_clause_eur</th>\n",
       "      <th>remaining_seasons_on_contract</th>\n",
       "      <th>potencial</th>\n",
       "      <th>x-axis position</th>\n",
       "      <th>y-axis position</th>\n",
       "    </tr>\n",
       "  </thead>\n",
       "  <tbody>\n",
       "    <tr>\n",
       "      <th>0</th>\n",
       "      <td>4.50</td>\n",
       "      <td>less desirable</td>\n",
       "      <td>63</td>\n",
       "      <td>2000</td>\n",
       "      <td>under_20M</td>\n",
       "      <td>2-4y</td>\n",
       "      <td>high potential</td>\n",
       "      <td>1.0</td>\n",
       "      <td>1.5</td>\n",
       "    </tr>\n",
       "    <tr>\n",
       "      <th>1</th>\n",
       "      <td>4.50</td>\n",
       "      <td>less desirable</td>\n",
       "      <td>67</td>\n",
       "      <td>6000</td>\n",
       "      <td>under_20M</td>\n",
       "      <td>other</td>\n",
       "      <td>high potential</td>\n",
       "      <td>0.0</td>\n",
       "      <td>1.0</td>\n",
       "    </tr>\n",
       "    <tr>\n",
       "      <th>2</th>\n",
       "      <td>5.72</td>\n",
       "      <td>less desirable</td>\n",
       "      <td>58</td>\n",
       "      <td>650</td>\n",
       "      <td>under_20M</td>\n",
       "      <td>2-4y</td>\n",
       "      <td>high potential</td>\n",
       "      <td>0.0</td>\n",
       "      <td>1.0</td>\n",
       "    </tr>\n",
       "    <tr>\n",
       "      <th>3</th>\n",
       "      <td>8.10</td>\n",
       "      <td>desirable</td>\n",
       "      <td>80</td>\n",
       "      <td>60000</td>\n",
       "      <td>over_20M</td>\n",
       "      <td>other</td>\n",
       "      <td>low potential</td>\n",
       "      <td>0.0</td>\n",
       "      <td>3.0</td>\n",
       "    </tr>\n",
       "    <tr>\n",
       "      <th>4</th>\n",
       "      <td>0.90</td>\n",
       "      <td>highly desirable</td>\n",
       "      <td>74</td>\n",
       "      <td>30000</td>\n",
       "      <td>under_20M</td>\n",
       "      <td>other</td>\n",
       "      <td>low potential</td>\n",
       "      <td>0.0</td>\n",
       "      <td>3.0</td>\n",
       "    </tr>\n",
       "    <tr>\n",
       "      <th>...</th>\n",
       "      <td>...</td>\n",
       "      <td>...</td>\n",
       "      <td>...</td>\n",
       "      <td>...</td>\n",
       "      <td>...</td>\n",
       "      <td>...</td>\n",
       "      <td>...</td>\n",
       "      <td>...</td>\n",
       "      <td>...</td>\n",
       "    </tr>\n",
       "    <tr>\n",
       "      <th>3127</th>\n",
       "      <td>3.15</td>\n",
       "      <td>highly desirable</td>\n",
       "      <td>76</td>\n",
       "      <td>30000</td>\n",
       "      <td>None</td>\n",
       "      <td>other</td>\n",
       "      <td>low potential</td>\n",
       "      <td>0.5</td>\n",
       "      <td>2.0</td>\n",
       "    </tr>\n",
       "    <tr>\n",
       "      <th>3128</th>\n",
       "      <td>1.80</td>\n",
       "      <td>desirable</td>\n",
       "      <td>70</td>\n",
       "      <td>40000</td>\n",
       "      <td>None</td>\n",
       "      <td>2-4y</td>\n",
       "      <td>low potential</td>\n",
       "      <td>0.5</td>\n",
       "      <td>3.0</td>\n",
       "    </tr>\n",
       "    <tr>\n",
       "      <th>3129</th>\n",
       "      <td>0.45</td>\n",
       "      <td>desirable</td>\n",
       "      <td>75</td>\n",
       "      <td>9000</td>\n",
       "      <td>over_20M</td>\n",
       "      <td>2-4y</td>\n",
       "      <td>good potential</td>\n",
       "      <td>0.0</td>\n",
       "      <td>3.0</td>\n",
       "    </tr>\n",
       "    <tr>\n",
       "      <th>3130</th>\n",
       "      <td>6.30</td>\n",
       "      <td>less desirable</td>\n",
       "      <td>68</td>\n",
       "      <td>15000</td>\n",
       "      <td>under_20M</td>\n",
       "      <td>other</td>\n",
       "      <td>high potential</td>\n",
       "      <td>0.0</td>\n",
       "      <td>3.0</td>\n",
       "    </tr>\n",
       "    <tr>\n",
       "      <th>3131</th>\n",
       "      <td>14.40</td>\n",
       "      <td>desirable</td>\n",
       "      <td>82</td>\n",
       "      <td>20000</td>\n",
       "      <td>over_20M</td>\n",
       "      <td>other</td>\n",
       "      <td>low potential</td>\n",
       "      <td>0.0</td>\n",
       "      <td>2.0</td>\n",
       "    </tr>\n",
       "  </tbody>\n",
       "</table>\n",
       "<p>3132 rows × 9 columns</p>\n",
       "</div>"
      ],
      "text/plain": [
       "      fee_cleaned               age  overall  wage_eur release_clause_eur  \\\n",
       "0            4.50    less desirable       63      2000          under_20M   \n",
       "1            4.50    less desirable       67      6000          under_20M   \n",
       "2            5.72    less desirable       58       650          under_20M   \n",
       "3            8.10         desirable       80     60000           over_20M   \n",
       "4            0.90  highly desirable       74     30000          under_20M   \n",
       "...           ...               ...      ...       ...                ...   \n",
       "3127         3.15  highly desirable       76     30000               None   \n",
       "3128         1.80         desirable       70     40000               None   \n",
       "3129         0.45         desirable       75      9000           over_20M   \n",
       "3130         6.30    less desirable       68     15000          under_20M   \n",
       "3131        14.40         desirable       82     20000           over_20M   \n",
       "\n",
       "     remaining_seasons_on_contract       potencial  x-axis position  \\\n",
       "0                             2-4y  high potential              1.0   \n",
       "1                            other  high potential              0.0   \n",
       "2                             2-4y  high potential              0.0   \n",
       "3                            other   low potential              0.0   \n",
       "4                            other   low potential              0.0   \n",
       "...                            ...             ...              ...   \n",
       "3127                         other   low potential              0.5   \n",
       "3128                          2-4y   low potential              0.5   \n",
       "3129                          2-4y  good potential              0.0   \n",
       "3130                         other  high potential              0.0   \n",
       "3131                         other   low potential              0.0   \n",
       "\n",
       "      y-axis position  \n",
       "0                 1.5  \n",
       "1                 1.0  \n",
       "2                 1.0  \n",
       "3                 3.0  \n",
       "4                 3.0  \n",
       "...               ...  \n",
       "3127              2.0  \n",
       "3128              3.0  \n",
       "3129              3.0  \n",
       "3130              3.0  \n",
       "3131              2.0  \n",
       "\n",
       "[3132 rows x 9 columns]"
      ]
     },
     "execution_count": 31,
     "metadata": {},
     "output_type": "execute_result"
    }
   ],
   "source": [
    "df_model"
   ]
  },
  {
   "cell_type": "code",
   "execution_count": 32,
   "id": "c86d766f",
   "metadata": {},
   "outputs": [
    {
     "data": {
      "text/plain": [
       "fee_cleaned                       float64\n",
       "age                                object\n",
       "overall                             int64\n",
       "wage_eur                            int64\n",
       "release_clause_eur                 object\n",
       "remaining_seasons_on_contract      object\n",
       "potencial                        category\n",
       "x-axis position                   float64\n",
       "y-axis position                   float64\n",
       "dtype: object"
      ]
     },
     "execution_count": 32,
     "metadata": {},
     "output_type": "execute_result"
    }
   ],
   "source": [
    "df_model.dtypes"
   ]
  },
  {
   "cell_type": "code",
   "execution_count": 33,
   "id": "74ebf063",
   "metadata": {},
   "outputs": [],
   "source": [
    "X_train=df_model.drop(columns=[\"fee_cleaned\"])"
   ]
  },
  {
   "cell_type": "code",
   "execution_count": 34,
   "id": "d4bf337a",
   "metadata": {},
   "outputs": [],
   "source": [
    "y_train=df_model.fee_cleaned"
   ]
  },
  {
   "cell_type": "code",
   "execution_count": 35,
   "id": "9b2552e1",
   "metadata": {},
   "outputs": [
    {
     "data": {
      "text/plain": [
       "['overall', 'wage_eur', 'x-axis position', 'y-axis position']"
      ]
     },
     "execution_count": 35,
     "metadata": {},
     "output_type": "execute_result"
    }
   ],
   "source": [
    "numerics = ['int16', 'int32', 'int64', 'float16', 'float32', 'float64']\n",
    "\n",
    "all_numerics = list(X_train.select_dtypes(include=numerics).columns)\n",
    "all_numerics"
   ]
  },
  {
   "cell_type": "code",
   "execution_count": 36,
   "id": "ec494fbe",
   "metadata": {},
   "outputs": [
    {
     "data": {
      "text/plain": [
       "['age', 'release_clause_eur', 'remaining_seasons_on_contract', 'potencial']"
      ]
     },
     "execution_count": 36,
     "metadata": {},
     "output_type": "execute_result"
    }
   ],
   "source": [
    "categorical=[\"object\",\"category\"]\n",
    "\n",
    "all_cats = list(X_train.select_dtypes(include=categorical).columns)\n",
    "all_cats"
   ]
  },
  {
   "cell_type": "code",
   "execution_count": 37,
   "id": "3047efff",
   "metadata": {},
   "outputs": [],
   "source": [
    "from sklearn.preprocessing import OneHotEncoder, MinMaxScaler, RobustScaler\n",
    "from sklearn.impute import SimpleImputer\n",
    "from sklearn.compose import ColumnTransformer\n",
    "from sklearn.pipeline import Pipeline, make_pipeline\n",
    "from sklearn import set_config; set_config(display='diagram')\n",
    "from sklearn.linear_model import LinearRegression, Ridge"
   ]
  },
  {
   "cell_type": "code",
   "execution_count": 43,
   "id": "927cfb91",
   "metadata": {},
   "outputs": [
    {
     "data": {
      "text/html": [
       "<style>#sk-f1cd1bb9-eaf6-4c6c-8a8c-616ec1e90c70 {color: black;background-color: white;}#sk-f1cd1bb9-eaf6-4c6c-8a8c-616ec1e90c70 pre{padding: 0;}#sk-f1cd1bb9-eaf6-4c6c-8a8c-616ec1e90c70 div.sk-toggleable {background-color: white;}#sk-f1cd1bb9-eaf6-4c6c-8a8c-616ec1e90c70 label.sk-toggleable__label {cursor: pointer;display: block;width: 100%;margin-bottom: 0;padding: 0.3em;box-sizing: border-box;text-align: center;}#sk-f1cd1bb9-eaf6-4c6c-8a8c-616ec1e90c70 div.sk-toggleable__content {max-height: 0;max-width: 0;overflow: hidden;text-align: left;background-color: #f0f8ff;}#sk-f1cd1bb9-eaf6-4c6c-8a8c-616ec1e90c70 div.sk-toggleable__content pre {margin: 0.2em;color: black;border-radius: 0.25em;background-color: #f0f8ff;}#sk-f1cd1bb9-eaf6-4c6c-8a8c-616ec1e90c70 input.sk-toggleable__control:checked~div.sk-toggleable__content {max-height: 200px;max-width: 100%;overflow: auto;}#sk-f1cd1bb9-eaf6-4c6c-8a8c-616ec1e90c70 div.sk-estimator input.sk-toggleable__control:checked~label.sk-toggleable__label {background-color: #d4ebff;}#sk-f1cd1bb9-eaf6-4c6c-8a8c-616ec1e90c70 div.sk-label input.sk-toggleable__control:checked~label.sk-toggleable__label {background-color: #d4ebff;}#sk-f1cd1bb9-eaf6-4c6c-8a8c-616ec1e90c70 input.sk-hidden--visually {border: 0;clip: rect(1px 1px 1px 1px);clip: rect(1px, 1px, 1px, 1px);height: 1px;margin: -1px;overflow: hidden;padding: 0;position: absolute;width: 1px;}#sk-f1cd1bb9-eaf6-4c6c-8a8c-616ec1e90c70 div.sk-estimator {font-family: monospace;background-color: #f0f8ff;border: 1px dotted black;border-radius: 0.25em;box-sizing: border-box;margin-bottom: 0.5em;}#sk-f1cd1bb9-eaf6-4c6c-8a8c-616ec1e90c70 div.sk-estimator:hover {background-color: #d4ebff;}#sk-f1cd1bb9-eaf6-4c6c-8a8c-616ec1e90c70 div.sk-parallel-item::after {content: \"\";width: 100%;border-bottom: 1px solid gray;flex-grow: 1;}#sk-f1cd1bb9-eaf6-4c6c-8a8c-616ec1e90c70 div.sk-label:hover label.sk-toggleable__label {background-color: #d4ebff;}#sk-f1cd1bb9-eaf6-4c6c-8a8c-616ec1e90c70 div.sk-serial::before {content: \"\";position: absolute;border-left: 1px solid gray;box-sizing: border-box;top: 2em;bottom: 0;left: 50%;}#sk-f1cd1bb9-eaf6-4c6c-8a8c-616ec1e90c70 div.sk-serial {display: flex;flex-direction: column;align-items: center;background-color: white;padding-right: 0.2em;padding-left: 0.2em;}#sk-f1cd1bb9-eaf6-4c6c-8a8c-616ec1e90c70 div.sk-item {z-index: 1;}#sk-f1cd1bb9-eaf6-4c6c-8a8c-616ec1e90c70 div.sk-parallel {display: flex;align-items: stretch;justify-content: center;background-color: white;}#sk-f1cd1bb9-eaf6-4c6c-8a8c-616ec1e90c70 div.sk-parallel::before {content: \"\";position: absolute;border-left: 1px solid gray;box-sizing: border-box;top: 2em;bottom: 0;left: 50%;}#sk-f1cd1bb9-eaf6-4c6c-8a8c-616ec1e90c70 div.sk-parallel-item {display: flex;flex-direction: column;position: relative;background-color: white;}#sk-f1cd1bb9-eaf6-4c6c-8a8c-616ec1e90c70 div.sk-parallel-item:first-child::after {align-self: flex-end;width: 50%;}#sk-f1cd1bb9-eaf6-4c6c-8a8c-616ec1e90c70 div.sk-parallel-item:last-child::after {align-self: flex-start;width: 50%;}#sk-f1cd1bb9-eaf6-4c6c-8a8c-616ec1e90c70 div.sk-parallel-item:only-child::after {width: 0;}#sk-f1cd1bb9-eaf6-4c6c-8a8c-616ec1e90c70 div.sk-dashed-wrapped {border: 1px dashed gray;margin: 0 0.4em 0.5em 0.4em;box-sizing: border-box;padding-bottom: 0.4em;background-color: white;position: relative;}#sk-f1cd1bb9-eaf6-4c6c-8a8c-616ec1e90c70 div.sk-label label {font-family: monospace;font-weight: bold;background-color: white;display: inline-block;line-height: 1.2em;}#sk-f1cd1bb9-eaf6-4c6c-8a8c-616ec1e90c70 div.sk-label-container {position: relative;z-index: 2;text-align: center;}#sk-f1cd1bb9-eaf6-4c6c-8a8c-616ec1e90c70 div.sk-container {display: inline-block;position: relative;}</style><div id=\"sk-f1cd1bb9-eaf6-4c6c-8a8c-616ec1e90c70\" class\"sk-top-container\"><div class=\"sk-container\"><div class=\"sk-item sk-dashed-wrapped\"><div class=\"sk-label-container\"><div class=\"sk-label sk-toggleable\"><input class=\"sk-toggleable__control sk-hidden--visually\" id=\"7a67f477-2485-49ed-9888-cfc6eea83435\" type=\"checkbox\" ><label class=\"sk-toggleable__label\" for=\"7a67f477-2485-49ed-9888-cfc6eea83435\">ColumnTransformer</label><div class=\"sk-toggleable__content\"><pre>ColumnTransformer(remainder='passthrough',\n",
       "                  transformers=[('num_tr',\n",
       "                                 Pipeline(steps=[('simpleimputer',\n",
       "                                                  SimpleImputer()),\n",
       "                                                 ('minmaxscaler',\n",
       "                                                  MinMaxScaler())]),\n",
       "                                 ['overall', 'wage_eur', 'x-axis position',\n",
       "                                  'y-axis position']),\n",
       "                                ('cat_tr',\n",
       "                                 OneHotEncoder(handle_unknown='ignore'),\n",
       "                                 ['age', 'release_clause_eur',\n",
       "                                  'remaining_seasons_on_contract',\n",
       "                                  'potencial'])])</pre></div></div></div><div class=\"sk-parallel\"><div class=\"sk-parallel-item\"><div class=\"sk-item\"><div class=\"sk-label-container\"><div class=\"sk-label sk-toggleable\"><input class=\"sk-toggleable__control sk-hidden--visually\" id=\"e5010fb9-32fd-444b-893a-c10c6b2c7b44\" type=\"checkbox\" ><label class=\"sk-toggleable__label\" for=\"e5010fb9-32fd-444b-893a-c10c6b2c7b44\">num_tr</label><div class=\"sk-toggleable__content\"><pre>['overall', 'wage_eur', 'x-axis position', 'y-axis position']</pre></div></div></div><div class=\"sk-serial\"><div class=\"sk-item\"><div class=\"sk-serial\"><div class=\"sk-item\"><div class=\"sk-estimator sk-toggleable\"><input class=\"sk-toggleable__control sk-hidden--visually\" id=\"79cbfdba-91bc-4092-83c8-c2593f539e38\" type=\"checkbox\" ><label class=\"sk-toggleable__label\" for=\"79cbfdba-91bc-4092-83c8-c2593f539e38\">SimpleImputer</label><div class=\"sk-toggleable__content\"><pre>SimpleImputer()</pre></div></div></div><div class=\"sk-item\"><div class=\"sk-estimator sk-toggleable\"><input class=\"sk-toggleable__control sk-hidden--visually\" id=\"81d13518-26c7-43f8-90a0-5be5ab64a5fd\" type=\"checkbox\" ><label class=\"sk-toggleable__label\" for=\"81d13518-26c7-43f8-90a0-5be5ab64a5fd\">MinMaxScaler</label><div class=\"sk-toggleable__content\"><pre>MinMaxScaler()</pre></div></div></div></div></div></div></div></div><div class=\"sk-parallel-item\"><div class=\"sk-item\"><div class=\"sk-label-container\"><div class=\"sk-label sk-toggleable\"><input class=\"sk-toggleable__control sk-hidden--visually\" id=\"3564cb3e-40d9-41eb-b3a4-6453abc9cf4d\" type=\"checkbox\" ><label class=\"sk-toggleable__label\" for=\"3564cb3e-40d9-41eb-b3a4-6453abc9cf4d\">cat_tr</label><div class=\"sk-toggleable__content\"><pre>['age', 'release_clause_eur', 'remaining_seasons_on_contract', 'potencial']</pre></div></div></div><div class=\"sk-serial\"><div class=\"sk-item\"><div class=\"sk-estimator sk-toggleable\"><input class=\"sk-toggleable__control sk-hidden--visually\" id=\"883f9d6b-f17f-479b-911d-55d23cb095af\" type=\"checkbox\" ><label class=\"sk-toggleable__label\" for=\"883f9d6b-f17f-479b-911d-55d23cb095af\">OneHotEncoder</label><div class=\"sk-toggleable__content\"><pre>OneHotEncoder(handle_unknown='ignore')</pre></div></div></div></div></div></div><div class=\"sk-parallel-item\"><div class=\"sk-item\"><div class=\"sk-label-container\"><div class=\"sk-label sk-toggleable\"><input class=\"sk-toggleable__control sk-hidden--visually\" id=\"a66e3b77-e533-44b2-beab-2de43f9ea64e\" type=\"checkbox\" ><label class=\"sk-toggleable__label\" for=\"a66e3b77-e533-44b2-beab-2de43f9ea64e\">remainder</label><div class=\"sk-toggleable__content\"><pre></pre></div></div></div><div class=\"sk-serial\"><div class=\"sk-item\"><div class=\"sk-estimator sk-toggleable\"><input class=\"sk-toggleable__control sk-hidden--visually\" id=\"99220007-ab22-44b2-ba73-7bab48432f6c\" type=\"checkbox\" ><label class=\"sk-toggleable__label\" for=\"99220007-ab22-44b2-ba73-7bab48432f6c\">passthrough</label><div class=\"sk-toggleable__content\"><pre>passthrough</pre></div></div></div></div></div></div></div></div></div></div>"
      ],
      "text/plain": [
       "ColumnTransformer(remainder='passthrough',\n",
       "                  transformers=[('num_tr',\n",
       "                                 Pipeline(steps=[('simpleimputer',\n",
       "                                                  SimpleImputer()),\n",
       "                                                 ('minmaxscaler',\n",
       "                                                  MinMaxScaler())]),\n",
       "                                 ['overall', 'wage_eur', 'x-axis position',\n",
       "                                  'y-axis position']),\n",
       "                                ('cat_tr',\n",
       "                                 OneHotEncoder(handle_unknown='ignore'),\n",
       "                                 ['age', 'release_clause_eur',\n",
       "                                  'remaining_seasons_on_contract',\n",
       "                                  'potencial'])])"
      ]
     },
     "execution_count": 43,
     "metadata": {},
     "output_type": "execute_result"
    }
   ],
   "source": [
    "num_transformer = make_pipeline(SimpleImputer(), MinMaxScaler()) \n",
    "cat_transformer = OneHotEncoder(handle_unknown=\"ignore\") \n",
    "\n",
    "preprocessor = ColumnTransformer(\n",
    "    [(\"num_tr\",num_transformer,all_numerics),\n",
    "     (\"cat_tr\",cat_transformer,all_cats)]\n",
    "    ,remainder=\"passthrough\"\n",
    ")\n",
    "preprocessor"
   ]
  },
  {
   "cell_type": "code",
   "execution_count": 44,
   "id": "d5e3de52",
   "metadata": {},
   "outputs": [],
   "source": [
    "pipe = make_pipeline(preprocessor, Ridge())"
   ]
  },
  {
   "cell_type": "code",
   "execution_count": 45,
   "id": "44097861",
   "metadata": {},
   "outputs": [
    {
     "data": {
      "text/html": [
       "<style>#sk-b5027ea4-d10a-49e8-b327-07224c72f07c {color: black;background-color: white;}#sk-b5027ea4-d10a-49e8-b327-07224c72f07c pre{padding: 0;}#sk-b5027ea4-d10a-49e8-b327-07224c72f07c div.sk-toggleable {background-color: white;}#sk-b5027ea4-d10a-49e8-b327-07224c72f07c label.sk-toggleable__label {cursor: pointer;display: block;width: 100%;margin-bottom: 0;padding: 0.3em;box-sizing: border-box;text-align: center;}#sk-b5027ea4-d10a-49e8-b327-07224c72f07c div.sk-toggleable__content {max-height: 0;max-width: 0;overflow: hidden;text-align: left;background-color: #f0f8ff;}#sk-b5027ea4-d10a-49e8-b327-07224c72f07c div.sk-toggleable__content pre {margin: 0.2em;color: black;border-radius: 0.25em;background-color: #f0f8ff;}#sk-b5027ea4-d10a-49e8-b327-07224c72f07c input.sk-toggleable__control:checked~div.sk-toggleable__content {max-height: 200px;max-width: 100%;overflow: auto;}#sk-b5027ea4-d10a-49e8-b327-07224c72f07c div.sk-estimator input.sk-toggleable__control:checked~label.sk-toggleable__label {background-color: #d4ebff;}#sk-b5027ea4-d10a-49e8-b327-07224c72f07c div.sk-label input.sk-toggleable__control:checked~label.sk-toggleable__label {background-color: #d4ebff;}#sk-b5027ea4-d10a-49e8-b327-07224c72f07c input.sk-hidden--visually {border: 0;clip: rect(1px 1px 1px 1px);clip: rect(1px, 1px, 1px, 1px);height: 1px;margin: -1px;overflow: hidden;padding: 0;position: absolute;width: 1px;}#sk-b5027ea4-d10a-49e8-b327-07224c72f07c div.sk-estimator {font-family: monospace;background-color: #f0f8ff;border: 1px dotted black;border-radius: 0.25em;box-sizing: border-box;margin-bottom: 0.5em;}#sk-b5027ea4-d10a-49e8-b327-07224c72f07c div.sk-estimator:hover {background-color: #d4ebff;}#sk-b5027ea4-d10a-49e8-b327-07224c72f07c div.sk-parallel-item::after {content: \"\";width: 100%;border-bottom: 1px solid gray;flex-grow: 1;}#sk-b5027ea4-d10a-49e8-b327-07224c72f07c div.sk-label:hover label.sk-toggleable__label {background-color: #d4ebff;}#sk-b5027ea4-d10a-49e8-b327-07224c72f07c div.sk-serial::before {content: \"\";position: absolute;border-left: 1px solid gray;box-sizing: border-box;top: 2em;bottom: 0;left: 50%;}#sk-b5027ea4-d10a-49e8-b327-07224c72f07c div.sk-serial {display: flex;flex-direction: column;align-items: center;background-color: white;padding-right: 0.2em;padding-left: 0.2em;}#sk-b5027ea4-d10a-49e8-b327-07224c72f07c div.sk-item {z-index: 1;}#sk-b5027ea4-d10a-49e8-b327-07224c72f07c div.sk-parallel {display: flex;align-items: stretch;justify-content: center;background-color: white;}#sk-b5027ea4-d10a-49e8-b327-07224c72f07c div.sk-parallel::before {content: \"\";position: absolute;border-left: 1px solid gray;box-sizing: border-box;top: 2em;bottom: 0;left: 50%;}#sk-b5027ea4-d10a-49e8-b327-07224c72f07c div.sk-parallel-item {display: flex;flex-direction: column;position: relative;background-color: white;}#sk-b5027ea4-d10a-49e8-b327-07224c72f07c div.sk-parallel-item:first-child::after {align-self: flex-end;width: 50%;}#sk-b5027ea4-d10a-49e8-b327-07224c72f07c div.sk-parallel-item:last-child::after {align-self: flex-start;width: 50%;}#sk-b5027ea4-d10a-49e8-b327-07224c72f07c div.sk-parallel-item:only-child::after {width: 0;}#sk-b5027ea4-d10a-49e8-b327-07224c72f07c div.sk-dashed-wrapped {border: 1px dashed gray;margin: 0 0.4em 0.5em 0.4em;box-sizing: border-box;padding-bottom: 0.4em;background-color: white;position: relative;}#sk-b5027ea4-d10a-49e8-b327-07224c72f07c div.sk-label label {font-family: monospace;font-weight: bold;background-color: white;display: inline-block;line-height: 1.2em;}#sk-b5027ea4-d10a-49e8-b327-07224c72f07c div.sk-label-container {position: relative;z-index: 2;text-align: center;}#sk-b5027ea4-d10a-49e8-b327-07224c72f07c div.sk-container {display: inline-block;position: relative;}</style><div id=\"sk-b5027ea4-d10a-49e8-b327-07224c72f07c\" class\"sk-top-container\"><div class=\"sk-container\"><div class=\"sk-item sk-dashed-wrapped\"><div class=\"sk-label-container\"><div class=\"sk-label sk-toggleable\"><input class=\"sk-toggleable__control sk-hidden--visually\" id=\"8c636e25-0f83-4203-becc-5448f1077e95\" type=\"checkbox\" ><label class=\"sk-toggleable__label\" for=\"8c636e25-0f83-4203-becc-5448f1077e95\">Pipeline</label><div class=\"sk-toggleable__content\"><pre>Pipeline(steps=[('columntransformer',\n",
       "                 ColumnTransformer(remainder='passthrough',\n",
       "                                   transformers=[('num_tr',\n",
       "                                                  Pipeline(steps=[('simpleimputer',\n",
       "                                                                   SimpleImputer()),\n",
       "                                                                  ('minmaxscaler',\n",
       "                                                                   MinMaxScaler())]),\n",
       "                                                  ['overall', 'wage_eur',\n",
       "                                                   'x-axis position',\n",
       "                                                   'y-axis position']),\n",
       "                                                 ('cat_tr',\n",
       "                                                  OneHotEncoder(handle_unknown='ignore'),\n",
       "                                                  ['age', 'release_clause_eur',\n",
       "                                                   'remaining_seasons_on_contract',\n",
       "                                                   'potencial'])])),\n",
       "                ('ridge', Ridge())])</pre></div></div></div><div class=\"sk-serial\"><div class=\"sk-item sk-dashed-wrapped\"><div class=\"sk-label-container\"><div class=\"sk-label sk-toggleable\"><input class=\"sk-toggleable__control sk-hidden--visually\" id=\"d2ab2d38-4a86-469e-ac95-155f0be8cdc8\" type=\"checkbox\" ><label class=\"sk-toggleable__label\" for=\"d2ab2d38-4a86-469e-ac95-155f0be8cdc8\">columntransformer: ColumnTransformer</label><div class=\"sk-toggleable__content\"><pre>ColumnTransformer(remainder='passthrough',\n",
       "                  transformers=[('num_tr',\n",
       "                                 Pipeline(steps=[('simpleimputer',\n",
       "                                                  SimpleImputer()),\n",
       "                                                 ('minmaxscaler',\n",
       "                                                  MinMaxScaler())]),\n",
       "                                 ['overall', 'wage_eur', 'x-axis position',\n",
       "                                  'y-axis position']),\n",
       "                                ('cat_tr',\n",
       "                                 OneHotEncoder(handle_unknown='ignore'),\n",
       "                                 ['age', 'release_clause_eur',\n",
       "                                  'remaining_seasons_on_contract',\n",
       "                                  'potencial'])])</pre></div></div></div><div class=\"sk-parallel\"><div class=\"sk-parallel-item\"><div class=\"sk-item\"><div class=\"sk-label-container\"><div class=\"sk-label sk-toggleable\"><input class=\"sk-toggleable__control sk-hidden--visually\" id=\"8164cc06-8c9b-429e-86aa-e0282042eccc\" type=\"checkbox\" ><label class=\"sk-toggleable__label\" for=\"8164cc06-8c9b-429e-86aa-e0282042eccc\">num_tr</label><div class=\"sk-toggleable__content\"><pre>['overall', 'wage_eur', 'x-axis position', 'y-axis position']</pre></div></div></div><div class=\"sk-serial\"><div class=\"sk-item\"><div class=\"sk-serial\"><div class=\"sk-item\"><div class=\"sk-estimator sk-toggleable\"><input class=\"sk-toggleable__control sk-hidden--visually\" id=\"062070b7-228a-4ae2-8e3c-e4ea518c565c\" type=\"checkbox\" ><label class=\"sk-toggleable__label\" for=\"062070b7-228a-4ae2-8e3c-e4ea518c565c\">SimpleImputer</label><div class=\"sk-toggleable__content\"><pre>SimpleImputer()</pre></div></div></div><div class=\"sk-item\"><div class=\"sk-estimator sk-toggleable\"><input class=\"sk-toggleable__control sk-hidden--visually\" id=\"c278bb85-55dd-4ebb-9356-9dd60217c553\" type=\"checkbox\" ><label class=\"sk-toggleable__label\" for=\"c278bb85-55dd-4ebb-9356-9dd60217c553\">MinMaxScaler</label><div class=\"sk-toggleable__content\"><pre>MinMaxScaler()</pre></div></div></div></div></div></div></div></div><div class=\"sk-parallel-item\"><div class=\"sk-item\"><div class=\"sk-label-container\"><div class=\"sk-label sk-toggleable\"><input class=\"sk-toggleable__control sk-hidden--visually\" id=\"fb71f821-d780-4810-a128-738a77801f38\" type=\"checkbox\" ><label class=\"sk-toggleable__label\" for=\"fb71f821-d780-4810-a128-738a77801f38\">cat_tr</label><div class=\"sk-toggleable__content\"><pre>['age', 'release_clause_eur', 'remaining_seasons_on_contract', 'potencial']</pre></div></div></div><div class=\"sk-serial\"><div class=\"sk-item\"><div class=\"sk-estimator sk-toggleable\"><input class=\"sk-toggleable__control sk-hidden--visually\" id=\"d7e1f945-cc06-4a9b-b3f3-c5e5704463ef\" type=\"checkbox\" ><label class=\"sk-toggleable__label\" for=\"d7e1f945-cc06-4a9b-b3f3-c5e5704463ef\">OneHotEncoder</label><div class=\"sk-toggleable__content\"><pre>OneHotEncoder(handle_unknown='ignore')</pre></div></div></div></div></div></div><div class=\"sk-parallel-item\"><div class=\"sk-item\"><div class=\"sk-label-container\"><div class=\"sk-label sk-toggleable\"><input class=\"sk-toggleable__control sk-hidden--visually\" id=\"017edc93-3195-48c3-b569-4f72c76f546f\" type=\"checkbox\" ><label class=\"sk-toggleable__label\" for=\"017edc93-3195-48c3-b569-4f72c76f546f\">remainder</label><div class=\"sk-toggleable__content\"><pre></pre></div></div></div><div class=\"sk-serial\"><div class=\"sk-item\"><div class=\"sk-estimator sk-toggleable\"><input class=\"sk-toggleable__control sk-hidden--visually\" id=\"022c2125-9950-4970-8a6f-16cffc2f61bf\" type=\"checkbox\" ><label class=\"sk-toggleable__label\" for=\"022c2125-9950-4970-8a6f-16cffc2f61bf\">passthrough</label><div class=\"sk-toggleable__content\"><pre>passthrough</pre></div></div></div></div></div></div></div></div><div class=\"sk-item\"><div class=\"sk-estimator sk-toggleable\"><input class=\"sk-toggleable__control sk-hidden--visually\" id=\"db55ab98-91e5-482e-bd74-cd57daca73a6\" type=\"checkbox\" ><label class=\"sk-toggleable__label\" for=\"db55ab98-91e5-482e-bd74-cd57daca73a6\">Ridge</label><div class=\"sk-toggleable__content\"><pre>Ridge()</pre></div></div></div></div></div></div></div>"
      ],
      "text/plain": [
       "Pipeline(steps=[('columntransformer',\n",
       "                 ColumnTransformer(remainder='passthrough',\n",
       "                                   transformers=[('num_tr',\n",
       "                                                  Pipeline(steps=[('simpleimputer',\n",
       "                                                                   SimpleImputer()),\n",
       "                                                                  ('minmaxscaler',\n",
       "                                                                   MinMaxScaler())]),\n",
       "                                                  ['overall', 'wage_eur',\n",
       "                                                   'x-axis position',\n",
       "                                                   'y-axis position']),\n",
       "                                                 ('cat_tr',\n",
       "                                                  OneHotEncoder(handle_unknown='ignore'),\n",
       "                                                  ['age', 'release_clause_eur',\n",
       "                                                   'remaining_seasons_on_contract',\n",
       "                                                   'potencial'])])),\n",
       "                ('ridge', Ridge())])"
      ]
     },
     "execution_count": 45,
     "metadata": {},
     "output_type": "execute_result"
    }
   ],
   "source": [
    "pipe"
   ]
  },
  {
   "cell_type": "code",
   "execution_count": 46,
   "id": "db025f53",
   "metadata": {},
   "outputs": [
    {
     "data": {
      "text/html": [
       "<style>#sk-597485a0-3562-409c-9261-58170372703c {color: black;background-color: white;}#sk-597485a0-3562-409c-9261-58170372703c pre{padding: 0;}#sk-597485a0-3562-409c-9261-58170372703c div.sk-toggleable {background-color: white;}#sk-597485a0-3562-409c-9261-58170372703c label.sk-toggleable__label {cursor: pointer;display: block;width: 100%;margin-bottom: 0;padding: 0.3em;box-sizing: border-box;text-align: center;}#sk-597485a0-3562-409c-9261-58170372703c div.sk-toggleable__content {max-height: 0;max-width: 0;overflow: hidden;text-align: left;background-color: #f0f8ff;}#sk-597485a0-3562-409c-9261-58170372703c div.sk-toggleable__content pre {margin: 0.2em;color: black;border-radius: 0.25em;background-color: #f0f8ff;}#sk-597485a0-3562-409c-9261-58170372703c input.sk-toggleable__control:checked~div.sk-toggleable__content {max-height: 200px;max-width: 100%;overflow: auto;}#sk-597485a0-3562-409c-9261-58170372703c div.sk-estimator input.sk-toggleable__control:checked~label.sk-toggleable__label {background-color: #d4ebff;}#sk-597485a0-3562-409c-9261-58170372703c div.sk-label input.sk-toggleable__control:checked~label.sk-toggleable__label {background-color: #d4ebff;}#sk-597485a0-3562-409c-9261-58170372703c input.sk-hidden--visually {border: 0;clip: rect(1px 1px 1px 1px);clip: rect(1px, 1px, 1px, 1px);height: 1px;margin: -1px;overflow: hidden;padding: 0;position: absolute;width: 1px;}#sk-597485a0-3562-409c-9261-58170372703c div.sk-estimator {font-family: monospace;background-color: #f0f8ff;border: 1px dotted black;border-radius: 0.25em;box-sizing: border-box;margin-bottom: 0.5em;}#sk-597485a0-3562-409c-9261-58170372703c div.sk-estimator:hover {background-color: #d4ebff;}#sk-597485a0-3562-409c-9261-58170372703c div.sk-parallel-item::after {content: \"\";width: 100%;border-bottom: 1px solid gray;flex-grow: 1;}#sk-597485a0-3562-409c-9261-58170372703c div.sk-label:hover label.sk-toggleable__label {background-color: #d4ebff;}#sk-597485a0-3562-409c-9261-58170372703c div.sk-serial::before {content: \"\";position: absolute;border-left: 1px solid gray;box-sizing: border-box;top: 2em;bottom: 0;left: 50%;}#sk-597485a0-3562-409c-9261-58170372703c div.sk-serial {display: flex;flex-direction: column;align-items: center;background-color: white;padding-right: 0.2em;padding-left: 0.2em;}#sk-597485a0-3562-409c-9261-58170372703c div.sk-item {z-index: 1;}#sk-597485a0-3562-409c-9261-58170372703c div.sk-parallel {display: flex;align-items: stretch;justify-content: center;background-color: white;}#sk-597485a0-3562-409c-9261-58170372703c div.sk-parallel::before {content: \"\";position: absolute;border-left: 1px solid gray;box-sizing: border-box;top: 2em;bottom: 0;left: 50%;}#sk-597485a0-3562-409c-9261-58170372703c div.sk-parallel-item {display: flex;flex-direction: column;position: relative;background-color: white;}#sk-597485a0-3562-409c-9261-58170372703c div.sk-parallel-item:first-child::after {align-self: flex-end;width: 50%;}#sk-597485a0-3562-409c-9261-58170372703c div.sk-parallel-item:last-child::after {align-self: flex-start;width: 50%;}#sk-597485a0-3562-409c-9261-58170372703c div.sk-parallel-item:only-child::after {width: 0;}#sk-597485a0-3562-409c-9261-58170372703c div.sk-dashed-wrapped {border: 1px dashed gray;margin: 0 0.4em 0.5em 0.4em;box-sizing: border-box;padding-bottom: 0.4em;background-color: white;position: relative;}#sk-597485a0-3562-409c-9261-58170372703c div.sk-label label {font-family: monospace;font-weight: bold;background-color: white;display: inline-block;line-height: 1.2em;}#sk-597485a0-3562-409c-9261-58170372703c div.sk-label-container {position: relative;z-index: 2;text-align: center;}#sk-597485a0-3562-409c-9261-58170372703c div.sk-container {display: inline-block;position: relative;}</style><div id=\"sk-597485a0-3562-409c-9261-58170372703c\" class\"sk-top-container\"><div class=\"sk-container\"><div class=\"sk-item sk-dashed-wrapped\"><div class=\"sk-label-container\"><div class=\"sk-label sk-toggleable\"><input class=\"sk-toggleable__control sk-hidden--visually\" id=\"7765a481-d8ef-4ba3-83e6-97674b084469\" type=\"checkbox\" ><label class=\"sk-toggleable__label\" for=\"7765a481-d8ef-4ba3-83e6-97674b084469\">Pipeline</label><div class=\"sk-toggleable__content\"><pre>Pipeline(steps=[('columntransformer',\n",
       "                 ColumnTransformer(remainder='passthrough',\n",
       "                                   transformers=[('num_tr',\n",
       "                                                  Pipeline(steps=[('simpleimputer',\n",
       "                                                                   SimpleImputer()),\n",
       "                                                                  ('minmaxscaler',\n",
       "                                                                   MinMaxScaler())]),\n",
       "                                                  ['overall', 'wage_eur',\n",
       "                                                   'x-axis position',\n",
       "                                                   'y-axis position']),\n",
       "                                                 ('cat_tr',\n",
       "                                                  OneHotEncoder(handle_unknown='ignore'),\n",
       "                                                  ['age', 'release_clause_eur',\n",
       "                                                   'remaining_seasons_on_contract',\n",
       "                                                   'potencial'])])),\n",
       "                ('ridge', Ridge())])</pre></div></div></div><div class=\"sk-serial\"><div class=\"sk-item sk-dashed-wrapped\"><div class=\"sk-label-container\"><div class=\"sk-label sk-toggleable\"><input class=\"sk-toggleable__control sk-hidden--visually\" id=\"8a6322a5-b1dd-448f-afe1-47ba91d14095\" type=\"checkbox\" ><label class=\"sk-toggleable__label\" for=\"8a6322a5-b1dd-448f-afe1-47ba91d14095\">columntransformer: ColumnTransformer</label><div class=\"sk-toggleable__content\"><pre>ColumnTransformer(remainder='passthrough',\n",
       "                  transformers=[('num_tr',\n",
       "                                 Pipeline(steps=[('simpleimputer',\n",
       "                                                  SimpleImputer()),\n",
       "                                                 ('minmaxscaler',\n",
       "                                                  MinMaxScaler())]),\n",
       "                                 ['overall', 'wage_eur', 'x-axis position',\n",
       "                                  'y-axis position']),\n",
       "                                ('cat_tr',\n",
       "                                 OneHotEncoder(handle_unknown='ignore'),\n",
       "                                 ['age', 'release_clause_eur',\n",
       "                                  'remaining_seasons_on_contract',\n",
       "                                  'potencial'])])</pre></div></div></div><div class=\"sk-parallel\"><div class=\"sk-parallel-item\"><div class=\"sk-item\"><div class=\"sk-label-container\"><div class=\"sk-label sk-toggleable\"><input class=\"sk-toggleable__control sk-hidden--visually\" id=\"9ba0c1d6-d714-4988-b936-2d09cfbeb767\" type=\"checkbox\" ><label class=\"sk-toggleable__label\" for=\"9ba0c1d6-d714-4988-b936-2d09cfbeb767\">num_tr</label><div class=\"sk-toggleable__content\"><pre>['overall', 'wage_eur', 'x-axis position', 'y-axis position']</pre></div></div></div><div class=\"sk-serial\"><div class=\"sk-item\"><div class=\"sk-serial\"><div class=\"sk-item\"><div class=\"sk-estimator sk-toggleable\"><input class=\"sk-toggleable__control sk-hidden--visually\" id=\"c8bc0d1b-4bf0-411e-b847-277443305b3b\" type=\"checkbox\" ><label class=\"sk-toggleable__label\" for=\"c8bc0d1b-4bf0-411e-b847-277443305b3b\">SimpleImputer</label><div class=\"sk-toggleable__content\"><pre>SimpleImputer()</pre></div></div></div><div class=\"sk-item\"><div class=\"sk-estimator sk-toggleable\"><input class=\"sk-toggleable__control sk-hidden--visually\" id=\"649e43f0-28e1-40a6-8f97-8b19369084bf\" type=\"checkbox\" ><label class=\"sk-toggleable__label\" for=\"649e43f0-28e1-40a6-8f97-8b19369084bf\">MinMaxScaler</label><div class=\"sk-toggleable__content\"><pre>MinMaxScaler()</pre></div></div></div></div></div></div></div></div><div class=\"sk-parallel-item\"><div class=\"sk-item\"><div class=\"sk-label-container\"><div class=\"sk-label sk-toggleable\"><input class=\"sk-toggleable__control sk-hidden--visually\" id=\"3427b21e-afd6-4255-86df-6e326b0ea777\" type=\"checkbox\" ><label class=\"sk-toggleable__label\" for=\"3427b21e-afd6-4255-86df-6e326b0ea777\">cat_tr</label><div class=\"sk-toggleable__content\"><pre>['age', 'release_clause_eur', 'remaining_seasons_on_contract', 'potencial']</pre></div></div></div><div class=\"sk-serial\"><div class=\"sk-item\"><div class=\"sk-estimator sk-toggleable\"><input class=\"sk-toggleable__control sk-hidden--visually\" id=\"7e2da82f-56e1-4c27-ba55-62c11a678676\" type=\"checkbox\" ><label class=\"sk-toggleable__label\" for=\"7e2da82f-56e1-4c27-ba55-62c11a678676\">OneHotEncoder</label><div class=\"sk-toggleable__content\"><pre>OneHotEncoder(handle_unknown='ignore')</pre></div></div></div></div></div></div><div class=\"sk-parallel-item\"><div class=\"sk-item\"><div class=\"sk-label-container\"><div class=\"sk-label sk-toggleable\"><input class=\"sk-toggleable__control sk-hidden--visually\" id=\"26a2335b-4d06-4816-bc41-48044d77a3c0\" type=\"checkbox\" ><label class=\"sk-toggleable__label\" for=\"26a2335b-4d06-4816-bc41-48044d77a3c0\">remainder</label><div class=\"sk-toggleable__content\"><pre>[]</pre></div></div></div><div class=\"sk-serial\"><div class=\"sk-item\"><div class=\"sk-estimator sk-toggleable\"><input class=\"sk-toggleable__control sk-hidden--visually\" id=\"09e0d65a-2880-4b56-944f-8750a29c7d02\" type=\"checkbox\" ><label class=\"sk-toggleable__label\" for=\"09e0d65a-2880-4b56-944f-8750a29c7d02\">passthrough</label><div class=\"sk-toggleable__content\"><pre>passthrough</pre></div></div></div></div></div></div></div></div><div class=\"sk-item\"><div class=\"sk-estimator sk-toggleable\"><input class=\"sk-toggleable__control sk-hidden--visually\" id=\"30e5a8b0-bfd9-4dfd-884d-5f363dbaeb4c\" type=\"checkbox\" ><label class=\"sk-toggleable__label\" for=\"30e5a8b0-bfd9-4dfd-884d-5f363dbaeb4c\">Ridge</label><div class=\"sk-toggleable__content\"><pre>Ridge()</pre></div></div></div></div></div></div></div>"
      ],
      "text/plain": [
       "Pipeline(steps=[('columntransformer',\n",
       "                 ColumnTransformer(remainder='passthrough',\n",
       "                                   transformers=[('num_tr',\n",
       "                                                  Pipeline(steps=[('simpleimputer',\n",
       "                                                                   SimpleImputer()),\n",
       "                                                                  ('minmaxscaler',\n",
       "                                                                   MinMaxScaler())]),\n",
       "                                                  ['overall', 'wage_eur',\n",
       "                                                   'x-axis position',\n",
       "                                                   'y-axis position']),\n",
       "                                                 ('cat_tr',\n",
       "                                                  OneHotEncoder(handle_unknown='ignore'),\n",
       "                                                  ['age', 'release_clause_eur',\n",
       "                                                   'remaining_seasons_on_contract',\n",
       "                                                   'potencial'])])),\n",
       "                ('ridge', Ridge())])"
      ]
     },
     "execution_count": 46,
     "metadata": {},
     "output_type": "execute_result"
    }
   ],
   "source": [
    "pipe.fit(X_train, y_train)"
   ]
  },
  {
   "cell_type": "code",
   "execution_count": 47,
   "id": "157172a8",
   "metadata": {},
   "outputs": [
    {
     "data": {
      "text/plain": [
       "0.2799652101010876"
      ]
     },
     "execution_count": 47,
     "metadata": {},
     "output_type": "execute_result"
    }
   ],
   "source": [
    "from sklearn.model_selection import cross_val_score\n",
    "\n",
    "cross_val_score(pipe, X_train, y_train, cv=5, scoring='r2').mean()"
   ]
  },
  {
   "cell_type": "code",
   "execution_count": null,
   "id": "a29d3107",
   "metadata": {},
   "outputs": [],
   "source": []
  }
 ],
 "metadata": {
  "kernelspec": {
   "display_name": "Python 3 (ipykernel)",
   "language": "python",
   "name": "python3"
  },
  "language_info": {
   "codemirror_mode": {
    "name": "ipython",
    "version": 3
   },
   "file_extension": ".py",
   "mimetype": "text/x-python",
   "name": "python",
   "nbconvert_exporter": "python",
   "pygments_lexer": "ipython3",
   "version": "3.8.12"
  },
  "toc": {
   "base_numbering": 1,
   "nav_menu": {},
   "number_sections": true,
   "sideBar": true,
   "skip_h1_title": false,
   "title_cell": "Table of Contents",
   "title_sidebar": "Contents",
   "toc_cell": false,
   "toc_position": {},
   "toc_section_display": true,
   "toc_window_display": false
  }
 },
 "nbformat": 4,
 "nbformat_minor": 5
}
