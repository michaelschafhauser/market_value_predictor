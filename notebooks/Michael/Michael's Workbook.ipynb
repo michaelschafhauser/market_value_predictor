{
 "cells": [
  {
   "cell_type": "code",
   "execution_count": 11,
   "id": "aeabeeb0",
   "metadata": {},
   "outputs": [],
   "source": [
    "import pandas as pd\n",
    "pd.set_option(\"display.max_rows\", 10, \"display.max_columns\", 100)"
   ]
  },
  {
   "cell_type": "code",
   "execution_count": 12,
   "id": "682547c2",
   "metadata": {},
   "outputs": [],
   "source": [
    "df_clubs = pd.read_csv(\"../raw_data/club_name_mismatch.csv\")"
   ]
  },
  {
   "cell_type": "code",
   "execution_count": null,
   "id": "bd304e72",
   "metadata": {},
   "outputs": [],
   "source": []
  },
  {
   "cell_type": "code",
   "execution_count": 13,
   "id": "160290c0",
   "metadata": {},
   "outputs": [],
   "source": [
    "df_clubs_not_matched = df_clubs.loc[df_clubs[\"help\"].isna()]"
   ]
  },
  {
   "cell_type": "code",
   "execution_count": 27,
   "id": "afc4df0a",
   "metadata": {},
   "outputs": [],
   "source": [
    "df_clubs_not_matched.to_csv(\"../raw_data/clubs_not_matched.csv\")"
   ]
  },
  {
   "cell_type": "code",
   "execution_count": 28,
   "id": "0ef46278",
   "metadata": {},
   "outputs": [],
   "source": [
    "df_transfer = pd.read_csv(\"../raw_data/transfer_history_combined.csv\")"
   ]
  },
  {
   "cell_type": "code",
   "execution_count": 29,
   "id": "d4710c0c",
   "metadata": {},
   "outputs": [],
   "source": [
    "#pd.set_option(\"display.max_rows\", 10, \"display.max_columns\", 10)drop_duplicates()"
   ]
  },
  {
   "cell_type": "code",
   "execution_count": 30,
   "id": "c2bb9675",
   "metadata": {},
   "outputs": [],
   "source": [
    "df_transfer_club_names = df_transfer[\"club_name\"].drop_duplicates()"
   ]
  },
  {
   "cell_type": "code",
   "execution_count": 31,
   "id": "e8be355d",
   "metadata": {},
   "outputs": [
    {
     "data": {
      "text/plain": [
       "0          FC Girondins Bordeaux\n",
       "19        FC Sochaux-Montbéliard\n",
       "38                       RC Lens\n",
       "59               Montpellier HSC\n",
       "76                     FC Nantes\n",
       "                   ...          \n",
       "171273           Go Ahead Eagles\n",
       "172280       US Salernitana 1919\n",
       "172340                Venezia FC\n",
       "172721        FK Nizhny Novgorod\n",
       "173869        Atlético de Madrid\n",
       "Name: club_name, Length: 412, dtype: object"
      ]
     },
     "execution_count": 31,
     "metadata": {},
     "output_type": "execute_result"
    }
   ],
   "source": [
    "df_transfer_club_names"
   ]
  },
  {
   "cell_type": "code",
   "execution_count": 32,
   "id": "c1d341e3",
   "metadata": {},
   "outputs": [],
   "source": [
    "df_players = pd.read_csv(\"../raw_data/players_combined.csv\")"
   ]
  },
  {
   "cell_type": "code",
   "execution_count": 33,
   "id": "2d6a5887",
   "metadata": {},
   "outputs": [],
   "source": [
    "players_club_list = df_players['club_name'].value_counts()"
   ]
  },
  {
   "cell_type": "code",
   "execution_count": 34,
   "id": "4bb97ba4",
   "metadata": {},
   "outputs": [],
   "source": [
    "players_club_list.to_csv(\"../raw_data/players_club_list.csv\")"
   ]
  },
  {
   "cell_type": "code",
   "execution_count": null,
   "id": "062f6b62",
   "metadata": {},
   "outputs": [],
   "source": []
  },
  {
   "cell_type": "code",
   "execution_count": null,
   "id": "8f0d1405",
   "metadata": {},
   "outputs": [],
   "source": []
  }
 ],
 "metadata": {
  "kernelspec": {
   "display_name": "Python 3 (ipykernel)",
   "language": "python",
   "name": "python3"
  },
  "language_info": {
   "codemirror_mode": {
    "name": "ipython",
    "version": 3
   },
   "file_extension": ".py",
   "mimetype": "text/x-python",
   "name": "python",
   "nbconvert_exporter": "python",
   "pygments_lexer": "ipython3",
   "version": "3.8.12"
  },
  "toc": {
   "base_numbering": 1,
   "nav_menu": {},
   "number_sections": true,
   "sideBar": true,
   "skip_h1_title": false,
   "title_cell": "Table of Contents",
   "title_sidebar": "Contents",
   "toc_cell": false,
   "toc_position": {},
   "toc_section_display": true,
   "toc_window_display": false
  }
 },
 "nbformat": 4,
 "nbformat_minor": 5
}
