{
 "cells": [
  {
   "cell_type": "code",
   "execution_count": 4,
   "id": "c1793bb2",
   "metadata": {},
   "outputs": [],
   "source": [
    "%load_ext autoreload\n",
    "%autoreload 2"
   ]
  },
  {
   "cell_type": "code",
   "execution_count": 5,
   "id": "53334df0",
   "metadata": {},
   "outputs": [],
   "source": [
    "import pandas as pd\n",
    "import numpy as np"
   ]
  },
  {
   "cell_type": "code",
   "execution_count": 6,
   "id": "cc7f2632",
   "metadata": {},
   "outputs": [],
   "source": [
    "from market_value_predictor.preproc import manual_encoding, reduce_number_of_classes"
   ]
  },
  {
   "cell_type": "code",
   "execution_count": 7,
   "id": "c670b080",
   "metadata": {},
   "outputs": [],
   "source": [
    "from sklearn.preprocessing import OneHotEncoder, MinMaxScaler, RobustScaler, StandardScaler\n",
    "from sklearn.impute import SimpleImputer\n",
    "from sklearn.compose import ColumnTransformer\n",
    "from sklearn.pipeline import Pipeline, make_pipeline\n",
    "from sklearn import set_config; set_config(display='diagram')\n",
    "from sklearn.linear_model import LinearRegression, Ridge, Lasso\n",
    "from xgboost.sklearn import XGBRegressor\n",
    "from sklearn.linear_model import LinearRegression, Ridge, Lasso\n",
    "from catboost import CatBoostRegressor\n",
    "from sklearn.linear_model import SGDRegressor\n",
    "from sklearn.kernel_ridge import KernelRidge\n",
    "from sklearn.linear_model import ElasticNet\n",
    "from sklearn.linear_model import BayesianRidge\n",
    "from sklearn.ensemble import GradientBoostingRegressor\n",
    "from sklearn.svm import SVR\n",
    "from sklearn.model_selection import GridSearchCV\n",
    "from sklearn.metrics import r2_score\n",
    "from sklearn.model_selection import cross_val_score"
   ]
  },
  {
   "cell_type": "code",
   "execution_count": 8,
   "id": "9bcdce41",
   "metadata": {},
   "outputs": [],
   "source": [
    "df = pd.read_csv(\"../../raw_data/master_df_with_webscraping.csv\")\n",
    "df_train = pd.read_csv(\"../../raw_data/master_data_train.csv\").drop(columns=\"Unnamed: 0\")\n",
    "df_test = pd.read_csv(\"../../raw_data/master_data_test.csv\").drop(columns=\"Unnamed: 0\")"
   ]
  },
  {
   "cell_type": "markdown",
   "id": "abfac6c0",
   "metadata": {},
   "source": [
    "# Preprocessing"
   ]
  },
  {
   "cell_type": "code",
   "execution_count": 9,
   "id": "8a0d9d28",
   "metadata": {},
   "outputs": [
    {
     "data": {
      "text/html": [
       "<style>#sk-31e11bb9-af00-48e9-be43-ed06ad0fd5e3 {color: black;background-color: white;}#sk-31e11bb9-af00-48e9-be43-ed06ad0fd5e3 pre{padding: 0;}#sk-31e11bb9-af00-48e9-be43-ed06ad0fd5e3 div.sk-toggleable {background-color: white;}#sk-31e11bb9-af00-48e9-be43-ed06ad0fd5e3 label.sk-toggleable__label {cursor: pointer;display: block;width: 100%;margin-bottom: 0;padding: 0.3em;box-sizing: border-box;text-align: center;}#sk-31e11bb9-af00-48e9-be43-ed06ad0fd5e3 div.sk-toggleable__content {max-height: 0;max-width: 0;overflow: hidden;text-align: left;background-color: #f0f8ff;}#sk-31e11bb9-af00-48e9-be43-ed06ad0fd5e3 div.sk-toggleable__content pre {margin: 0.2em;color: black;border-radius: 0.25em;background-color: #f0f8ff;}#sk-31e11bb9-af00-48e9-be43-ed06ad0fd5e3 input.sk-toggleable__control:checked~div.sk-toggleable__content {max-height: 200px;max-width: 100%;overflow: auto;}#sk-31e11bb9-af00-48e9-be43-ed06ad0fd5e3 div.sk-estimator input.sk-toggleable__control:checked~label.sk-toggleable__label {background-color: #d4ebff;}#sk-31e11bb9-af00-48e9-be43-ed06ad0fd5e3 div.sk-label input.sk-toggleable__control:checked~label.sk-toggleable__label {background-color: #d4ebff;}#sk-31e11bb9-af00-48e9-be43-ed06ad0fd5e3 input.sk-hidden--visually {border: 0;clip: rect(1px 1px 1px 1px);clip: rect(1px, 1px, 1px, 1px);height: 1px;margin: -1px;overflow: hidden;padding: 0;position: absolute;width: 1px;}#sk-31e11bb9-af00-48e9-be43-ed06ad0fd5e3 div.sk-estimator {font-family: monospace;background-color: #f0f8ff;border: 1px dotted black;border-radius: 0.25em;box-sizing: border-box;margin-bottom: 0.5em;}#sk-31e11bb9-af00-48e9-be43-ed06ad0fd5e3 div.sk-estimator:hover {background-color: #d4ebff;}#sk-31e11bb9-af00-48e9-be43-ed06ad0fd5e3 div.sk-parallel-item::after {content: \"\";width: 100%;border-bottom: 1px solid gray;flex-grow: 1;}#sk-31e11bb9-af00-48e9-be43-ed06ad0fd5e3 div.sk-label:hover label.sk-toggleable__label {background-color: #d4ebff;}#sk-31e11bb9-af00-48e9-be43-ed06ad0fd5e3 div.sk-serial::before {content: \"\";position: absolute;border-left: 1px solid gray;box-sizing: border-box;top: 2em;bottom: 0;left: 50%;}#sk-31e11bb9-af00-48e9-be43-ed06ad0fd5e3 div.sk-serial {display: flex;flex-direction: column;align-items: center;background-color: white;padding-right: 0.2em;padding-left: 0.2em;}#sk-31e11bb9-af00-48e9-be43-ed06ad0fd5e3 div.sk-item {z-index: 1;}#sk-31e11bb9-af00-48e9-be43-ed06ad0fd5e3 div.sk-parallel {display: flex;align-items: stretch;justify-content: center;background-color: white;}#sk-31e11bb9-af00-48e9-be43-ed06ad0fd5e3 div.sk-parallel::before {content: \"\";position: absolute;border-left: 1px solid gray;box-sizing: border-box;top: 2em;bottom: 0;left: 50%;}#sk-31e11bb9-af00-48e9-be43-ed06ad0fd5e3 div.sk-parallel-item {display: flex;flex-direction: column;position: relative;background-color: white;}#sk-31e11bb9-af00-48e9-be43-ed06ad0fd5e3 div.sk-parallel-item:first-child::after {align-self: flex-end;width: 50%;}#sk-31e11bb9-af00-48e9-be43-ed06ad0fd5e3 div.sk-parallel-item:last-child::after {align-self: flex-start;width: 50%;}#sk-31e11bb9-af00-48e9-be43-ed06ad0fd5e3 div.sk-parallel-item:only-child::after {width: 0;}#sk-31e11bb9-af00-48e9-be43-ed06ad0fd5e3 div.sk-dashed-wrapped {border: 1px dashed gray;margin: 0 0.4em 0.5em 0.4em;box-sizing: border-box;padding-bottom: 0.4em;background-color: white;position: relative;}#sk-31e11bb9-af00-48e9-be43-ed06ad0fd5e3 div.sk-label label {font-family: monospace;font-weight: bold;background-color: white;display: inline-block;line-height: 1.2em;}#sk-31e11bb9-af00-48e9-be43-ed06ad0fd5e3 div.sk-label-container {position: relative;z-index: 2;text-align: center;}#sk-31e11bb9-af00-48e9-be43-ed06ad0fd5e3 div.sk-container {display: inline-block;position: relative;}</style><div id=\"sk-31e11bb9-af00-48e9-be43-ed06ad0fd5e3\" class\"sk-top-container\"><div class=\"sk-container\"><div class=\"sk-item sk-dashed-wrapped\"><div class=\"sk-label-container\"><div class=\"sk-label sk-toggleable\"><input class=\"sk-toggleable__control sk-hidden--visually\" id=\"dab6cb07-6065-4f2f-bca9-80aed9815978\" type=\"checkbox\" ><label class=\"sk-toggleable__label\" for=\"dab6cb07-6065-4f2f-bca9-80aed9815978\">Pipeline</label><div class=\"sk-toggleable__content\"><pre>Pipeline(steps=[('player_traits',\n",
       "                 FunctionTransformer(func=<function <lambda> at 0x7fab572dbb80>)),\n",
       "                ('player_tags',\n",
       "                 FunctionTransformer(func=<function <lambda> at 0x7fab572dbc10>)),\n",
       "                ('player_positions',\n",
       "                 FunctionTransformer(func=<function <lambda> at 0x7fab572dbe50>)),\n",
       "                ('nationality',\n",
       "                 FunctionTransformer(func=<function <lambda> at 0x7fab572dbee0>)),\n",
       "                ('league_name',\n",
       "                 FunctionTransformer(func=<function <lambda> at 0x7fab572dbf70>)),\n",
       "                ('drop_nas',\n",
       "                 FunctionTransformer(func=<function <lambda> at 0x7fab572db940>))])</pre></div></div></div><div class=\"sk-serial\"><div class=\"sk-item\"><div class=\"sk-estimator sk-toggleable\"><input class=\"sk-toggleable__control sk-hidden--visually\" id=\"78fb9e44-42b7-423d-ab7d-a5c0c33b98c4\" type=\"checkbox\" ><label class=\"sk-toggleable__label\" for=\"78fb9e44-42b7-423d-ab7d-a5c0c33b98c4\">FunctionTransformer</label><div class=\"sk-toggleable__content\"><pre>FunctionTransformer(func=<function <lambda> at 0x7fab572dbb80>)</pre></div></div></div><div class=\"sk-item\"><div class=\"sk-estimator sk-toggleable\"><input class=\"sk-toggleable__control sk-hidden--visually\" id=\"95651f67-474a-47bb-9ebe-878c692338ec\" type=\"checkbox\" ><label class=\"sk-toggleable__label\" for=\"95651f67-474a-47bb-9ebe-878c692338ec\">FunctionTransformer</label><div class=\"sk-toggleable__content\"><pre>FunctionTransformer(func=<function <lambda> at 0x7fab572dbc10>)</pre></div></div></div><div class=\"sk-item\"><div class=\"sk-estimator sk-toggleable\"><input class=\"sk-toggleable__control sk-hidden--visually\" id=\"cbd2e643-05ef-443a-ada4-eb6cdbefcf18\" type=\"checkbox\" ><label class=\"sk-toggleable__label\" for=\"cbd2e643-05ef-443a-ada4-eb6cdbefcf18\">FunctionTransformer</label><div class=\"sk-toggleable__content\"><pre>FunctionTransformer(func=<function <lambda> at 0x7fab572dbe50>)</pre></div></div></div><div class=\"sk-item\"><div class=\"sk-estimator sk-toggleable\"><input class=\"sk-toggleable__control sk-hidden--visually\" id=\"becf66dd-8af1-4e19-b1d6-66949c8234ce\" type=\"checkbox\" ><label class=\"sk-toggleable__label\" for=\"becf66dd-8af1-4e19-b1d6-66949c8234ce\">FunctionTransformer</label><div class=\"sk-toggleable__content\"><pre>FunctionTransformer(func=<function <lambda> at 0x7fab572dbee0>)</pre></div></div></div><div class=\"sk-item\"><div class=\"sk-estimator sk-toggleable\"><input class=\"sk-toggleable__control sk-hidden--visually\" id=\"447584c1-67dd-45c2-ab65-b21ad2fea137\" type=\"checkbox\" ><label class=\"sk-toggleable__label\" for=\"447584c1-67dd-45c2-ab65-b21ad2fea137\">FunctionTransformer</label><div class=\"sk-toggleable__content\"><pre>FunctionTransformer(func=<function <lambda> at 0x7fab572dbf70>)</pre></div></div></div><div class=\"sk-item\"><div class=\"sk-estimator sk-toggleable\"><input class=\"sk-toggleable__control sk-hidden--visually\" id=\"9430d773-e72f-4540-b908-6bbb4a5ca222\" type=\"checkbox\" ><label class=\"sk-toggleable__label\" for=\"9430d773-e72f-4540-b908-6bbb4a5ca222\">FunctionTransformer</label><div class=\"sk-toggleable__content\"><pre>FunctionTransformer(func=<function <lambda> at 0x7fab572db940>)</pre></div></div></div></div></div></div></div>"
      ],
      "text/plain": [
       "Pipeline(steps=[('player_traits',\n",
       "                 FunctionTransformer(func=<function <lambda> at 0x7fab572dbb80>)),\n",
       "                ('player_tags',\n",
       "                 FunctionTransformer(func=<function <lambda> at 0x7fab572dbc10>)),\n",
       "                ('player_positions',\n",
       "                 FunctionTransformer(func=<function <lambda> at 0x7fab572dbe50>)),\n",
       "                ('nationality',\n",
       "                 FunctionTransformer(func=<function <lambda> at 0x7fab572dbee0>)),\n",
       "                ('league_name',\n",
       "                 FunctionTransformer(func=<function <lambda> at 0x7fab572dbf70>)),\n",
       "                ('drop_nas',\n",
       "                 FunctionTransformer(func=<function <lambda> at 0x7fab572db940>))])"
      ]
     },
     "execution_count": 9,
     "metadata": {},
     "output_type": "execute_result"
    }
   ],
   "source": [
    "from sklearn.preprocessing import FunctionTransformer\n",
    "\n",
    "drop_nas = FunctionTransformer(lambda df: df.dropna(subset=list(df.select_dtypes(object).columns)))\n",
    "\n",
    "feat_eng_player_traits = FunctionTransformer(lambda df: manual_encoding(df, \"player_traits\"))\n",
    "feat_eng_player_tags = FunctionTransformer(lambda df: manual_encoding(df, \"player_tags\"))\n",
    "feat_eng_player_positions = FunctionTransformer(lambda df: manual_encoding(df, \"player_positions\"))\n",
    "\n",
    "dim_reduction_nationality = FunctionTransformer(lambda df: reduce_number_of_classes(df, \"nationality\", 50))\n",
    "dim_reduction_league_name = FunctionTransformer(lambda df: reduce_number_of_classes(df, \"league_name\", 100))\n",
    "\n",
    "cluster_team_position = FunctionTransformer(lambda df: cluster_team_position(df))\n",
    "\n",
    "feat_eng = Pipeline([\n",
    "    (\"player_traits\", feat_eng_player_traits),\n",
    "    (\"player_tags\", feat_eng_player_tags),\n",
    "    (\"player_positions\", feat_eng_player_positions),\n",
    "    (\"nationality\", dim_reduction_nationality),\n",
    "    (\"league_name\", dim_reduction_league_name),\n",
    "    (\"drop_nas\", drop_nas),\n",
    "#     (\"team_position\", cluster_team_position)\n",
    "])\n",
    "\n",
    "feat_eng"
   ]
  },
  {
   "cell_type": "code",
   "execution_count": 10,
   "id": "c7b08fd3",
   "metadata": {},
   "outputs": [],
   "source": [
    "df_train_transformed = feat_eng.fit_transform(df_train)"
   ]
  },
  {
   "cell_type": "code",
   "execution_count": 11,
   "id": "d52b65ca",
   "metadata": {},
   "outputs": [],
   "source": [
    "df_test_transformed = feat_eng.transform(df_test)"
   ]
  },
  {
   "cell_type": "markdown",
   "id": "286dfb71",
   "metadata": {},
   "source": [
    "# Pipeline"
   ]
  },
  {
   "cell_type": "markdown",
   "id": "9261fb06",
   "metadata": {},
   "source": [
    "## Define lists of columns for pipeline"
   ]
  },
  {
   "cell_type": "code",
   "execution_count": 12,
   "id": "573c1b21",
   "metadata": {},
   "outputs": [],
   "source": [
    "all_cats = list(df_train.select_dtypes(object).columns)\n",
    "\n",
    "numerics = ['int16', 'int32', 'int64', 'float16', 'float32', 'float64']\n",
    "\n",
    "all_numerics = list(df_train.select_dtypes(include=numerics).columns)\n",
    "\n",
    "all_numerics.remove(\"fee_cleaned\")\n",
    "\n",
    "encoded_columns = [elem for elem in all_numerics if \"player_tags_\" in elem] + [\n",
    "    elem for elem in all_numerics if \"player_positions_\" in elem\n",
    "] + [elem for elem in all_numerics if \"player_traits_\" in elem]\n",
    "\n",
    "all_numerics_wo_encoded = []\n",
    "for elem in all_numerics:\n",
    "    if elem not in encoded_columns:\n",
    "        all_numerics_wo_encoded.append(elem)\n",
    "\n",
    "numericals_zero_impute = [\n",
    "    \"gk_diving\", \"gk_handling\", \"gk_kicking\", \"gk_reflexes\", \"gk_speed\",\n",
    "    \"gk_positioning\", \"release_clause_eur\"\n",
    "]\n",
    "\n",
    "numericals_mean_impute = []\n",
    "\n",
    "for elem in all_numerics_wo_encoded:\n",
    "    if elem not in numericals_zero_impute:\n",
    "        numericals_mean_impute.append(elem)"
   ]
  },
  {
   "cell_type": "markdown",
   "id": "4da70b62",
   "metadata": {},
   "source": [
    "## Define transformers"
   ]
  },
  {
   "cell_type": "code",
   "execution_count": 13,
   "id": "4cf07088",
   "metadata": {},
   "outputs": [],
   "source": [
    "from tempfile import mkdtemp\n",
    "from shutil import rmtree\n",
    "cachedir = mkdtemp()"
   ]
  },
  {
   "cell_type": "code",
   "execution_count": 14,
   "id": "84f7a6cb",
   "metadata": {},
   "outputs": [],
   "source": [
    "num_zero_tr = Pipeline([\n",
    "    (\"imputer\", SimpleImputer(strategy=\"constant\", fill_value=0)),\n",
    "    (\"scaler\", StandardScaler())\n",
    "])\n",
    "\n",
    "num_mean_tr = Pipeline([\n",
    "    (\"imputer\", SimpleImputer(strategy=\"mean\")),\n",
    "    (\"scaler\", StandardScaler())\n",
    "])\n",
    "\n",
    "cat_tr = OneHotEncoder(handle_unknown='ignore')"
   ]
  },
  {
   "cell_type": "markdown",
   "id": "52565481",
   "metadata": {},
   "source": [
    "## Build pipeline"
   ]
  },
  {
   "cell_type": "code",
   "execution_count": 15,
   "id": "886b6826",
   "metadata": {},
   "outputs": [
    {
     "data": {
      "text/html": [
       "<style>#sk-d36ac7d5-53dd-4b08-8f51-6e4ceb478fcf {color: black;background-color: white;}#sk-d36ac7d5-53dd-4b08-8f51-6e4ceb478fcf pre{padding: 0;}#sk-d36ac7d5-53dd-4b08-8f51-6e4ceb478fcf div.sk-toggleable {background-color: white;}#sk-d36ac7d5-53dd-4b08-8f51-6e4ceb478fcf label.sk-toggleable__label {cursor: pointer;display: block;width: 100%;margin-bottom: 0;padding: 0.3em;box-sizing: border-box;text-align: center;}#sk-d36ac7d5-53dd-4b08-8f51-6e4ceb478fcf div.sk-toggleable__content {max-height: 0;max-width: 0;overflow: hidden;text-align: left;background-color: #f0f8ff;}#sk-d36ac7d5-53dd-4b08-8f51-6e4ceb478fcf div.sk-toggleable__content pre {margin: 0.2em;color: black;border-radius: 0.25em;background-color: #f0f8ff;}#sk-d36ac7d5-53dd-4b08-8f51-6e4ceb478fcf input.sk-toggleable__control:checked~div.sk-toggleable__content {max-height: 200px;max-width: 100%;overflow: auto;}#sk-d36ac7d5-53dd-4b08-8f51-6e4ceb478fcf div.sk-estimator input.sk-toggleable__control:checked~label.sk-toggleable__label {background-color: #d4ebff;}#sk-d36ac7d5-53dd-4b08-8f51-6e4ceb478fcf div.sk-label input.sk-toggleable__control:checked~label.sk-toggleable__label {background-color: #d4ebff;}#sk-d36ac7d5-53dd-4b08-8f51-6e4ceb478fcf input.sk-hidden--visually {border: 0;clip: rect(1px 1px 1px 1px);clip: rect(1px, 1px, 1px, 1px);height: 1px;margin: -1px;overflow: hidden;padding: 0;position: absolute;width: 1px;}#sk-d36ac7d5-53dd-4b08-8f51-6e4ceb478fcf div.sk-estimator {font-family: monospace;background-color: #f0f8ff;border: 1px dotted black;border-radius: 0.25em;box-sizing: border-box;margin-bottom: 0.5em;}#sk-d36ac7d5-53dd-4b08-8f51-6e4ceb478fcf div.sk-estimator:hover {background-color: #d4ebff;}#sk-d36ac7d5-53dd-4b08-8f51-6e4ceb478fcf div.sk-parallel-item::after {content: \"\";width: 100%;border-bottom: 1px solid gray;flex-grow: 1;}#sk-d36ac7d5-53dd-4b08-8f51-6e4ceb478fcf div.sk-label:hover label.sk-toggleable__label {background-color: #d4ebff;}#sk-d36ac7d5-53dd-4b08-8f51-6e4ceb478fcf div.sk-serial::before {content: \"\";position: absolute;border-left: 1px solid gray;box-sizing: border-box;top: 2em;bottom: 0;left: 50%;}#sk-d36ac7d5-53dd-4b08-8f51-6e4ceb478fcf div.sk-serial {display: flex;flex-direction: column;align-items: center;background-color: white;padding-right: 0.2em;padding-left: 0.2em;}#sk-d36ac7d5-53dd-4b08-8f51-6e4ceb478fcf div.sk-item {z-index: 1;}#sk-d36ac7d5-53dd-4b08-8f51-6e4ceb478fcf div.sk-parallel {display: flex;align-items: stretch;justify-content: center;background-color: white;}#sk-d36ac7d5-53dd-4b08-8f51-6e4ceb478fcf div.sk-parallel::before {content: \"\";position: absolute;border-left: 1px solid gray;box-sizing: border-box;top: 2em;bottom: 0;left: 50%;}#sk-d36ac7d5-53dd-4b08-8f51-6e4ceb478fcf div.sk-parallel-item {display: flex;flex-direction: column;position: relative;background-color: white;}#sk-d36ac7d5-53dd-4b08-8f51-6e4ceb478fcf div.sk-parallel-item:first-child::after {align-self: flex-end;width: 50%;}#sk-d36ac7d5-53dd-4b08-8f51-6e4ceb478fcf div.sk-parallel-item:last-child::after {align-self: flex-start;width: 50%;}#sk-d36ac7d5-53dd-4b08-8f51-6e4ceb478fcf div.sk-parallel-item:only-child::after {width: 0;}#sk-d36ac7d5-53dd-4b08-8f51-6e4ceb478fcf div.sk-dashed-wrapped {border: 1px dashed gray;margin: 0 0.4em 0.5em 0.4em;box-sizing: border-box;padding-bottom: 0.4em;background-color: white;position: relative;}#sk-d36ac7d5-53dd-4b08-8f51-6e4ceb478fcf div.sk-label label {font-family: monospace;font-weight: bold;background-color: white;display: inline-block;line-height: 1.2em;}#sk-d36ac7d5-53dd-4b08-8f51-6e4ceb478fcf div.sk-label-container {position: relative;z-index: 2;text-align: center;}#sk-d36ac7d5-53dd-4b08-8f51-6e4ceb478fcf div.sk-container {display: inline-block;position: relative;}</style><div id=\"sk-d36ac7d5-53dd-4b08-8f51-6e4ceb478fcf\" class\"sk-top-container\"><div class=\"sk-container\"><div class=\"sk-item sk-dashed-wrapped\"><div class=\"sk-label-container\"><div class=\"sk-label sk-toggleable\"><input class=\"sk-toggleable__control sk-hidden--visually\" id=\"44b132e1-cec1-40e5-bc16-356b633eac09\" type=\"checkbox\" ><label class=\"sk-toggleable__label\" for=\"44b132e1-cec1-40e5-bc16-356b633eac09\">Pipeline</label><div class=\"sk-toggleable__content\"><pre>Pipeline(memory='/tmp/tmpq78ot3gn',\n",
       "         steps=[('preprocessing',\n",
       "                 ColumnTransformer(remainder='passthrough',\n",
       "                                   transformers=[('numerics_zero_imputing',\n",
       "                                                  Pipeline(steps=[('imputer',\n",
       "                                                                   SimpleImputer()),\n",
       "                                                                  ('scaler',\n",
       "                                                                   StandardScaler())]),\n",
       "                                                  ['gk_diving', 'gk_handling',\n",
       "                                                   'gk_kicking', 'gk_reflexes',\n",
       "                                                   'gk_speed', 'gk_positioning',\n",
       "                                                   'release_clause_eur']),\n",
       "                                                 ('numerics_mean_imputing',\n",
       "                                                  Pipe...\n",
       "                              importance_type='gain',\n",
       "                              interaction_constraints=None, learning_rate=None,\n",
       "                              max_delta_step=None, max_depth=None,\n",
       "                              min_child_weight=None, missing=nan,\n",
       "                              monotone_constraints=None, n_estimators=100,\n",
       "                              n_jobs=None, num_parallel_tree=None,\n",
       "                              random_state=None, reg_alpha=None,\n",
       "                              reg_lambda=None, scale_pos_weight=None,\n",
       "                              subsample=None, tree_method=None,\n",
       "                              validate_parameters=None, verbosity=None))])</pre></div></div></div><div class=\"sk-serial\"><div class=\"sk-item sk-dashed-wrapped\"><div class=\"sk-label-container\"><div class=\"sk-label sk-toggleable\"><input class=\"sk-toggleable__control sk-hidden--visually\" id=\"1cddf995-2282-44a2-9bb0-07f48f4eb4b2\" type=\"checkbox\" ><label class=\"sk-toggleable__label\" for=\"1cddf995-2282-44a2-9bb0-07f48f4eb4b2\">preprocessing: ColumnTransformer</label><div class=\"sk-toggleable__content\"><pre>ColumnTransformer(remainder='passthrough',\n",
       "                  transformers=[('numerics_zero_imputing',\n",
       "                                 Pipeline(steps=[('imputer', SimpleImputer()),\n",
       "                                                 ('scaler', StandardScaler())]),\n",
       "                                 ['gk_diving', 'gk_handling', 'gk_kicking',\n",
       "                                  'gk_reflexes', 'gk_speed', 'gk_positioning',\n",
       "                                  'release_clause_eur']),\n",
       "                                ('numerics_mean_imputing',\n",
       "                                 Pipeline(steps=[('imputer', SimpleImputer()),\n",
       "                                                 ('scaler', StandardS...\n",
       "                                  'skill_curve', 'skill_fk_accuracy',\n",
       "                                  'skill_long_passing', 'skill_ball_control',\n",
       "                                  'movement_acceleration',\n",
       "                                  'movement_sprint_speed', 'movement_agility', ...]),\n",
       "                                ('cat_tr',\n",
       "                                 OneHotEncoder(handle_unknown='ignore'),\n",
       "                                 ['nationality', 'club_name', 'league_name',\n",
       "                                  'player_positions', 'preferred_foot',\n",
       "                                  'work_rate', 'body_type', 'real_face',\n",
       "                                  'player_tags', 'team_position',\n",
       "                                  'player_traits'])])</pre></div></div></div><div class=\"sk-parallel\"><div class=\"sk-parallel-item\"><div class=\"sk-item\"><div class=\"sk-label-container\"><div class=\"sk-label sk-toggleable\"><input class=\"sk-toggleable__control sk-hidden--visually\" id=\"c7d83312-c730-4d3a-8831-d51a52415823\" type=\"checkbox\" ><label class=\"sk-toggleable__label\" for=\"c7d83312-c730-4d3a-8831-d51a52415823\">numerics_zero_imputing</label><div class=\"sk-toggleable__content\"><pre>['gk_diving', 'gk_handling', 'gk_kicking', 'gk_reflexes', 'gk_speed', 'gk_positioning', 'release_clause_eur']</pre></div></div></div><div class=\"sk-serial\"><div class=\"sk-item\"><div class=\"sk-serial\"><div class=\"sk-item\"><div class=\"sk-estimator sk-toggleable\"><input class=\"sk-toggleable__control sk-hidden--visually\" id=\"6a2e12b0-60e9-46c4-8e4a-e6d8979b5d76\" type=\"checkbox\" ><label class=\"sk-toggleable__label\" for=\"6a2e12b0-60e9-46c4-8e4a-e6d8979b5d76\">SimpleImputer</label><div class=\"sk-toggleable__content\"><pre>SimpleImputer()</pre></div></div></div><div class=\"sk-item\"><div class=\"sk-estimator sk-toggleable\"><input class=\"sk-toggleable__control sk-hidden--visually\" id=\"a86620e8-4fbc-45d3-bd17-539ef5a2705b\" type=\"checkbox\" ><label class=\"sk-toggleable__label\" for=\"a86620e8-4fbc-45d3-bd17-539ef5a2705b\">StandardScaler</label><div class=\"sk-toggleable__content\"><pre>StandardScaler()</pre></div></div></div></div></div></div></div></div><div class=\"sk-parallel-item\"><div class=\"sk-item\"><div class=\"sk-label-container\"><div class=\"sk-label sk-toggleable\"><input class=\"sk-toggleable__control sk-hidden--visually\" id=\"983b9838-91db-4ff6-af56-3debcd5820b7\" type=\"checkbox\" ><label class=\"sk-toggleable__label\" for=\"983b9838-91db-4ff6-af56-3debcd5820b7\">numerics_mean_imputing</label><div class=\"sk-toggleable__content\"><pre>['age', 'height_cm', 'weight_kg', 'league_rank', 'overall', 'potential', 'wage_eur', 'international_reputation', 'weak_foot', 'skill_moves', 'team_jersey_number', 'pace', 'shooting', 'passing', 'dribbling', 'defending', 'physic', 'attacking_crossing', 'attacking_finishing', 'attacking_heading_accuracy', 'attacking_short_passing', 'attacking_volleys', 'skill_dribbling', 'skill_curve', 'skill_fk_accuracy', 'skill_long_passing', 'skill_ball_control', 'movement_acceleration', 'movement_sprint_speed', 'movement_agility', 'movement_reactions', 'movement_balance', 'power_shot_power', 'power_jumping', 'power_stamina', 'power_strength', 'power_long_shots', 'mentality_aggression', 'mentality_interceptions', 'mentality_positioning', 'mentality_vision', 'mentality_penalties', 'mentality_composure', 'defending_marking', 'defending_standing_tackle', 'defending_sliding_tackle', 'goalkeeping_diving', 'goalkeeping_handling', 'goalkeeping_kicking', 'goalkeeping_positioning', 'goalkeeping_reflexes', 'ls', 'st', 'rs', 'lw', 'lf', 'cf', 'rf', 'rw', 'lam', 'cam', 'ram', 'lm', 'lcm', 'cm', 'rcm', 'rm', 'lwb', 'ldm', 'cdm', 'rdm', 'rwb', 'lb', 'lcb', 'cb', 'rcb', 'rb', 'fifa year', 'national_team', 'seasons_with_club', 'on_loan', 'remaining_seasons_on_contract']</pre></div></div></div><div class=\"sk-serial\"><div class=\"sk-item\"><div class=\"sk-serial\"><div class=\"sk-item\"><div class=\"sk-estimator sk-toggleable\"><input class=\"sk-toggleable__control sk-hidden--visually\" id=\"d58253d9-394b-4899-9200-91464f401c10\" type=\"checkbox\" ><label class=\"sk-toggleable__label\" for=\"d58253d9-394b-4899-9200-91464f401c10\">SimpleImputer</label><div class=\"sk-toggleable__content\"><pre>SimpleImputer()</pre></div></div></div><div class=\"sk-item\"><div class=\"sk-estimator sk-toggleable\"><input class=\"sk-toggleable__control sk-hidden--visually\" id=\"782f69ea-47c5-45af-9b69-a13fb24d3281\" type=\"checkbox\" ><label class=\"sk-toggleable__label\" for=\"782f69ea-47c5-45af-9b69-a13fb24d3281\">StandardScaler</label><div class=\"sk-toggleable__content\"><pre>StandardScaler()</pre></div></div></div></div></div></div></div></div><div class=\"sk-parallel-item\"><div class=\"sk-item\"><div class=\"sk-label-container\"><div class=\"sk-label sk-toggleable\"><input class=\"sk-toggleable__control sk-hidden--visually\" id=\"b663c769-c66c-4cb0-ab6d-fb45ce6c4911\" type=\"checkbox\" ><label class=\"sk-toggleable__label\" for=\"b663c769-c66c-4cb0-ab6d-fb45ce6c4911\">cat_tr</label><div class=\"sk-toggleable__content\"><pre>['nationality', 'club_name', 'league_name', 'player_positions', 'preferred_foot', 'work_rate', 'body_type', 'real_face', 'player_tags', 'team_position', 'player_traits']</pre></div></div></div><div class=\"sk-serial\"><div class=\"sk-item\"><div class=\"sk-estimator sk-toggleable\"><input class=\"sk-toggleable__control sk-hidden--visually\" id=\"793d7246-5460-4dd8-a769-57ce0c0f0b7f\" type=\"checkbox\" ><label class=\"sk-toggleable__label\" for=\"793d7246-5460-4dd8-a769-57ce0c0f0b7f\">OneHotEncoder</label><div class=\"sk-toggleable__content\"><pre>OneHotEncoder(handle_unknown='ignore')</pre></div></div></div></div></div></div><div class=\"sk-parallel-item\"><div class=\"sk-item\"><div class=\"sk-label-container\"><div class=\"sk-label sk-toggleable\"><input class=\"sk-toggleable__control sk-hidden--visually\" id=\"8f718943-442f-4d9e-b96a-a15096367637\" type=\"checkbox\" ><label class=\"sk-toggleable__label\" for=\"8f718943-442f-4d9e-b96a-a15096367637\">remainder</label><div class=\"sk-toggleable__content\"><pre></pre></div></div></div><div class=\"sk-serial\"><div class=\"sk-item\"><div class=\"sk-estimator sk-toggleable\"><input class=\"sk-toggleable__control sk-hidden--visually\" id=\"5098680b-eecd-459c-956e-cc421aaaf1dd\" type=\"checkbox\" ><label class=\"sk-toggleable__label\" for=\"5098680b-eecd-459c-956e-cc421aaaf1dd\">passthrough</label><div class=\"sk-toggleable__content\"><pre>passthrough</pre></div></div></div></div></div></div></div></div><div class=\"sk-item\"><div class=\"sk-estimator sk-toggleable\"><input class=\"sk-toggleable__control sk-hidden--visually\" id=\"c23db31f-96c2-4d4f-97da-4788efc14614\" type=\"checkbox\" ><label class=\"sk-toggleable__label\" for=\"c23db31f-96c2-4d4f-97da-4788efc14614\">XGBRegressor</label><div class=\"sk-toggleable__content\"><pre>XGBRegressor(base_score=None, booster=None, colsample_bylevel=None,\n",
       "             colsample_bynode=None, colsample_bytree=None, gamma=None,\n",
       "             gpu_id=None, importance_type='gain', interaction_constraints=None,\n",
       "             learning_rate=None, max_delta_step=None, max_depth=None,\n",
       "             min_child_weight=None, missing=nan, monotone_constraints=None,\n",
       "             n_estimators=100, n_jobs=None, num_parallel_tree=None,\n",
       "             random_state=None, reg_alpha=None, reg_lambda=None,\n",
       "             scale_pos_weight=None, subsample=None, tree_method=None,\n",
       "             validate_parameters=None, verbosity=None)</pre></div></div></div></div></div></div></div>"
      ],
      "text/plain": [
       "Pipeline(memory='/tmp/tmpq78ot3gn',\n",
       "         steps=[('preprocessing',\n",
       "                 ColumnTransformer(remainder='passthrough',\n",
       "                                   transformers=[('numerics_zero_imputing',\n",
       "                                                  Pipeline(steps=[('imputer',\n",
       "                                                                   SimpleImputer()),\n",
       "                                                                  ('scaler',\n",
       "                                                                   StandardScaler())]),\n",
       "                                                  ['gk_diving', 'gk_handling',\n",
       "                                                   'gk_kicking', 'gk_reflexes',\n",
       "                                                   'gk_speed', 'gk_positioning',\n",
       "                                                   'release_clause_eur']),\n",
       "                                                 ('numerics_mean_imputing',\n",
       "                                                  Pipe...\n",
       "                              importance_type='gain',\n",
       "                              interaction_constraints=None, learning_rate=None,\n",
       "                              max_delta_step=None, max_depth=None,\n",
       "                              min_child_weight=None, missing=nan,\n",
       "                              monotone_constraints=None, n_estimators=100,\n",
       "                              n_jobs=None, num_parallel_tree=None,\n",
       "                              random_state=None, reg_alpha=None,\n",
       "                              reg_lambda=None, scale_pos_weight=None,\n",
       "                              subsample=None, tree_method=None,\n",
       "                              validate_parameters=None, verbosity=None))])"
      ]
     },
     "execution_count": 15,
     "metadata": {},
     "output_type": "execute_result"
    }
   ],
   "source": [
    "preprocessor = ColumnTransformer(\n",
    "    [(\"numerics_zero_imputing\", num_mean_tr, numericals_zero_impute),\n",
    "     (\"numerics_mean_imputing\", num_mean_tr, numericals_mean_impute),\n",
    "     (\"cat_tr\", cat_tr, all_cats)],\n",
    "remainder=\"passthrough\")\n",
    "\n",
    "pipe = Pipeline([\n",
    "    #(\"feat_eng\", feat_eng),\n",
    "    (\"preprocessing\", preprocessor), \n",
    "    (\"regressor\", XGBRegressor())], memory=cachedir)\n",
    "\n",
    "pipe"
   ]
  },
  {
   "cell_type": "markdown",
   "id": "9858a814",
   "metadata": {},
   "source": [
    "## Train pipeline    "
   ]
  },
  {
   "cell_type": "code",
   "execution_count": 16,
   "id": "4ebc5029",
   "metadata": {},
   "outputs": [],
   "source": [
    "X_train = df_train.drop(columns=\"fee_cleaned\")\n",
    "y_train = df_train[[\"fee_cleaned\"]]\n",
    "X_test = df_test.drop(columns=\"fee_cleaned\")\n",
    "y_test = df_test[[\"fee_cleaned\"]]"
   ]
  },
  {
   "cell_type": "code",
   "execution_count": 17,
   "id": "acc6f4f1",
   "metadata": {},
   "outputs": [
    {
     "data": {
      "text/html": [
       "<style>#sk-0b80ad57-e473-4411-a42e-77ff8952c914 {color: black;background-color: white;}#sk-0b80ad57-e473-4411-a42e-77ff8952c914 pre{padding: 0;}#sk-0b80ad57-e473-4411-a42e-77ff8952c914 div.sk-toggleable {background-color: white;}#sk-0b80ad57-e473-4411-a42e-77ff8952c914 label.sk-toggleable__label {cursor: pointer;display: block;width: 100%;margin-bottom: 0;padding: 0.3em;box-sizing: border-box;text-align: center;}#sk-0b80ad57-e473-4411-a42e-77ff8952c914 div.sk-toggleable__content {max-height: 0;max-width: 0;overflow: hidden;text-align: left;background-color: #f0f8ff;}#sk-0b80ad57-e473-4411-a42e-77ff8952c914 div.sk-toggleable__content pre {margin: 0.2em;color: black;border-radius: 0.25em;background-color: #f0f8ff;}#sk-0b80ad57-e473-4411-a42e-77ff8952c914 input.sk-toggleable__control:checked~div.sk-toggleable__content {max-height: 200px;max-width: 100%;overflow: auto;}#sk-0b80ad57-e473-4411-a42e-77ff8952c914 div.sk-estimator input.sk-toggleable__control:checked~label.sk-toggleable__label {background-color: #d4ebff;}#sk-0b80ad57-e473-4411-a42e-77ff8952c914 div.sk-label input.sk-toggleable__control:checked~label.sk-toggleable__label {background-color: #d4ebff;}#sk-0b80ad57-e473-4411-a42e-77ff8952c914 input.sk-hidden--visually {border: 0;clip: rect(1px 1px 1px 1px);clip: rect(1px, 1px, 1px, 1px);height: 1px;margin: -1px;overflow: hidden;padding: 0;position: absolute;width: 1px;}#sk-0b80ad57-e473-4411-a42e-77ff8952c914 div.sk-estimator {font-family: monospace;background-color: #f0f8ff;border: 1px dotted black;border-radius: 0.25em;box-sizing: border-box;margin-bottom: 0.5em;}#sk-0b80ad57-e473-4411-a42e-77ff8952c914 div.sk-estimator:hover {background-color: #d4ebff;}#sk-0b80ad57-e473-4411-a42e-77ff8952c914 div.sk-parallel-item::after {content: \"\";width: 100%;border-bottom: 1px solid gray;flex-grow: 1;}#sk-0b80ad57-e473-4411-a42e-77ff8952c914 div.sk-label:hover label.sk-toggleable__label {background-color: #d4ebff;}#sk-0b80ad57-e473-4411-a42e-77ff8952c914 div.sk-serial::before {content: \"\";position: absolute;border-left: 1px solid gray;box-sizing: border-box;top: 2em;bottom: 0;left: 50%;}#sk-0b80ad57-e473-4411-a42e-77ff8952c914 div.sk-serial {display: flex;flex-direction: column;align-items: center;background-color: white;padding-right: 0.2em;padding-left: 0.2em;}#sk-0b80ad57-e473-4411-a42e-77ff8952c914 div.sk-item {z-index: 1;}#sk-0b80ad57-e473-4411-a42e-77ff8952c914 div.sk-parallel {display: flex;align-items: stretch;justify-content: center;background-color: white;}#sk-0b80ad57-e473-4411-a42e-77ff8952c914 div.sk-parallel::before {content: \"\";position: absolute;border-left: 1px solid gray;box-sizing: border-box;top: 2em;bottom: 0;left: 50%;}#sk-0b80ad57-e473-4411-a42e-77ff8952c914 div.sk-parallel-item {display: flex;flex-direction: column;position: relative;background-color: white;}#sk-0b80ad57-e473-4411-a42e-77ff8952c914 div.sk-parallel-item:first-child::after {align-self: flex-end;width: 50%;}#sk-0b80ad57-e473-4411-a42e-77ff8952c914 div.sk-parallel-item:last-child::after {align-self: flex-start;width: 50%;}#sk-0b80ad57-e473-4411-a42e-77ff8952c914 div.sk-parallel-item:only-child::after {width: 0;}#sk-0b80ad57-e473-4411-a42e-77ff8952c914 div.sk-dashed-wrapped {border: 1px dashed gray;margin: 0 0.4em 0.5em 0.4em;box-sizing: border-box;padding-bottom: 0.4em;background-color: white;position: relative;}#sk-0b80ad57-e473-4411-a42e-77ff8952c914 div.sk-label label {font-family: monospace;font-weight: bold;background-color: white;display: inline-block;line-height: 1.2em;}#sk-0b80ad57-e473-4411-a42e-77ff8952c914 div.sk-label-container {position: relative;z-index: 2;text-align: center;}#sk-0b80ad57-e473-4411-a42e-77ff8952c914 div.sk-container {display: inline-block;position: relative;}</style><div id=\"sk-0b80ad57-e473-4411-a42e-77ff8952c914\" class\"sk-top-container\"><div class=\"sk-container\"><div class=\"sk-item sk-dashed-wrapped\"><div class=\"sk-label-container\"><div class=\"sk-label sk-toggleable\"><input class=\"sk-toggleable__control sk-hidden--visually\" id=\"5d981732-f050-440a-8191-93f5906f476c\" type=\"checkbox\" ><label class=\"sk-toggleable__label\" for=\"5d981732-f050-440a-8191-93f5906f476c\">Pipeline</label><div class=\"sk-toggleable__content\"><pre>Pipeline(memory='/tmp/tmpq78ot3gn',\n",
       "         steps=[('preprocessing',\n",
       "                 ColumnTransformer(remainder='passthrough',\n",
       "                                   transformers=[('numerics_zero_imputing',\n",
       "                                                  Pipeline(steps=[('imputer',\n",
       "                                                                   SimpleImputer()),\n",
       "                                                                  ('scaler',\n",
       "                                                                   StandardScaler())]),\n",
       "                                                  ['gk_diving', 'gk_handling',\n",
       "                                                   'gk_kicking', 'gk_reflexes',\n",
       "                                                   'gk_speed', 'gk_positioning',\n",
       "                                                   'release_clause_eur']),\n",
       "                                                 ('numerics_mean_imputing',\n",
       "                                                  Pipe...\n",
       "                              colsample_bytree=1, gamma=0, gpu_id=-1,\n",
       "                              importance_type='gain',\n",
       "                              interaction_constraints='',\n",
       "                              learning_rate=0.300000012, max_delta_step=0,\n",
       "                              max_depth=6, min_child_weight=1, missing=nan,\n",
       "                              monotone_constraints='()', n_estimators=100,\n",
       "                              n_jobs=8, num_parallel_tree=1, random_state=0,\n",
       "                              reg_alpha=0, reg_lambda=1, scale_pos_weight=1,\n",
       "                              subsample=1, tree_method='exact',\n",
       "                              validate_parameters=1, verbosity=None))])</pre></div></div></div><div class=\"sk-serial\"><div class=\"sk-item sk-dashed-wrapped\"><div class=\"sk-label-container\"><div class=\"sk-label sk-toggleable\"><input class=\"sk-toggleable__control sk-hidden--visually\" id=\"5755371b-248b-4c8e-b88e-d9f0a62fda85\" type=\"checkbox\" ><label class=\"sk-toggleable__label\" for=\"5755371b-248b-4c8e-b88e-d9f0a62fda85\">preprocessing: ColumnTransformer</label><div class=\"sk-toggleable__content\"><pre>ColumnTransformer(remainder='passthrough',\n",
       "                  transformers=[('numerics_zero_imputing',\n",
       "                                 Pipeline(steps=[('imputer', SimpleImputer()),\n",
       "                                                 ('scaler', StandardScaler())]),\n",
       "                                 ['gk_diving', 'gk_handling', 'gk_kicking',\n",
       "                                  'gk_reflexes', 'gk_speed', 'gk_positioning',\n",
       "                                  'release_clause_eur']),\n",
       "                                ('numerics_mean_imputing',\n",
       "                                 Pipeline(steps=[('imputer', SimpleImputer()),\n",
       "                                                 ('scaler', StandardS...\n",
       "                                  'skill_curve', 'skill_fk_accuracy',\n",
       "                                  'skill_long_passing', 'skill_ball_control',\n",
       "                                  'movement_acceleration',\n",
       "                                  'movement_sprint_speed', 'movement_agility', ...]),\n",
       "                                ('cat_tr',\n",
       "                                 OneHotEncoder(handle_unknown='ignore'),\n",
       "                                 ['nationality', 'club_name', 'league_name',\n",
       "                                  'player_positions', 'preferred_foot',\n",
       "                                  'work_rate', 'body_type', 'real_face',\n",
       "                                  'player_tags', 'team_position',\n",
       "                                  'player_traits'])])</pre></div></div></div><div class=\"sk-parallel\"><div class=\"sk-parallel-item\"><div class=\"sk-item\"><div class=\"sk-label-container\"><div class=\"sk-label sk-toggleable\"><input class=\"sk-toggleable__control sk-hidden--visually\" id=\"d62374aa-d5be-48b9-92dc-e9b6a0f4b621\" type=\"checkbox\" ><label class=\"sk-toggleable__label\" for=\"d62374aa-d5be-48b9-92dc-e9b6a0f4b621\">numerics_zero_imputing</label><div class=\"sk-toggleable__content\"><pre>['gk_diving', 'gk_handling', 'gk_kicking', 'gk_reflexes', 'gk_speed', 'gk_positioning', 'release_clause_eur']</pre></div></div></div><div class=\"sk-serial\"><div class=\"sk-item\"><div class=\"sk-serial\"><div class=\"sk-item\"><div class=\"sk-estimator sk-toggleable\"><input class=\"sk-toggleable__control sk-hidden--visually\" id=\"e822136c-b532-4c4d-85f4-f74fe530ef8b\" type=\"checkbox\" ><label class=\"sk-toggleable__label\" for=\"e822136c-b532-4c4d-85f4-f74fe530ef8b\">SimpleImputer</label><div class=\"sk-toggleable__content\"><pre>SimpleImputer()</pre></div></div></div><div class=\"sk-item\"><div class=\"sk-estimator sk-toggleable\"><input class=\"sk-toggleable__control sk-hidden--visually\" id=\"65026d52-62de-4606-90c6-2f46ad5bfb39\" type=\"checkbox\" ><label class=\"sk-toggleable__label\" for=\"65026d52-62de-4606-90c6-2f46ad5bfb39\">StandardScaler</label><div class=\"sk-toggleable__content\"><pre>StandardScaler()</pre></div></div></div></div></div></div></div></div><div class=\"sk-parallel-item\"><div class=\"sk-item\"><div class=\"sk-label-container\"><div class=\"sk-label sk-toggleable\"><input class=\"sk-toggleable__control sk-hidden--visually\" id=\"955ba345-900d-4d02-9280-c25bd3890d91\" type=\"checkbox\" ><label class=\"sk-toggleable__label\" for=\"955ba345-900d-4d02-9280-c25bd3890d91\">numerics_mean_imputing</label><div class=\"sk-toggleable__content\"><pre>['age', 'height_cm', 'weight_kg', 'league_rank', 'overall', 'potential', 'wage_eur', 'international_reputation', 'weak_foot', 'skill_moves', 'team_jersey_number', 'pace', 'shooting', 'passing', 'dribbling', 'defending', 'physic', 'attacking_crossing', 'attacking_finishing', 'attacking_heading_accuracy', 'attacking_short_passing', 'attacking_volleys', 'skill_dribbling', 'skill_curve', 'skill_fk_accuracy', 'skill_long_passing', 'skill_ball_control', 'movement_acceleration', 'movement_sprint_speed', 'movement_agility', 'movement_reactions', 'movement_balance', 'power_shot_power', 'power_jumping', 'power_stamina', 'power_strength', 'power_long_shots', 'mentality_aggression', 'mentality_interceptions', 'mentality_positioning', 'mentality_vision', 'mentality_penalties', 'mentality_composure', 'defending_marking', 'defending_standing_tackle', 'defending_sliding_tackle', 'goalkeeping_diving', 'goalkeeping_handling', 'goalkeeping_kicking', 'goalkeeping_positioning', 'goalkeeping_reflexes', 'ls', 'st', 'rs', 'lw', 'lf', 'cf', 'rf', 'rw', 'lam', 'cam', 'ram', 'lm', 'lcm', 'cm', 'rcm', 'rm', 'lwb', 'ldm', 'cdm', 'rdm', 'rwb', 'lb', 'lcb', 'cb', 'rcb', 'rb', 'fifa year', 'national_team', 'seasons_with_club', 'on_loan', 'remaining_seasons_on_contract']</pre></div></div></div><div class=\"sk-serial\"><div class=\"sk-item\"><div class=\"sk-serial\"><div class=\"sk-item\"><div class=\"sk-estimator sk-toggleable\"><input class=\"sk-toggleable__control sk-hidden--visually\" id=\"83dd3007-0dec-4d7a-9c52-942f60846a71\" type=\"checkbox\" ><label class=\"sk-toggleable__label\" for=\"83dd3007-0dec-4d7a-9c52-942f60846a71\">SimpleImputer</label><div class=\"sk-toggleable__content\"><pre>SimpleImputer()</pre></div></div></div><div class=\"sk-item\"><div class=\"sk-estimator sk-toggleable\"><input class=\"sk-toggleable__control sk-hidden--visually\" id=\"b4b2d5f1-02a7-4e49-9159-2a98deda9d18\" type=\"checkbox\" ><label class=\"sk-toggleable__label\" for=\"b4b2d5f1-02a7-4e49-9159-2a98deda9d18\">StandardScaler</label><div class=\"sk-toggleable__content\"><pre>StandardScaler()</pre></div></div></div></div></div></div></div></div><div class=\"sk-parallel-item\"><div class=\"sk-item\"><div class=\"sk-label-container\"><div class=\"sk-label sk-toggleable\"><input class=\"sk-toggleable__control sk-hidden--visually\" id=\"9467fb59-6ccd-4ea0-9cb8-ed8f3b57490e\" type=\"checkbox\" ><label class=\"sk-toggleable__label\" for=\"9467fb59-6ccd-4ea0-9cb8-ed8f3b57490e\">cat_tr</label><div class=\"sk-toggleable__content\"><pre>['nationality', 'club_name', 'league_name', 'player_positions', 'preferred_foot', 'work_rate', 'body_type', 'real_face', 'player_tags', 'team_position', 'player_traits']</pre></div></div></div><div class=\"sk-serial\"><div class=\"sk-item\"><div class=\"sk-estimator sk-toggleable\"><input class=\"sk-toggleable__control sk-hidden--visually\" id=\"e8549958-b0a7-46cb-9d0d-417447a419e8\" type=\"checkbox\" ><label class=\"sk-toggleable__label\" for=\"e8549958-b0a7-46cb-9d0d-417447a419e8\">OneHotEncoder</label><div class=\"sk-toggleable__content\"><pre>OneHotEncoder(handle_unknown='ignore')</pre></div></div></div></div></div></div><div class=\"sk-parallel-item\"><div class=\"sk-item\"><div class=\"sk-label-container\"><div class=\"sk-label sk-toggleable\"><input class=\"sk-toggleable__control sk-hidden--visually\" id=\"a91bc542-365a-43a4-8d01-04178786a2c9\" type=\"checkbox\" ><label class=\"sk-toggleable__label\" for=\"a91bc542-365a-43a4-8d01-04178786a2c9\">remainder</label><div class=\"sk-toggleable__content\"><pre>[]</pre></div></div></div><div class=\"sk-serial\"><div class=\"sk-item\"><div class=\"sk-estimator sk-toggleable\"><input class=\"sk-toggleable__control sk-hidden--visually\" id=\"dff98315-858c-45fb-ab74-2eabd4d39129\" type=\"checkbox\" ><label class=\"sk-toggleable__label\" for=\"dff98315-858c-45fb-ab74-2eabd4d39129\">passthrough</label><div class=\"sk-toggleable__content\"><pre>passthrough</pre></div></div></div></div></div></div></div></div><div class=\"sk-item\"><div class=\"sk-estimator sk-toggleable\"><input class=\"sk-toggleable__control sk-hidden--visually\" id=\"6c53be1e-cf1b-4294-9e9c-73c692b508a9\" type=\"checkbox\" ><label class=\"sk-toggleable__label\" for=\"6c53be1e-cf1b-4294-9e9c-73c692b508a9\">XGBRegressor</label><div class=\"sk-toggleable__content\"><pre>XGBRegressor(base_score=0.5, booster='gbtree', colsample_bylevel=1,\n",
       "             colsample_bynode=1, colsample_bytree=1, gamma=0, gpu_id=-1,\n",
       "             importance_type='gain', interaction_constraints='',\n",
       "             learning_rate=0.300000012, max_delta_step=0, max_depth=6,\n",
       "             min_child_weight=1, missing=nan, monotone_constraints='()',\n",
       "             n_estimators=100, n_jobs=8, num_parallel_tree=1, random_state=0,\n",
       "             reg_alpha=0, reg_lambda=1, scale_pos_weight=1, subsample=1,\n",
       "             tree_method='exact', validate_parameters=1, verbosity=None)</pre></div></div></div></div></div></div></div>"
      ],
      "text/plain": [
       "Pipeline(memory='/tmp/tmpq78ot3gn',\n",
       "         steps=[('preprocessing',\n",
       "                 ColumnTransformer(remainder='passthrough',\n",
       "                                   transformers=[('numerics_zero_imputing',\n",
       "                                                  Pipeline(steps=[('imputer',\n",
       "                                                                   SimpleImputer()),\n",
       "                                                                  ('scaler',\n",
       "                                                                   StandardScaler())]),\n",
       "                                                  ['gk_diving', 'gk_handling',\n",
       "                                                   'gk_kicking', 'gk_reflexes',\n",
       "                                                   'gk_speed', 'gk_positioning',\n",
       "                                                   'release_clause_eur']),\n",
       "                                                 ('numerics_mean_imputing',\n",
       "                                                  Pipe...\n",
       "                              colsample_bytree=1, gamma=0, gpu_id=-1,\n",
       "                              importance_type='gain',\n",
       "                              interaction_constraints='',\n",
       "                              learning_rate=0.300000012, max_delta_step=0,\n",
       "                              max_depth=6, min_child_weight=1, missing=nan,\n",
       "                              monotone_constraints='()', n_estimators=100,\n",
       "                              n_jobs=8, num_parallel_tree=1, random_state=0,\n",
       "                              reg_alpha=0, reg_lambda=1, scale_pos_weight=1,\n",
       "                              subsample=1, tree_method='exact',\n",
       "                              validate_parameters=1, verbosity=None))])"
      ]
     },
     "execution_count": 17,
     "metadata": {},
     "output_type": "execute_result"
    }
   ],
   "source": [
    "pipe.fit(X_train, y_train)"
   ]
  },
  {
   "cell_type": "code",
   "execution_count": 18,
   "id": "f881c823",
   "metadata": {},
   "outputs": [],
   "source": [
    "y_pred = pipe.predict(X_test)"
   ]
  },
  {
   "cell_type": "code",
   "execution_count": 19,
   "id": "51975c13",
   "metadata": {},
   "outputs": [
    {
     "data": {
      "text/plain": [
       "0.40555763627147656"
      ]
     },
     "execution_count": 19,
     "metadata": {},
     "output_type": "execute_result"
    }
   ],
   "source": [
    "r2_score(y_test, y_pred)"
   ]
  },
  {
   "cell_type": "markdown",
   "id": "3decba6c",
   "metadata": {},
   "source": [
    "## Grid search"
   ]
  },
  {
   "cell_type": "code",
   "execution_count": 20,
   "id": "3d0cab10",
   "metadata": {},
   "outputs": [],
   "source": [
    "X = df.drop(columns=\"fee_cleaned\")\n",
    "y = df[[\"fee_cleaned\"]]"
   ]
  },
  {
   "cell_type": "code",
   "execution_count": 21,
   "id": "b1f3f145",
   "metadata": {},
   "outputs": [
    {
     "data": {
      "text/plain": [
       "0.35145848188803974"
      ]
     },
     "execution_count": 21,
     "metadata": {},
     "output_type": "execute_result"
    }
   ],
   "source": [
    "cross_val_score(pipe, X, y, cv=5, scoring='r2').mean()"
   ]
  },
  {
   "cell_type": "code",
   "execution_count": 22,
   "id": "54b6265f",
   "metadata": {},
   "outputs": [
    {
     "data": {
      "text/plain": [
       "{'memory': '/tmp/tmpq78ot3gn',\n",
       " 'steps': [('preprocessing',\n",
       "   ColumnTransformer(remainder='passthrough',\n",
       "                     transformers=[('numerics_zero_imputing',\n",
       "                                    Pipeline(steps=[('imputer', SimpleImputer()),\n",
       "                                                    ('scaler', StandardScaler())]),\n",
       "                                    ['gk_diving', 'gk_handling', 'gk_kicking',\n",
       "                                     'gk_reflexes', 'gk_speed', 'gk_positioning',\n",
       "                                     'release_clause_eur']),\n",
       "                                   ('numerics_mean_imputing',\n",
       "                                    Pipeline(steps=[('imputer', SimpleImputer()),\n",
       "                                                    ('scaler', StandardS...\n",
       "                                     'skill_curve', 'skill_fk_accuracy',\n",
       "                                     'skill_long_passing', 'skill_ball_control',\n",
       "                                     'movement_acceleration',\n",
       "                                     'movement_sprint_speed', 'movement_agility', ...]),\n",
       "                                   ('cat_tr',\n",
       "                                    OneHotEncoder(handle_unknown='ignore'),\n",
       "                                    ['nationality', 'club_name', 'league_name',\n",
       "                                     'player_positions', 'preferred_foot',\n",
       "                                     'work_rate', 'body_type', 'real_face',\n",
       "                                     'player_tags', 'team_position',\n",
       "                                     'player_traits'])])),\n",
       "  ('regressor',\n",
       "   XGBRegressor(base_score=0.5, booster='gbtree', colsample_bylevel=1,\n",
       "                colsample_bynode=1, colsample_bytree=1, gamma=0, gpu_id=-1,\n",
       "                importance_type='gain', interaction_constraints='',\n",
       "                learning_rate=0.300000012, max_delta_step=0, max_depth=6,\n",
       "                min_child_weight=1, missing=nan, monotone_constraints='()',\n",
       "                n_estimators=100, n_jobs=8, num_parallel_tree=1, random_state=0,\n",
       "                reg_alpha=0, reg_lambda=1, scale_pos_weight=1, subsample=1,\n",
       "                tree_method='exact', validate_parameters=1, verbosity=None))],\n",
       " 'verbose': False,\n",
       " 'preprocessing': ColumnTransformer(remainder='passthrough',\n",
       "                   transformers=[('numerics_zero_imputing',\n",
       "                                  Pipeline(steps=[('imputer', SimpleImputer()),\n",
       "                                                  ('scaler', StandardScaler())]),\n",
       "                                  ['gk_diving', 'gk_handling', 'gk_kicking',\n",
       "                                   'gk_reflexes', 'gk_speed', 'gk_positioning',\n",
       "                                   'release_clause_eur']),\n",
       "                                 ('numerics_mean_imputing',\n",
       "                                  Pipeline(steps=[('imputer', SimpleImputer()),\n",
       "                                                  ('scaler', StandardS...\n",
       "                                   'skill_curve', 'skill_fk_accuracy',\n",
       "                                   'skill_long_passing', 'skill_ball_control',\n",
       "                                   'movement_acceleration',\n",
       "                                   'movement_sprint_speed', 'movement_agility', ...]),\n",
       "                                 ('cat_tr',\n",
       "                                  OneHotEncoder(handle_unknown='ignore'),\n",
       "                                  ['nationality', 'club_name', 'league_name',\n",
       "                                   'player_positions', 'preferred_foot',\n",
       "                                   'work_rate', 'body_type', 'real_face',\n",
       "                                   'player_tags', 'team_position',\n",
       "                                   'player_traits'])]),\n",
       " 'regressor': XGBRegressor(base_score=0.5, booster='gbtree', colsample_bylevel=1,\n",
       "              colsample_bynode=1, colsample_bytree=1, gamma=0, gpu_id=-1,\n",
       "              importance_type='gain', interaction_constraints='',\n",
       "              learning_rate=0.300000012, max_delta_step=0, max_depth=6,\n",
       "              min_child_weight=1, missing=nan, monotone_constraints='()',\n",
       "              n_estimators=100, n_jobs=8, num_parallel_tree=1, random_state=0,\n",
       "              reg_alpha=0, reg_lambda=1, scale_pos_weight=1, subsample=1,\n",
       "              tree_method='exact', validate_parameters=1, verbosity=None),\n",
       " 'preprocessing__n_jobs': None,\n",
       " 'preprocessing__remainder': 'passthrough',\n",
       " 'preprocessing__sparse_threshold': 0.3,\n",
       " 'preprocessing__transformer_weights': None,\n",
       " 'preprocessing__transformers': [('numerics_zero_imputing',\n",
       "   Pipeline(steps=[('imputer', SimpleImputer()), ('scaler', StandardScaler())]),\n",
       "   ['gk_diving',\n",
       "    'gk_handling',\n",
       "    'gk_kicking',\n",
       "    'gk_reflexes',\n",
       "    'gk_speed',\n",
       "    'gk_positioning',\n",
       "    'release_clause_eur']),\n",
       "  ('numerics_mean_imputing',\n",
       "   Pipeline(steps=[('imputer', SimpleImputer()), ('scaler', StandardScaler())]),\n",
       "   ['age',\n",
       "    'height_cm',\n",
       "    'weight_kg',\n",
       "    'league_rank',\n",
       "    'overall',\n",
       "    'potential',\n",
       "    'wage_eur',\n",
       "    'international_reputation',\n",
       "    'weak_foot',\n",
       "    'skill_moves',\n",
       "    'team_jersey_number',\n",
       "    'pace',\n",
       "    'shooting',\n",
       "    'passing',\n",
       "    'dribbling',\n",
       "    'defending',\n",
       "    'physic',\n",
       "    'attacking_crossing',\n",
       "    'attacking_finishing',\n",
       "    'attacking_heading_accuracy',\n",
       "    'attacking_short_passing',\n",
       "    'attacking_volleys',\n",
       "    'skill_dribbling',\n",
       "    'skill_curve',\n",
       "    'skill_fk_accuracy',\n",
       "    'skill_long_passing',\n",
       "    'skill_ball_control',\n",
       "    'movement_acceleration',\n",
       "    'movement_sprint_speed',\n",
       "    'movement_agility',\n",
       "    'movement_reactions',\n",
       "    'movement_balance',\n",
       "    'power_shot_power',\n",
       "    'power_jumping',\n",
       "    'power_stamina',\n",
       "    'power_strength',\n",
       "    'power_long_shots',\n",
       "    'mentality_aggression',\n",
       "    'mentality_interceptions',\n",
       "    'mentality_positioning',\n",
       "    'mentality_vision',\n",
       "    'mentality_penalties',\n",
       "    'mentality_composure',\n",
       "    'defending_marking',\n",
       "    'defending_standing_tackle',\n",
       "    'defending_sliding_tackle',\n",
       "    'goalkeeping_diving',\n",
       "    'goalkeeping_handling',\n",
       "    'goalkeeping_kicking',\n",
       "    'goalkeeping_positioning',\n",
       "    'goalkeeping_reflexes',\n",
       "    'ls',\n",
       "    'st',\n",
       "    'rs',\n",
       "    'lw',\n",
       "    'lf',\n",
       "    'cf',\n",
       "    'rf',\n",
       "    'rw',\n",
       "    'lam',\n",
       "    'cam',\n",
       "    'ram',\n",
       "    'lm',\n",
       "    'lcm',\n",
       "    'cm',\n",
       "    'rcm',\n",
       "    'rm',\n",
       "    'lwb',\n",
       "    'ldm',\n",
       "    'cdm',\n",
       "    'rdm',\n",
       "    'rwb',\n",
       "    'lb',\n",
       "    'lcb',\n",
       "    'cb',\n",
       "    'rcb',\n",
       "    'rb',\n",
       "    'fifa year',\n",
       "    'national_team',\n",
       "    'seasons_with_club',\n",
       "    'on_loan',\n",
       "    'remaining_seasons_on_contract']),\n",
       "  ('cat_tr',\n",
       "   OneHotEncoder(handle_unknown='ignore'),\n",
       "   ['nationality',\n",
       "    'club_name',\n",
       "    'league_name',\n",
       "    'player_positions',\n",
       "    'preferred_foot',\n",
       "    'work_rate',\n",
       "    'body_type',\n",
       "    'real_face',\n",
       "    'player_tags',\n",
       "    'team_position',\n",
       "    'player_traits'])],\n",
       " 'preprocessing__verbose': False,\n",
       " 'preprocessing__verbose_feature_names_out': True,\n",
       " 'preprocessing__numerics_zero_imputing': Pipeline(steps=[('imputer', SimpleImputer()), ('scaler', StandardScaler())]),\n",
       " 'preprocessing__numerics_mean_imputing': Pipeline(steps=[('imputer', SimpleImputer()), ('scaler', StandardScaler())]),\n",
       " 'preprocessing__cat_tr': OneHotEncoder(handle_unknown='ignore'),\n",
       " 'preprocessing__numerics_zero_imputing__memory': None,\n",
       " 'preprocessing__numerics_zero_imputing__steps': [('imputer', SimpleImputer()),\n",
       "  ('scaler', StandardScaler())],\n",
       " 'preprocessing__numerics_zero_imputing__verbose': False,\n",
       " 'preprocessing__numerics_zero_imputing__imputer': SimpleImputer(),\n",
       " 'preprocessing__numerics_zero_imputing__scaler': StandardScaler(),\n",
       " 'preprocessing__numerics_zero_imputing__imputer__add_indicator': False,\n",
       " 'preprocessing__numerics_zero_imputing__imputer__copy': True,\n",
       " 'preprocessing__numerics_zero_imputing__imputer__fill_value': None,\n",
       " 'preprocessing__numerics_zero_imputing__imputer__missing_values': nan,\n",
       " 'preprocessing__numerics_zero_imputing__imputer__strategy': 'mean',\n",
       " 'preprocessing__numerics_zero_imputing__imputer__verbose': 0,\n",
       " 'preprocessing__numerics_zero_imputing__scaler__copy': True,\n",
       " 'preprocessing__numerics_zero_imputing__scaler__with_mean': True,\n",
       " 'preprocessing__numerics_zero_imputing__scaler__with_std': True,\n",
       " 'preprocessing__numerics_mean_imputing__memory': None,\n",
       " 'preprocessing__numerics_mean_imputing__steps': [('imputer', SimpleImputer()),\n",
       "  ('scaler', StandardScaler())],\n",
       " 'preprocessing__numerics_mean_imputing__verbose': False,\n",
       " 'preprocessing__numerics_mean_imputing__imputer': SimpleImputer(),\n",
       " 'preprocessing__numerics_mean_imputing__scaler': StandardScaler(),\n",
       " 'preprocessing__numerics_mean_imputing__imputer__add_indicator': False,\n",
       " 'preprocessing__numerics_mean_imputing__imputer__copy': True,\n",
       " 'preprocessing__numerics_mean_imputing__imputer__fill_value': None,\n",
       " 'preprocessing__numerics_mean_imputing__imputer__missing_values': nan,\n",
       " 'preprocessing__numerics_mean_imputing__imputer__strategy': 'mean',\n",
       " 'preprocessing__numerics_mean_imputing__imputer__verbose': 0,\n",
       " 'preprocessing__numerics_mean_imputing__scaler__copy': True,\n",
       " 'preprocessing__numerics_mean_imputing__scaler__with_mean': True,\n",
       " 'preprocessing__numerics_mean_imputing__scaler__with_std': True,\n",
       " 'preprocessing__cat_tr__categories': 'auto',\n",
       " 'preprocessing__cat_tr__drop': None,\n",
       " 'preprocessing__cat_tr__dtype': numpy.float64,\n",
       " 'preprocessing__cat_tr__handle_unknown': 'ignore',\n",
       " 'preprocessing__cat_tr__sparse': True,\n",
       " 'regressor__objective': 'reg:squarederror',\n",
       " 'regressor__base_score': 0.5,\n",
       " 'regressor__booster': 'gbtree',\n",
       " 'regressor__colsample_bylevel': 1,\n",
       " 'regressor__colsample_bynode': 1,\n",
       " 'regressor__colsample_bytree': 1,\n",
       " 'regressor__gamma': 0,\n",
       " 'regressor__gpu_id': -1,\n",
       " 'regressor__importance_type': 'gain',\n",
       " 'regressor__interaction_constraints': '',\n",
       " 'regressor__learning_rate': 0.300000012,\n",
       " 'regressor__max_delta_step': 0,\n",
       " 'regressor__max_depth': 6,\n",
       " 'regressor__min_child_weight': 1,\n",
       " 'regressor__missing': nan,\n",
       " 'regressor__monotone_constraints': '()',\n",
       " 'regressor__n_estimators': 100,\n",
       " 'regressor__n_jobs': 8,\n",
       " 'regressor__num_parallel_tree': 1,\n",
       " 'regressor__random_state': 0,\n",
       " 'regressor__reg_alpha': 0,\n",
       " 'regressor__reg_lambda': 1,\n",
       " 'regressor__scale_pos_weight': 1,\n",
       " 'regressor__subsample': 1,\n",
       " 'regressor__tree_method': 'exact',\n",
       " 'regressor__validate_parameters': 1,\n",
       " 'regressor__verbosity': None}"
      ]
     },
     "execution_count": 22,
     "metadata": {},
     "output_type": "execute_result"
    }
   ],
   "source": [
    "pipe.get_params()"
   ]
  },
  {
   "cell_type": "code",
   "execution_count": 23,
   "id": "f9a91843",
   "metadata": {},
   "outputs": [],
   "source": [
    "param_grid = {\n",
    "    \"preprocessing__numerics_zero_imputing__scaler\": [RobustScaler(), MinMaxScaler(), StandardScaler()],\n",
    "    \"preprocessing__numerics_mean_imputing__scaler\": [RobustScaler(), MinMaxScaler(), StandardScaler()],\n",
    "    'preprocessing__numerics_zero_imputing__imputer__strategy': ['constant', \"mean\"],\n",
    "    'regressor__alpha': [0.01, 0.1, 1], \n",
    "    'regressor__l1_ratio': [0.2, 0.5, 0.8]\n",
    "}"
   ]
  },
  {
   "cell_type": "code",
   "execution_count": null,
   "id": "d482a3b5",
   "metadata": {},
   "outputs": [],
   "source": [
    "# grid_search = GridSearchCV(\n",
    "#     pipe, \n",
    "#     param_grid=param_grid,\n",
    "#     cv=5,\n",
    "#     scoring=\"r2\",\n",
    "#     n_jobs=-1)\n",
    "\n",
    "# grid_search.fit(X, y)\n",
    "# print(grid_search.best_params_)\n",
    "# print(grid_search.best_score_)"
   ]
  }
 ],
 "metadata": {
  "kernelspec": {
   "display_name": "Python 3 (ipykernel)",
   "language": "python",
   "name": "python3"
  },
  "language_info": {
   "codemirror_mode": {
    "name": "ipython",
    "version": 3
   },
   "file_extension": ".py",
   "mimetype": "text/x-python",
   "name": "python",
   "nbconvert_exporter": "python",
   "pygments_lexer": "ipython3",
   "version": "3.8.12"
  },
  "toc": {
   "base_numbering": 1,
   "nav_menu": {},
   "number_sections": true,
   "sideBar": true,
   "skip_h1_title": false,
   "title_cell": "Table of Contents",
   "title_sidebar": "Contents",
   "toc_cell": false,
   "toc_position": {},
   "toc_section_display": true,
   "toc_window_display": true
  }
 },
 "nbformat": 4,
 "nbformat_minor": 5
}
