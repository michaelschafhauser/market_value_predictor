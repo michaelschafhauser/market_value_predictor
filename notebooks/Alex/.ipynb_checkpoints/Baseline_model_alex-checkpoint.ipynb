{
 "cells": [
  {
   "cell_type": "markdown",
   "id": "816f913e",
   "metadata": {},
   "source": [
    "# Notes\n",
    "\n",
    "## General\n",
    "* Identified inconsistency between transfer record and player database (e.g., Oussama Tannane) --> will disregard for now as main factors transfer fee and FIFA attributes are not affected\n",
    "* Club name need attention as spelling varies; scope limited with ~250 club names in transfer record database\n",
    "* Transfer database needs attention; some players transferred more than once per year --> apply rule on how to tackle (highest value only, sum of all, average, etc.)\n",
    "\n",
    "## Feature engineering\n",
    "* Positional rating feature cleaning: Assumption applied is to use only base value and not after \"+\" (i.e., 72+2 --> 72)\n",
    "* \"player_traits\", \"player_tags\" and \"player_positions\" currently object holding multiple key attributes of players (e.g., Long Shot Taker) which are separated by comma --> ideally create one column per trait\n",
    "** *here all columns require preprocessing before one-hot encoding*\n",
    "* player_positions currently holding list of possible positions --> Use count as indicator for versatility\n",
    "* Add additional column with Attack, Mid, Def, Goal based on team_position\n",
    "\n",
    "## Proposed split of columns for preprocessing\n",
    "1. **Specialty cases:** \"player_traits\", \"player_tags\" and \"player_positions\" - see above for more information\n",
    "2. **Numerical player features:** All columns from 41 (pace) to 113 (rb) which do not fall under specialty cases\n",
    "3. **Columns from transfer history**: Columns 0-9; check which columns to keep considering the final product\n",
    "4. **Remaining columns**: All non-player-features columns (10-40), not in specialty cases bucket\n",
    "\n",
    "### Questions to answer:\n",
    "* Keep or toss?\n",
    "* Redundant to other column (e.g., multiple year columns)?\n",
    "* How to standardize?"
   ]
  },
  {
   "cell_type": "code",
   "execution_count": 1,
   "id": "1ab66bd8",
   "metadata": {},
   "outputs": [],
   "source": [
    "import pandas as pd\n",
    "import numpy as np\n",
    "import matplotlib.pyplot as plt"
   ]
  },
  {
   "cell_type": "markdown",
   "id": "ae856062",
   "metadata": {},
   "source": [
    "# Import data"
   ]
  },
  {
   "cell_type": "code",
   "execution_count": 2,
   "id": "8196747b",
   "metadata": {},
   "outputs": [],
   "source": [
    "df_transfer = pd.read_csv(\"../../raw_data/transfer_history_combined.csv\")"
   ]
  },
  {
   "cell_type": "code",
   "execution_count": 3,
   "id": "62fe834f",
   "metadata": {},
   "outputs": [],
   "source": [
    "loan_information = pd.DataFrame(\n",
    "    np.unique(df_transfer.loc[df_transfer[\"fee\"].str.contains(\"loan\",\n",
    "                                                              na=False)].fee,\n",
    "              return_counts=True)).transpose()"
   ]
  },
  {
   "cell_type": "code",
   "execution_count": 4,
   "id": "d3e734c0",
   "metadata": {},
   "outputs": [],
   "source": [
    "loan_information.to_csv(\"../../raw_data/loan_info.csv\")"
   ]
  },
  {
   "cell_type": "code",
   "execution_count": 5,
   "id": "cbe53c32",
   "metadata": {},
   "outputs": [
    {
     "data": {
      "text/plain": [
       "array([False,  True])"
      ]
     },
     "execution_count": 5,
     "metadata": {},
     "output_type": "execute_result"
    }
   ],
   "source": [
    "df_transfer[\"fee\"].str.contains(\"loan\", na = False).unique()"
   ]
  },
  {
   "cell_type": "code",
   "execution_count": 6,
   "id": "27c5a3d0",
   "metadata": {},
   "outputs": [],
   "source": [
    "df_players = pd.read_csv(\"../../raw_data/players_combined.csv\")"
   ]
  },
  {
   "cell_type": "markdown",
   "id": "832e66fa",
   "metadata": {},
   "source": [
    "# Data prep"
   ]
  },
  {
   "cell_type": "markdown",
   "id": "2c03eb81",
   "metadata": {},
   "source": [
    "## Transfer history"
   ]
  },
  {
   "cell_type": "code",
   "execution_count": 7,
   "id": "e5c20bfc",
   "metadata": {},
   "outputs": [],
   "source": [
    "df_transfer.drop(columns=[\"Unnamed: 0\", \"fee\", \"age\"], inplace=True)"
   ]
  },
  {
   "cell_type": "code",
   "execution_count": 8,
   "id": "d25f2a7d",
   "metadata": {},
   "outputs": [],
   "source": [
    "## dropping NaNs in fee_cleaned\n",
    "df_transfer = df_transfer.loc[df_transfer[\"fee_cleaned\"].notna()]\n",
    "\n",
    "## dropping 0.0 transfer fees\n",
    "df_transfer = df_transfer.loc[df_transfer[\"fee_cleaned\"]!=0]\n",
    "\n",
    "## dropping in vs. out duplications\n",
    "df_transfer = df_transfer.loc[df_transfer[\"transfer_movement\"]!=\"out\"]\n",
    "\n",
    "df_transfer = df_transfer.loc[df_transfer[\"year\"]>2014]"
   ]
  },
  {
   "cell_type": "code",
   "execution_count": 9,
   "id": "9d051ba3",
   "metadata": {},
   "outputs": [],
   "source": [
    "df_transfer = df_transfer.rename(\n",
    "    columns={\n",
    "        \"club_name\": \"receiving_club\",\n",
    "        \"club_involved_name\": \"giving_club\",\n",
    "        \"league_name\": \"receiving_league\"\n",
    "    })"
   ]
  },
  {
   "cell_type": "code",
   "execution_count": 10,
   "id": "35c68cd7",
   "metadata": {},
   "outputs": [
    {
     "data": {
      "text/html": [
       "<div>\n",
       "<style scoped>\n",
       "    .dataframe tbody tr th:only-of-type {\n",
       "        vertical-align: middle;\n",
       "    }\n",
       "\n",
       "    .dataframe tbody tr th {\n",
       "        vertical-align: top;\n",
       "    }\n",
       "\n",
       "    .dataframe thead th {\n",
       "        text-align: right;\n",
       "    }\n",
       "</style>\n",
       "<table border=\"1\" class=\"dataframe\">\n",
       "  <thead>\n",
       "    <tr style=\"text-align: right;\">\n",
       "      <th></th>\n",
       "      <th>receiving_club</th>\n",
       "      <th>player_name</th>\n",
       "      <th>position</th>\n",
       "      <th>giving_club</th>\n",
       "      <th>transfer_movement</th>\n",
       "      <th>transfer_period</th>\n",
       "      <th>fee_cleaned</th>\n",
       "      <th>receiving_league</th>\n",
       "      <th>year</th>\n",
       "      <th>season</th>\n",
       "    </tr>\n",
       "  </thead>\n",
       "  <tbody>\n",
       "    <tr>\n",
       "      <th>125629</th>\n",
       "      <td>Paris Saint-Germain</td>\n",
       "      <td>Ángel Di María</td>\n",
       "      <td>Right Winger</td>\n",
       "      <td>Man Utd</td>\n",
       "      <td>in</td>\n",
       "      <td>Summer</td>\n",
       "      <td>56.70</td>\n",
       "      <td>Ligue 1</td>\n",
       "      <td>2015</td>\n",
       "      <td>2015/2016</td>\n",
       "    </tr>\n",
       "    <tr>\n",
       "      <th>125630</th>\n",
       "      <td>Paris Saint-Germain</td>\n",
       "      <td>Layvin Kurzawa</td>\n",
       "      <td>Left-Back</td>\n",
       "      <td>Monaco</td>\n",
       "      <td>in</td>\n",
       "      <td>Summer</td>\n",
       "      <td>22.50</td>\n",
       "      <td>Ligue 1</td>\n",
       "      <td>2015</td>\n",
       "      <td>2015/2016</td>\n",
       "    </tr>\n",
       "    <tr>\n",
       "      <th>125631</th>\n",
       "      <td>Paris Saint-Germain</td>\n",
       "      <td>Serge Aurier</td>\n",
       "      <td>Right-Back</td>\n",
       "      <td>Toulouse</td>\n",
       "      <td>in</td>\n",
       "      <td>Summer</td>\n",
       "      <td>9.00</td>\n",
       "      <td>Ligue 1</td>\n",
       "      <td>2015</td>\n",
       "      <td>2015/2016</td>\n",
       "    </tr>\n",
       "    <tr>\n",
       "      <th>125632</th>\n",
       "      <td>Paris Saint-Germain</td>\n",
       "      <td>Kevin Trapp</td>\n",
       "      <td>Goalkeeper</td>\n",
       "      <td>E. Frankfurt</td>\n",
       "      <td>in</td>\n",
       "      <td>Summer</td>\n",
       "      <td>8.55</td>\n",
       "      <td>Ligue 1</td>\n",
       "      <td>2015</td>\n",
       "      <td>2015/2016</td>\n",
       "    </tr>\n",
       "    <tr>\n",
       "      <th>125633</th>\n",
       "      <td>Paris Saint-Germain</td>\n",
       "      <td>Benjamin Stambouli</td>\n",
       "      <td>Centre-Back</td>\n",
       "      <td>Spurs</td>\n",
       "      <td>in</td>\n",
       "      <td>Summer</td>\n",
       "      <td>7.74</td>\n",
       "      <td>Ligue 1</td>\n",
       "      <td>2015</td>\n",
       "      <td>2015/2016</td>\n",
       "    </tr>\n",
       "  </tbody>\n",
       "</table>\n",
       "</div>"
      ],
      "text/plain": [
       "             receiving_club         player_name      position   giving_club  \\\n",
       "125629  Paris Saint-Germain      Ángel Di María  Right Winger       Man Utd   \n",
       "125630  Paris Saint-Germain      Layvin Kurzawa     Left-Back        Monaco   \n",
       "125631  Paris Saint-Germain        Serge Aurier    Right-Back      Toulouse   \n",
       "125632  Paris Saint-Germain         Kevin Trapp    Goalkeeper  E. Frankfurt   \n",
       "125633  Paris Saint-Germain  Benjamin Stambouli   Centre-Back         Spurs   \n",
       "\n",
       "       transfer_movement transfer_period  fee_cleaned receiving_league  year  \\\n",
       "125629                in          Summer        56.70          Ligue 1  2015   \n",
       "125630                in          Summer        22.50          Ligue 1  2015   \n",
       "125631                in          Summer         9.00          Ligue 1  2015   \n",
       "125632                in          Summer         8.55          Ligue 1  2015   \n",
       "125633                in          Summer         7.74          Ligue 1  2015   \n",
       "\n",
       "           season  \n",
       "125629  2015/2016  \n",
       "125630  2015/2016  \n",
       "125631  2015/2016  \n",
       "125632  2015/2016  \n",
       "125633  2015/2016  "
      ]
     },
     "execution_count": 10,
     "metadata": {},
     "output_type": "execute_result"
    }
   ],
   "source": [
    "df_transfer.head()"
   ]
  },
  {
   "cell_type": "code",
   "execution_count": 11,
   "id": "0344b766",
   "metadata": {},
   "outputs": [
    {
     "data": {
      "text/html": [
       "<div>\n",
       "<style scoped>\n",
       "    .dataframe tbody tr th:only-of-type {\n",
       "        vertical-align: middle;\n",
       "    }\n",
       "\n",
       "    .dataframe tbody tr th {\n",
       "        vertical-align: top;\n",
       "    }\n",
       "\n",
       "    .dataframe thead th {\n",
       "        text-align: right;\n",
       "    }\n",
       "</style>\n",
       "<table border=\"1\" class=\"dataframe\">\n",
       "  <thead>\n",
       "    <tr style=\"text-align: right;\">\n",
       "      <th></th>\n",
       "      <th>receiving_club</th>\n",
       "      <th>player_name</th>\n",
       "      <th>position</th>\n",
       "      <th>giving_club</th>\n",
       "      <th>transfer_movement</th>\n",
       "      <th>transfer_period</th>\n",
       "      <th>fee_cleaned</th>\n",
       "      <th>receiving_league</th>\n",
       "      <th>year</th>\n",
       "      <th>season</th>\n",
       "    </tr>\n",
       "  </thead>\n",
       "  <tbody>\n",
       "    <tr>\n",
       "      <th>126156</th>\n",
       "      <td>AS Monaco</td>\n",
       "      <td>Jemerson</td>\n",
       "      <td>Centre-Back</td>\n",
       "      <td>Atlético-MG</td>\n",
       "      <td>in</td>\n",
       "      <td>Winter</td>\n",
       "      <td>9.90</td>\n",
       "      <td>Ligue 1</td>\n",
       "      <td>2015</td>\n",
       "      <td>2015/2016</td>\n",
       "    </tr>\n",
       "    <tr>\n",
       "      <th>126157</th>\n",
       "      <td>AS Monaco</td>\n",
       "      <td>Vágner Love</td>\n",
       "      <td>Centre-Forward</td>\n",
       "      <td>Corinthians</td>\n",
       "      <td>in</td>\n",
       "      <td>Winter</td>\n",
       "      <td>1.35</td>\n",
       "      <td>Ligue 1</td>\n",
       "      <td>2015</td>\n",
       "      <td>2015/2016</td>\n",
       "    </tr>\n",
       "    <tr>\n",
       "      <th>126169</th>\n",
       "      <td>AS Saint-Étienne</td>\n",
       "      <td>Ole Selnaes</td>\n",
       "      <td>Defensive Midfield</td>\n",
       "      <td>Rosenborg BK</td>\n",
       "      <td>in</td>\n",
       "      <td>Winter</td>\n",
       "      <td>2.88</td>\n",
       "      <td>Ligue 1</td>\n",
       "      <td>2015</td>\n",
       "      <td>2015/2016</td>\n",
       "    </tr>\n",
       "    <tr>\n",
       "      <th>126170</th>\n",
       "      <td>AS Saint-Étienne</td>\n",
       "      <td>Oussama Tannane</td>\n",
       "      <td>Right Winger</td>\n",
       "      <td>Heracles Almelo</td>\n",
       "      <td>in</td>\n",
       "      <td>Winter</td>\n",
       "      <td>2.25</td>\n",
       "      <td>Ligue 1</td>\n",
       "      <td>2015</td>\n",
       "      <td>2015/2016</td>\n",
       "    </tr>\n",
       "    <tr>\n",
       "      <th>126171</th>\n",
       "      <td>AS Saint-Étienne</td>\n",
       "      <td>Alexander Söderlund</td>\n",
       "      <td>Centre-Forward</td>\n",
       "      <td>Rosenborg BK</td>\n",
       "      <td>in</td>\n",
       "      <td>Winter</td>\n",
       "      <td>1.80</td>\n",
       "      <td>Ligue 1</td>\n",
       "      <td>2015</td>\n",
       "      <td>2015/2016</td>\n",
       "    </tr>\n",
       "    <tr>\n",
       "      <th>...</th>\n",
       "      <td>...</td>\n",
       "      <td>...</td>\n",
       "      <td>...</td>\n",
       "      <td>...</td>\n",
       "      <td>...</td>\n",
       "      <td>...</td>\n",
       "      <td>...</td>\n",
       "      <td>...</td>\n",
       "      <td>...</td>\n",
       "      <td>...</td>\n",
       "    </tr>\n",
       "    <tr>\n",
       "      <th>169366</th>\n",
       "      <td>Getafe CF</td>\n",
       "      <td>Takefusa Kubo</td>\n",
       "      <td>Right Winger</td>\n",
       "      <td>Real Madrid</td>\n",
       "      <td>in</td>\n",
       "      <td>Winter</td>\n",
       "      <td>1.13</td>\n",
       "      <td>Primera Division</td>\n",
       "      <td>2020</td>\n",
       "      <td>2020/2021</td>\n",
       "    </tr>\n",
       "    <tr>\n",
       "      <th>169375</th>\n",
       "      <td>Real Sociedad</td>\n",
       "      <td>Carlos Fernández</td>\n",
       "      <td>Centre-Forward</td>\n",
       "      <td>Sevilla FC</td>\n",
       "      <td>in</td>\n",
       "      <td>Winter</td>\n",
       "      <td>9.00</td>\n",
       "      <td>Primera Division</td>\n",
       "      <td>2020</td>\n",
       "      <td>2020/2021</td>\n",
       "    </tr>\n",
       "    <tr>\n",
       "      <th>169396</th>\n",
       "      <td>Real Valladolid CF</td>\n",
       "      <td>Lucas Olaza</td>\n",
       "      <td>Left-Back</td>\n",
       "      <td>Boca Juniors</td>\n",
       "      <td>in</td>\n",
       "      <td>Winter</td>\n",
       "      <td>0.45</td>\n",
       "      <td>Primera Division</td>\n",
       "      <td>2020</td>\n",
       "      <td>2020/2021</td>\n",
       "    </tr>\n",
       "    <tr>\n",
       "      <th>169421</th>\n",
       "      <td>Celta de Vigo</td>\n",
       "      <td>Augusto Solari</td>\n",
       "      <td>Right Winger</td>\n",
       "      <td>Racing Club</td>\n",
       "      <td>in</td>\n",
       "      <td>Winter</td>\n",
       "      <td>0.45</td>\n",
       "      <td>Primera Division</td>\n",
       "      <td>2020</td>\n",
       "      <td>2020/2021</td>\n",
       "    </tr>\n",
       "    <tr>\n",
       "      <th>173866</th>\n",
       "      <td>Manchester City</td>\n",
       "      <td>Kayky</td>\n",
       "      <td>Right Winger</td>\n",
       "      <td>Fluminense</td>\n",
       "      <td>in</td>\n",
       "      <td>Winter</td>\n",
       "      <td>9.00</td>\n",
       "      <td>Premier League</td>\n",
       "      <td>2021</td>\n",
       "      <td>2021/2022</td>\n",
       "    </tr>\n",
       "  </tbody>\n",
       "</table>\n",
       "<p>976 rows × 10 columns</p>\n",
       "</div>"
      ],
      "text/plain": [
       "            receiving_club          player_name            position  \\\n",
       "126156           AS Monaco             Jemerson         Centre-Back   \n",
       "126157           AS Monaco          Vágner Love      Centre-Forward   \n",
       "126169    AS Saint-Étienne          Ole Selnaes  Defensive Midfield   \n",
       "126170    AS Saint-Étienne      Oussama Tannane        Right Winger   \n",
       "126171    AS Saint-Étienne  Alexander Söderlund      Centre-Forward   \n",
       "...                    ...                  ...                 ...   \n",
       "169366           Getafe CF        Takefusa Kubo        Right Winger   \n",
       "169375       Real Sociedad     Carlos Fernández      Centre-Forward   \n",
       "169396  Real Valladolid CF          Lucas Olaza           Left-Back   \n",
       "169421       Celta de Vigo       Augusto Solari        Right Winger   \n",
       "173866     Manchester City                Kayky        Right Winger   \n",
       "\n",
       "            giving_club transfer_movement transfer_period  fee_cleaned  \\\n",
       "126156      Atlético-MG                in          Winter         9.90   \n",
       "126157      Corinthians                in          Winter         1.35   \n",
       "126169     Rosenborg BK                in          Winter         2.88   \n",
       "126170  Heracles Almelo                in          Winter         2.25   \n",
       "126171     Rosenborg BK                in          Winter         1.80   \n",
       "...                 ...               ...             ...          ...   \n",
       "169366      Real Madrid                in          Winter         1.13   \n",
       "169375       Sevilla FC                in          Winter         9.00   \n",
       "169396     Boca Juniors                in          Winter         0.45   \n",
       "169421      Racing Club                in          Winter         0.45   \n",
       "173866       Fluminense                in          Winter         9.00   \n",
       "\n",
       "        receiving_league  year     season  \n",
       "126156           Ligue 1  2015  2015/2016  \n",
       "126157           Ligue 1  2015  2015/2016  \n",
       "126169           Ligue 1  2015  2015/2016  \n",
       "126170           Ligue 1  2015  2015/2016  \n",
       "126171           Ligue 1  2015  2015/2016  \n",
       "...                  ...   ...        ...  \n",
       "169366  Primera Division  2020  2020/2021  \n",
       "169375  Primera Division  2020  2020/2021  \n",
       "169396  Primera Division  2020  2020/2021  \n",
       "169421  Primera Division  2020  2020/2021  \n",
       "173866    Premier League  2021  2021/2022  \n",
       "\n",
       "[976 rows x 10 columns]"
      ]
     },
     "execution_count": 11,
     "metadata": {},
     "output_type": "execute_result"
    }
   ],
   "source": [
    "df_transfer.loc[df_transfer[\"transfer_period\"]==\"Winter\"]"
   ]
  },
  {
   "cell_type": "code",
   "execution_count": 12,
   "id": "9e0454b6",
   "metadata": {},
   "outputs": [
    {
     "data": {
      "text/plain": [
       "(5460, 10)"
      ]
     },
     "execution_count": 12,
     "metadata": {},
     "output_type": "execute_result"
    }
   ],
   "source": [
    "df_transfer.shape"
   ]
  },
  {
   "cell_type": "code",
   "execution_count": 13,
   "id": "2a22ae52",
   "metadata": {},
   "outputs": [
    {
     "name": "stdout",
     "output_type": "stream",
     "text": [
      "<class 'pandas.core.frame.DataFrame'>\n",
      "Int64Index: 5460 entries, 125629 to 174332\n",
      "Data columns (total 10 columns):\n",
      " #   Column             Non-Null Count  Dtype  \n",
      "---  ------             --------------  -----  \n",
      " 0   receiving_club     5460 non-null   object \n",
      " 1   player_name        5460 non-null   object \n",
      " 2   position           5460 non-null   object \n",
      " 3   giving_club        5460 non-null   object \n",
      " 4   transfer_movement  5460 non-null   object \n",
      " 5   transfer_period    5460 non-null   object \n",
      " 6   fee_cleaned        5460 non-null   float64\n",
      " 7   receiving_league   5460 non-null   object \n",
      " 8   year               5460 non-null   int64  \n",
      " 9   season             5460 non-null   object \n",
      "dtypes: float64(1), int64(1), object(8)\n",
      "memory usage: 469.2+ KB\n"
     ]
    }
   ],
   "source": [
    "df_transfer.info()"
   ]
  },
  {
   "cell_type": "markdown",
   "id": "3398819b",
   "metadata": {},
   "source": [
    "## Players info"
   ]
  },
  {
   "cell_type": "code",
   "execution_count": 14,
   "id": "d45a86bf",
   "metadata": {},
   "outputs": [],
   "source": [
    "df_players.drop(columns=[\"Unnamed: 0\", \"player_url\", \"short_name\"], inplace=True)"
   ]
  },
  {
   "cell_type": "code",
   "execution_count": 15,
   "id": "75720433",
   "metadata": {},
   "outputs": [
    {
     "data": {
      "text/html": [
       "<div>\n",
       "<style scoped>\n",
       "    .dataframe tbody tr th:only-of-type {\n",
       "        vertical-align: middle;\n",
       "    }\n",
       "\n",
       "    .dataframe tbody tr th {\n",
       "        vertical-align: top;\n",
       "    }\n",
       "\n",
       "    .dataframe thead th {\n",
       "        text-align: right;\n",
       "    }\n",
       "</style>\n",
       "<table border=\"1\" class=\"dataframe\">\n",
       "  <thead>\n",
       "    <tr style=\"text-align: right;\">\n",
       "      <th></th>\n",
       "      <th>sofifa_id</th>\n",
       "      <th>long_name</th>\n",
       "      <th>age</th>\n",
       "      <th>dob</th>\n",
       "      <th>height_cm</th>\n",
       "      <th>weight_kg</th>\n",
       "      <th>nationality</th>\n",
       "      <th>club_name</th>\n",
       "      <th>league_name</th>\n",
       "      <th>league_rank</th>\n",
       "      <th>...</th>\n",
       "      <th>ldm</th>\n",
       "      <th>cdm</th>\n",
       "      <th>rdm</th>\n",
       "      <th>rwb</th>\n",
       "      <th>lb</th>\n",
       "      <th>lcb</th>\n",
       "      <th>cb</th>\n",
       "      <th>rcb</th>\n",
       "      <th>rb</th>\n",
       "      <th>fifa year</th>\n",
       "    </tr>\n",
       "  </thead>\n",
       "  <tbody>\n",
       "    <tr>\n",
       "      <th>0</th>\n",
       "      <td>158023</td>\n",
       "      <td>Lionel Andrés Messi Cuccittini</td>\n",
       "      <td>27</td>\n",
       "      <td>1987-06-24</td>\n",
       "      <td>169</td>\n",
       "      <td>67</td>\n",
       "      <td>Argentina</td>\n",
       "      <td>FC Barcelona</td>\n",
       "      <td>Spain Primera Division</td>\n",
       "      <td>1.0</td>\n",
       "      <td>...</td>\n",
       "      <td>62+3</td>\n",
       "      <td>62+3</td>\n",
       "      <td>62+3</td>\n",
       "      <td>62+3</td>\n",
       "      <td>54+3</td>\n",
       "      <td>45+3</td>\n",
       "      <td>45+3</td>\n",
       "      <td>45+3</td>\n",
       "      <td>54+3</td>\n",
       "      <td>2015</td>\n",
       "    </tr>\n",
       "    <tr>\n",
       "      <th>1</th>\n",
       "      <td>20801</td>\n",
       "      <td>Cristiano Ronaldo dos Santos Aveiro</td>\n",
       "      <td>29</td>\n",
       "      <td>1985-02-05</td>\n",
       "      <td>185</td>\n",
       "      <td>80</td>\n",
       "      <td>Portugal</td>\n",
       "      <td>Real Madrid</td>\n",
       "      <td>Spain Primera Division</td>\n",
       "      <td>1.0</td>\n",
       "      <td>...</td>\n",
       "      <td>63+3</td>\n",
       "      <td>63+3</td>\n",
       "      <td>63+3</td>\n",
       "      <td>63+3</td>\n",
       "      <td>57+3</td>\n",
       "      <td>52+3</td>\n",
       "      <td>52+3</td>\n",
       "      <td>52+3</td>\n",
       "      <td>57+3</td>\n",
       "      <td>2015</td>\n",
       "    </tr>\n",
       "    <tr>\n",
       "      <th>2</th>\n",
       "      <td>9014</td>\n",
       "      <td>Arjen Robben</td>\n",
       "      <td>30</td>\n",
       "      <td>1984-01-23</td>\n",
       "      <td>180</td>\n",
       "      <td>80</td>\n",
       "      <td>Netherlands</td>\n",
       "      <td>FC Bayern München</td>\n",
       "      <td>German 1. Bundesliga</td>\n",
       "      <td>1.0</td>\n",
       "      <td>...</td>\n",
       "      <td>64+3</td>\n",
       "      <td>64+3</td>\n",
       "      <td>64+3</td>\n",
       "      <td>64+3</td>\n",
       "      <td>55+3</td>\n",
       "      <td>46+3</td>\n",
       "      <td>46+3</td>\n",
       "      <td>46+3</td>\n",
       "      <td>55+3</td>\n",
       "      <td>2015</td>\n",
       "    </tr>\n",
       "    <tr>\n",
       "      <th>3</th>\n",
       "      <td>41236</td>\n",
       "      <td>Zlatan Ibrahimović</td>\n",
       "      <td>32</td>\n",
       "      <td>1981-10-03</td>\n",
       "      <td>195</td>\n",
       "      <td>95</td>\n",
       "      <td>Sweden</td>\n",
       "      <td>Paris Saint-Germain</td>\n",
       "      <td>French Ligue 1</td>\n",
       "      <td>1.0</td>\n",
       "      <td>...</td>\n",
       "      <td>65+3</td>\n",
       "      <td>65+3</td>\n",
       "      <td>65+3</td>\n",
       "      <td>61+3</td>\n",
       "      <td>56+3</td>\n",
       "      <td>55+3</td>\n",
       "      <td>55+3</td>\n",
       "      <td>55+3</td>\n",
       "      <td>56+3</td>\n",
       "      <td>2015</td>\n",
       "    </tr>\n",
       "    <tr>\n",
       "      <th>4</th>\n",
       "      <td>167495</td>\n",
       "      <td>Manuel Neuer</td>\n",
       "      <td>28</td>\n",
       "      <td>1986-03-27</td>\n",
       "      <td>193</td>\n",
       "      <td>92</td>\n",
       "      <td>Germany</td>\n",
       "      <td>FC Bayern München</td>\n",
       "      <td>German 1. Bundesliga</td>\n",
       "      <td>1.0</td>\n",
       "      <td>...</td>\n",
       "      <td>40+3</td>\n",
       "      <td>40+3</td>\n",
       "      <td>40+3</td>\n",
       "      <td>36+3</td>\n",
       "      <td>36+3</td>\n",
       "      <td>38+3</td>\n",
       "      <td>38+3</td>\n",
       "      <td>38+3</td>\n",
       "      <td>36+3</td>\n",
       "      <td>2015</td>\n",
       "    </tr>\n",
       "  </tbody>\n",
       "</table>\n",
       "<p>5 rows × 105 columns</p>\n",
       "</div>"
      ],
      "text/plain": [
       "   sofifa_id                            long_name  age         dob  height_cm  \\\n",
       "0     158023       Lionel Andrés Messi Cuccittini   27  1987-06-24        169   \n",
       "1      20801  Cristiano Ronaldo dos Santos Aveiro   29  1985-02-05        185   \n",
       "2       9014                         Arjen Robben   30  1984-01-23        180   \n",
       "3      41236                   Zlatan Ibrahimović   32  1981-10-03        195   \n",
       "4     167495                         Manuel Neuer   28  1986-03-27        193   \n",
       "\n",
       "   weight_kg  nationality            club_name             league_name  \\\n",
       "0         67    Argentina         FC Barcelona  Spain Primera Division   \n",
       "1         80     Portugal          Real Madrid  Spain Primera Division   \n",
       "2         80  Netherlands    FC Bayern München    German 1. Bundesliga   \n",
       "3         95       Sweden  Paris Saint-Germain          French Ligue 1   \n",
       "4         92      Germany    FC Bayern München    German 1. Bundesliga   \n",
       "\n",
       "   league_rank  ...   ldm   cdm   rdm   rwb    lb   lcb    cb   rcb    rb  \\\n",
       "0          1.0  ...  62+3  62+3  62+3  62+3  54+3  45+3  45+3  45+3  54+3   \n",
       "1          1.0  ...  63+3  63+3  63+3  63+3  57+3  52+3  52+3  52+3  57+3   \n",
       "2          1.0  ...  64+3  64+3  64+3  64+3  55+3  46+3  46+3  46+3  55+3   \n",
       "3          1.0  ...  65+3  65+3  65+3  61+3  56+3  55+3  55+3  55+3  56+3   \n",
       "4          1.0  ...  40+3  40+3  40+3  36+3  36+3  38+3  38+3  38+3  36+3   \n",
       "\n",
       "  fifa year  \n",
       "0      2015  \n",
       "1      2015  \n",
       "2      2015  \n",
       "3      2015  \n",
       "4      2015  \n",
       "\n",
       "[5 rows x 105 columns]"
      ]
     },
     "execution_count": 15,
     "metadata": {},
     "output_type": "execute_result"
    }
   ],
   "source": [
    "df_players.head()"
   ]
  },
  {
   "cell_type": "markdown",
   "id": "c5f52920",
   "metadata": {},
   "source": [
    "### Checking for duplicates with keys *long_name* and *fifa year*"
   ]
  },
  {
   "cell_type": "code",
   "execution_count": 16,
   "id": "57abe79a",
   "metadata": {},
   "outputs": [],
   "source": [
    "df_test = df_players[[\"long_name\", \"fifa year\", \"club_name\"]]"
   ]
  },
  {
   "cell_type": "code",
   "execution_count": 17,
   "id": "d75af91f",
   "metadata": {},
   "outputs": [
    {
     "name": "stdout",
     "output_type": "stream",
     "text": [
      "(122841, 3)\n",
      "(122836, 3)\n"
     ]
    }
   ],
   "source": [
    "print(df_test.shape)\n",
    "print(df_test.drop_duplicates().shape)"
   ]
  },
  {
   "cell_type": "markdown",
   "id": "8e7ae816",
   "metadata": {},
   "source": [
    "340 duplicates detected on name, year level"
   ]
  },
  {
   "cell_type": "markdown",
   "id": "1dd506ed",
   "metadata": {},
   "source": [
    "# Merging databases"
   ]
  },
  {
   "cell_type": "code",
   "execution_count": 18,
   "id": "0323b818",
   "metadata": {},
   "outputs": [],
   "source": [
    "df_merged = df_transfer.merge(df_players, left_on=[\"player_name\", \"year\"], right_on=[\"long_name\", \"fifa year\"], how=\"inner\")"
   ]
  },
  {
   "cell_type": "markdown",
   "id": "4fdfccc6",
   "metadata": {},
   "source": [
    "## Club name side investigation"
   ]
  },
  {
   "cell_type": "code",
   "execution_count": 19,
   "id": "31c59347",
   "metadata": {},
   "outputs": [
    {
     "data": {
      "text/plain": [
       "236"
      ]
     },
     "execution_count": 19,
     "metadata": {},
     "output_type": "execute_result"
    }
   ],
   "source": [
    "len(df_transfer.receiving_club.unique())"
   ]
  },
  {
   "cell_type": "code",
   "execution_count": 20,
   "id": "089b230f",
   "metadata": {},
   "outputs": [
    {
     "data": {
      "text/plain": [
       "954"
      ]
     },
     "execution_count": 20,
     "metadata": {},
     "output_type": "execute_result"
    }
   ],
   "source": [
    "len(df_players.club_name.unique())"
   ]
  },
  {
   "cell_type": "code",
   "execution_count": 21,
   "id": "2a7d8c0f",
   "metadata": {},
   "outputs": [],
   "source": [
    "df_temp = pd.DataFrame(df_transfer.receiving_club.unique(), columns=[\"name\"])"
   ]
  },
  {
   "cell_type": "code",
   "execution_count": 22,
   "id": "c0533689",
   "metadata": {},
   "outputs": [],
   "source": [
    "df_temp2 = pd.DataFrame(df_players.club_name.unique(), columns= [\"name\"])"
   ]
  },
  {
   "cell_type": "code",
   "execution_count": 23,
   "id": "89e9cc36",
   "metadata": {},
   "outputs": [],
   "source": [
    "df_temp2[\"help\"] = 1"
   ]
  },
  {
   "cell_type": "code",
   "execution_count": 24,
   "id": "43e5e5a1",
   "metadata": {},
   "outputs": [
    {
     "data": {
      "text/html": [
       "<div>\n",
       "<style scoped>\n",
       "    .dataframe tbody tr th:only-of-type {\n",
       "        vertical-align: middle;\n",
       "    }\n",
       "\n",
       "    .dataframe tbody tr th {\n",
       "        vertical-align: top;\n",
       "    }\n",
       "\n",
       "    .dataframe thead th {\n",
       "        text-align: right;\n",
       "    }\n",
       "</style>\n",
       "<table border=\"1\" class=\"dataframe\">\n",
       "  <thead>\n",
       "    <tr style=\"text-align: right;\">\n",
       "      <th></th>\n",
       "      <th>name</th>\n",
       "    </tr>\n",
       "  </thead>\n",
       "  <tbody>\n",
       "    <tr>\n",
       "      <th>0</th>\n",
       "      <td>Paris Saint-Germain</td>\n",
       "    </tr>\n",
       "    <tr>\n",
       "      <th>1</th>\n",
       "      <td>Olympique Lyon</td>\n",
       "    </tr>\n",
       "    <tr>\n",
       "      <th>2</th>\n",
       "      <td>AS Monaco</td>\n",
       "    </tr>\n",
       "    <tr>\n",
       "      <th>3</th>\n",
       "      <td>Olympique Marseille</td>\n",
       "    </tr>\n",
       "    <tr>\n",
       "      <th>4</th>\n",
       "      <td>AS Saint-Étienne</td>\n",
       "    </tr>\n",
       "    <tr>\n",
       "      <th>...</th>\n",
       "      <td>...</td>\n",
       "    </tr>\n",
       "    <tr>\n",
       "      <th>231</th>\n",
       "      <td>Venezia FC</td>\n",
       "    </tr>\n",
       "    <tr>\n",
       "      <th>232</th>\n",
       "      <td>FK Khimki</td>\n",
       "    </tr>\n",
       "    <tr>\n",
       "      <th>233</th>\n",
       "      <td>FK Nizhny Novgorod</td>\n",
       "    </tr>\n",
       "    <tr>\n",
       "      <th>234</th>\n",
       "      <td>Blackpool FC</td>\n",
       "    </tr>\n",
       "    <tr>\n",
       "      <th>235</th>\n",
       "      <td>Atlético de Madrid</td>\n",
       "    </tr>\n",
       "  </tbody>\n",
       "</table>\n",
       "<p>236 rows × 1 columns</p>\n",
       "</div>"
      ],
      "text/plain": [
       "                    name\n",
       "0    Paris Saint-Germain\n",
       "1         Olympique Lyon\n",
       "2              AS Monaco\n",
       "3    Olympique Marseille\n",
       "4       AS Saint-Étienne\n",
       "..                   ...\n",
       "231           Venezia FC\n",
       "232            FK Khimki\n",
       "233   FK Nizhny Novgorod\n",
       "234         Blackpool FC\n",
       "235   Atlético de Madrid\n",
       "\n",
       "[236 rows x 1 columns]"
      ]
     },
     "execution_count": 24,
     "metadata": {},
     "output_type": "execute_result"
    }
   ],
   "source": [
    "df_temp"
   ]
  },
  {
   "cell_type": "code",
   "execution_count": 25,
   "id": "5640a1a1",
   "metadata": {},
   "outputs": [],
   "source": [
    "pd.merge(df_temp, df_temp2, on=\"name\", how=\"left\").to_csv(\"../../raw_data/club_name_mismatch.csv\")"
   ]
  },
  {
   "cell_type": "markdown",
   "id": "504ab67a",
   "metadata": {},
   "source": [
    "## Data exploration"
   ]
  },
  {
   "cell_type": "code",
   "execution_count": 26,
   "id": "60a3bbf3",
   "metadata": {},
   "outputs": [
    {
     "data": {
      "text/plain": [
       "(2503, 115)"
      ]
     },
     "execution_count": 26,
     "metadata": {},
     "output_type": "execute_result"
    }
   ],
   "source": [
    "df_merged.shape"
   ]
  },
  {
   "cell_type": "code",
   "execution_count": 27,
   "id": "e4c6f772",
   "metadata": {},
   "outputs": [
    {
     "data": {
      "text/html": [
       "<div>\n",
       "<style scoped>\n",
       "    .dataframe tbody tr th:only-of-type {\n",
       "        vertical-align: middle;\n",
       "    }\n",
       "\n",
       "    .dataframe tbody tr th {\n",
       "        vertical-align: top;\n",
       "    }\n",
       "\n",
       "    .dataframe thead th {\n",
       "        text-align: right;\n",
       "    }\n",
       "</style>\n",
       "<table border=\"1\" class=\"dataframe\">\n",
       "  <thead>\n",
       "    <tr style=\"text-align: right;\">\n",
       "      <th></th>\n",
       "      <th>receiving_club</th>\n",
       "      <th>player_name</th>\n",
       "      <th>position</th>\n",
       "      <th>giving_club</th>\n",
       "      <th>transfer_movement</th>\n",
       "      <th>transfer_period</th>\n",
       "      <th>fee_cleaned</th>\n",
       "      <th>receiving_league</th>\n",
       "      <th>year</th>\n",
       "      <th>season</th>\n",
       "      <th>...</th>\n",
       "      <th>ldm</th>\n",
       "      <th>cdm</th>\n",
       "      <th>rdm</th>\n",
       "      <th>rwb</th>\n",
       "      <th>lb</th>\n",
       "      <th>lcb</th>\n",
       "      <th>cb</th>\n",
       "      <th>rcb</th>\n",
       "      <th>rb</th>\n",
       "      <th>fifa year</th>\n",
       "    </tr>\n",
       "  </thead>\n",
       "  <tbody>\n",
       "    <tr>\n",
       "      <th>0</th>\n",
       "      <td>Paris Saint-Germain</td>\n",
       "      <td>Layvin Kurzawa</td>\n",
       "      <td>Left-Back</td>\n",
       "      <td>Monaco</td>\n",
       "      <td>in</td>\n",
       "      <td>Summer</td>\n",
       "      <td>22.50</td>\n",
       "      <td>Ligue 1</td>\n",
       "      <td>2015</td>\n",
       "      <td>2015/2016</td>\n",
       "      <td>...</td>\n",
       "      <td>74+0</td>\n",
       "      <td>74+0</td>\n",
       "      <td>74+0</td>\n",
       "      <td>77+0</td>\n",
       "      <td>76+0</td>\n",
       "      <td>74+0</td>\n",
       "      <td>74+0</td>\n",
       "      <td>74+0</td>\n",
       "      <td>76+0</td>\n",
       "      <td>2015</td>\n",
       "    </tr>\n",
       "    <tr>\n",
       "      <th>1</th>\n",
       "      <td>Paris Saint-Germain</td>\n",
       "      <td>Serge Aurier</td>\n",
       "      <td>Right-Back</td>\n",
       "      <td>Toulouse</td>\n",
       "      <td>in</td>\n",
       "      <td>Summer</td>\n",
       "      <td>9.00</td>\n",
       "      <td>Ligue 1</td>\n",
       "      <td>2015</td>\n",
       "      <td>2015/2016</td>\n",
       "      <td>...</td>\n",
       "      <td>76+0</td>\n",
       "      <td>76+0</td>\n",
       "      <td>76+0</td>\n",
       "      <td>77+0</td>\n",
       "      <td>77+0</td>\n",
       "      <td>77+0</td>\n",
       "      <td>77+0</td>\n",
       "      <td>77+0</td>\n",
       "      <td>77+0</td>\n",
       "      <td>2015</td>\n",
       "    </tr>\n",
       "    <tr>\n",
       "      <th>2</th>\n",
       "      <td>Paris Saint-Germain</td>\n",
       "      <td>Kevin Trapp</td>\n",
       "      <td>Goalkeeper</td>\n",
       "      <td>E. Frankfurt</td>\n",
       "      <td>in</td>\n",
       "      <td>Summer</td>\n",
       "      <td>8.55</td>\n",
       "      <td>Ligue 1</td>\n",
       "      <td>2015</td>\n",
       "      <td>2015/2016</td>\n",
       "      <td>...</td>\n",
       "      <td>34+0</td>\n",
       "      <td>34+0</td>\n",
       "      <td>34+0</td>\n",
       "      <td>32+0</td>\n",
       "      <td>32+0</td>\n",
       "      <td>34+0</td>\n",
       "      <td>34+0</td>\n",
       "      <td>34+0</td>\n",
       "      <td>32+0</td>\n",
       "      <td>2015</td>\n",
       "    </tr>\n",
       "    <tr>\n",
       "      <th>3</th>\n",
       "      <td>Paris Saint-Germain</td>\n",
       "      <td>Benjamin Stambouli</td>\n",
       "      <td>Centre-Back</td>\n",
       "      <td>Spurs</td>\n",
       "      <td>in</td>\n",
       "      <td>Summer</td>\n",
       "      <td>7.74</td>\n",
       "      <td>Ligue 1</td>\n",
       "      <td>2015</td>\n",
       "      <td>2015/2016</td>\n",
       "      <td>...</td>\n",
       "      <td>76+0</td>\n",
       "      <td>76+0</td>\n",
       "      <td>76+0</td>\n",
       "      <td>72+0</td>\n",
       "      <td>72+0</td>\n",
       "      <td>74+0</td>\n",
       "      <td>74+0</td>\n",
       "      <td>74+0</td>\n",
       "      <td>72+0</td>\n",
       "      <td>2015</td>\n",
       "    </tr>\n",
       "    <tr>\n",
       "      <th>4</th>\n",
       "      <td>Olympique Lyon</td>\n",
       "      <td>Claudio Beauvue</td>\n",
       "      <td>Centre-Forward</td>\n",
       "      <td>Guingamp</td>\n",
       "      <td>in</td>\n",
       "      <td>Summer</td>\n",
       "      <td>5.40</td>\n",
       "      <td>Ligue 1</td>\n",
       "      <td>2015</td>\n",
       "      <td>2015/2016</td>\n",
       "      <td>...</td>\n",
       "      <td>54+0</td>\n",
       "      <td>54+0</td>\n",
       "      <td>54+0</td>\n",
       "      <td>55+0</td>\n",
       "      <td>50+0</td>\n",
       "      <td>47+0</td>\n",
       "      <td>47+0</td>\n",
       "      <td>47+0</td>\n",
       "      <td>50+0</td>\n",
       "      <td>2015</td>\n",
       "    </tr>\n",
       "  </tbody>\n",
       "</table>\n",
       "<p>5 rows × 115 columns</p>\n",
       "</div>"
      ],
      "text/plain": [
       "        receiving_club         player_name        position   giving_club  \\\n",
       "0  Paris Saint-Germain      Layvin Kurzawa       Left-Back        Monaco   \n",
       "1  Paris Saint-Germain        Serge Aurier      Right-Back      Toulouse   \n",
       "2  Paris Saint-Germain         Kevin Trapp      Goalkeeper  E. Frankfurt   \n",
       "3  Paris Saint-Germain  Benjamin Stambouli     Centre-Back         Spurs   \n",
       "4       Olympique Lyon     Claudio Beauvue  Centre-Forward      Guingamp   \n",
       "\n",
       "  transfer_movement transfer_period  fee_cleaned receiving_league  year  \\\n",
       "0                in          Summer        22.50          Ligue 1  2015   \n",
       "1                in          Summer         9.00          Ligue 1  2015   \n",
       "2                in          Summer         8.55          Ligue 1  2015   \n",
       "3                in          Summer         7.74          Ligue 1  2015   \n",
       "4                in          Summer         5.40          Ligue 1  2015   \n",
       "\n",
       "      season  ...   ldm   cdm   rdm   rwb    lb   lcb    cb   rcb    rb  \\\n",
       "0  2015/2016  ...  74+0  74+0  74+0  77+0  76+0  74+0  74+0  74+0  76+0   \n",
       "1  2015/2016  ...  76+0  76+0  76+0  77+0  77+0  77+0  77+0  77+0  77+0   \n",
       "2  2015/2016  ...  34+0  34+0  34+0  32+0  32+0  34+0  34+0  34+0  32+0   \n",
       "3  2015/2016  ...  76+0  76+0  76+0  72+0  72+0  74+0  74+0  74+0  72+0   \n",
       "4  2015/2016  ...  54+0  54+0  54+0  55+0  50+0  47+0  47+0  47+0  50+0   \n",
       "\n",
       "   fifa year  \n",
       "0       2015  \n",
       "1       2015  \n",
       "2       2015  \n",
       "3       2015  \n",
       "4       2015  \n",
       "\n",
       "[5 rows x 115 columns]"
      ]
     },
     "execution_count": 27,
     "metadata": {},
     "output_type": "execute_result"
    }
   ],
   "source": [
    "df_merged.head()"
   ]
  },
  {
   "cell_type": "markdown",
   "id": "e9f51090",
   "metadata": {},
   "source": [
    "### Check for duplicated players after merging"
   ]
  },
  {
   "cell_type": "code",
   "execution_count": 28,
   "id": "ddc92dd2",
   "metadata": {},
   "outputs": [],
   "source": [
    "df_temp_1 = df_merged[[\"player_name\", \"year\"]]"
   ]
  },
  {
   "cell_type": "code",
   "execution_count": 29,
   "id": "5ce3ed20",
   "metadata": {},
   "outputs": [
    {
     "name": "stdout",
     "output_type": "stream",
     "text": [
      "(2503, 2)\n",
      "(2439, 2)\n"
     ]
    }
   ],
   "source": [
    "print(df_temp_1.shape)\n",
    "print(df_temp_1.drop_duplicates().shape)"
   ]
  },
  {
   "cell_type": "code",
   "execution_count": 30,
   "id": "709fa2f3",
   "metadata": {},
   "outputs": [
    {
     "data": {
      "text/html": [
       "<div>\n",
       "<style scoped>\n",
       "    .dataframe tbody tr th:only-of-type {\n",
       "        vertical-align: middle;\n",
       "    }\n",
       "\n",
       "    .dataframe tbody tr th {\n",
       "        vertical-align: top;\n",
       "    }\n",
       "\n",
       "    .dataframe thead th {\n",
       "        text-align: right;\n",
       "    }\n",
       "</style>\n",
       "<table border=\"1\" class=\"dataframe\">\n",
       "  <thead>\n",
       "    <tr style=\"text-align: right;\">\n",
       "      <th></th>\n",
       "      <th>player_name</th>\n",
       "      <th>year</th>\n",
       "    </tr>\n",
       "  </thead>\n",
       "  <tbody>\n",
       "    <tr>\n",
       "      <th>5</th>\n",
       "      <td>Claudio Beauvue</td>\n",
       "      <td>2015</td>\n",
       "    </tr>\n",
       "    <tr>\n",
       "      <th>8</th>\n",
       "      <td>Adama Traoré</td>\n",
       "      <td>2015</td>\n",
       "    </tr>\n",
       "    <tr>\n",
       "      <th>14</th>\n",
       "      <td>Stephan El Shaarawy</td>\n",
       "      <td>2015</td>\n",
       "    </tr>\n",
       "    <tr>\n",
       "      <th>51</th>\n",
       "      <td>Joshua Kimmich</td>\n",
       "      <td>2015</td>\n",
       "    </tr>\n",
       "    <tr>\n",
       "      <th>143</th>\n",
       "      <td>Andrea Bertolacci</td>\n",
       "      <td>2015</td>\n",
       "    </tr>\n",
       "    <tr>\n",
       "      <th>...</th>\n",
       "      <td>...</td>\n",
       "      <td>...</td>\n",
       "    </tr>\n",
       "    <tr>\n",
       "      <th>1938</th>\n",
       "      <td>Giovani Lo Celso</td>\n",
       "      <td>2019</td>\n",
       "    </tr>\n",
       "    <tr>\n",
       "      <th>1992</th>\n",
       "      <td>Danny Rose</td>\n",
       "      <td>2019</td>\n",
       "    </tr>\n",
       "    <tr>\n",
       "      <th>2139</th>\n",
       "      <td>Andrea Pinamonti</td>\n",
       "      <td>2020</td>\n",
       "    </tr>\n",
       "    <tr>\n",
       "      <th>2142</th>\n",
       "      <td>Mattia Bani</td>\n",
       "      <td>2020</td>\n",
       "    </tr>\n",
       "    <tr>\n",
       "      <th>2281</th>\n",
       "      <td>Ben Davies</td>\n",
       "      <td>2020</td>\n",
       "    </tr>\n",
       "  </tbody>\n",
       "</table>\n",
       "<p>64 rows × 2 columns</p>\n",
       "</div>"
      ],
      "text/plain": [
       "              player_name  year\n",
       "5         Claudio Beauvue  2015\n",
       "8            Adama Traoré  2015\n",
       "14    Stephan El Shaarawy  2015\n",
       "51         Joshua Kimmich  2015\n",
       "143     Andrea Bertolacci  2015\n",
       "...                   ...   ...\n",
       "1938     Giovani Lo Celso  2019\n",
       "1992           Danny Rose  2019\n",
       "2139     Andrea Pinamonti  2020\n",
       "2142          Mattia Bani  2020\n",
       "2281           Ben Davies  2020\n",
       "\n",
       "[64 rows x 2 columns]"
      ]
     },
     "execution_count": 30,
     "metadata": {},
     "output_type": "execute_result"
    }
   ],
   "source": [
    "df_temp_1.loc[df_temp_1.duplicated()]"
   ]
  },
  {
   "cell_type": "code",
   "execution_count": 31,
   "id": "e223167a",
   "metadata": {
    "scrolled": true
   },
   "outputs": [
    {
     "data": {
      "text/html": [
       "<div>\n",
       "<style scoped>\n",
       "    .dataframe tbody tr th:only-of-type {\n",
       "        vertical-align: middle;\n",
       "    }\n",
       "\n",
       "    .dataframe tbody tr th {\n",
       "        vertical-align: top;\n",
       "    }\n",
       "\n",
       "    .dataframe thead th {\n",
       "        text-align: right;\n",
       "    }\n",
       "</style>\n",
       "<table border=\"1\" class=\"dataframe\">\n",
       "  <thead>\n",
       "    <tr style=\"text-align: right;\">\n",
       "      <th></th>\n",
       "      <th>receiving_club</th>\n",
       "      <th>player_name</th>\n",
       "      <th>position</th>\n",
       "      <th>giving_club</th>\n",
       "      <th>transfer_movement</th>\n",
       "      <th>transfer_period</th>\n",
       "      <th>fee_cleaned</th>\n",
       "      <th>receiving_league</th>\n",
       "      <th>year</th>\n",
       "      <th>season</th>\n",
       "      <th>...</th>\n",
       "      <th>ldm</th>\n",
       "      <th>cdm</th>\n",
       "      <th>rdm</th>\n",
       "      <th>rwb</th>\n",
       "      <th>lb</th>\n",
       "      <th>lcb</th>\n",
       "      <th>cb</th>\n",
       "      <th>rcb</th>\n",
       "      <th>rb</th>\n",
       "      <th>fifa year</th>\n",
       "    </tr>\n",
       "  </thead>\n",
       "  <tbody>\n",
       "    <tr>\n",
       "      <th>13</th>\n",
       "      <td>AS Monaco</td>\n",
       "      <td>Stephan El Shaarawy</td>\n",
       "      <td>Left Winger</td>\n",
       "      <td>AC Milan</td>\n",
       "      <td>in</td>\n",
       "      <td>Summer</td>\n",
       "      <td>1.80</td>\n",
       "      <td>Ligue 1</td>\n",
       "      <td>2015</td>\n",
       "      <td>2015/2016</td>\n",
       "      <td>...</td>\n",
       "      <td>57+1</td>\n",
       "      <td>57+1</td>\n",
       "      <td>57+1</td>\n",
       "      <td>59+1</td>\n",
       "      <td>52+1</td>\n",
       "      <td>44+1</td>\n",
       "      <td>44+1</td>\n",
       "      <td>44+1</td>\n",
       "      <td>52+1</td>\n",
       "      <td>2015</td>\n",
       "    </tr>\n",
       "    <tr>\n",
       "      <th>14</th>\n",
       "      <td>AS Roma</td>\n",
       "      <td>Stephan El Shaarawy</td>\n",
       "      <td>Left Winger</td>\n",
       "      <td>AC Milan</td>\n",
       "      <td>in</td>\n",
       "      <td>Winter</td>\n",
       "      <td>1.26</td>\n",
       "      <td>Serie A</td>\n",
       "      <td>2015</td>\n",
       "      <td>2015/2016</td>\n",
       "      <td>...</td>\n",
       "      <td>57+1</td>\n",
       "      <td>57+1</td>\n",
       "      <td>57+1</td>\n",
       "      <td>59+1</td>\n",
       "      <td>52+1</td>\n",
       "      <td>44+1</td>\n",
       "      <td>44+1</td>\n",
       "      <td>44+1</td>\n",
       "      <td>52+1</td>\n",
       "      <td>2015</td>\n",
       "    </tr>\n",
       "    <tr>\n",
       "      <th>572</th>\n",
       "      <td>AS Roma</td>\n",
       "      <td>Stephan El Shaarawy</td>\n",
       "      <td>Left Winger</td>\n",
       "      <td>AC Milan</td>\n",
       "      <td>in</td>\n",
       "      <td>Summer</td>\n",
       "      <td>11.70</td>\n",
       "      <td>Serie A</td>\n",
       "      <td>2016</td>\n",
       "      <td>2016/2017</td>\n",
       "      <td>...</td>\n",
       "      <td>54+1</td>\n",
       "      <td>54+1</td>\n",
       "      <td>54+1</td>\n",
       "      <td>59+1</td>\n",
       "      <td>55+1</td>\n",
       "      <td>45+1</td>\n",
       "      <td>45+1</td>\n",
       "      <td>45+1</td>\n",
       "      <td>55+1</td>\n",
       "      <td>2016</td>\n",
       "    </tr>\n",
       "  </tbody>\n",
       "</table>\n",
       "<p>3 rows × 115 columns</p>\n",
       "</div>"
      ],
      "text/plain": [
       "    receiving_club          player_name     position giving_club  \\\n",
       "13       AS Monaco  Stephan El Shaarawy  Left Winger    AC Milan   \n",
       "14         AS Roma  Stephan El Shaarawy  Left Winger    AC Milan   \n",
       "572        AS Roma  Stephan El Shaarawy  Left Winger    AC Milan   \n",
       "\n",
       "    transfer_movement transfer_period  fee_cleaned receiving_league  year  \\\n",
       "13                 in          Summer         1.80          Ligue 1  2015   \n",
       "14                 in          Winter         1.26          Serie A  2015   \n",
       "572                in          Summer        11.70          Serie A  2016   \n",
       "\n",
       "        season  ...   ldm   cdm   rdm   rwb    lb   lcb    cb   rcb    rb  \\\n",
       "13   2015/2016  ...  57+1  57+1  57+1  59+1  52+1  44+1  44+1  44+1  52+1   \n",
       "14   2015/2016  ...  57+1  57+1  57+1  59+1  52+1  44+1  44+1  44+1  52+1   \n",
       "572  2016/2017  ...  54+1  54+1  54+1  59+1  55+1  45+1  45+1  45+1  55+1   \n",
       "\n",
       "     fifa year  \n",
       "13        2015  \n",
       "14        2015  \n",
       "572       2016  \n",
       "\n",
       "[3 rows x 115 columns]"
      ]
     },
     "execution_count": 31,
     "metadata": {},
     "output_type": "execute_result"
    }
   ],
   "source": [
    "df_merged.loc[df_merged[\"player_name\"]==\"Stephan El Shaarawy\"]"
   ]
  },
  {
   "cell_type": "markdown",
   "id": "d0750d4b",
   "metadata": {},
   "source": [
    "### Sort df to remove duplicates thereafter"
   ]
  },
  {
   "cell_type": "code",
   "execution_count": 32,
   "id": "48929b48",
   "metadata": {},
   "outputs": [],
   "source": [
    "df_merged.sort_values([\"fifa year\", \"player_name\", \"fee_cleaned\"], ascending = (True, True, False), inplace=True)"
   ]
  },
  {
   "cell_type": "code",
   "execution_count": 33,
   "id": "db5f8e89",
   "metadata": {},
   "outputs": [
    {
     "data": {
      "text/html": [
       "<div>\n",
       "<style scoped>\n",
       "    .dataframe tbody tr th:only-of-type {\n",
       "        vertical-align: middle;\n",
       "    }\n",
       "\n",
       "    .dataframe tbody tr th {\n",
       "        vertical-align: top;\n",
       "    }\n",
       "\n",
       "    .dataframe thead th {\n",
       "        text-align: right;\n",
       "    }\n",
       "</style>\n",
       "<table border=\"1\" class=\"dataframe\">\n",
       "  <thead>\n",
       "    <tr style=\"text-align: right;\">\n",
       "      <th></th>\n",
       "      <th>receiving_club</th>\n",
       "      <th>player_name</th>\n",
       "      <th>position</th>\n",
       "      <th>giving_club</th>\n",
       "      <th>transfer_movement</th>\n",
       "      <th>transfer_period</th>\n",
       "      <th>fee_cleaned</th>\n",
       "      <th>receiving_league</th>\n",
       "      <th>year</th>\n",
       "      <th>season</th>\n",
       "      <th>...</th>\n",
       "      <th>ldm</th>\n",
       "      <th>cdm</th>\n",
       "      <th>rdm</th>\n",
       "      <th>rwb</th>\n",
       "      <th>lb</th>\n",
       "      <th>lcb</th>\n",
       "      <th>cb</th>\n",
       "      <th>rcb</th>\n",
       "      <th>rb</th>\n",
       "      <th>fifa year</th>\n",
       "    </tr>\n",
       "  </thead>\n",
       "  <tbody>\n",
       "    <tr>\n",
       "      <th>50</th>\n",
       "      <td>Bayern Munich</td>\n",
       "      <td>Joshua Kimmich</td>\n",
       "      <td>Defensive Midfield</td>\n",
       "      <td>VfB Stuttgart</td>\n",
       "      <td>in</td>\n",
       "      <td>Summer</td>\n",
       "      <td>7.65</td>\n",
       "      <td>1 Bundesliga</td>\n",
       "      <td>2015</td>\n",
       "      <td>2015/2016</td>\n",
       "      <td>...</td>\n",
       "      <td>63+0</td>\n",
       "      <td>63+0</td>\n",
       "      <td>63+0</td>\n",
       "      <td>62+0</td>\n",
       "      <td>59+0</td>\n",
       "      <td>57+0</td>\n",
       "      <td>57+0</td>\n",
       "      <td>57+0</td>\n",
       "      <td>59+0</td>\n",
       "      <td>2015</td>\n",
       "    </tr>\n",
       "    <tr>\n",
       "      <th>51</th>\n",
       "      <td>VfB Stuttgart</td>\n",
       "      <td>Joshua Kimmich</td>\n",
       "      <td>Defensive Midfield</td>\n",
       "      <td>RB Leipzig</td>\n",
       "      <td>in</td>\n",
       "      <td>Summer</td>\n",
       "      <td>1.35</td>\n",
       "      <td>1 Bundesliga</td>\n",
       "      <td>2015</td>\n",
       "      <td>2015/2016</td>\n",
       "      <td>...</td>\n",
       "      <td>63+0</td>\n",
       "      <td>63+0</td>\n",
       "      <td>63+0</td>\n",
       "      <td>62+0</td>\n",
       "      <td>59+0</td>\n",
       "      <td>57+0</td>\n",
       "      <td>57+0</td>\n",
       "      <td>57+0</td>\n",
       "      <td>59+0</td>\n",
       "      <td>2015</td>\n",
       "    </tr>\n",
       "  </tbody>\n",
       "</table>\n",
       "<p>2 rows × 115 columns</p>\n",
       "</div>"
      ],
      "text/plain": [
       "   receiving_club     player_name            position    giving_club  \\\n",
       "50  Bayern Munich  Joshua Kimmich  Defensive Midfield  VfB Stuttgart   \n",
       "51  VfB Stuttgart  Joshua Kimmich  Defensive Midfield     RB Leipzig   \n",
       "\n",
       "   transfer_movement transfer_period  fee_cleaned receiving_league  year  \\\n",
       "50                in          Summer         7.65     1 Bundesliga  2015   \n",
       "51                in          Summer         1.35     1 Bundesliga  2015   \n",
       "\n",
       "       season  ...   ldm   cdm   rdm   rwb    lb   lcb    cb   rcb    rb  \\\n",
       "50  2015/2016  ...  63+0  63+0  63+0  62+0  59+0  57+0  57+0  57+0  59+0   \n",
       "51  2015/2016  ...  63+0  63+0  63+0  62+0  59+0  57+0  57+0  57+0  59+0   \n",
       "\n",
       "    fifa year  \n",
       "50       2015  \n",
       "51       2015  \n",
       "\n",
       "[2 rows x 115 columns]"
      ]
     },
     "execution_count": 33,
     "metadata": {},
     "output_type": "execute_result"
    }
   ],
   "source": [
    "df_merged.loc[df_merged[\"player_name\"]==\"Joshua Kimmich\"]"
   ]
  },
  {
   "cell_type": "code",
   "execution_count": 34,
   "id": "0d0ba62e",
   "metadata": {},
   "outputs": [],
   "source": [
    "df_merged.drop_duplicates(keep=\"first\", inplace=True, subset=[\"player_name\", \"fifa year\"])"
   ]
  },
  {
   "cell_type": "code",
   "execution_count": 35,
   "id": "a682488a",
   "metadata": {},
   "outputs": [
    {
     "data": {
      "text/plain": [
       "(2439, 115)"
      ]
     },
     "execution_count": 35,
     "metadata": {},
     "output_type": "execute_result"
    }
   ],
   "source": [
    "df_merged.shape"
   ]
  },
  {
   "cell_type": "markdown",
   "id": "bd667e4e",
   "metadata": {},
   "source": [
    "### Saving baseline data frame"
   ]
  },
  {
   "cell_type": "code",
   "execution_count": 36,
   "id": "7039f8d1",
   "metadata": {},
   "outputs": [],
   "source": [
    "df_merged.to_csv(\"../../raw_data/baseline_df.csv\")"
   ]
  },
  {
   "cell_type": "markdown",
   "id": "0fa17b1d",
   "metadata": {},
   "source": [
    "# Building baseline model"
   ]
  },
  {
   "cell_type": "code",
   "execution_count": 37,
   "id": "53d545d7",
   "metadata": {
    "scrolled": false
   },
   "outputs": [
    {
     "name": "stdout",
     "output_type": "stream",
     "text": [
      "<class 'pandas.core.frame.DataFrame'>\n",
      "Int64Index: 2439 entries, 283 to 2382\n",
      "Data columns (total 115 columns):\n",
      " #    Column                      Dtype  \n",
      "---   ------                      -----  \n",
      " 0    receiving_club              object \n",
      " 1    player_name                 object \n",
      " 2    position                    object \n",
      " 3    giving_club                 object \n",
      " 4    transfer_movement           object \n",
      " 5    transfer_period             object \n",
      " 6    fee_cleaned                 float64\n",
      " 7    receiving_league            object \n",
      " 8    year                        int64  \n",
      " 9    season                      object \n",
      " 10   sofifa_id                   int64  \n",
      " 11   long_name                   object \n",
      " 12   age                         int64  \n",
      " 13   dob                         object \n",
      " 14   height_cm                   int64  \n",
      " 15   weight_kg                   int64  \n",
      " 16   nationality                 object \n",
      " 17   club_name                   object \n",
      " 18   league_name                 object \n",
      " 19   league_rank                 float64\n",
      " 20   overall                     int64  \n",
      " 21   potential                   int64  \n",
      " 22   value_eur                   int64  \n",
      " 23   wage_eur                    int64  \n",
      " 24   player_positions            object \n",
      " 25   preferred_foot              object \n",
      " 26   international_reputation    int64  \n",
      " 27   weak_foot                   int64  \n",
      " 28   skill_moves                 int64  \n",
      " 29   work_rate                   object \n",
      " 30   body_type                   object \n",
      " 31   real_face                   object \n",
      " 32   release_clause_eur          float64\n",
      " 33   player_tags                 object \n",
      " 34   team_position               object \n",
      " 35   team_jersey_number          float64\n",
      " 36   loaned_from                 object \n",
      " 37   joined                      object \n",
      " 38   contract_valid_until        float64\n",
      " 39   nation_position             object \n",
      " 40   nation_jersey_number        float64\n",
      " 41   pace                        float64\n",
      " 42   shooting                    float64\n",
      " 43   passing                     float64\n",
      " 44   dribbling                   float64\n",
      " 45   defending                   float64\n",
      " 46   physic                      float64\n",
      " 47   gk_diving                   float64\n",
      " 48   gk_handling                 float64\n",
      " 49   gk_kicking                  float64\n",
      " 50   gk_reflexes                 float64\n",
      " 51   gk_speed                    float64\n",
      " 52   gk_positioning              float64\n",
      " 53   player_traits               object \n",
      " 54   attacking_crossing          int64  \n",
      " 55   attacking_finishing         int64  \n",
      " 56   attacking_heading_accuracy  int64  \n",
      " 57   attacking_short_passing     int64  \n",
      " 58   attacking_volleys           int64  \n",
      " 59   skill_dribbling             int64  \n",
      " 60   skill_curve                 int64  \n",
      " 61   skill_fk_accuracy           int64  \n",
      " 62   skill_long_passing          int64  \n",
      " 63   skill_ball_control          int64  \n",
      " 64   movement_acceleration       int64  \n",
      " 65   movement_sprint_speed       int64  \n",
      " 66   movement_agility            int64  \n",
      " 67   movement_reactions          int64  \n",
      " 68   movement_balance            int64  \n",
      " 69   power_shot_power            int64  \n",
      " 70   power_jumping               int64  \n",
      " 71   power_stamina               int64  \n",
      " 72   power_strength              int64  \n",
      " 73   power_long_shots            int64  \n",
      " 74   mentality_aggression        int64  \n",
      " 75   mentality_interceptions     int64  \n",
      " 76   mentality_positioning       int64  \n",
      " 77   mentality_vision            int64  \n",
      " 78   mentality_penalties         int64  \n",
      " 79   mentality_composure         float64\n",
      " 80   defending_marking           float64\n",
      " 81   defending_standing_tackle   int64  \n",
      " 82   defending_sliding_tackle    int64  \n",
      " 83   goalkeeping_diving          int64  \n",
      " 84   goalkeeping_handling        int64  \n",
      " 85   goalkeeping_kicking         int64  \n",
      " 86   goalkeeping_positioning     int64  \n",
      " 87   goalkeeping_reflexes        int64  \n",
      " 88   ls                          object \n",
      " 89   st                          object \n",
      " 90   rs                          object \n",
      " 91   lw                          object \n",
      " 92   lf                          object \n",
      " 93   cf                          object \n",
      " 94   rf                          object \n",
      " 95   rw                          object \n",
      " 96   lam                         object \n",
      " 97   cam                         object \n",
      " 98   ram                         object \n",
      " 99   lm                          object \n",
      " 100  lcm                         object \n",
      " 101  cm                          object \n",
      " 102  rcm                         object \n",
      " 103  rm                          object \n",
      " 104  lwb                         object \n",
      " 105  ldm                         object \n",
      " 106  cdm                         object \n",
      " 107  rdm                         object \n",
      " 108  rwb                         object \n",
      " 109  lb                          object \n",
      " 110  lcb                         object \n",
      " 111  cb                          object \n",
      " 112  rcb                         object \n",
      " 113  rb                          object \n",
      " 114  fifa year                   int64  \n",
      "dtypes: float64(20), int64(45), object(50)\n",
      "memory usage: 2.2+ MB\n"
     ]
    }
   ],
   "source": [
    "df_merged.info(verbose=True)"
   ]
  },
  {
   "cell_type": "markdown",
   "id": "5045b84e",
   "metadata": {},
   "source": [
    "## Feature cleaning"
   ]
  },
  {
   "cell_type": "markdown",
   "id": "69a34a29",
   "metadata": {},
   "source": [
    "### Positional ratings (ls, st, rw, tw, etc.)"
   ]
  },
  {
   "cell_type": "code",
   "execution_count": 38,
   "id": "786321bc",
   "metadata": {},
   "outputs": [],
   "source": [
    "def position_field_transform(pos):\n",
    "    return int(pos.split(\"+\")[0])"
   ]
  },
  {
   "cell_type": "code",
   "execution_count": 39,
   "id": "62cc732e",
   "metadata": {},
   "outputs": [],
   "source": [
    "position_cols = [\n",
    "    'ls', 'st', 'rs', 'lw', 'lf', 'cf', 'rf', 'rw', 'lam', 'cam', 'ram', 'lm',\n",
    "    'lcm', 'cm', 'rcm', 'rm', 'lwb', 'ldm', 'cdm', 'rdm', 'rwb', 'lb', 'lcb',\n",
    "    'cb', 'rcb', 'rb'\n",
    "]"
   ]
  },
  {
   "cell_type": "code",
   "execution_count": 40,
   "id": "f69e2fda",
   "metadata": {},
   "outputs": [],
   "source": [
    "for pos in position_cols:\n",
    "    df_merged[pos] = df_merged[pos].map(position_field_transform)"
   ]
  },
  {
   "cell_type": "code",
   "execution_count": 41,
   "id": "b42282dc",
   "metadata": {},
   "outputs": [
    {
     "data": {
      "text/plain": [
       "(array([ 38., 106.,  26.,  96., 189., 390., 574., 695., 297.,  28.]),\n",
       " array([18. , 24.8, 31.6, 38.4, 45.2, 52. , 58.8, 65.6, 72.4, 79.2, 86. ]),\n",
       " <BarContainer object of 10 artists>)"
      ]
     },
     "execution_count": 41,
     "metadata": {},
     "output_type": "execute_result"
    },
    {
     "data": {
      "image/png": "[encoded data removed]",
      "text/plain": [
       "<Figure size 432x288 with 1 Axes>"
      ]
     },
     "metadata": {
      "needs_background": "light"
     },
     "output_type": "display_data"
    }
   ],
   "source": [
    "plt.hist(df_merged.ls)"
   ]
  },
  {
   "cell_type": "code",
   "execution_count": 42,
   "id": "c8f02189",
   "metadata": {},
   "outputs": [
    {
     "data": {
      "text/plain": [
       "283    41\n",
       "89     75\n",
       "320    68\n",
       "176    50\n",
       "368    67\n",
       "Name: ls, dtype: int64"
      ]
     },
     "execution_count": 42,
     "metadata": {},
     "output_type": "execute_result"
    }
   ],
   "source": [
    "df_merged.ls.head()"
   ]
  },
  {
   "cell_type": "markdown",
   "id": "be37fe07",
   "metadata": {},
   "source": [
    "### player_traits & player_tags *[to be completed]*"
   ]
  },
  {
   "cell_type": "code",
   "execution_count": 43,
   "id": "5f6d8ebb",
   "metadata": {},
   "outputs": [
    {
     "data": {
      "text/plain": [
       "0         Finesse Shot, Speed Dribbler (AI), One Club Pl...\n",
       "16155     Finesse Shot, Speed Dribbler (AI), One Club Pl...\n",
       "31779     Finesse Shot, Long Shot Taker (AI), Speed Drib...\n",
       "49376     Finesse Shot, Long Shot Taker (AI), Speed Drib...\n",
       "67330     Finesse Shot, Long Shot Taker (AI), Speed Drib...\n",
       "85414     Finesse Shot, Long Shot Taker (AI), Speed Drib...\n",
       "103897    Finesse Shot, Long Shot Taker (AI), Speed Drib...\n",
       "Name: player_traits, dtype: object"
      ]
     },
     "execution_count": 43,
     "metadata": {},
     "output_type": "execute_result"
    }
   ],
   "source": [
    "df_players.loc[df_players[\"long_name\"]==\"Lionel Andrés Messi Cuccittini\"].player_traits"
   ]
  },
  {
   "cell_type": "code",
   "execution_count": 44,
   "id": "4582d0f9",
   "metadata": {},
   "outputs": [
    {
     "data": {
      "text/plain": [
       "array([nan, '#Speedster, #Acrobat', '#Strength', '#Acrobat',\n",
       "       '#Dribbler, #Acrobat', '#Playmaker, #Engine, #Tactician',\n",
       "       '#Speedster', '#Engine', '#Dribbler', '#Speedster, #Dribbler',\n",
       "       '#Aerial Threat', '#Aerial Threat, #Strength',\n",
       "       '#Dribbler, #Distance Shooter, #Crosser',\n",
       "       '#Poacher, #Aerial Threat', '#Distance Shooter',\n",
       "       '#Aerial Threat, #Engine', '#Engine, #Strength',\n",
       "       '#Aerial Threat, #Tackling, #Tactician, #Strength, #Complete Defender',\n",
       "       '#Speedster, #Dribbler, #FK Specialist', '#Tactician',\n",
       "       '#Distance Shooter, #Strength', '#Crosser', '#Tackling',\n",
       "       '#Engine, #Tactician', '#Aerial Threat, #Engine, #Strength',\n",
       "       '#Crosser, #FK Specialist', '#Dribbler, #Engine, #Acrobat',\n",
       "       '#Tackling, #Tactician', '#Speedster, #Dribbler, #Acrobat',\n",
       "       '#Engine, #Tackling, #Tactician',\n",
       "       '#Dribbler, #Acrobat, #Clinical Finisher',\n",
       "       '#Poacher, #Aerial Threat, #Strength, #Complete Forward',\n",
       "       '#Engine, #Acrobat', '#Clinical Finisher', '#Engine, #Crosser',\n",
       "       '#FK Specialist', '#Distance Shooter, #Crosser, #FK Specialist',\n",
       "       '#Playmaker, #Acrobat', '#Poacher, #Clinical Finisher',\n",
       "       '#Speedster, #Engine'], dtype=object)"
      ]
     },
     "execution_count": 44,
     "metadata": {},
     "output_type": "execute_result"
    }
   ],
   "source": [
    "df_merged.player_tags.unique()"
   ]
  },
  {
   "cell_type": "markdown",
   "id": "867dfc0a",
   "metadata": {},
   "source": [
    "### Joined to datetime"
   ]
  },
  {
   "cell_type": "code",
   "execution_count": 45,
   "id": "cd4fa243",
   "metadata": {},
   "outputs": [],
   "source": [
    "df_merged[\"joined\"] = pd.to_datetime(df_merged.joined)"
   ]
  },
  {
   "cell_type": "markdown",
   "id": "7f334a44",
   "metadata": {},
   "source": [
    "### Remove value_eur to avoid \"target-like\" feature"
   ]
  },
  {
   "cell_type": "code",
   "execution_count": 46,
   "id": "9ad1dd98",
   "metadata": {},
   "outputs": [],
   "source": [
    "df_merged.drop(columns=\"value_eur\", inplace=True)"
   ]
  },
  {
   "cell_type": "markdown",
   "id": "fb790808",
   "metadata": {},
   "source": [
    "### Date of birth to datetime"
   ]
  },
  {
   "cell_type": "code",
   "execution_count": 47,
   "id": "bb881bac",
   "metadata": {},
   "outputs": [],
   "source": [
    "df_merged[\"dob\"] = pd.to_datetime(df_merged.dob)"
   ]
  }
 ],
 "metadata": {
  "kernelspec": {
   "display_name": "Python 3 (ipykernel)",
   "language": "python",
   "name": "python3"
  },
  "language_info": {
   "codemirror_mode": {
    "name": "ipython",
    "version": 3
   },
   "file_extension": ".py",
   "mimetype": "text/x-python",
   "name": "python",
   "nbconvert_exporter": "python",
   "pygments_lexer": "ipython3",
   "version": "3.8.12"
  },
  "toc": {
   "base_numbering": 1,
   "nav_menu": {},
   "number_sections": true,
   "sideBar": true,
   "skip_h1_title": false,
   "title_cell": "Table of Contents",
   "title_sidebar": "Contents",
   "toc_cell": false,
   "toc_position": {},
   "toc_section_display": true,
   "toc_window_display": true
  }
 },
 "nbformat": 4,
 "nbformat_minor": 5
}
