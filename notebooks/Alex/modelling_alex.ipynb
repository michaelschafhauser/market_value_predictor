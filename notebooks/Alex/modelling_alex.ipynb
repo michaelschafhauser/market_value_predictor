{
 "cells": [
  {
   "cell_type": "code",
   "execution_count": null,
   "id": "e8ed66af",
   "metadata": {},
   "outputs": [],
   "source": [
    "%load_ext autoreload\n",
    "%autoreload 2"
   ]
  },
  {
   "cell_type": "code",
   "execution_count": null,
   "id": "81b2ab28",
   "metadata": {},
   "outputs": [],
   "source": [
    "import pandas as pd\n",
    "import numpy as np\n",
    "import seaborn as sns\n",
    "import matplotlib.pyplot as plt\n",
    "import random\n",
    "from market_value_predictor.preproc import reduce_number_of_classes"
   ]
  },
  {
   "cell_type": "code",
   "execution_count": null,
   "id": "f4d633fb",
   "metadata": {},
   "outputs": [],
   "source": [
    "random.seed(42)"
   ]
  },
  {
   "cell_type": "markdown",
   "id": "e27ec240",
   "metadata": {},
   "source": [
    "# Import data"
   ]
  },
  {
   "cell_type": "code",
   "execution_count": null,
   "id": "e98f1c7b",
   "metadata": {},
   "outputs": [],
   "source": [
    "df_train = pd.read_csv(\"../../raw_data/master_data_train.csv\").drop(columns=\"Unnamed: 0\")\n",
    "df_test = pd.read_csv(\"../../raw_data/master_data_test.csv\").drop(columns=\"Unnamed: 0\")"
   ]
  },
  {
   "cell_type": "code",
   "execution_count": null,
   "id": "f058f0b4",
   "metadata": {},
   "outputs": [],
   "source": [
    "df_train.info(verbose=True, show_counts=True)"
   ]
  },
  {
   "cell_type": "code",
   "execution_count": null,
   "id": "96eecf76",
   "metadata": {},
   "outputs": [],
   "source": [
    "numericals = [\"int64\", \"float64\"]"
   ]
  },
  {
   "cell_type": "code",
   "execution_count": null,
   "id": "cd4e8c72",
   "metadata": {},
   "outputs": [],
   "source": [
    "X = df_train.select_dtypes(numericals).drop(columns=\"fee_cleaned\")"
   ]
  },
  {
   "cell_type": "code",
   "execution_count": null,
   "id": "becc6ed2",
   "metadata": {},
   "outputs": [],
   "source": [
    "y = df_train.fee_cleaned"
   ]
  },
  {
   "cell_type": "markdown",
   "id": "9df035c2",
   "metadata": {},
   "source": [
    "# Feature selection"
   ]
  },
  {
   "cell_type": "code",
   "execution_count": null,
   "id": "3e7a00f5",
   "metadata": {},
   "outputs": [],
   "source": [
    "correlations = df_train.select_dtypes(numericals).corr().fee_cleaned"
   ]
  },
  {
   "cell_type": "code",
   "execution_count": null,
   "id": "a89af1cb",
   "metadata": {},
   "outputs": [],
   "source": [
    "correlations.sort_values(ascending=False)[1:11]"
   ]
  },
  {
   "cell_type": "code",
   "execution_count": null,
   "id": "69c4c5ef",
   "metadata": {},
   "outputs": [],
   "source": [
    "top_5_corr_num_features = list(correlations.sort_values(ascending=False)[1:6].index)"
   ]
  },
  {
   "cell_type": "code",
   "execution_count": null,
   "id": "52f3855b",
   "metadata": {},
   "outputs": [],
   "source": [
    "X_selection = X[top_5_corr_num_features]"
   ]
  },
  {
   "cell_type": "code",
   "execution_count": null,
   "id": "c7ce2c26",
   "metadata": {},
   "outputs": [],
   "source": [
    "X_selection"
   ]
  },
  {
   "cell_type": "markdown",
   "id": "a7272f9f",
   "metadata": {},
   "source": [
    "# Train model 1: top 5 correlated numerical features"
   ]
  },
  {
   "cell_type": "code",
   "execution_count": null,
   "id": "b5f29042",
   "metadata": {},
   "outputs": [],
   "source": [
    "from sklearn.preprocessing import OneHotEncoder, MinMaxScaler, RobustScaler\n",
    "from sklearn.impute import SimpleImputer\n",
    "from sklearn.compose import ColumnTransformer\n",
    "from sklearn.pipeline import Pipeline, make_pipeline\n",
    "from sklearn import set_config; set_config(display='diagram')\n",
    "from sklearn.linear_model import LinearRegression, Ridge, Lasso"
   ]
  },
  {
   "cell_type": "code",
   "execution_count": null,
   "id": "941a966d",
   "metadata": {},
   "outputs": [],
   "source": [
    "pipe = Pipeline([\n",
    "    (\"imputer\", SimpleImputer(strategy=\"constant\", fill_value=0)),\n",
    "    (\"scaler\", MinMaxScaler()),\n",
    "    (\"estimator\", LinearRegression())\n",
    "])\n",
    "pipe"
   ]
  },
  {
   "cell_type": "code",
   "execution_count": null,
   "id": "5808ade8",
   "metadata": {},
   "outputs": [],
   "source": [
    "from sklearn.model_selection import cross_val_score\n",
    "\n",
    "cross_val_score(pipe, X_selection, y, cv=5, scoring='r2').mean()"
   ]
  },
  {
   "cell_type": "markdown",
   "id": "c97a5c40",
   "metadata": {},
   "source": [
    "# Feature engineering"
   ]
  },
  {
   "cell_type": "code",
   "execution_count": null,
   "id": "885ac157",
   "metadata": {},
   "outputs": [],
   "source": [
    "from market_value_predictor.preproc import manual_encoding"
   ]
  },
  {
   "cell_type": "code",
   "execution_count": null,
   "id": "bc04a9f6",
   "metadata": {},
   "outputs": [],
   "source": []
  },
  {
   "cell_type": "code",
   "execution_count": null,
   "id": "a90231a2",
   "metadata": {},
   "outputs": [],
   "source": [
    "df_train = manual_encoding(df_train, \"player_tags\")"
   ]
  },
  {
   "cell_type": "code",
   "execution_count": null,
   "id": "3e3fe54e",
   "metadata": {},
   "outputs": [],
   "source": [
    "df_train = manual_encoding(df_train, \"player_positions\")"
   ]
  },
  {
   "cell_type": "code",
   "execution_count": null,
   "id": "666383b2",
   "metadata": {},
   "outputs": [],
   "source": [
    "df_train = manual_encoding(df_train, \"player_traits\")"
   ]
  },
  {
   "cell_type": "code",
   "execution_count": null,
   "id": "e71e33bf",
   "metadata": {},
   "outputs": [],
   "source": [
    "df_train.select_dtypes(object)"
   ]
  },
  {
   "cell_type": "markdown",
   "id": "fcc0ada8",
   "metadata": {},
   "source": [
    "## Reduce number of classes on 'nationality'"
   ]
  },
  {
   "cell_type": "code",
   "execution_count": null,
   "id": "50fbae37",
   "metadata": {},
   "outputs": [],
   "source": [
    "nationality_df = pd.DataFrame(\n",
    "    df_train.nationality.value_counts()).reset_index().rename(\n",
    "        columns={\n",
    "            \"index\": \"nationality\",\n",
    "            \"nationality\": \"count\"\n",
    "        })"
   ]
  },
  {
   "cell_type": "code",
   "execution_count": null,
   "id": "8a8c4a29",
   "metadata": {},
   "outputs": [],
   "source": [
    "temp_list = []\n",
    "for i, elem in enumerate(list(nationality_df[\"count\"])):\n",
    "    if elem > 50:\n",
    "        temp_list.append(list(nationality_df.nationality)[i])\n",
    "    else:\n",
    "        temp_list.append(\"other\")"
   ]
  },
  {
   "cell_type": "code",
   "execution_count": null,
   "id": "42d6ae8b",
   "metadata": {},
   "outputs": [],
   "source": [
    "nationality_df[\"nationality_cleaned\"] = temp_list"
   ]
  },
  {
   "cell_type": "code",
   "execution_count": null,
   "id": "24712b51",
   "metadata": {},
   "outputs": [],
   "source": [
    "nationality_df = nationality_df.drop(columns=\"count\")"
   ]
  },
  {
   "cell_type": "code",
   "execution_count": null,
   "id": "c7cec81d",
   "metadata": {},
   "outputs": [],
   "source": [
    "df_train = df_train.merge(nationality_df, on=\"nationality\", how=\"left\").drop(columns=\"nationality\")"
   ]
  },
  {
   "cell_type": "markdown",
   "id": "6104d39d",
   "metadata": {},
   "source": [
    "## Reduce number of classes on 'league_name'"
   ]
  },
  {
   "cell_type": "code",
   "execution_count": null,
   "id": "ce90335e",
   "metadata": {},
   "outputs": [],
   "source": [
    "league_name_df = pd.DataFrame(\n",
    "    df_train.league_name.value_counts()).reset_index().rename(\n",
    "        columns={\n",
    "            \"index\": \"league_name\",\n",
    "            \"league_name\": \"count\"\n",
    "        })"
   ]
  },
  {
   "cell_type": "code",
   "execution_count": null,
   "id": "f0936825",
   "metadata": {},
   "outputs": [],
   "source": [
    "temp_list = []\n",
    "for i, elem in enumerate(list(league_name_df[\"count\"])):\n",
    "    if elem > 100:\n",
    "        temp_list.append(list(league_name_df.league_name)[i])\n",
    "    else:\n",
    "        temp_list.append(\"other\")"
   ]
  },
  {
   "cell_type": "code",
   "execution_count": null,
   "id": "3dd3d395",
   "metadata": {},
   "outputs": [],
   "source": [
    "league_name_df[\"league_name_cleaned\"] = temp_list"
   ]
  },
  {
   "cell_type": "code",
   "execution_count": null,
   "id": "95e2d4b4",
   "metadata": {},
   "outputs": [],
   "source": [
    "league_name_df = league_name_df.drop(columns=\"count\")"
   ]
  },
  {
   "cell_type": "code",
   "execution_count": null,
   "id": "b0c0e1d4",
   "metadata": {},
   "outputs": [],
   "source": [
    "df_train = df_train.merge(league_name_df, on=\"league_name\", how=\"left\").drop(columns=\"league_name\")"
   ]
  },
  {
   "cell_type": "markdown",
   "id": "d6dc9d36",
   "metadata": {},
   "source": [
    "## Club_name"
   ]
  },
  {
   "cell_type": "code",
   "execution_count": null,
   "id": "b8872737",
   "metadata": {},
   "outputs": [],
   "source": [
    "ohe = OneHotEncoder(sparse=False)"
   ]
  },
  {
   "cell_type": "code",
   "execution_count": null,
   "id": "18f44362",
   "metadata": {},
   "outputs": [],
   "source": [
    "club_name_encoded = pd.DataFrame(ohe.fit_transform(df_train[[\"club_name\"]]))"
   ]
  },
  {
   "cell_type": "code",
   "execution_count": null,
   "id": "58d90314",
   "metadata": {},
   "outputs": [],
   "source": [
    "club_name_encoded.columns = ohe.get_feature_names_out()"
   ]
  },
  {
   "cell_type": "code",
   "execution_count": null,
   "id": "34931d78",
   "metadata": {},
   "outputs": [],
   "source": [
    "club_name_encoded[\"fee_cleaned\"] = df_train.fee_cleaned"
   ]
  },
  {
   "cell_type": "code",
   "execution_count": null,
   "id": "12a41dc1",
   "metadata": {},
   "outputs": [],
   "source": [
    "club_name_encoded.corr().fee_cleaned.sort_values(ascending=False)[:20]"
   ]
  },
  {
   "cell_type": "code",
   "execution_count": null,
   "id": "dc999985",
   "metadata": {},
   "outputs": [],
   "source": [
    "### Drop club_name"
   ]
  },
  {
   "cell_type": "code",
   "execution_count": null,
   "id": "e10c1c22",
   "metadata": {},
   "outputs": [],
   "source": [
    "df_train.drop(columns=\"club_name\", inplace=True)"
   ]
  },
  {
   "cell_type": "markdown",
   "id": "aae371d7",
   "metadata": {},
   "source": [
    "## Reduce number of classes on 'team_position'"
   ]
  },
  {
   "cell_type": "code",
   "execution_count": null,
   "id": "5e9d11dc",
   "metadata": {},
   "outputs": [],
   "source": [
    "attack = [\"ST\", \"LS\", \"LW\", \"RS\", \"RW\", \"RF\", \"LF\", \"CF\"]\n",
    "mid = [\"LCM\", \"RM\", \"CB\", \"CAM\", \"LM\", \"CM\", \"CDM\", \"RCM\", \"LCM\", \"RDM\", \"LDM\", \"RAM\", \"LAM\"]\n",
    "defense = [\"RCB\", \"LCB\", \"CB\", \"RB\", \"LB\", \"RWB\", \"LWB\"]\n",
    "goal = [\"GK\"]\n",
    "sub = [\"SUB\", \"RES\"]"
   ]
  },
  {
   "cell_type": "code",
   "execution_count": null,
   "id": "d0bd31ac",
   "metadata": {},
   "outputs": [],
   "source": [
    "# df_train[\"position_cluster\"] = df_train.team_position.map(lambda x: \"attack\" if x in attack else \"mid\"\n",
    "#                            if x in mid else \"defense\" if x in defense else \"goal\"\n",
    "#                            if x in goal else \"sub\" if x in sub else \"nan\")"
   ]
  },
  {
   "cell_type": "code",
   "execution_count": null,
   "id": "353f4541",
   "metadata": {},
   "outputs": [],
   "source": [
    "df_train.drop(columns=\"team_position\", inplace=True)"
   ]
  },
  {
   "cell_type": "markdown",
   "id": "42a6457a",
   "metadata": {},
   "source": [
    "## Pipelining feature engineering"
   ]
  },
  {
   "cell_type": "code",
   "execution_count": null,
   "id": "fbf99704",
   "metadata": {},
   "outputs": [],
   "source": [
    "from sklearn.preprocessing import FunctionTransformer\n",
    "\n",
    "feat_eng_player_traits = FunctionTransformer(lambda df: manual_encoding(df, \"player_traits\"))\n",
    "feat_eng_player_tags = FunctionTransformer(lambda df: manual_encoding(df, \"player_tags\"))\n",
    "feat_eng_player_positions = FunctionTransformer(lambda df: manual_encoding(df, \"player_positions\"))\n",
    "\n",
    "dim_reduction_nationality = FunctionTransformer(lambda df: reduce_number_of_classes(df, \"nationality\", 50))\n",
    "dim_reduction_league_name = FunctionTransformer(lambda df: reduce_number_of_classes(df, \"league_name\", 100))\n",
    "\n",
    "cluster_team_position = FunctionTransformer(lambda df: cluster_team_position(df))\n",
    "\n",
    "feat_eng = Pipeline([\n",
    "    (\"player_traits\", feat_eng_player_traits),\n",
    "    (\"player_tags\", feat_eng_player_tags),\n",
    "    (\"player_positions\", feat_eng_player_positions),\n",
    "    (\"nationality\", dim_reduction_nationality),\n",
    "    (\"league_name\", dim_reduction_league_name),\n",
    "#     (\"team_position\", cluster_team_position)\n",
    "])\n",
    "\n",
    "feat_eng"
   ]
  },
  {
   "cell_type": "markdown",
   "id": "d282b9bb",
   "metadata": {},
   "source": [
    "# Drop nas from object columns"
   ]
  },
  {
   "cell_type": "code",
   "execution_count": null,
   "id": "d0915314",
   "metadata": {},
   "outputs": [],
   "source": [
    "df_train = df_train.dropna(subset=list(df_train.select_dtypes(object).columns))"
   ]
  },
  {
   "cell_type": "markdown",
   "id": "50656b4f",
   "metadata": {},
   "source": [
    "# Train model 2: After feature engineering"
   ]
  },
  {
   "cell_type": "markdown",
   "id": "0218de4b",
   "metadata": {},
   "source": [
    "## Define lists for column transformers"
   ]
  },
  {
   "cell_type": "code",
   "execution_count": null,
   "id": "7ad69333",
   "metadata": {},
   "outputs": [],
   "source": [
    "all_cats = list(df_train.select_dtypes(object).columns)\n",
    "\n",
    "numerics = ['int16', 'int32', 'int64', 'float16', 'float32', 'float64']\n",
    "\n",
    "all_numerics = list(df_train.select_dtypes(include=numerics).columns)\n",
    "\n",
    "all_numerics.remove(\"fee_cleaned\")\n",
    "\n",
    "encoded_columns = [elem for elem in all_numerics if \"player_tags_\" in elem] + [\n",
    "    elem for elem in all_numerics if \"player_positions_\" in elem\n",
    "] + [elem for elem in all_numerics if \"player_traits_\" in elem]\n",
    "\n",
    "all_numerics_wo_encoded = []\n",
    "for elem in all_numerics:\n",
    "    if elem not in encoded_columns:\n",
    "        all_numerics_wo_encoded.append(elem)\n",
    "\n",
    "numericals_zero_impute = [\n",
    "    \"gk_diving\", \"gk_handling\", \"gk_kicking\", \"gk_reflexes\", \"gk_speed\",\n",
    "    \"gk_positioning\", \"release_clause_eur\"\n",
    "]\n",
    "\n",
    "numericals_mean_impute = []\n",
    "\n",
    "for elem in all_numerics_wo_encoded:\n",
    "    if elem not in numericals_zero_impute:\n",
    "        numericals_mean_impute.append(elem)"
   ]
  },
  {
   "cell_type": "markdown",
   "id": "056607d1",
   "metadata": {},
   "source": [
    "## Define transformers"
   ]
  },
  {
   "cell_type": "code",
   "execution_count": null,
   "id": "4949a5ca",
   "metadata": {},
   "outputs": [],
   "source": [
    "num_zero_tr = Pipeline([\n",
    "    (\"imputer\", SimpleImputer(strategy=\"constant\", fill_value=0)),\n",
    "    (\"scaler\", MinMaxScaler())\n",
    "])\n",
    "\n",
    "num_mean_tr = Pipeline([\n",
    "    (\"imputer\", SimpleImputer(strategy=\"mean\")),\n",
    "    (\"scaler\", MinMaxScaler())\n",
    "])\n",
    "\n",
    "cat_tr = OneHotEncoder(handle_unknown='ignore', )"
   ]
  },
  {
   "cell_type": "markdown",
   "id": "db84bfd7",
   "metadata": {},
   "source": [
    "## Build pipeline"
   ]
  },
  {
   "cell_type": "code",
   "execution_count": null,
   "id": "0a21d0bf",
   "metadata": {},
   "outputs": [],
   "source": [
    "preprocessor = ColumnTransformer(\n",
    "    [(\"numerics_zero_imputing\", num_zero_tr, numericals_zero_impute),\n",
    "     (\"numerics_mean_imputing\", num_mean_tr, numericals_mean_impute),\n",
    "     (\"cat_tr\", cat_tr, all_cats)],\n",
    "remainder=\"passthrough\")\n",
    "\n",
    "pipe_2 = Pipeline([\n",
    "    #(\"feat_eng\", feat_eng),\n",
    "    (\"preprocessing\", preprocessor), \n",
    "    (\"regressor\", CatBoostRegressor(silent=True))])\n",
    "\n",
    "pipe_2"
   ]
  },
  {
   "cell_type": "code",
   "execution_count": null,
   "id": "8f60e93b",
   "metadata": {},
   "outputs": [],
   "source": [
    "X_2_train = df_train.drop(columns=\"fee_cleaned\")\n",
    "y_2_train = df_train[\"fee_cleaned\"]"
   ]
  },
  {
   "cell_type": "code",
   "execution_count": null,
   "id": "53b18eac",
   "metadata": {},
   "outputs": [],
   "source": [
    "cross_val_score(pipe_2, X_2, y_2, cv=5, scoring=\"r2\").mean()"
   ]
  },
  {
   "cell_type": "markdown",
   "id": "c8597983",
   "metadata": {},
   "source": [
    "## Grid search"
   ]
  },
  {
   "cell_type": "code",
   "execution_count": null,
   "id": "fda24af4",
   "metadata": {},
   "outputs": [],
   "source": [
    "from xgboost.sklearn import XGBRegressor\n",
    "from sklearn.linear_model import LinearRegression, Ridge, Lasso\n",
    "from catboost import CatBoostRegressor\n",
    "from sklearn.linear_model import SGDRegressor\n",
    "from sklearn.kernel_ridge import KernelRidge\n",
    "from sklearn.linear_model import ElasticNet\n",
    "from sklearn.linear_model import BayesianRidge\n",
    "from sklearn.ensemble import GradientBoostingRegressor\n",
    "from sklearn.svm import SVR\n",
    "from sklearn.model_selection import GridSearchCV"
   ]
  },
  {
   "cell_type": "code",
   "execution_count": null,
   "id": "02df8135",
   "metadata": {},
   "outputs": [],
   "source": [
    "pipe_2.get_params()"
   ]
  },
  {
   "cell_type": "code",
   "execution_count": null,
   "id": "4a04a823",
   "metadata": {},
   "outputs": [],
   "source": [
    "param_grid={\n",
    "#     'columntransformer__num_tr__scaler': [RobustScaler()],\n",
    "    'regressor': [\n",
    "        #Ridge(), \n",
    "        #LinearRegression(), \n",
    "        #XGBRegressor(), \n",
    "        #CatBoostRegressor(), \n",
    "        #SGDRegressor(), \n",
    "        KernelRidge(), \n",
    "        ElasticNet(),\n",
    "        BayesianRidge(), \n",
    "        GradientBoostingRegressor(),\n",
    "        SVR()\n",
    "    ]}"
   ]
  },
  {
   "cell_type": "code",
   "execution_count": null,
   "id": "8d793bb3",
   "metadata": {},
   "outputs": [],
   "source": [
    "grid_search = GridSearchCV(\n",
    "    pipe_2, \n",
    "    param_grid=param_grid,\n",
    "    cv=5,\n",
    "    scoring=\"r2\",\n",
    "    n_jobs=-1)\n",
    "\n",
    "grid_search.fit(X_2, y_2)\n",
    "print(grid_search.best_params_)\n",
    "print(grid_search.best_score_)"
   ]
  }
 ],
 "metadata": {
  "kernelspec": {
   "display_name": "Python 3 (ipykernel)",
   "language": "python",
   "name": "python3"
  },
  "language_info": {
   "codemirror_mode": {
    "name": "ipython",
    "version": 3
   },
   "file_extension": ".py",
   "mimetype": "text/x-python",
   "name": "python",
   "nbconvert_exporter": "python",
   "pygments_lexer": "ipython3",
   "version": "3.8.12"
  },
  "toc": {
   "base_numbering": 1,
   "nav_menu": {},
   "number_sections": true,
   "sideBar": true,
   "skip_h1_title": false,
   "title_cell": "Table of Contents",
   "title_sidebar": "Contents",
   "toc_cell": false,
   "toc_position": {
    "height": "calc(100% - 180px)",
    "left": "10px",
    "top": "150px",
    "width": "384px"
   },
   "toc_section_display": true,
   "toc_window_display": true
  }
 },
 "nbformat": 4,
 "nbformat_minor": 5
}
