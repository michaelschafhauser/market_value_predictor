{
 "cells": [
  {
   "cell_type": "code",
   "execution_count": 16,
   "id": "fb8ea2ff",
   "metadata": {},
   "outputs": [],
   "source": [
    "import pandas as pd\n",
    "import numpy as np\n",
    "import seaborn as sns\n",
    "import matplotlib.pyplot as plt"
   ]
  },
  {
   "cell_type": "markdown",
   "id": "8b92a4b1",
   "metadata": {},
   "source": [
    "# Import data"
   ]
  },
  {
   "cell_type": "code",
   "execution_count": 2,
   "id": "46ab4233",
   "metadata": {},
   "outputs": [],
   "source": [
    "df = pd.read_csv(\"../../raw_data/master_df_with_webscraping.csv\")"
   ]
  },
  {
   "cell_type": "code",
   "execution_count": 6,
   "id": "ee90d9c8",
   "metadata": {},
   "outputs": [
    {
     "name": "stdout",
     "output_type": "stream",
     "text": [
      "<class 'pandas.core.frame.DataFrame'>\n",
      "Int64Index: 3916 entries, 0 to 3915\n",
      "Data columns (total 101 columns):\n",
      " #    Column                         Non-Null Count  Dtype  \n",
      "---   ------                         --------------  -----  \n",
      " 0    fee_cleaned                    3916 non-null   float64\n",
      " 1    age                            3916 non-null   int64  \n",
      " 2    height_cm                      3916 non-null   int64  \n",
      " 3    weight_kg                      3916 non-null   int64  \n",
      " 4    nationality                    3916 non-null   object \n",
      " 5    club_name                      3891 non-null   object \n",
      " 6    league_name                    3891 non-null   object \n",
      " 7    league_rank                    3891 non-null   float64\n",
      " 8    overall                        3916 non-null   int64  \n",
      " 9    potential                      3916 non-null   int64  \n",
      " 10   wage_eur                       3916 non-null   int64  \n",
      " 11   player_positions               3916 non-null   object \n",
      " 12   preferred_foot                 3916 non-null   object \n",
      " 13   international_reputation       3916 non-null   int64  \n",
      " 14   weak_foot                      3916 non-null   int64  \n",
      " 15   skill_moves                    3916 non-null   int64  \n",
      " 16   work_rate                      3916 non-null   object \n",
      " 17   body_type                      3916 non-null   object \n",
      " 18   real_face                      3916 non-null   object \n",
      " 19   release_clause_eur             1750 non-null   float64\n",
      " 20   player_tags                    639 non-null    object \n",
      " 21   team_position                  3891 non-null   object \n",
      " 22   team_jersey_number             3891 non-null   float64\n",
      " 23   pace                           3667 non-null   float64\n",
      " 24   shooting                       3667 non-null   float64\n",
      " 25   passing                        3667 non-null   float64\n",
      " 26   dribbling                      3667 non-null   float64\n",
      " 27   defending                      3667 non-null   float64\n",
      " 28   physic                         3667 non-null   float64\n",
      " 29   gk_diving                      249 non-null    float64\n",
      " 30   gk_handling                    249 non-null    float64\n",
      " 31   gk_kicking                     249 non-null    float64\n",
      " 32   gk_reflexes                    249 non-null    float64\n",
      " 33   gk_speed                       249 non-null    float64\n",
      " 34   gk_positioning                 249 non-null    float64\n",
      " 35   player_traits                  2372 non-null   object \n",
      " 36   attacking_crossing             3916 non-null   int64  \n",
      " 37   attacking_finishing            3916 non-null   int64  \n",
      " 38   attacking_heading_accuracy     3916 non-null   int64  \n",
      " 39   attacking_short_passing        3916 non-null   int64  \n",
      " 40   attacking_volleys              3916 non-null   int64  \n",
      " 41   skill_dribbling                3916 non-null   int64  \n",
      " 42   skill_curve                    3916 non-null   int64  \n",
      " 43   skill_fk_accuracy              3916 non-null   int64  \n",
      " 44   skill_long_passing             3916 non-null   int64  \n",
      " 45   skill_ball_control             3916 non-null   int64  \n",
      " 46   movement_acceleration          3916 non-null   int64  \n",
      " 47   movement_sprint_speed          3916 non-null   int64  \n",
      " 48   movement_agility               3916 non-null   int64  \n",
      " 49   movement_reactions             3916 non-null   int64  \n",
      " 50   movement_balance               3916 non-null   int64  \n",
      " 51   power_shot_power               3916 non-null   int64  \n",
      " 52   power_jumping                  3916 non-null   int64  \n",
      " 53   power_stamina                  3916 non-null   int64  \n",
      " 54   power_strength                 3916 non-null   int64  \n",
      " 55   power_long_shots               3916 non-null   int64  \n",
      " 56   mentality_aggression           3916 non-null   int64  \n",
      " 57   mentality_interceptions        3916 non-null   int64  \n",
      " 58   mentality_positioning          3916 non-null   int64  \n",
      " 59   mentality_vision               3916 non-null   int64  \n",
      " 60   mentality_penalties            3916 non-null   int64  \n",
      " 61   mentality_composure            2738 non-null   float64\n",
      " 62   defending_marking              3108 non-null   float64\n",
      " 63   defending_standing_tackle      3916 non-null   int64  \n",
      " 64   defending_sliding_tackle       3916 non-null   int64  \n",
      " 65   goalkeeping_diving             3916 non-null   int64  \n",
      " 66   goalkeeping_handling           3916 non-null   int64  \n",
      " 67   goalkeeping_kicking            3916 non-null   int64  \n",
      " 68   goalkeeping_positioning        3916 non-null   int64  \n",
      " 69   goalkeeping_reflexes           3916 non-null   int64  \n",
      " 70   ls                             3916 non-null   int64  \n",
      " 71   st                             3916 non-null   int64  \n",
      " 72   rs                             3916 non-null   int64  \n",
      " 73   lw                             3916 non-null   int64  \n",
      " 74   lf                             3916 non-null   int64  \n",
      " 75   cf                             3916 non-null   int64  \n",
      " 76   rf                             3916 non-null   int64  \n",
      " 77   rw                             3916 non-null   int64  \n",
      " 78   lam                            3916 non-null   int64  \n",
      " 79   cam                            3916 non-null   int64  \n",
      " 80   ram                            3916 non-null   int64  \n",
      " 81   lm                             3916 non-null   int64  \n",
      " 82   lcm                            3916 non-null   int64  \n",
      " 83   cm                             3916 non-null   int64  \n",
      " 84   rcm                            3916 non-null   int64  \n",
      " 85   rm                             3916 non-null   int64  \n",
      " 86   lwb                            3916 non-null   int64  \n",
      " 87   ldm                            3916 non-null   int64  \n",
      " 88   cdm                            3916 non-null   int64  \n",
      " 89   rdm                            3916 non-null   int64  \n",
      " 90   rwb                            3916 non-null   int64  \n",
      " 91   lb                             3916 non-null   int64  \n",
      " 92   lcb                            3916 non-null   int64  \n",
      " 93   cb                             3916 non-null   int64  \n",
      " 94   rcb                            3916 non-null   int64  \n",
      " 95   rb                             3916 non-null   int64  \n",
      " 96   fifa year                      3916 non-null   int64  \n",
      " 97   national_team                  3916 non-null   int64  \n",
      " 98   seasons_with_club              3916 non-null   int64  \n",
      " 99   on_loan                        3916 non-null   int64  \n",
      " 100  remaining_seasons_on_contract  3891 non-null   float64\n",
      "dtypes: float64(19), int64(71), object(11)\n",
      "memory usage: 3.0+ MB\n"
     ]
    }
   ],
   "source": [
    "df.info(verbose=True, show_counts=True)"
   ]
  },
  {
   "cell_type": "code",
   "execution_count": 78,
   "id": "6f8fb9ad",
   "metadata": {},
   "outputs": [],
   "source": [
    "df_train, df_test = train_test_split(df, test_size=0.2)"
   ]
  },
  {
   "cell_type": "code",
   "execution_count": 81,
   "id": "bed3366f",
   "metadata": {},
   "outputs": [],
   "source": [
    "df_train.to_csv(\"../../raw_data/master_data_train.csv\")\n",
    "df_test.to_csv(\"../../raw_data/master_data_test.csv\")"
   ]
  },
  {
   "cell_type": "code",
   "execution_count": 8,
   "id": "b07a85e4",
   "metadata": {},
   "outputs": [],
   "source": [
    "numericals = [\"int64\", \"float64\"]"
   ]
  },
  {
   "cell_type": "code",
   "execution_count": 10,
   "id": "f4049c70",
   "metadata": {},
   "outputs": [],
   "source": [
    "X = df.select_dtypes(numericals).drop(columns=\"fee_cleaned\")"
   ]
  },
  {
   "cell_type": "code",
   "execution_count": 12,
   "id": "49e40f35",
   "metadata": {},
   "outputs": [],
   "source": [
    "y = df.fee_cleaned"
   ]
  },
  {
   "cell_type": "markdown",
   "id": "7dae13ae",
   "metadata": {},
   "source": [
    "# Feature selection"
   ]
  },
  {
   "cell_type": "code",
   "execution_count": 20,
   "id": "29783d53",
   "metadata": {},
   "outputs": [],
   "source": [
    "correlations = df.select_dtypes(numericals).corr().fee_cleaned"
   ]
  },
  {
   "cell_type": "code",
   "execution_count": 34,
   "id": "5408fa5b",
   "metadata": {},
   "outputs": [
    {
     "data": {
      "text/plain": [
       "release_clause_eur          0.561710\n",
       "potential                   0.459864\n",
       "wage_eur                    0.427816\n",
       "gk_handling                 0.375701\n",
       "overall                     0.365972\n",
       "international_reputation    0.317760\n",
       "movement_reactions          0.309499\n",
       "gk_reflexes                 0.304895\n",
       "gk_positioning              0.301471\n",
       "gk_kicking                  0.299445\n",
       "Name: fee_cleaned, dtype: float64"
      ]
     },
     "execution_count": 34,
     "metadata": {},
     "output_type": "execute_result"
    }
   ],
   "source": [
    "correlations.sort_values(ascending=False)[1:11]"
   ]
  },
  {
   "cell_type": "code",
   "execution_count": 70,
   "id": "03039166",
   "metadata": {},
   "outputs": [],
   "source": [
    "top_5_corr_num_features = list(correlations.sort_values(ascending=False)[1:6].index)"
   ]
  },
  {
   "cell_type": "code",
   "execution_count": 71,
   "id": "ae1c6459",
   "metadata": {},
   "outputs": [],
   "source": [
    "X_selection = X[top_5_corr_num_features]"
   ]
  },
  {
   "cell_type": "code",
   "execution_count": 72,
   "id": "c148623c",
   "metadata": {},
   "outputs": [
    {
     "data": {
      "text/html": [
       "<div>\n",
       "<style scoped>\n",
       "    .dataframe tbody tr th:only-of-type {\n",
       "        vertical-align: middle;\n",
       "    }\n",
       "\n",
       "    .dataframe tbody tr th {\n",
       "        vertical-align: top;\n",
       "    }\n",
       "\n",
       "    .dataframe thead th {\n",
       "        text-align: right;\n",
       "    }\n",
       "</style>\n",
       "<table border=\"1\" class=\"dataframe\">\n",
       "  <thead>\n",
       "    <tr style=\"text-align: right;\">\n",
       "      <th></th>\n",
       "      <th>release_clause_eur</th>\n",
       "      <th>potential</th>\n",
       "      <th>wage_eur</th>\n",
       "      <th>gk_handling</th>\n",
       "      <th>overall</th>\n",
       "    </tr>\n",
       "  </thead>\n",
       "  <tbody>\n",
       "    <tr>\n",
       "      <th>0</th>\n",
       "      <td>NaN</td>\n",
       "      <td>50</td>\n",
       "      <td>2000</td>\n",
       "      <td>NaN</td>\n",
       "      <td>41</td>\n",
       "    </tr>\n",
       "    <tr>\n",
       "      <th>1</th>\n",
       "      <td>NaN</td>\n",
       "      <td>78</td>\n",
       "      <td>80000</td>\n",
       "      <td>NaN</td>\n",
       "      <td>78</td>\n",
       "    </tr>\n",
       "    <tr>\n",
       "      <th>2</th>\n",
       "      <td>NaN</td>\n",
       "      <td>79</td>\n",
       "      <td>90000</td>\n",
       "      <td>NaN</td>\n",
       "      <td>79</td>\n",
       "    </tr>\n",
       "    <tr>\n",
       "      <th>3</th>\n",
       "      <td>NaN</td>\n",
       "      <td>73</td>\n",
       "      <td>9000</td>\n",
       "      <td>NaN</td>\n",
       "      <td>69</td>\n",
       "    </tr>\n",
       "    <tr>\n",
       "      <th>4</th>\n",
       "      <td>NaN</td>\n",
       "      <td>78</td>\n",
       "      <td>20000</td>\n",
       "      <td>NaN</td>\n",
       "      <td>70</td>\n",
       "    </tr>\n",
       "    <tr>\n",
       "      <th>...</th>\n",
       "      <td>...</td>\n",
       "      <td>...</td>\n",
       "      <td>...</td>\n",
       "      <td>...</td>\n",
       "      <td>...</td>\n",
       "    </tr>\n",
       "    <tr>\n",
       "      <th>3911</th>\n",
       "      <td>81800000.0</td>\n",
       "      <td>87</td>\n",
       "      <td>77000</td>\n",
       "      <td>NaN</td>\n",
       "      <td>84</td>\n",
       "    </tr>\n",
       "    <tr>\n",
       "      <th>3912</th>\n",
       "      <td>9800000.0</td>\n",
       "      <td>83</td>\n",
       "      <td>14000</td>\n",
       "      <td>NaN</td>\n",
       "      <td>72</td>\n",
       "    </tr>\n",
       "    <tr>\n",
       "      <th>3913</th>\n",
       "      <td>731000.0</td>\n",
       "      <td>70</td>\n",
       "      <td>2000</td>\n",
       "      <td>NaN</td>\n",
       "      <td>61</td>\n",
       "    </tr>\n",
       "    <tr>\n",
       "      <th>3914</th>\n",
       "      <td>450000.0</td>\n",
       "      <td>81</td>\n",
       "      <td>500</td>\n",
       "      <td>NaN</td>\n",
       "      <td>56</td>\n",
       "    </tr>\n",
       "    <tr>\n",
       "      <th>3915</th>\n",
       "      <td>16000000.0</td>\n",
       "      <td>78</td>\n",
       "      <td>50000</td>\n",
       "      <td>NaN</td>\n",
       "      <td>77</td>\n",
       "    </tr>\n",
       "  </tbody>\n",
       "</table>\n",
       "<p>3916 rows × 5 columns</p>\n",
       "</div>"
      ],
      "text/plain": [
       "      release_clause_eur  potential  wage_eur  gk_handling  overall\n",
       "0                    NaN         50      2000          NaN       41\n",
       "1                    NaN         78     80000          NaN       78\n",
       "2                    NaN         79     90000          NaN       79\n",
       "3                    NaN         73      9000          NaN       69\n",
       "4                    NaN         78     20000          NaN       70\n",
       "...                  ...        ...       ...          ...      ...\n",
       "3911          81800000.0         87     77000          NaN       84\n",
       "3912           9800000.0         83     14000          NaN       72\n",
       "3913            731000.0         70      2000          NaN       61\n",
       "3914            450000.0         81       500          NaN       56\n",
       "3915          16000000.0         78     50000          NaN       77\n",
       "\n",
       "[3916 rows x 5 columns]"
      ]
     },
     "execution_count": 72,
     "metadata": {},
     "output_type": "execute_result"
    }
   ],
   "source": [
    "X_selection"
   ]
  },
  {
   "cell_type": "markdown",
   "id": "650f7ef0",
   "metadata": {},
   "source": [
    "# Train model 1: top 5 correlated numerical features"
   ]
  },
  {
   "cell_type": "code",
   "execution_count": 73,
   "id": "58ee54c1",
   "metadata": {},
   "outputs": [],
   "source": [
    "from sklearn.model_selection import train_test_split\n",
    "\n",
    "X_train, X_test, y_train, y_test = train_test_split(X_selection, y, test_size=0.2)"
   ]
  },
  {
   "cell_type": "code",
   "execution_count": 74,
   "id": "6236a75e",
   "metadata": {},
   "outputs": [],
   "source": [
    "from sklearn.preprocessing import OneHotEncoder, MinMaxScaler, RobustScaler\n",
    "from sklearn.impute import SimpleImputer\n",
    "from sklearn.compose import ColumnTransformer\n",
    "from sklearn.pipeline import Pipeline, make_pipeline\n",
    "from sklearn import set_config; set_config(display='diagram')\n",
    "from sklearn.linear_model import LinearRegression, Ridge"
   ]
  },
  {
   "cell_type": "code",
   "execution_count": 75,
   "id": "404b90f4",
   "metadata": {},
   "outputs": [
    {
     "data": {
      "text/html": [
       "<style>#sk-bf5e9fc3-57c3-4e61-bb80-aea10687a56d {color: black;background-color: white;}#sk-bf5e9fc3-57c3-4e61-bb80-aea10687a56d pre{padding: 0;}#sk-bf5e9fc3-57c3-4e61-bb80-aea10687a56d div.sk-toggleable {background-color: white;}#sk-bf5e9fc3-57c3-4e61-bb80-aea10687a56d label.sk-toggleable__label {cursor: pointer;display: block;width: 100%;margin-bottom: 0;padding: 0.3em;box-sizing: border-box;text-align: center;}#sk-bf5e9fc3-57c3-4e61-bb80-aea10687a56d div.sk-toggleable__content {max-height: 0;max-width: 0;overflow: hidden;text-align: left;background-color: #f0f8ff;}#sk-bf5e9fc3-57c3-4e61-bb80-aea10687a56d div.sk-toggleable__content pre {margin: 0.2em;color: black;border-radius: 0.25em;background-color: #f0f8ff;}#sk-bf5e9fc3-57c3-4e61-bb80-aea10687a56d input.sk-toggleable__control:checked~div.sk-toggleable__content {max-height: 200px;max-width: 100%;overflow: auto;}#sk-bf5e9fc3-57c3-4e61-bb80-aea10687a56d div.sk-estimator input.sk-toggleable__control:checked~label.sk-toggleable__label {background-color: #d4ebff;}#sk-bf5e9fc3-57c3-4e61-bb80-aea10687a56d div.sk-label input.sk-toggleable__control:checked~label.sk-toggleable__label {background-color: #d4ebff;}#sk-bf5e9fc3-57c3-4e61-bb80-aea10687a56d input.sk-hidden--visually {border: 0;clip: rect(1px 1px 1px 1px);clip: rect(1px, 1px, 1px, 1px);height: 1px;margin: -1px;overflow: hidden;padding: 0;position: absolute;width: 1px;}#sk-bf5e9fc3-57c3-4e61-bb80-aea10687a56d div.sk-estimator {font-family: monospace;background-color: #f0f8ff;border: 1px dotted black;border-radius: 0.25em;box-sizing: border-box;margin-bottom: 0.5em;}#sk-bf5e9fc3-57c3-4e61-bb80-aea10687a56d div.sk-estimator:hover {background-color: #d4ebff;}#sk-bf5e9fc3-57c3-4e61-bb80-aea10687a56d div.sk-parallel-item::after {content: \"\";width: 100%;border-bottom: 1px solid gray;flex-grow: 1;}#sk-bf5e9fc3-57c3-4e61-bb80-aea10687a56d div.sk-label:hover label.sk-toggleable__label {background-color: #d4ebff;}#sk-bf5e9fc3-57c3-4e61-bb80-aea10687a56d div.sk-serial::before {content: \"\";position: absolute;border-left: 1px solid gray;box-sizing: border-box;top: 2em;bottom: 0;left: 50%;}#sk-bf5e9fc3-57c3-4e61-bb80-aea10687a56d div.sk-serial {display: flex;flex-direction: column;align-items: center;background-color: white;padding-right: 0.2em;padding-left: 0.2em;}#sk-bf5e9fc3-57c3-4e61-bb80-aea10687a56d div.sk-item {z-index: 1;}#sk-bf5e9fc3-57c3-4e61-bb80-aea10687a56d div.sk-parallel {display: flex;align-items: stretch;justify-content: center;background-color: white;}#sk-bf5e9fc3-57c3-4e61-bb80-aea10687a56d div.sk-parallel::before {content: \"\";position: absolute;border-left: 1px solid gray;box-sizing: border-box;top: 2em;bottom: 0;left: 50%;}#sk-bf5e9fc3-57c3-4e61-bb80-aea10687a56d div.sk-parallel-item {display: flex;flex-direction: column;position: relative;background-color: white;}#sk-bf5e9fc3-57c3-4e61-bb80-aea10687a56d div.sk-parallel-item:first-child::after {align-self: flex-end;width: 50%;}#sk-bf5e9fc3-57c3-4e61-bb80-aea10687a56d div.sk-parallel-item:last-child::after {align-self: flex-start;width: 50%;}#sk-bf5e9fc3-57c3-4e61-bb80-aea10687a56d div.sk-parallel-item:only-child::after {width: 0;}#sk-bf5e9fc3-57c3-4e61-bb80-aea10687a56d div.sk-dashed-wrapped {border: 1px dashed gray;margin: 0 0.4em 0.5em 0.4em;box-sizing: border-box;padding-bottom: 0.4em;background-color: white;position: relative;}#sk-bf5e9fc3-57c3-4e61-bb80-aea10687a56d div.sk-label label {font-family: monospace;font-weight: bold;background-color: white;display: inline-block;line-height: 1.2em;}#sk-bf5e9fc3-57c3-4e61-bb80-aea10687a56d div.sk-label-container {position: relative;z-index: 2;text-align: center;}#sk-bf5e9fc3-57c3-4e61-bb80-aea10687a56d div.sk-container {display: inline-block;position: relative;}</style><div id=\"sk-bf5e9fc3-57c3-4e61-bb80-aea10687a56d\" class\"sk-top-container\"><div class=\"sk-container\"><div class=\"sk-item sk-dashed-wrapped\"><div class=\"sk-label-container\"><div class=\"sk-label sk-toggleable\"><input class=\"sk-toggleable__control sk-hidden--visually\" id=\"6163c5bb-d38f-4b05-b5a9-963b956e5a49\" type=\"checkbox\" ><label class=\"sk-toggleable__label\" for=\"6163c5bb-d38f-4b05-b5a9-963b956e5a49\">Pipeline</label><div class=\"sk-toggleable__content\"><pre>Pipeline(steps=[('imputer', SimpleImputer(fill_value=0, strategy='constant')),\n",
       "                ('scaler', MinMaxScaler()), ('estimator', LinearRegression())])</pre></div></div></div><div class=\"sk-serial\"><div class=\"sk-item\"><div class=\"sk-estimator sk-toggleable\"><input class=\"sk-toggleable__control sk-hidden--visually\" id=\"6eb716df-6cc7-48ed-8646-71de50d086ac\" type=\"checkbox\" ><label class=\"sk-toggleable__label\" for=\"6eb716df-6cc7-48ed-8646-71de50d086ac\">SimpleImputer</label><div class=\"sk-toggleable__content\"><pre>SimpleImputer(fill_value=0, strategy='constant')</pre></div></div></div><div class=\"sk-item\"><div class=\"sk-estimator sk-toggleable\"><input class=\"sk-toggleable__control sk-hidden--visually\" id=\"cdfbd015-9694-41f7-b4d8-c56bb5320358\" type=\"checkbox\" ><label class=\"sk-toggleable__label\" for=\"cdfbd015-9694-41f7-b4d8-c56bb5320358\">MinMaxScaler</label><div class=\"sk-toggleable__content\"><pre>MinMaxScaler()</pre></div></div></div><div class=\"sk-item\"><div class=\"sk-estimator sk-toggleable\"><input class=\"sk-toggleable__control sk-hidden--visually\" id=\"43e19010-768e-4c25-96a2-ae4b8dd6eca2\" type=\"checkbox\" ><label class=\"sk-toggleable__label\" for=\"43e19010-768e-4c25-96a2-ae4b8dd6eca2\">LinearRegression</label><div class=\"sk-toggleable__content\"><pre>LinearRegression()</pre></div></div></div></div></div></div></div>"
      ],
      "text/plain": [
       "Pipeline(steps=[('imputer', SimpleImputer(fill_value=0, strategy='constant')),\n",
       "                ('scaler', MinMaxScaler()), ('estimator', LinearRegression())])"
      ]
     },
     "execution_count": 75,
     "metadata": {},
     "output_type": "execute_result"
    }
   ],
   "source": [
    "pipe = Pipeline([\n",
    "    (\"imputer\", SimpleImputer(strategy=\"constant\", fill_value=0)),\n",
    "    (\"scaler\", MinMaxScaler()),\n",
    "    (\"estimator\", LinearRegression())\n",
    "])\n",
    "pipe"
   ]
  },
  {
   "cell_type": "code",
   "execution_count": 76,
   "id": "2b1a55e9",
   "metadata": {},
   "outputs": [
    {
     "data": {
      "text/plain": [
       "0.26148294570824016"
      ]
     },
     "execution_count": 76,
     "metadata": {},
     "output_type": "execute_result"
    }
   ],
   "source": [
    "from sklearn.model_selection import cross_val_score\n",
    "\n",
    "cross_val_score(pipe, X_train, y_train, cv=5, scoring='r2').mean()"
   ]
  }
 ],
 "metadata": {
  "kernelspec": {
   "display_name": "Python 3 (ipykernel)",
   "language": "python",
   "name": "python3"
  },
  "language_info": {
   "codemirror_mode": {
    "name": "ipython",
    "version": 3
   },
   "file_extension": ".py",
   "mimetype": "text/x-python",
   "name": "python",
   "nbconvert_exporter": "python",
   "pygments_lexer": "ipython3",
   "version": "3.8.12"
  },
  "toc": {
   "base_numbering": 1,
   "nav_menu": {},
   "number_sections": true,
   "sideBar": true,
   "skip_h1_title": false,
   "title_cell": "Table of Contents",
   "title_sidebar": "Contents",
   "toc_cell": false,
   "toc_position": {},
   "toc_section_display": true,
   "toc_window_display": false
  }
 },
 "nbformat": 4,
 "nbformat_minor": 5
}
