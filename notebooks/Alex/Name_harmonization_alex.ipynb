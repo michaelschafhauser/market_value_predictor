{
 "cells": [
  {
   "cell_type": "code",
   "execution_count": 1,
   "id": "625ad451",
   "metadata": {},
   "outputs": [],
   "source": [
    "import pandas as pd"
   ]
  },
  {
   "cell_type": "code",
   "execution_count": 2,
   "id": "7041075b",
   "metadata": {},
   "outputs": [],
   "source": [
    "df_transfer = pd.read_csv(\"../raw_data/transfer_history_combined.csv\")"
   ]
  },
  {
   "cell_type": "code",
   "execution_count": 4,
   "id": "9efcb792",
   "metadata": {},
   "outputs": [],
   "source": [
    "df_players = pd.read_csv(\"../raw_data/players_combined.csv\")"
   ]
  },
  {
   "cell_type": "code",
   "execution_count": 6,
   "id": "e9d97c5c",
   "metadata": {},
   "outputs": [
    {
     "data": {
      "text/plain": [
       "0              Zinédine Zidane\n",
       "1                Laurent Croci\n",
       "2               Philippe Lucas\n",
       "3                Márcio Santos\n",
       "4         Jean-Francois Daniel\n",
       "                  ...         \n",
       "174350             Iván Martos\n",
       "174351                 Antoñín\n",
       "174352             Fran García\n",
       "174353        Santiago Cáseres\n",
       "174354           Lass Bangoura\n",
       "Name: player_name, Length: 174355, dtype: object"
      ]
     },
     "execution_count": 6,
     "metadata": {},
     "output_type": "execute_result"
    }
   ],
   "source": [
    "df_transfer.player_name"
   ]
  },
  {
   "cell_type": "code",
   "execution_count": 44,
   "id": "ad9bd488",
   "metadata": {},
   "outputs": [],
   "source": [
    "## dropping NaNs in fee_cleaned\n",
    "df_transfer = df_transfer.loc[df_transfer[\"fee_cleaned\"].notna()]\n",
    "\n",
    "## dropping 0.0 transfer fees\n",
    "df_transfer = df_transfer.loc[df_transfer[\"fee_cleaned\"]!=0]\n",
    "\n",
    "## dropping in vs. out duplications\n",
    "df_transfer = df_transfer.loc[df_transfer[\"transfer_movement\"]!=\"out\"]\n",
    "\n",
    "df_transfer = df_transfer.loc[df_transfer[\"year\"]>2014]"
   ]
  },
  {
   "cell_type": "code",
   "execution_count": 63,
   "id": "669ae231",
   "metadata": {},
   "outputs": [
    {
     "data": {
      "text/plain": [
       "(3895, 1)"
      ]
     },
     "execution_count": 63,
     "metadata": {},
     "output_type": "execute_result"
    }
   ],
   "source": [
    "unique_transfer = pd.DataFrame(df_transfer.player_name.unique(), columns=[\"name\"])\n",
    "unique_transfer.shape"
   ]
  },
  {
   "cell_type": "code",
   "execution_count": 64,
   "id": "4371dcd8",
   "metadata": {},
   "outputs": [
    {
     "data": {
      "text/html": [
       "<div>\n",
       "<style scoped>\n",
       "    .dataframe tbody tr th:only-of-type {\n",
       "        vertical-align: middle;\n",
       "    }\n",
       "\n",
       "    .dataframe tbody tr th {\n",
       "        vertical-align: top;\n",
       "    }\n",
       "\n",
       "    .dataframe thead th {\n",
       "        text-align: right;\n",
       "    }\n",
       "</style>\n",
       "<table border=\"1\" class=\"dataframe\">\n",
       "  <thead>\n",
       "    <tr style=\"text-align: right;\">\n",
       "      <th></th>\n",
       "      <th>name</th>\n",
       "    </tr>\n",
       "  </thead>\n",
       "  <tbody>\n",
       "    <tr>\n",
       "      <th>0</th>\n",
       "      <td>Ángel Di María</td>\n",
       "    </tr>\n",
       "    <tr>\n",
       "      <th>1</th>\n",
       "      <td>Layvin Kurzawa</td>\n",
       "    </tr>\n",
       "    <tr>\n",
       "      <th>2</th>\n",
       "      <td>Serge Aurier</td>\n",
       "    </tr>\n",
       "    <tr>\n",
       "      <th>3</th>\n",
       "      <td>Kevin Trapp</td>\n",
       "    </tr>\n",
       "    <tr>\n",
       "      <th>4</th>\n",
       "      <td>Benjamin Stambouli</td>\n",
       "    </tr>\n",
       "    <tr>\n",
       "      <th>...</th>\n",
       "      <td>...</td>\n",
       "    </tr>\n",
       "    <tr>\n",
       "      <th>3890</th>\n",
       "      <td>Matthew Hoppe</td>\n",
       "    </tr>\n",
       "    <tr>\n",
       "      <th>3891</th>\n",
       "      <td>Dominik Greif</td>\n",
       "    </tr>\n",
       "    <tr>\n",
       "      <th>3892</th>\n",
       "      <td>Fran García</td>\n",
       "    </tr>\n",
       "    <tr>\n",
       "      <th>3893</th>\n",
       "      <td>Randy Nteka</td>\n",
       "    </tr>\n",
       "    <tr>\n",
       "      <th>3894</th>\n",
       "      <td>Pathé Ciss</td>\n",
       "    </tr>\n",
       "  </tbody>\n",
       "</table>\n",
       "<p>3895 rows × 1 columns</p>\n",
       "</div>"
      ],
      "text/plain": [
       "                    name\n",
       "0         Ángel Di María\n",
       "1         Layvin Kurzawa\n",
       "2           Serge Aurier\n",
       "3            Kevin Trapp\n",
       "4     Benjamin Stambouli\n",
       "...                  ...\n",
       "3890       Matthew Hoppe\n",
       "3891       Dominik Greif\n",
       "3892         Fran García\n",
       "3893         Randy Nteka\n",
       "3894          Pathé Ciss\n",
       "\n",
       "[3895 rows x 1 columns]"
      ]
     },
     "execution_count": 64,
     "metadata": {},
     "output_type": "execute_result"
    }
   ],
   "source": [
    "unique_transfer"
   ]
  },
  {
   "cell_type": "code",
   "execution_count": 52,
   "id": "783b292b",
   "metadata": {},
   "outputs": [
    {
     "data": {
      "text/html": [
       "<div>\n",
       "<style scoped>\n",
       "    .dataframe tbody tr th:only-of-type {\n",
       "        vertical-align: middle;\n",
       "    }\n",
       "\n",
       "    .dataframe tbody tr th {\n",
       "        vertical-align: top;\n",
       "    }\n",
       "\n",
       "    .dataframe thead th {\n",
       "        text-align: right;\n",
       "    }\n",
       "</style>\n",
       "<table border=\"1\" class=\"dataframe\">\n",
       "  <thead>\n",
       "    <tr style=\"text-align: right;\">\n",
       "      <th></th>\n",
       "      <th>sofifa_id</th>\n",
       "      <th>long_name</th>\n",
       "    </tr>\n",
       "  </thead>\n",
       "  <tbody>\n",
       "    <tr>\n",
       "      <th>0</th>\n",
       "      <td>158023</td>\n",
       "      <td>Lionel Andrés Messi Cuccittini</td>\n",
       "    </tr>\n",
       "    <tr>\n",
       "      <th>1</th>\n",
       "      <td>20801</td>\n",
       "      <td>Cristiano Ronaldo dos Santos Aveiro</td>\n",
       "    </tr>\n",
       "    <tr>\n",
       "      <th>2</th>\n",
       "      <td>9014</td>\n",
       "      <td>Arjen Robben</td>\n",
       "    </tr>\n",
       "    <tr>\n",
       "      <th>3</th>\n",
       "      <td>41236</td>\n",
       "      <td>Zlatan Ibrahimović</td>\n",
       "    </tr>\n",
       "    <tr>\n",
       "      <th>4</th>\n",
       "      <td>167495</td>\n",
       "      <td>Manuel Neuer</td>\n",
       "    </tr>\n",
       "    <tr>\n",
       "      <th>...</th>\n",
       "      <td>...</td>\n",
       "      <td>...</td>\n",
       "    </tr>\n",
       "    <tr>\n",
       "      <th>122835</th>\n",
       "      <td>257933</td>\n",
       "      <td>Wenzhuo Huang</td>\n",
       "    </tr>\n",
       "    <tr>\n",
       "      <th>122836</th>\n",
       "      <td>256679</td>\n",
       "      <td>Kevin Angulo</td>\n",
       "    </tr>\n",
       "    <tr>\n",
       "      <th>122837</th>\n",
       "      <td>257710</td>\n",
       "      <td>Mengxuan Zhang</td>\n",
       "    </tr>\n",
       "    <tr>\n",
       "      <th>122839</th>\n",
       "      <td>257697</td>\n",
       "      <td>Zitong Chen</td>\n",
       "    </tr>\n",
       "    <tr>\n",
       "      <th>122840</th>\n",
       "      <td>257936</td>\n",
       "      <td>Yue Song</td>\n",
       "    </tr>\n",
       "  </tbody>\n",
       "</table>\n",
       "<p>42193 rows × 2 columns</p>\n",
       "</div>"
      ],
      "text/plain": [
       "        sofifa_id                            long_name\n",
       "0          158023       Lionel Andrés Messi Cuccittini\n",
       "1           20801  Cristiano Ronaldo dos Santos Aveiro\n",
       "2            9014                         Arjen Robben\n",
       "3           41236                   Zlatan Ibrahimović\n",
       "4          167495                         Manuel Neuer\n",
       "...           ...                                  ...\n",
       "122835     257933                        Wenzhuo Huang\n",
       "122836     256679                         Kevin Angulo\n",
       "122837     257710                       Mengxuan Zhang\n",
       "122839     257697                          Zitong Chen\n",
       "122840     257936                             Yue Song\n",
       "\n",
       "[42193 rows x 2 columns]"
      ]
     },
     "execution_count": 52,
     "metadata": {},
     "output_type": "execute_result"
    }
   ],
   "source": [
    "unique_players = pd.DataFrame(df_players[[\"sofifa_id\", \"long_name\"]].drop_duplicates())\n",
    "unique_players"
   ]
  },
  {
   "cell_type": "code",
   "execution_count": 75,
   "id": "d25be490",
   "metadata": {},
   "outputs": [],
   "source": [
    "import numpy as np"
   ]
  },
  {
   "cell_type": "code",
   "execution_count": 78,
   "id": "9da139cc",
   "metadata": {},
   "outputs": [],
   "source": [
    "pd.DataFrame(\n",
    "    unique_transfer.merge(\n",
    "        unique_players, how=\"inner\", left_on=\"name\",\n",
    "        right_on=\"long_name\").name).to_csv(\"../raw_data/matching_names.csv\")"
   ]
  },
  {
   "cell_type": "code",
   "execution_count": 80,
   "id": "df7e6c55",
   "metadata": {},
   "outputs": [],
   "source": [
    "outer_merge = unique_transfer.merge(\n",
    "        unique_players, how=\"outer\", left_on=\"name\",\n",
    "        right_on=\"long_name\")"
   ]
  },
  {
   "cell_type": "code",
   "execution_count": 83,
   "id": "f0b96c0c",
   "metadata": {},
   "outputs": [],
   "source": [
    "outer_merge.loc[outer_merge[\"long_name\"].isna()][[\"name\"]].to_csv(\"../raw_data/not_matching_names.csv\")"
   ]
  }
 ],
 "metadata": {
  "kernelspec": {
   "display_name": "Python 3 (ipykernel)",
   "language": "python",
   "name": "python3"
  },
  "language_info": {
   "codemirror_mode": {
    "name": "ipython",
    "version": 3
   },
   "file_extension": ".py",
   "mimetype": "text/x-python",
   "name": "python",
   "nbconvert_exporter": "python",
   "pygments_lexer": "ipython3",
   "version": "3.8.12"
  },
  "toc": {
   "base_numbering": 1,
   "nav_menu": {},
   "number_sections": true,
   "sideBar": true,
   "skip_h1_title": false,
   "title_cell": "Table of Contents",
   "title_sidebar": "Contents",
   "toc_cell": false,
   "toc_position": {},
   "toc_section_display": true,
   "toc_window_display": false
  }
 },
 "nbformat": 4,
 "nbformat_minor": 5
}
