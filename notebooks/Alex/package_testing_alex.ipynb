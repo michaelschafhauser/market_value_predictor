{
 "cells": [
  {
   "cell_type": "code",
   "execution_count": 1,
   "id": "8151ed10",
   "metadata": {},
   "outputs": [],
   "source": [
    "from market_value_predictor.data import get_data_from_gcp"
   ]
  },
  {
   "cell_type": "code",
   "execution_count": 2,
   "id": "80522e66",
   "metadata": {},
   "outputs": [],
   "source": [
    "df = get_data_from_gcp()"
   ]
  },
  {
   "cell_type": "code",
   "execution_count": 4,
   "id": "c3650ea4",
   "metadata": {},
   "outputs": [],
   "source": [
    "from sklearn.model_selection import train_test_split\n",
    "\n",
    "df_train, df_test = train_test_split(df, test_size=0.2)"
   ]
  },
  {
   "cell_type": "code",
   "execution_count": null,
   "id": "95947183",
   "metadata": {},
   "outputs": [],
   "source": []
  },
  {
   "cell_type": "code",
   "execution_count": null,
   "id": "e4467042",
   "metadata": {},
   "outputs": [],
   "source": []
  },
  {
   "cell_type": "code",
   "execution_count": 6,
   "id": "a80443c7",
   "metadata": {},
   "outputs": [],
   "source": [
    "import pandas as pd"
   ]
  },
  {
   "cell_type": "code",
   "execution_count": 17,
   "id": "46c331dd",
   "metadata": {},
   "outputs": [
    {
     "data": {
      "text/plain": [
       "<bound method DataFrame.items of     count  ...                                              items\n",
       "0      20  ...  {'id': 13728, 'resource_id': None, 'name': 'Pe...\n",
       "1      20  ...  {'id': 13729, 'resource_id': None, 'name': 'Di...\n",
       "2      20  ...  {'id': 13730, 'resource_id': None, 'name': 'Ro...\n",
       "3      20  ...  {'id': 13731, 'resource_id': None, 'name': 'Zi...\n",
       "4      20  ...  {'id': 1338, 'resource_id': None, 'name': 'Lio...\n",
       "5      20  ...  {'id': 13732, 'resource_id': None, 'name': 'Di...\n",
       "6      20  ...  {'id': 13733, 'resource_id': None, 'name': 'Pe...\n",
       "7      20  ...  {'id': 17822, 'resource_id': None, 'name': 'Li...\n",
       "8      20  ...  {'id': 13734, 'resource_id': None, 'name': 'Ro...\n",
       "9      20  ...  {'id': 13735, 'resource_id': None, 'name': 'Ro...\n",
       "10     20  ...  {'id': 13736, 'resource_id': None, 'name': 'Zi...\n",
       "11     20  ...  {'id': 13737, 'resource_id': None, 'name': 'Fe...\n",
       "12     20  ...  {'id': 13738, 'resource_id': None, 'name': 'Jo...\n",
       "13     20  ...  {'id': 13739, 'resource_id': None, 'name': 'Le...\n",
       "14     20  ...  {'id': 13740, 'resource_id': None, 'name': 'Ma...\n",
       "15     20  ...  {'id': 13741, 'resource_id': None, 'name': 'Pa...\n",
       "16     20  ...  {'id': 13752, 'resource_id': None, 'name': 'Ma...\n",
       "17     20  ...  {'id': 13753, 'resource_id': None, 'name': 'Ro...\n",
       "18     20  ...  {'id': 17857, 'resource_id': None, 'name': 'Ke...\n",
       "19     20  ...  {'id': 17907, 'resource_id': None, 'name': 'Ro...\n",
       "\n",
       "[20 rows x 6 columns]>"
      ]
     },
     "execution_count": 17,
     "metadata": {},
     "output_type": "execute_result"
    }
   ],
   "source": [
    "pd.read_json(\"../../raw_data/response_1638795353924.json\").items"
   ]
  }
 ],
 "metadata": {
  "kernelspec": {
   "display_name": "Python 3 (ipykernel)",
   "language": "python",
   "name": "python3"
  },
  "language_info": {
   "codemirror_mode": {
    "name": "ipython",
    "version": 3
   },
   "file_extension": ".py",
   "mimetype": "text/x-python",
   "name": "python",
   "nbconvert_exporter": "python",
   "pygments_lexer": "ipython3",
   "version": "3.8.12"
  },
  "toc": {
   "base_numbering": 1,
   "nav_menu": {},
   "number_sections": true,
   "sideBar": true,
   "skip_h1_title": false,
   "title_cell": "Table of Contents",
   "title_sidebar": "Contents",
   "toc_cell": false,
   "toc_position": {},
   "toc_section_display": true,
   "toc_window_display": false
  }
 },
 "nbformat": 4,
 "nbformat_minor": 5
}
