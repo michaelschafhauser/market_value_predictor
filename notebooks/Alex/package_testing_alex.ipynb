{
 "cells": [
  {
   "cell_type": "code",
   "execution_count": 377,
   "id": "f24b2f5a",
   "metadata": {},
   "outputs": [],
   "source": [
    "import numpy as np\n",
    "import pandas as pd"
   ]
  },
  {
   "cell_type": "code",
   "execution_count": 378,
   "id": "8151ed10",
   "metadata": {},
   "outputs": [],
   "source": [
    "from market_value_predictor.data import get_data_from_gcp"
   ]
  },
  {
   "cell_type": "code",
   "execution_count": 379,
   "id": "80522e66",
   "metadata": {},
   "outputs": [],
   "source": [
    "df = get_data_from_gcp()"
   ]
  },
  {
   "cell_type": "code",
   "execution_count": 380,
   "id": "c3650ea4",
   "metadata": {},
   "outputs": [],
   "source": [
    "from sklearn.model_selection import train_test_split\n",
    "\n",
    "df_train, df_test = train_test_split(df, test_size=0.2)"
   ]
  },
  {
   "cell_type": "code",
   "execution_count": null,
   "id": "95947183",
   "metadata": {},
   "outputs": [],
   "source": []
  },
  {
   "cell_type": "code",
   "execution_count": null,
   "id": "d6ca55c2",
   "metadata": {},
   "outputs": [],
   "source": []
  },
  {
   "cell_type": "markdown",
   "id": "6797d153",
   "metadata": {},
   "source": [
    "# FUT DB API"
   ]
  },
  {
   "cell_type": "markdown",
   "id": "bcd64e03",
   "metadata": {},
   "source": [
    "## API call"
   ]
  },
  {
   "cell_type": "code",
   "execution_count": 381,
   "id": "e49d3396",
   "metadata": {},
   "outputs": [],
   "source": [
    "import requests\n",
    "from requests.structures import CaseInsensitiveDict\n",
    "\n",
    "url = \"https://futdb.app/api/players/search\"\n",
    "\n",
    "headers = CaseInsensitiveDict()\n",
    "headers[\"accept\"] = \"application/json\"\n",
    "headers[\"X-AUTH-TOKEN\"] = \"6ee5d299-299c-480c-ba52-514607532d6a\"\n",
    "headers[\"Content-Type\"] = \"application/json\"\n",
    "\n",
    "data = \"\"\"\n",
    "{\n",
    "  \"name\": \"Lionel Messi\"\n",
    "}\n",
    "\"\"\"\n",
    "\n",
    "\n",
    "resp = requests.post(url, headers=headers, data=data)"
   ]
  },
  {
   "cell_type": "code",
   "execution_count": 382,
   "id": "57494560",
   "metadata": {},
   "outputs": [
    {
     "data": {
      "text/plain": [
       "3"
      ]
     },
     "execution_count": 382,
     "metadata": {},
     "output_type": "execute_result"
    }
   ],
   "source": [
    "len(resp.json()[\"items\"])"
   ]
  },
  {
   "cell_type": "code",
   "execution_count": 383,
   "id": "598aa0b0",
   "metadata": {
    "scrolled": false
   },
   "outputs": [
    {
     "data": {
      "text/plain": [
       "{'id': 1337,\n",
       " 'resource_id': 158023,\n",
       " 'name': 'Lionel Messi',\n",
       " 'age': 34,\n",
       " 'resource_base_id': 158023,\n",
       " 'fut_bin_id': 371,\n",
       " 'fut_wiz_id': 69,\n",
       " 'first_name': 'Lionel',\n",
       " 'last_name': 'Messi',\n",
       " 'common_name': 'Messi',\n",
       " 'height': 170,\n",
       " 'weight': 72,\n",
       " 'birth_date': '1987-06-24',\n",
       " 'league': 16,\n",
       " 'nation': 52,\n",
       " 'club': 73,\n",
       " 'rarity': 1,\n",
       " 'traits': [{'id': 1, 'name': 'Chip Shot (CPU AI)'},\n",
       "  {'id': 2, 'name': 'Outside Foot Shot'},\n",
       "  {'id': 4, 'name': 'Finesse Shot'},\n",
       "  {'id': 12, 'name': 'Technical Dribbler (CPU AI)'},\n",
       "  {'id': 14, 'name': 'Playmaker (CPU AI)'},\n",
       "  {'id': 15, 'name': 'Long Shot Taker (CPU AI)'},\n",
       "  {'id': 31, 'name': 'One Club Player'}],\n",
       " 'specialities': [],\n",
       " 'position': 'RW',\n",
       " 'skill_moves': 4,\n",
       " 'weak_foot': 4,\n",
       " 'foot': 'Left',\n",
       " 'attack_work_rate': 'Med',\n",
       " 'defense_work_rate': 'Low',\n",
       " 'total_stats': 462,\n",
       " 'total_stats_in_game': 2261,\n",
       " 'rating': 93,\n",
       " 'rating_average': 77,\n",
       " 'pace': 85,\n",
       " 'shooting': 92,\n",
       " 'passing': 91,\n",
       " 'dribbling': 95,\n",
       " 'defending': 34,\n",
       " 'physicality': 65,\n",
       " 'pace_attributes': {'acceleration': 91, 'sprint_speed': 80},\n",
       " 'shooting_attributes': {'positioning': 93,\n",
       "  'finishing': 95,\n",
       "  'shot_power': 86,\n",
       "  'long_shots': 94,\n",
       "  'volleys': 88,\n",
       "  'penalties': 75},\n",
       " 'passing_attributes': {'vision': 95,\n",
       "  'crossing': 85,\n",
       "  'free_kick_accuracy': 94,\n",
       "  'short_passing': 91,\n",
       "  'long_passing': 91,\n",
       "  'curve': 93},\n",
       " 'dribbling_attributes': {'agility': 91,\n",
       "  'balance': 95,\n",
       "  'reactions': 94,\n",
       "  'ball_control': 96,\n",
       "  'dribbling': 96,\n",
       "  'composure': 96},\n",
       " 'defending_attributes': {'interceptions': 40,\n",
       "  'heading_accuracy': 70,\n",
       "  'standing_tackle': 35,\n",
       "  'sliding_tackle': 24},\n",
       " 'physicality_attributes': {'jumping': 68,\n",
       "  'stamina': 72,\n",
       "  'strength': 69,\n",
       "  'aggression': 44},\n",
       " 'goalkeeper_attributes': {'diving': None,\n",
       "  'handling': None,\n",
       "  'kicking': None,\n",
       "  'positioning': None,\n",
       "  'reflexes': None}}"
      ]
     },
     "execution_count": 383,
     "metadata": {},
     "output_type": "execute_result"
    }
   ],
   "source": [
    "player_dict = resp.json()[\"items\"][0]\n",
    "player_dict"
   ]
  },
  {
   "cell_type": "code",
   "execution_count": 384,
   "id": "bae08c0f",
   "metadata": {},
   "outputs": [
    {
     "data": {
      "text/plain": [
       "42"
      ]
     },
     "execution_count": 384,
     "metadata": {},
     "output_type": "execute_result"
    }
   ],
   "source": [
    "len(player_dict)"
   ]
  },
  {
   "cell_type": "code",
   "execution_count": 385,
   "id": "5175fe43",
   "metadata": {},
   "outputs": [],
   "source": [
    "import collections.abc\n",
    "\n",
    "def flatten(d, parent_key='', sep='_'):\n",
    "    items = []\n",
    "    for k, v in d.items():\n",
    "        new_key = parent_key + sep + k if parent_key else k\n",
    "        if isinstance(v, collections.MutableMapping):\n",
    "            items.extend(flatten(v, new_key, sep=sep).items())\n",
    "        else:\n",
    "            items.append((new_key, v))\n",
    "    return dict(items)"
   ]
  },
  {
   "cell_type": "code",
   "execution_count": 386,
   "id": "fa1f89a8",
   "metadata": {},
   "outputs": [],
   "source": [
    "flat_player_dict = flatten(player_dict)"
   ]
  },
  {
   "cell_type": "code",
   "execution_count": null,
   "id": "420bc290",
   "metadata": {},
   "outputs": [],
   "source": []
  },
  {
   "cell_type": "code",
   "execution_count": 387,
   "id": "c937812a",
   "metadata": {},
   "outputs": [
    {
     "data": {
      "text/plain": [
       "[{'id': 1, 'name': 'Chip Shot (CPU AI)'},\n",
       " {'id': 2, 'name': 'Outside Foot Shot'},\n",
       " {'id': 4, 'name': 'Finesse Shot'},\n",
       " {'id': 12, 'name': 'Technical Dribbler (CPU AI)'},\n",
       " {'id': 14, 'name': 'Playmaker (CPU AI)'},\n",
       " {'id': 15, 'name': 'Long Shot Taker (CPU AI)'},\n",
       " {'id': 31, 'name': 'One Club Player'}]"
      ]
     },
     "execution_count": 387,
     "metadata": {},
     "output_type": "execute_result"
    }
   ],
   "source": [
    "flat_player_dict.pop(\"traits\", \"removed\")"
   ]
  },
  {
   "cell_type": "code",
   "execution_count": 388,
   "id": "1e8dd225",
   "metadata": {},
   "outputs": [
    {
     "data": {
      "text/plain": [
       "[]"
      ]
     },
     "execution_count": 388,
     "metadata": {},
     "output_type": "execute_result"
    }
   ],
   "source": [
    "flat_player_dict.pop(\"specialities\", \"removed\")"
   ]
  },
  {
   "cell_type": "code",
   "execution_count": 389,
   "id": "8398862d",
   "metadata": {},
   "outputs": [],
   "source": [
    "flat_df = pd.DataFrame(flat_player_dict, index=[0])"
   ]
  },
  {
   "cell_type": "code",
   "execution_count": null,
   "id": "053d6229",
   "metadata": {},
   "outputs": [],
   "source": []
  },
  {
   "cell_type": "code",
   "execution_count": 390,
   "id": "0e6fb2ec",
   "metadata": {},
   "outputs": [
    {
     "data": {
      "text/plain": [
       "['id',\n",
       " 'resource_id',\n",
       " 'name',\n",
       " 'age',\n",
       " 'resource_base_id',\n",
       " 'fut_bin_id',\n",
       " 'fut_wiz_id',\n",
       " 'first_name',\n",
       " 'last_name',\n",
       " 'common_name',\n",
       " 'height',\n",
       " 'weight',\n",
       " 'birth_date',\n",
       " 'league',\n",
       " 'nation',\n",
       " 'club',\n",
       " 'rarity',\n",
       " 'position',\n",
       " 'skill_moves',\n",
       " 'weak_foot',\n",
       " 'foot',\n",
       " 'attack_work_rate',\n",
       " 'defense_work_rate',\n",
       " 'total_stats',\n",
       " 'total_stats_in_game',\n",
       " 'rating',\n",
       " 'rating_average',\n",
       " 'pace',\n",
       " 'shooting',\n",
       " 'passing',\n",
       " 'dribbling',\n",
       " 'defending',\n",
       " 'physicality',\n",
       " 'pace_attributes_acceleration',\n",
       " 'pace_attributes_sprint_speed',\n",
       " 'shooting_attributes_positioning',\n",
       " 'shooting_attributes_finishing',\n",
       " 'shooting_attributes_shot_power',\n",
       " 'shooting_attributes_long_shots',\n",
       " 'shooting_attributes_volleys',\n",
       " 'shooting_attributes_penalties',\n",
       " 'passing_attributes_vision',\n",
       " 'passing_attributes_crossing',\n",
       " 'passing_attributes_free_kick_accuracy',\n",
       " 'passing_attributes_short_passing',\n",
       " 'passing_attributes_long_passing',\n",
       " 'passing_attributes_curve',\n",
       " 'dribbling_attributes_agility',\n",
       " 'dribbling_attributes_balance',\n",
       " 'dribbling_attributes_reactions',\n",
       " 'dribbling_attributes_ball_control',\n",
       " 'dribbling_attributes_dribbling',\n",
       " 'dribbling_attributes_composure',\n",
       " 'defending_attributes_interceptions',\n",
       " 'defending_attributes_heading_accuracy',\n",
       " 'defending_attributes_standing_tackle',\n",
       " 'defending_attributes_sliding_tackle',\n",
       " 'physicality_attributes_jumping',\n",
       " 'physicality_attributes_stamina',\n",
       " 'physicality_attributes_strength',\n",
       " 'physicality_attributes_aggression',\n",
       " 'goalkeeper_attributes_diving',\n",
       " 'goalkeeper_attributes_handling',\n",
       " 'goalkeeper_attributes_kicking',\n",
       " 'goalkeeper_attributes_positioning',\n",
       " 'goalkeeper_attributes_reflexes']"
      ]
     },
     "execution_count": 390,
     "metadata": {},
     "output_type": "execute_result"
    }
   ],
   "source": [
    "list(flat_df.columns)"
   ]
  },
  {
   "cell_type": "code",
   "execution_count": 391,
   "id": "7be1072f",
   "metadata": {},
   "outputs": [],
   "source": [
    "flat_df = flat_df.rename(columns={\n",
    "    'id': \"_id\",\n",
    "     'resource_id': \"_resource_id\",\n",
    "     'name': \"_name\",\n",
    "     'age': \"age\",\n",
    "     'resource_base_id': \"_resource_base_id\",\n",
    "     'fut_bin_id': \"_fut_bin_id\",\n",
    "     'fut_wiz_id': \"_fut_wiz_id\",\n",
    "     'first_name': \"_first_name\",\n",
    "     'last_name': \"_last_name\",\n",
    "     'common_name': \"_common_name\",\n",
    "     'height': \"height_cm\",\n",
    "     'weight': \"weight_kg\",\n",
    "     'birth_date': \"_birth_date\",\n",
    "     'league': \"league_name\",\n",
    "     'nation': \"nationality\",\n",
    "     'club': \"club_name\",\n",
    "     'rarity': \"_rarity\",\n",
    "     'position': \"team_position\",\n",
    "     'skill_moves': \"skill_moves\",\n",
    "     'weak_foot': \"weak_foot\",\n",
    "     'foot': \"preferred_foot\",\n",
    "     'attack_work_rate': \"_attack_work_rate\",\n",
    "     'defense_work_rate': \"_defense_work_rate\",\n",
    "     'total_stats': \"_total_stats\",\n",
    "     'total_stats_in_game': \"_total_stats_in_game\",\n",
    "     'rating': \"overall\",\n",
    "     'rating_average': \"_rating_average\",\n",
    "     'pace': \"pace\",\n",
    "     'shooting': \"shooting\",\n",
    "     'passing': \"passing\",\n",
    "     'dribbling': \"dribbling\",\n",
    "     'defending': \"defending\",\n",
    "     'physicality': \"physic\",\n",
    "     'pace_attributes_acceleration': \"movement_acceleration\",\n",
    "     'pace_attributes_sprint_speed': \"movement_sprint_speed\",\n",
    "     'shooting_attributes_positioning': \"mentality_positioning\",\n",
    "     'shooting_attributes_finishing': \"attacking_finishing\",\n",
    "     'shooting_attributes_shot_power': \"power_shot_power\",\n",
    "     'shooting_attributes_long_shots': \"power_long_shots\",\n",
    "     'shooting_attributes_volleys': \"attacking_volleys\",\n",
    "     'shooting_attributes_penalties': \"mentality_penalties\",\n",
    "     'passing_attributes_vision': \"mentality_vision\",\n",
    "     'passing_attributes_crossing': \"attacking_crossing\",\n",
    "     'passing_attributes_free_kick_accuracy': \"skill_fk_accuracy\",\n",
    "     'passing_attributes_short_passing': \"attacking_short_passing\",\n",
    "     'passing_attributes_long_passing': \"skill_long_passing\",\n",
    "     'passing_attributes_curve': \"skill_curve\",\n",
    "     'dribbling_attributes_agility': \"movement_agility\",\n",
    "     'dribbling_attributes_balance': \"movement_balance\",\n",
    "     'dribbling_attributes_reactions': \"movement_reactions\",\n",
    "     'dribbling_attributes_ball_control': \"skill_ball_control\",\n",
    "     'dribbling_attributes_dribbling': \"skill_dribbling\",\n",
    "     'dribbling_attributes_composure': \"mentality_composure\",\n",
    "     'defending_attributes_interceptions': \"mentality_interceptions\",\n",
    "     'defending_attributes_heading_accuracy': \"attacking_heading_accuracy\",\n",
    "     'defending_attributes_standing_tackle': \"defending_standing_tackle\",\n",
    "     'defending_attributes_sliding_tackle': \"defending_sliding_tackle\",\n",
    "     'physicality_attributes_jumping': \"power_jumping\",\n",
    "     'physicality_attributes_stamina': \"power_stamina\",\n",
    "     'physicality_attributes_strength': \"power_strength\",\n",
    "     'physicality_attributes_aggression': \"mentality_aggression\",\n",
    "     'goalkeeper_attributes_diving': \"gk_diving\",\n",
    "     'goalkeeper_attributes_handling': \"gk_handling\",\n",
    "     'goalkeeper_attributes_kicking': \"gk_kicking\",\n",
    "     'goalkeeper_attributes_positioning': \"gk_positioning\",\n",
    "     'goalkeeper_attributes_reflexes': \"gk_reflexes\"\n",
    "})"
   ]
  },
  {
   "cell_type": "code",
   "execution_count": 392,
   "id": "ad67a7b1",
   "metadata": {},
   "outputs": [],
   "source": [
    "no_match = []"
   ]
  },
  {
   "cell_type": "code",
   "execution_count": 393,
   "id": "ead32d66",
   "metadata": {},
   "outputs": [],
   "source": [
    "for elem in list(flat_df.columns):\n",
    "    if elem[:1]==\"_\":\n",
    "        no_match.append(elem)"
   ]
  },
  {
   "cell_type": "code",
   "execution_count": 394,
   "id": "3c1b7b50",
   "metadata": {},
   "outputs": [
    {
     "data": {
      "text/plain": [
       "['_id',\n",
       " '_resource_id',\n",
       " '_name',\n",
       " '_resource_base_id',\n",
       " '_fut_bin_id',\n",
       " '_fut_wiz_id',\n",
       " '_first_name',\n",
       " '_last_name',\n",
       " '_common_name',\n",
       " '_birth_date',\n",
       " '_rarity',\n",
       " '_attack_work_rate',\n",
       " '_defense_work_rate',\n",
       " '_total_stats',\n",
       " '_total_stats_in_game',\n",
       " '_rating_average']"
      ]
     },
     "execution_count": 394,
     "metadata": {},
     "output_type": "execute_result"
    }
   ],
   "source": [
    "no_match"
   ]
  },
  {
   "cell_type": "code",
   "execution_count": 395,
   "id": "3b899f08",
   "metadata": {},
   "outputs": [],
   "source": [
    "flat_df = flat_df.drop(columns=no_match)"
   ]
  },
  {
   "cell_type": "code",
   "execution_count": 396,
   "id": "2e79681b",
   "metadata": {},
   "outputs": [
    {
     "data": {
      "text/plain": [
       "0    52\n",
       "Name: nationality, dtype: int64"
      ]
     },
     "execution_count": 396,
     "metadata": {},
     "output_type": "execute_result"
    }
   ],
   "source": [
    "flat_df.nationality"
   ]
  },
  {
   "cell_type": "markdown",
   "id": "f16514cc",
   "metadata": {},
   "source": [
    "### Adding back player_traits"
   ]
  },
  {
   "cell_type": "code",
   "execution_count": 397,
   "id": "b21e1f2f",
   "metadata": {},
   "outputs": [],
   "source": [
    "traits = []\n",
    "for i in range(len(player_dict[\"traits\"])):\n",
    "    traits.append(player_dict[\"traits\"][i][\"name\"])\n",
    "\n",
    "traits_joined = \", \".join(traits)\n",
    "\n",
    "flat_df[\"player_traits\"] = traits_joined"
   ]
  },
  {
   "cell_type": "code",
   "execution_count": 398,
   "id": "b97cea52",
   "metadata": {},
   "outputs": [],
   "source": [
    "X = pd.read_csv(\"../../raw_data/master_df_with_webscraping.csv\").drop(columns=\"fee_cleaned\")"
   ]
  },
  {
   "cell_type": "code",
   "execution_count": 399,
   "id": "80fb80d3",
   "metadata": {},
   "outputs": [],
   "source": [
    "for elem in list(flat_df.columns):\n",
    "    if elem not in list(X.columns):\n",
    "        print(elem)"
   ]
  },
  {
   "cell_type": "markdown",
   "id": "c95a3eb1",
   "metadata": {
    "heading_collapsed": true
   },
   "source": [
    "## Get league matching table"
   ]
  },
  {
   "cell_type": "markdown",
   "id": "2f0d3871",
   "metadata": {
    "hidden": true
   },
   "source": [
    "init_league_list = []\n",
    "\n",
    "headers = CaseInsensitiveDict()\n",
    "headers[\"accept\"] = \"application/json\"\n",
    "headers[\"X-AUTH-TOKEN\"] = \"6ee5d299-299c-480c-ba52-514607532d6a\"\n",
    "\n",
    "for i in [1, 2, 3]:\n",
    "    init_league_list.append(requests.get(\"https://futdb.app/api/leagues?page=\" + str(i), headers=headers).json()[\"items\"])\n",
    "    \n",
    "leagues_matching_table = pd.DataFrame([item for sublist in init_league_list for item in sublist]).set_index(\"id\")\n",
    "leagues_matching_table.to_csv(\"../../raw_data/leagues_matching_from_API.csv\")"
   ]
  },
  {
   "cell_type": "markdown",
   "id": "8c494f83",
   "metadata": {
    "heading_collapsed": true
   },
   "source": [
    "## Get clubs matching table"
   ]
  },
  {
   "cell_type": "markdown",
   "id": "d18dfb30",
   "metadata": {
    "hidden": true
   },
   "source": [
    "init_club_list = []\n",
    "\n",
    "headers = CaseInsensitiveDict()\n",
    "headers[\"accept\"] = \"application/json\"\n",
    "headers[\"X-AUTH-TOKEN\"] = \"6ee5d299-299c-480c-ba52-514607532d6a\"\n",
    "\n",
    "for i in list(range(1, 35)):\n",
    "    init_club_list.append(\n",
    "        requests.get(\"https://futdb.app/api/clubs?page=\" + str(i),\n",
    "                     headers=headers).json()[\"items\"])\n",
    "\n",
    "clubs_matching_table = pd.DataFrame([\n",
    "    item for sublist in init_club_list for item in sublist\n",
    "]).set_index(\"id\").drop(columns=\"league\")\n",
    "clubs_matching_table.to_csv(\"../../raw_data/clubs_matching_from_API.csv\")"
   ]
  },
  {
   "cell_type": "markdown",
   "id": "7f82503b",
   "metadata": {
    "heading_collapsed": true
   },
   "source": [
    "## Get nations matching table"
   ]
  },
  {
   "cell_type": "markdown",
   "id": "2ec0c294",
   "metadata": {
    "hidden": true
   },
   "source": [
    "init_nation_list = []\n",
    "\n",
    "headers = CaseInsensitiveDict()\n",
    "headers[\"accept\"] = \"application/json\"\n",
    "headers[\"X-AUTH-TOKEN\"] = \"6ee5d299-299c-480c-ba52-514607532d6a\"\n",
    "\n",
    "for i in list(range(1, 9)):\n",
    "    init_nation_list.append(\n",
    "        requests.get(\"https://futdb.app/api/nations?page=\" + str(i),\n",
    "                     headers=headers).json()[\"items\"])\n",
    "\n",
    "nations_matching_table = pd.DataFrame([\n",
    "    item for sublist in init_nation_list for item in sublist\n",
    "]).set_index(\"id\")\n",
    "nations_matching_table.to_csv(\"../../raw_data/nations_matching_from_API.csv\")"
   ]
  },
  {
   "cell_type": "markdown",
   "id": "c22aebde",
   "metadata": {},
   "source": [
    "# Adding strings to league, club, nation"
   ]
  },
  {
   "cell_type": "code",
   "execution_count": 400,
   "id": "875107d2",
   "metadata": {},
   "outputs": [],
   "source": [
    "flat_df.nationality = flat_df.nationality.map(lambda x: list(nations_matching_table.loc[x])[0])"
   ]
  },
  {
   "cell_type": "code",
   "execution_count": 401,
   "id": "b7def599",
   "metadata": {},
   "outputs": [],
   "source": [
    "flat_df.club_name = flat_df.club_name.map(lambda x: list(clubs_matching_table.loc[x])[0])"
   ]
  },
  {
   "cell_type": "code",
   "execution_count": 402,
   "id": "95372777",
   "metadata": {},
   "outputs": [],
   "source": [
    "flat_df.league_name = flat_df.league_name.map(lambda x: list(leagues_matching_table.loc[x])[0])"
   ]
  },
  {
   "cell_type": "code",
   "execution_count": 403,
   "id": "137150e1",
   "metadata": {
    "scrolled": true
   },
   "outputs": [
    {
     "data": {
      "text/plain": [
       "['age',\n",
       " 'height_cm',\n",
       " 'weight_kg',\n",
       " 'league_name',\n",
       " 'nationality',\n",
       " 'club_name',\n",
       " 'team_position',\n",
       " 'skill_moves',\n",
       " 'weak_foot',\n",
       " 'preferred_foot',\n",
       " 'overall',\n",
       " 'pace',\n",
       " 'shooting',\n",
       " 'passing',\n",
       " 'dribbling',\n",
       " 'defending',\n",
       " 'physic',\n",
       " 'movement_acceleration',\n",
       " 'movement_sprint_speed',\n",
       " 'mentality_positioning',\n",
       " 'attacking_finishing',\n",
       " 'power_shot_power',\n",
       " 'power_long_shots',\n",
       " 'attacking_volleys',\n",
       " 'mentality_penalties',\n",
       " 'mentality_vision',\n",
       " 'attacking_crossing',\n",
       " 'skill_fk_accuracy',\n",
       " 'attacking_short_passing',\n",
       " 'skill_long_passing',\n",
       " 'skill_curve',\n",
       " 'movement_agility',\n",
       " 'movement_balance',\n",
       " 'movement_reactions',\n",
       " 'skill_ball_control',\n",
       " 'skill_dribbling',\n",
       " 'mentality_composure',\n",
       " 'mentality_interceptions',\n",
       " 'attacking_heading_accuracy',\n",
       " 'defending_standing_tackle',\n",
       " 'defending_sliding_tackle',\n",
       " 'power_jumping',\n",
       " 'power_stamina',\n",
       " 'power_strength',\n",
       " 'mentality_aggression',\n",
       " 'gk_diving',\n",
       " 'gk_handling',\n",
       " 'gk_kicking',\n",
       " 'gk_positioning',\n",
       " 'gk_reflexes',\n",
       " 'player_traits']"
      ]
     },
     "execution_count": 403,
     "metadata": {},
     "output_type": "execute_result"
    }
   ],
   "source": [
    "list(flat_df.columns)"
   ]
  },
  {
   "cell_type": "code",
   "execution_count": null,
   "id": "757851d4",
   "metadata": {},
   "outputs": [],
   "source": []
  },
  {
   "cell_type": "code",
   "execution_count": 404,
   "id": "a3ef4652",
   "metadata": {},
   "outputs": [],
   "source": [
    "usable_columns = [\n",
    "    'age', 'height_cm', 'weight_kg', 'league_name', 'nationality', 'club_name',\n",
    "    'team_position', 'skill_moves', 'weak_foot', 'preferred_foot', 'overall',\n",
    "    'pace', 'shooting', 'passing', 'dribbling', 'defending', 'physic',\n",
    "    'movement_acceleration', 'movement_sprint_speed', 'mentality_positioning',\n",
    "    'attacking_finishing', 'power_shot_power', 'power_long_shots',\n",
    "    'attacking_volleys', 'mentality_penalties', 'mentality_vision',\n",
    "    'attacking_crossing', 'skill_fk_accuracy', 'attacking_short_passing',\n",
    "    'skill_long_passing', 'skill_curve', 'movement_agility',\n",
    "    'movement_balance', 'movement_reactions', 'skill_ball_control',\n",
    "    'skill_dribbling', 'mentality_composure', 'mentality_interceptions',\n",
    "    'attacking_heading_accuracy', 'defending_standing_tackle',\n",
    "    'defending_sliding_tackle', 'power_jumping', 'power_stamina',\n",
    "    'power_strength', 'mentality_aggression', 'goalkeeping_diving',\n",
    "    'goalkeeping_handling', 'goalkeeping_kicking', 'goalkeeping_positioning',\n",
    "    'goalkeeping_reflexes', 'player_traits'\n",
    "]"
   ]
  },
  {
   "cell_type": "code",
   "execution_count": 427,
   "id": "33932c77",
   "metadata": {},
   "outputs": [
    {
     "data": {
      "text/plain": [
       "age                             int64\n",
       "height_cm                       int64\n",
       "weight_kg                       int64\n",
       "league_name                    object\n",
       "nationality                    object\n",
       "club_name                      object\n",
       "team_position                  object\n",
       "skill_moves                     int64\n",
       "weak_foot                       int64\n",
       "preferred_foot                 object\n",
       "overall                         int64\n",
       "pace                            int64\n",
       "shooting                        int64\n",
       "passing                         int64\n",
       "dribbling                       int64\n",
       "defending                       int64\n",
       "physic                          int64\n",
       "movement_acceleration           int64\n",
       "movement_sprint_speed           int64\n",
       "mentality_positioning           int64\n",
       "attacking_finishing             int64\n",
       "power_shot_power                int64\n",
       "power_long_shots                int64\n",
       "attacking_volleys               int64\n",
       "mentality_penalties             int64\n",
       "mentality_vision                int64\n",
       "attacking_crossing              int64\n",
       "skill_fk_accuracy               int64\n",
       "attacking_short_passing         int64\n",
       "skill_long_passing              int64\n",
       "skill_curve                     int64\n",
       "movement_agility                int64\n",
       "movement_balance                int64\n",
       "movement_reactions              int64\n",
       "skill_ball_control              int64\n",
       "skill_dribbling                 int64\n",
       "mentality_composure             int64\n",
       "mentality_interceptions         int64\n",
       "attacking_heading_accuracy      int64\n",
       "defending_standing_tackle       int64\n",
       "defending_sliding_tackle        int64\n",
       "power_jumping                   int64\n",
       "power_stamina                   int64\n",
       "power_strength                  int64\n",
       "mentality_aggression            int64\n",
       "gk_diving                     float64\n",
       "gk_handling                   float64\n",
       "gk_kicking                    float64\n",
       "gk_positioning                float64\n",
       "gk_reflexes                   float64\n",
       "player_traits                  object\n",
       "dtype: object"
      ]
     },
     "execution_count": 427,
     "metadata": {},
     "output_type": "execute_result"
    }
   ],
   "source": [
    "flat_df.dtypes"
   ]
  },
  {
   "cell_type": "code",
   "execution_count": 423,
   "id": "eb91f2e3",
   "metadata": {},
   "outputs": [],
   "source": [
    "flat_df = flat_df.fillna(value=np.nan)"
   ]
  },
  {
   "cell_type": "code",
   "execution_count": 426,
   "id": "399853f0",
   "metadata": {},
   "outputs": [],
   "source": [
    "for col in [\"gk_diving\", \"gk_handling\", \"gk_kicking\", \"gk_positioning\", \"gk_reflexes\"]:\n",
    "    flat_df[col] = flat_df[col].astype(float)"
   ]
  }
 ],
 "metadata": {
  "kernelspec": {
   "display_name": "Python 3 (ipykernel)",
   "language": "python",
   "name": "python3"
  },
  "language_info": {
   "codemirror_mode": {
    "name": "ipython",
    "version": 3
   },
   "file_extension": ".py",
   "mimetype": "text/x-python",
   "name": "python",
   "nbconvert_exporter": "python",
   "pygments_lexer": "ipython3",
   "version": "3.8.12"
  },
  "toc": {
   "base_numbering": 1,
   "nav_menu": {},
   "number_sections": true,
   "sideBar": true,
   "skip_h1_title": false,
   "title_cell": "Table of Contents",
   "title_sidebar": "Contents",
   "toc_cell": false,
   "toc_position": {},
   "toc_section_display": true,
   "toc_window_display": false
  }
 },
 "nbformat": 4,
 "nbformat_minor": 5
}
