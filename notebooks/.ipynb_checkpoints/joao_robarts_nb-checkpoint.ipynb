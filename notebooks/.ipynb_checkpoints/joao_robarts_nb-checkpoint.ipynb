{
 "cells": [
  {
   "cell_type": "code",
   "execution_count": 2,
   "id": "fc0685f1",
   "metadata": {},
   "outputs": [],
   "source": [
    "import pandas as pd\n",
    "import numpy as np\n",
    "import matplotlib.pyplot as plt\n",
    "import seaborn as sns"
   ]
  },
  {
   "cell_type": "code",
   "execution_count": 61,
   "id": "8de29f65-bb52-4614-aa71-d6baa3adc962",
   "metadata": {},
   "outputs": [],
   "source": [
    "transfer_df = pd.read_csv('../data/transfer_history_combined.csv')"
   ]
  },
  {
   "cell_type": "code",
   "execution_count": 62,
   "id": "5cdeaded-cb28-44be-a3d2-4b9577a27ec3",
   "metadata": {},
   "outputs": [
    {
     "data": {
      "text/plain": [
       "(174355, 13)"
      ]
     },
     "execution_count": 62,
     "metadata": {},
     "output_type": "execute_result"
    }
   ],
   "source": [
    "transfer_df.shape"
   ]
  },
  {
   "cell_type": "code",
   "execution_count": 63,
   "id": "7f1159a4-8854-427e-b857-9558c2705451",
   "metadata": {},
   "outputs": [
    {
     "data": {
      "text/html": [
       "<div>\n",
       "<style scoped>\n",
       "    .dataframe tbody tr th:only-of-type {\n",
       "        vertical-align: middle;\n",
       "    }\n",
       "\n",
       "    .dataframe tbody tr th {\n",
       "        vertical-align: top;\n",
       "    }\n",
       "\n",
       "    .dataframe thead th {\n",
       "        text-align: right;\n",
       "    }\n",
       "</style>\n",
       "<table border=\"1\" class=\"dataframe\">\n",
       "  <thead>\n",
       "    <tr style=\"text-align: right;\">\n",
       "      <th></th>\n",
       "      <th>Unnamed: 0</th>\n",
       "      <th>club_name</th>\n",
       "      <th>player_name</th>\n",
       "      <th>age</th>\n",
       "      <th>position</th>\n",
       "      <th>club_involved_name</th>\n",
       "      <th>fee</th>\n",
       "      <th>transfer_movement</th>\n",
       "      <th>transfer_period</th>\n",
       "      <th>fee_cleaned</th>\n",
       "      <th>league_name</th>\n",
       "      <th>year</th>\n",
       "      <th>season</th>\n",
       "    </tr>\n",
       "  </thead>\n",
       "  <tbody>\n",
       "    <tr>\n",
       "      <th>0</th>\n",
       "      <td>0</td>\n",
       "      <td>FC Girondins Bordeaux</td>\n",
       "      <td>Zinédine Zidane</td>\n",
       "      <td>20.0</td>\n",
       "      <td>Attacking Midfield</td>\n",
       "      <td>Cannes</td>\n",
       "      <td>£6.30m</td>\n",
       "      <td>in</td>\n",
       "      <td>Summer</td>\n",
       "      <td>6.3</td>\n",
       "      <td>Ligue 1</td>\n",
       "      <td>1992</td>\n",
       "      <td>1992/1993</td>\n",
       "    </tr>\n",
       "    <tr>\n",
       "      <th>1</th>\n",
       "      <td>1</td>\n",
       "      <td>FC Girondins Bordeaux</td>\n",
       "      <td>Laurent Croci</td>\n",
       "      <td>27.0</td>\n",
       "      <td>Defensive Midfield</td>\n",
       "      <td>FC Sochaux</td>\n",
       "      <td>?</td>\n",
       "      <td>in</td>\n",
       "      <td>Summer</td>\n",
       "      <td>NaN</td>\n",
       "      <td>Ligue 1</td>\n",
       "      <td>1992</td>\n",
       "      <td>1992/1993</td>\n",
       "    </tr>\n",
       "    <tr>\n",
       "      <th>2</th>\n",
       "      <td>2</td>\n",
       "      <td>FC Girondins Bordeaux</td>\n",
       "      <td>Philippe Lucas</td>\n",
       "      <td>28.0</td>\n",
       "      <td>Defensive Midfield</td>\n",
       "      <td>FC Sochaux</td>\n",
       "      <td>?</td>\n",
       "      <td>in</td>\n",
       "      <td>Summer</td>\n",
       "      <td>NaN</td>\n",
       "      <td>Ligue 1</td>\n",
       "      <td>1992</td>\n",
       "      <td>1992/1993</td>\n",
       "    </tr>\n",
       "    <tr>\n",
       "      <th>3</th>\n",
       "      <td>3</td>\n",
       "      <td>FC Girondins Bordeaux</td>\n",
       "      <td>Márcio Santos</td>\n",
       "      <td>22.0</td>\n",
       "      <td>Centre-Back</td>\n",
       "      <td>Botafogo</td>\n",
       "      <td>?</td>\n",
       "      <td>in</td>\n",
       "      <td>Summer</td>\n",
       "      <td>NaN</td>\n",
       "      <td>Ligue 1</td>\n",
       "      <td>1992</td>\n",
       "      <td>1992/1993</td>\n",
       "    </tr>\n",
       "    <tr>\n",
       "      <th>4</th>\n",
       "      <td>4</td>\n",
       "      <td>FC Girondins Bordeaux</td>\n",
       "      <td>Jean-Francois Daniel</td>\n",
       "      <td>28.0</td>\n",
       "      <td>Central Midfield</td>\n",
       "      <td>Cannes</td>\n",
       "      <td>?</td>\n",
       "      <td>in</td>\n",
       "      <td>Summer</td>\n",
       "      <td>NaN</td>\n",
       "      <td>Ligue 1</td>\n",
       "      <td>1992</td>\n",
       "      <td>1992/1993</td>\n",
       "    </tr>\n",
       "  </tbody>\n",
       "</table>\n",
       "</div>"
      ],
      "text/plain": [
       "   Unnamed: 0              club_name           player_name   age  \\\n",
       "0           0  FC Girondins Bordeaux       Zinédine Zidane  20.0   \n",
       "1           1  FC Girondins Bordeaux         Laurent Croci  27.0   \n",
       "2           2  FC Girondins Bordeaux        Philippe Lucas  28.0   \n",
       "3           3  FC Girondins Bordeaux         Márcio Santos  22.0   \n",
       "4           4  FC Girondins Bordeaux  Jean-Francois Daniel  28.0   \n",
       "\n",
       "             position club_involved_name     fee transfer_movement  \\\n",
       "0  Attacking Midfield             Cannes  £6.30m                in   \n",
       "1  Defensive Midfield         FC Sochaux       ?                in   \n",
       "2  Defensive Midfield         FC Sochaux       ?                in   \n",
       "3         Centre-Back           Botafogo       ?                in   \n",
       "4    Central Midfield             Cannes       ?                in   \n",
       "\n",
       "  transfer_period  fee_cleaned league_name  year     season  \n",
       "0          Summer          6.3     Ligue 1  1992  1992/1993  \n",
       "1          Summer          NaN     Ligue 1  1992  1992/1993  \n",
       "2          Summer          NaN     Ligue 1  1992  1992/1993  \n",
       "3          Summer          NaN     Ligue 1  1992  1992/1993  \n",
       "4          Summer          NaN     Ligue 1  1992  1992/1993  "
      ]
     },
     "execution_count": 63,
     "metadata": {},
     "output_type": "execute_result"
    }
   ],
   "source": [
    "transfer_df.head()"
   ]
  },
  {
   "cell_type": "code",
   "execution_count": 65,
   "id": "f473776b-df79-4f63-a0a1-6b429e63458a",
   "metadata": {},
   "outputs": [],
   "source": [
    "transfer_df.drop(labels='Unnamed: 0', axis=1, inplace=True)"
   ]
  },
  {
   "cell_type": "code",
   "execution_count": 66,
   "id": "5263d9e7-54b0-405c-b1da-7e081b499b8d",
   "metadata": {},
   "outputs": [
    {
     "data": {
      "text/html": [
       "<div>\n",
       "<style scoped>\n",
       "    .dataframe tbody tr th:only-of-type {\n",
       "        vertical-align: middle;\n",
       "    }\n",
       "\n",
       "    .dataframe tbody tr th {\n",
       "        vertical-align: top;\n",
       "    }\n",
       "\n",
       "    .dataframe thead th {\n",
       "        text-align: right;\n",
       "    }\n",
       "</style>\n",
       "<table border=\"1\" class=\"dataframe\">\n",
       "  <thead>\n",
       "    <tr style=\"text-align: right;\">\n",
       "      <th></th>\n",
       "      <th>club_name</th>\n",
       "      <th>player_name</th>\n",
       "      <th>age</th>\n",
       "      <th>position</th>\n",
       "      <th>club_involved_name</th>\n",
       "      <th>fee</th>\n",
       "      <th>transfer_movement</th>\n",
       "      <th>transfer_period</th>\n",
       "      <th>fee_cleaned</th>\n",
       "      <th>league_name</th>\n",
       "      <th>year</th>\n",
       "      <th>season</th>\n",
       "    </tr>\n",
       "  </thead>\n",
       "  <tbody>\n",
       "    <tr>\n",
       "      <th>0</th>\n",
       "      <td>FC Girondins Bordeaux</td>\n",
       "      <td>Zinédine Zidane</td>\n",
       "      <td>20.0</td>\n",
       "      <td>Attacking Midfield</td>\n",
       "      <td>Cannes</td>\n",
       "      <td>£6.30m</td>\n",
       "      <td>in</td>\n",
       "      <td>Summer</td>\n",
       "      <td>6.3</td>\n",
       "      <td>Ligue 1</td>\n",
       "      <td>1992</td>\n",
       "      <td>1992/1993</td>\n",
       "    </tr>\n",
       "    <tr>\n",
       "      <th>1</th>\n",
       "      <td>FC Girondins Bordeaux</td>\n",
       "      <td>Laurent Croci</td>\n",
       "      <td>27.0</td>\n",
       "      <td>Defensive Midfield</td>\n",
       "      <td>FC Sochaux</td>\n",
       "      <td>?</td>\n",
       "      <td>in</td>\n",
       "      <td>Summer</td>\n",
       "      <td>NaN</td>\n",
       "      <td>Ligue 1</td>\n",
       "      <td>1992</td>\n",
       "      <td>1992/1993</td>\n",
       "    </tr>\n",
       "    <tr>\n",
       "      <th>2</th>\n",
       "      <td>FC Girondins Bordeaux</td>\n",
       "      <td>Philippe Lucas</td>\n",
       "      <td>28.0</td>\n",
       "      <td>Defensive Midfield</td>\n",
       "      <td>FC Sochaux</td>\n",
       "      <td>?</td>\n",
       "      <td>in</td>\n",
       "      <td>Summer</td>\n",
       "      <td>NaN</td>\n",
       "      <td>Ligue 1</td>\n",
       "      <td>1992</td>\n",
       "      <td>1992/1993</td>\n",
       "    </tr>\n",
       "    <tr>\n",
       "      <th>3</th>\n",
       "      <td>FC Girondins Bordeaux</td>\n",
       "      <td>Márcio Santos</td>\n",
       "      <td>22.0</td>\n",
       "      <td>Centre-Back</td>\n",
       "      <td>Botafogo</td>\n",
       "      <td>?</td>\n",
       "      <td>in</td>\n",
       "      <td>Summer</td>\n",
       "      <td>NaN</td>\n",
       "      <td>Ligue 1</td>\n",
       "      <td>1992</td>\n",
       "      <td>1992/1993</td>\n",
       "    </tr>\n",
       "    <tr>\n",
       "      <th>4</th>\n",
       "      <td>FC Girondins Bordeaux</td>\n",
       "      <td>Jean-Francois Daniel</td>\n",
       "      <td>28.0</td>\n",
       "      <td>Central Midfield</td>\n",
       "      <td>Cannes</td>\n",
       "      <td>?</td>\n",
       "      <td>in</td>\n",
       "      <td>Summer</td>\n",
       "      <td>NaN</td>\n",
       "      <td>Ligue 1</td>\n",
       "      <td>1992</td>\n",
       "      <td>1992/1993</td>\n",
       "    </tr>\n",
       "  </tbody>\n",
       "</table>\n",
       "</div>"
      ],
      "text/plain": [
       "               club_name           player_name   age            position  \\\n",
       "0  FC Girondins Bordeaux       Zinédine Zidane  20.0  Attacking Midfield   \n",
       "1  FC Girondins Bordeaux         Laurent Croci  27.0  Defensive Midfield   \n",
       "2  FC Girondins Bordeaux        Philippe Lucas  28.0  Defensive Midfield   \n",
       "3  FC Girondins Bordeaux         Márcio Santos  22.0         Centre-Back   \n",
       "4  FC Girondins Bordeaux  Jean-Francois Daniel  28.0    Central Midfield   \n",
       "\n",
       "  club_involved_name     fee transfer_movement transfer_period  fee_cleaned  \\\n",
       "0             Cannes  £6.30m                in          Summer          6.3   \n",
       "1         FC Sochaux       ?                in          Summer          NaN   \n",
       "2         FC Sochaux       ?                in          Summer          NaN   \n",
       "3           Botafogo       ?                in          Summer          NaN   \n",
       "4             Cannes       ?                in          Summer          NaN   \n",
       "\n",
       "  league_name  year     season  \n",
       "0     Ligue 1  1992  1992/1993  \n",
       "1     Ligue 1  1992  1992/1993  \n",
       "2     Ligue 1  1992  1992/1993  \n",
       "3     Ligue 1  1992  1992/1993  \n",
       "4     Ligue 1  1992  1992/1993  "
      ]
     },
     "execution_count": 66,
     "metadata": {},
     "output_type": "execute_result"
    }
   ],
   "source": [
    "transfer_df.head()"
   ]
  },
  {
   "cell_type": "code",
   "execution_count": 67,
   "id": "524b5fa8-cb73-4776-8882-2e4fe3efb698",
   "metadata": {},
   "outputs": [
    {
     "data": {
      "text/html": [
       "<div>\n",
       "<style scoped>\n",
       "    .dataframe tbody tr th:only-of-type {\n",
       "        vertical-align: middle;\n",
       "    }\n",
       "\n",
       "    .dataframe tbody tr th {\n",
       "        vertical-align: top;\n",
       "    }\n",
       "\n",
       "    .dataframe thead th {\n",
       "        text-align: right;\n",
       "    }\n",
       "</style>\n",
       "<table border=\"1\" class=\"dataframe\">\n",
       "  <thead>\n",
       "    <tr style=\"text-align: right;\">\n",
       "      <th></th>\n",
       "      <th>age</th>\n",
       "      <th>fee_cleaned</th>\n",
       "      <th>year</th>\n",
       "    </tr>\n",
       "  </thead>\n",
       "  <tbody>\n",
       "    <tr>\n",
       "      <th>count</th>\n",
       "      <td>174301.000000</td>\n",
       "      <td>143610.000000</td>\n",
       "      <td>174355.000000</td>\n",
       "    </tr>\n",
       "    <tr>\n",
       "      <th>mean</th>\n",
       "      <td>24.366865</td>\n",
       "      <td>0.849148</td>\n",
       "      <td>2008.668057</td>\n",
       "    </tr>\n",
       "    <tr>\n",
       "      <th>std</th>\n",
       "      <td>6.216425</td>\n",
       "      <td>3.820889</td>\n",
       "      <td>7.841600</td>\n",
       "    </tr>\n",
       "    <tr>\n",
       "      <th>min</th>\n",
       "      <td>-1776.000000</td>\n",
       "      <td>0.000000</td>\n",
       "      <td>1992.000000</td>\n",
       "    </tr>\n",
       "    <tr>\n",
       "      <th>25%</th>\n",
       "      <td>21.000000</td>\n",
       "      <td>0.000000</td>\n",
       "      <td>2003.000000</td>\n",
       "    </tr>\n",
       "    <tr>\n",
       "      <th>50%</th>\n",
       "      <td>24.000000</td>\n",
       "      <td>0.000000</td>\n",
       "      <td>2010.000000</td>\n",
       "    </tr>\n",
       "    <tr>\n",
       "      <th>75%</th>\n",
       "      <td>27.000000</td>\n",
       "      <td>0.000000</td>\n",
       "      <td>2015.000000</td>\n",
       "    </tr>\n",
       "    <tr>\n",
       "      <th>max</th>\n",
       "      <td>117.000000</td>\n",
       "      <td>199.800000</td>\n",
       "      <td>2021.000000</td>\n",
       "    </tr>\n",
       "  </tbody>\n",
       "</table>\n",
       "</div>"
      ],
      "text/plain": [
       "                 age    fee_cleaned           year\n",
       "count  174301.000000  143610.000000  174355.000000\n",
       "mean       24.366865       0.849148    2008.668057\n",
       "std         6.216425       3.820889       7.841600\n",
       "min     -1776.000000       0.000000    1992.000000\n",
       "25%        21.000000       0.000000    2003.000000\n",
       "50%        24.000000       0.000000    2010.000000\n",
       "75%        27.000000       0.000000    2015.000000\n",
       "max       117.000000     199.800000    2021.000000"
      ]
     },
     "execution_count": 67,
     "metadata": {},
     "output_type": "execute_result"
    }
   ],
   "source": [
    "transfer_df.describe()"
   ]
  },
  {
   "cell_type": "code",
   "execution_count": 69,
   "id": "fe6b4136-4d58-4621-b6d4-a36058e9bd63",
   "metadata": {},
   "outputs": [
    {
     "name": "stdout",
     "output_type": "stream",
     "text": [
      "<class 'pandas.core.frame.DataFrame'>\n",
      "RangeIndex: 174355 entries, 0 to 174354\n",
      "Data columns (total 12 columns):\n",
      " #   Column              Non-Null Count   Dtype  \n",
      "---  ------              --------------   -----  \n",
      " 0   club_name           174355 non-null  object \n",
      " 1   player_name         174355 non-null  object \n",
      " 2   age                 174301 non-null  float64\n",
      " 3   position            174352 non-null  object \n",
      " 4   club_involved_name  174355 non-null  object \n",
      " 5   fee                 174211 non-null  object \n",
      " 6   transfer_movement   174355 non-null  object \n",
      " 7   transfer_period     159923 non-null  object \n",
      " 8   fee_cleaned         143610 non-null  float64\n",
      " 9   league_name         174355 non-null  object \n",
      " 10  year                174355 non-null  int64  \n",
      " 11  season              174355 non-null  object \n",
      "dtypes: float64(2), int64(1), object(9)\n",
      "memory usage: 16.0+ MB\n"
     ]
    }
   ],
   "source": [
    "transfer_df.info()"
   ]
  },
  {
   "cell_type": "markdown",
   "id": "dd805d29-7334-4059-83f3-0be406b1c320",
   "metadata": {
    "tags": []
   },
   "source": [
    "### League Names"
   ]
  },
  {
   "cell_type": "code",
   "execution_count": 70,
   "id": "ed678bea-e4d7-4a44-8c32-01f03b5b9c84",
   "metadata": {},
   "outputs": [
    {
     "data": {
      "text/plain": [
       "array(['Ligue 1', '1 Bundesliga', 'Liga Nos', 'Eredivisie', 'Serie A',\n",
       "       'Premier Liga', 'Championship', 'Premier League',\n",
       "       'Primera Division'], dtype=object)"
      ]
     },
     "execution_count": 70,
     "metadata": {},
     "output_type": "execute_result"
    }
   ],
   "source": [
    "transfer_df.league_name.unique()"
   ]
  },
  {
   "cell_type": "markdown",
   "id": "a1cfd9a7-9f5e-48ef-8070-9dde91fea9a8",
   "metadata": {},
   "source": [
    "Having the `league_names` can help us segment the data as being country specific"
   ]
  },
  {
   "cell_type": "code",
   "execution_count": 85,
   "id": "d948ab3d-161a-472d-9cd4-13a2970a40af",
   "metadata": {},
   "outputs": [
    {
     "data": {
      "text/html": [
       "<div>\n",
       "<style scoped>\n",
       "    .dataframe tbody tr th:only-of-type {\n",
       "        vertical-align: middle;\n",
       "    }\n",
       "\n",
       "    .dataframe tbody tr th {\n",
       "        vertical-align: top;\n",
       "    }\n",
       "\n",
       "    .dataframe thead th {\n",
       "        text-align: right;\n",
       "    }\n",
       "</style>\n",
       "<table border=\"1\" class=\"dataframe\">\n",
       "  <thead>\n",
       "    <tr style=\"text-align: right;\">\n",
       "      <th></th>\n",
       "      <th>club_name</th>\n",
       "      <th>player_name</th>\n",
       "      <th>age</th>\n",
       "      <th>position</th>\n",
       "      <th>club_involved_name</th>\n",
       "      <th>fee</th>\n",
       "      <th>transfer_movement</th>\n",
       "      <th>transfer_period</th>\n",
       "      <th>fee_cleaned</th>\n",
       "      <th>league_name</th>\n",
       "      <th>year</th>\n",
       "      <th>season</th>\n",
       "    </tr>\n",
       "  </thead>\n",
       "  <tbody>\n",
       "    <tr>\n",
       "      <th>174350</th>\n",
       "      <td>Rayo Vallecano</td>\n",
       "      <td>Iván Martos</td>\n",
       "      <td>24.0</td>\n",
       "      <td>Centre-Back</td>\n",
       "      <td>UD Almería</td>\n",
       "      <td>End of loanJun 30, 2021</td>\n",
       "      <td>out</td>\n",
       "      <td>Summer</td>\n",
       "      <td>0.0</td>\n",
       "      <td>Primera Division</td>\n",
       "      <td>2021</td>\n",
       "      <td>2021/2022</td>\n",
       "    </tr>\n",
       "    <tr>\n",
       "      <th>174351</th>\n",
       "      <td>Rayo Vallecano</td>\n",
       "      <td>Antoñín</td>\n",
       "      <td>21.0</td>\n",
       "      <td>Centre-Forward</td>\n",
       "      <td>Granada CF</td>\n",
       "      <td>End of loanJun 30, 2021</td>\n",
       "      <td>out</td>\n",
       "      <td>Summer</td>\n",
       "      <td>0.0</td>\n",
       "      <td>Primera Division</td>\n",
       "      <td>2021</td>\n",
       "      <td>2021/2022</td>\n",
       "    </tr>\n",
       "    <tr>\n",
       "      <th>174352</th>\n",
       "      <td>Rayo Vallecano</td>\n",
       "      <td>Fran García</td>\n",
       "      <td>22.0</td>\n",
       "      <td>Left-Back</td>\n",
       "      <td>RM Castilla</td>\n",
       "      <td>End of loanJun 30, 2021</td>\n",
       "      <td>out</td>\n",
       "      <td>Summer</td>\n",
       "      <td>0.0</td>\n",
       "      <td>Primera Division</td>\n",
       "      <td>2021</td>\n",
       "      <td>2021/2022</td>\n",
       "    </tr>\n",
       "    <tr>\n",
       "      <th>174353</th>\n",
       "      <td>Villarreal CF</td>\n",
       "      <td>Santiago Cáseres</td>\n",
       "      <td>24.0</td>\n",
       "      <td>Defensive Midfield</td>\n",
       "      <td>Vélez Sarsfield</td>\n",
       "      <td>End of loanDec 31, 2021</td>\n",
       "      <td>in</td>\n",
       "      <td>Winter</td>\n",
       "      <td>0.0</td>\n",
       "      <td>Primera Division</td>\n",
       "      <td>2021</td>\n",
       "      <td>2021/2022</td>\n",
       "    </tr>\n",
       "    <tr>\n",
       "      <th>174354</th>\n",
       "      <td>Rayo Vallecano</td>\n",
       "      <td>Lass Bangoura</td>\n",
       "      <td>29.0</td>\n",
       "      <td>Right Winger</td>\n",
       "      <td>CS Emelec</td>\n",
       "      <td>End of loanDec 31, 2021</td>\n",
       "      <td>in</td>\n",
       "      <td>Winter</td>\n",
       "      <td>0.0</td>\n",
       "      <td>Primera Division</td>\n",
       "      <td>2021</td>\n",
       "      <td>2021/2022</td>\n",
       "    </tr>\n",
       "  </tbody>\n",
       "</table>\n",
       "</div>"
      ],
      "text/plain": [
       "             club_name       player_name   age            position  \\\n",
       "174350  Rayo Vallecano       Iván Martos  24.0         Centre-Back   \n",
       "174351  Rayo Vallecano           Antoñín  21.0      Centre-Forward   \n",
       "174352  Rayo Vallecano       Fran García  22.0           Left-Back   \n",
       "174353   Villarreal CF  Santiago Cáseres  24.0  Defensive Midfield   \n",
       "174354  Rayo Vallecano     Lass Bangoura  29.0        Right Winger   \n",
       "\n",
       "       club_involved_name                      fee transfer_movement  \\\n",
       "174350         UD Almería  End of loanJun 30, 2021               out   \n",
       "174351         Granada CF  End of loanJun 30, 2021               out   \n",
       "174352        RM Castilla  End of loanJun 30, 2021               out   \n",
       "174353    Vélez Sarsfield  End of loanDec 31, 2021                in   \n",
       "174354          CS Emelec  End of loanDec 31, 2021                in   \n",
       "\n",
       "       transfer_period  fee_cleaned       league_name  year     season  \n",
       "174350          Summer          0.0  Primera Division  2021  2021/2022  \n",
       "174351          Summer          0.0  Primera Division  2021  2021/2022  \n",
       "174352          Summer          0.0  Primera Division  2021  2021/2022  \n",
       "174353          Winter          0.0  Primera Division  2021  2021/2022  \n",
       "174354          Winter          0.0  Primera Division  2021  2021/2022  "
      ]
     },
     "execution_count": 85,
     "metadata": {},
     "output_type": "execute_result"
    }
   ],
   "source": [
    "transfer_df.tail()"
   ]
  },
  {
   "cell_type": "markdown",
   "id": "8257862b-5de9-4bdd-96c0-b3ca4e445666",
   "metadata": {},
   "source": [
    "## What should we do with `Nan` values in the `fee_cleaned` column?"
   ]
  },
  {
   "cell_type": "code",
   "execution_count": 73,
   "id": "665427b5-f58b-4f9f-95c6-2258ec77d836",
   "metadata": {},
   "outputs": [
    {
     "data": {
      "text/plain": [
       "30745"
      ]
     },
     "execution_count": 73,
     "metadata": {},
     "output_type": "execute_result"
    }
   ],
   "source": [
    "transfer_df.fee_cleaned.isnull().sum()"
   ]
  },
  {
   "cell_type": "code",
   "execution_count": 74,
   "id": "90db221c-4210-4c26-8c42-b351766926a0",
   "metadata": {},
   "outputs": [
    {
     "data": {
      "text/plain": [
       "0.1763356370623154"
      ]
     },
     "execution_count": 74,
     "metadata": {},
     "output_type": "execute_result"
    }
   ],
   "source": [
    "transfer_df.fee_cleaned.isnull().sum()/df.shape[0]"
   ]
  },
  {
   "cell_type": "markdown",
   "id": "16e357e3-0f93-4c84-b128-750ec200bb5a",
   "metadata": {},
   "source": [
    "We have a 17.6% of null values in the `fee_cleaned` column"
   ]
  },
  {
   "cell_type": "markdown",
   "id": "f102e957-12d8-42f7-841f-98686ba17d67",
   "metadata": {},
   "source": [
    "# Load the FIFA dataset"
   ]
  },
  {
   "cell_type": "code",
   "execution_count": 75,
   "id": "641ae985-632c-4e12-b4d5-0051568063a4",
   "metadata": {},
   "outputs": [],
   "source": [
    "fifa_df = pd.read_csv('../data/players_combined.csv')"
   ]
  },
  {
   "cell_type": "code",
   "execution_count": 78,
   "id": "39826450-6016-4b11-9c3f-0024af5cc878",
   "metadata": {},
   "outputs": [],
   "source": [
    "fifa_df.drop(labels='Unnamed: 0', axis=1, inplace=True)"
   ]
  },
  {
   "cell_type": "code",
   "execution_count": 92,
   "id": "a880cde3-cc34-4fb4-9aa9-ecb7ac9fbe9c",
   "metadata": {},
   "outputs": [
    {
     "data": {
      "text/html": [
       "<div>\n",
       "<style scoped>\n",
       "    .dataframe tbody tr th:only-of-type {\n",
       "        vertical-align: middle;\n",
       "    }\n",
       "\n",
       "    .dataframe tbody tr th {\n",
       "        vertical-align: top;\n",
       "    }\n",
       "\n",
       "    .dataframe thead th {\n",
       "        text-align: right;\n",
       "    }\n",
       "</style>\n",
       "<table border=\"1\" class=\"dataframe\">\n",
       "  <thead>\n",
       "    <tr style=\"text-align: right;\">\n",
       "      <th></th>\n",
       "      <th>sofifa_id</th>\n",
       "      <th>player_url</th>\n",
       "      <th>short_name</th>\n",
       "      <th>long_name</th>\n",
       "      <th>age</th>\n",
       "      <th>dob</th>\n",
       "      <th>height_cm</th>\n",
       "      <th>weight_kg</th>\n",
       "      <th>nationality</th>\n",
       "      <th>club_name</th>\n",
       "      <th>...</th>\n",
       "      <th>ldm</th>\n",
       "      <th>cdm</th>\n",
       "      <th>rdm</th>\n",
       "      <th>rwb</th>\n",
       "      <th>lb</th>\n",
       "      <th>lcb</th>\n",
       "      <th>cb</th>\n",
       "      <th>rcb</th>\n",
       "      <th>rb</th>\n",
       "      <th>fifa year</th>\n",
       "    </tr>\n",
       "  </thead>\n",
       "  <tbody>\n",
       "    <tr>\n",
       "      <th>0</th>\n",
       "      <td>158023</td>\n",
       "      <td>https://sofifa.com/player/158023/lionel-messi/...</td>\n",
       "      <td>L. Messi</td>\n",
       "      <td>Lionel Andrés Messi Cuccittini</td>\n",
       "      <td>27</td>\n",
       "      <td>1987-06-24</td>\n",
       "      <td>169</td>\n",
       "      <td>67</td>\n",
       "      <td>Argentina</td>\n",
       "      <td>FC Barcelona</td>\n",
       "      <td>...</td>\n",
       "      <td>62+3</td>\n",
       "      <td>62+3</td>\n",
       "      <td>62+3</td>\n",
       "      <td>62+3</td>\n",
       "      <td>54+3</td>\n",
       "      <td>45+3</td>\n",
       "      <td>45+3</td>\n",
       "      <td>45+3</td>\n",
       "      <td>54+3</td>\n",
       "      <td>2015</td>\n",
       "    </tr>\n",
       "    <tr>\n",
       "      <th>1</th>\n",
       "      <td>20801</td>\n",
       "      <td>https://sofifa.com/player/20801/c-ronaldo-dos-...</td>\n",
       "      <td>Cristiano Ronaldo</td>\n",
       "      <td>Cristiano Ronaldo dos Santos Aveiro</td>\n",
       "      <td>29</td>\n",
       "      <td>1985-02-05</td>\n",
       "      <td>185</td>\n",
       "      <td>80</td>\n",
       "      <td>Portugal</td>\n",
       "      <td>Real Madrid</td>\n",
       "      <td>...</td>\n",
       "      <td>63+3</td>\n",
       "      <td>63+3</td>\n",
       "      <td>63+3</td>\n",
       "      <td>63+3</td>\n",
       "      <td>57+3</td>\n",
       "      <td>52+3</td>\n",
       "      <td>52+3</td>\n",
       "      <td>52+3</td>\n",
       "      <td>57+3</td>\n",
       "      <td>2015</td>\n",
       "    </tr>\n",
       "  </tbody>\n",
       "</table>\n",
       "<p>2 rows × 107 columns</p>\n",
       "</div>"
      ],
      "text/plain": [
       "   sofifa_id                                         player_url  \\\n",
       "0     158023  https://sofifa.com/player/158023/lionel-messi/...   \n",
       "1      20801  https://sofifa.com/player/20801/c-ronaldo-dos-...   \n",
       "\n",
       "          short_name                            long_name  age         dob  \\\n",
       "0           L. Messi       Lionel Andrés Messi Cuccittini   27  1987-06-24   \n",
       "1  Cristiano Ronaldo  Cristiano Ronaldo dos Santos Aveiro   29  1985-02-05   \n",
       "\n",
       "   height_cm  weight_kg nationality     club_name  ...   ldm   cdm   rdm  \\\n",
       "0        169         67   Argentina  FC Barcelona  ...  62+3  62+3  62+3   \n",
       "1        185         80    Portugal   Real Madrid  ...  63+3  63+3  63+3   \n",
       "\n",
       "    rwb    lb   lcb    cb   rcb    rb  fifa year  \n",
       "0  62+3  54+3  45+3  45+3  45+3  54+3       2015  \n",
       "1  63+3  57+3  52+3  52+3  52+3  57+3       2015  \n",
       "\n",
       "[2 rows x 107 columns]"
      ]
     },
     "execution_count": 92,
     "metadata": {},
     "output_type": "execute_result"
    }
   ],
   "source": [
    "fifa_df.head(2)"
   ]
  },
  {
   "cell_type": "code",
   "execution_count": null,
   "id": "9fc39522-76b2-472e-a899-d43fce81d4b2",
   "metadata": {},
   "outputs": [],
   "source": []
  },
  {
   "cell_type": "markdown",
   "id": "bd954509-6037-4034-ba17-a82a9dfb0eb4",
   "metadata": {},
   "source": [
    "# Try and match both columns"
   ]
  },
  {
   "cell_type": "markdown",
   "id": "0b042479-73ea-4f12-9dbe-9a7143b361cf",
   "metadata": {},
   "source": [
    "get a list of all the player names in the `transfer_df`"
   ]
  },
  {
   "cell_type": "code",
   "execution_count": 96,
   "id": "25ed855b-a5cc-413c-803c-1d7cafa25a56",
   "metadata": {},
   "outputs": [],
   "source": [
    "player_names = transfer_df.player_name"
   ]
  },
  {
   "cell_type": "markdown",
   "id": "38e8373a-0e88-42cd-8029-273576060e99",
   "metadata": {},
   "source": [
    "run a for loop with all the `player_names` on the `fifa_df` if the name matches keep a count"
   ]
  },
  {
   "cell_type": "code",
   "execution_count": null,
   "id": "39073220-6fb9-4ec1-b69f-c339ad0ddd62",
   "metadata": {},
   "outputs": [],
   "source": [
    "for player in player_names:\n",
    "    if "
   ]
  },
  {
   "cell_type": "code",
   "execution_count": 95,
   "id": "3ee226f9-b295-4912-bb27-116ec0b60f9a",
   "metadata": {},
   "outputs": [
    {
     "data": {
      "text/html": [
       "<div>\n",
       "<style scoped>\n",
       "    .dataframe tbody tr th:only-of-type {\n",
       "        vertical-align: middle;\n",
       "    }\n",
       "\n",
       "    .dataframe tbody tr th {\n",
       "        vertical-align: top;\n",
       "    }\n",
       "\n",
       "    .dataframe thead th {\n",
       "        text-align: right;\n",
       "    }\n",
       "</style>\n",
       "<table border=\"1\" class=\"dataframe\">\n",
       "  <thead>\n",
       "    <tr style=\"text-align: right;\">\n",
       "      <th></th>\n",
       "      <th>sofifa_id</th>\n",
       "      <th>player_url</th>\n",
       "      <th>short_name</th>\n",
       "      <th>long_name</th>\n",
       "      <th>age</th>\n",
       "      <th>dob</th>\n",
       "      <th>height_cm</th>\n",
       "      <th>weight_kg</th>\n",
       "      <th>nationality</th>\n",
       "      <th>club_name</th>\n",
       "      <th>...</th>\n",
       "      <th>ldm</th>\n",
       "      <th>cdm</th>\n",
       "      <th>rdm</th>\n",
       "      <th>rwb</th>\n",
       "      <th>lb</th>\n",
       "      <th>lcb</th>\n",
       "      <th>cb</th>\n",
       "      <th>rcb</th>\n",
       "      <th>rb</th>\n",
       "      <th>fifa year</th>\n",
       "    </tr>\n",
       "  </thead>\n",
       "  <tbody>\n",
       "    <tr>\n",
       "      <th>95507</th>\n",
       "      <td>246279</td>\n",
       "      <td>https://sofifa.com/player/246279/ivan-martos-c...</td>\n",
       "      <td>Iván Martos</td>\n",
       "      <td>Iván Martos Campillo</td>\n",
       "      <td>22</td>\n",
       "      <td>1997-05-15</td>\n",
       "      <td>182</td>\n",
       "      <td>68</td>\n",
       "      <td>Spain</td>\n",
       "      <td>UD Almería</td>\n",
       "      <td>...</td>\n",
       "      <td>60+2</td>\n",
       "      <td>60+2</td>\n",
       "      <td>60+2</td>\n",
       "      <td>64+2</td>\n",
       "      <td>64+2</td>\n",
       "      <td>63+2</td>\n",
       "      <td>63+2</td>\n",
       "      <td>63+2</td>\n",
       "      <td>64+2</td>\n",
       "      <td>2020</td>\n",
       "    </tr>\n",
       "    <tr>\n",
       "      <th>109473</th>\n",
       "      <td>246279</td>\n",
       "      <td>https://sofifa.com/player/246279/ivan-martos-c...</td>\n",
       "      <td>Iván Martos</td>\n",
       "      <td>Iván Martos Campillo</td>\n",
       "      <td>23</td>\n",
       "      <td>1997-05-15</td>\n",
       "      <td>182</td>\n",
       "      <td>68</td>\n",
       "      <td>Spain</td>\n",
       "      <td>UD Almería</td>\n",
       "      <td>...</td>\n",
       "      <td>61+2</td>\n",
       "      <td>61+2</td>\n",
       "      <td>61+2</td>\n",
       "      <td>66+2</td>\n",
       "      <td>67+2</td>\n",
       "      <td>66+2</td>\n",
       "      <td>66+2</td>\n",
       "      <td>66+2</td>\n",
       "      <td>67+2</td>\n",
       "      <td>2021</td>\n",
       "    </tr>\n",
       "  </tbody>\n",
       "</table>\n",
       "<p>2 rows × 107 columns</p>\n",
       "</div>"
      ],
      "text/plain": [
       "        sofifa_id                                         player_url  \\\n",
       "95507      246279  https://sofifa.com/player/246279/ivan-martos-c...   \n",
       "109473     246279  https://sofifa.com/player/246279/ivan-martos-c...   \n",
       "\n",
       "         short_name             long_name  age         dob  height_cm  \\\n",
       "95507   Iván Martos  Iván Martos Campillo   22  1997-05-15        182   \n",
       "109473  Iván Martos  Iván Martos Campillo   23  1997-05-15        182   \n",
       "\n",
       "        weight_kg nationality   club_name  ...   ldm   cdm   rdm   rwb    lb  \\\n",
       "95507          68       Spain  UD Almería  ...  60+2  60+2  60+2  64+2  64+2   \n",
       "109473         68       Spain  UD Almería  ...  61+2  61+2  61+2  66+2  67+2   \n",
       "\n",
       "         lcb    cb   rcb    rb  fifa year  \n",
       "95507   63+2  63+2  63+2  64+2       2020  \n",
       "109473  66+2  66+2  66+2  67+2       2021  \n",
       "\n",
       "[2 rows x 107 columns]"
      ]
     },
     "execution_count": 95,
     "metadata": {},
     "output_type": "execute_result"
    }
   ],
   "source": [
    "fifa_df[fifa_df['long_name'].str.contains('Iván Martos')]"
   ]
  },
  {
   "cell_type": "code",
   "execution_count": null,
   "id": "0350542d-0e8d-4852-938f-3f58e905a3e8",
   "metadata": {},
   "outputs": [],
   "source": []
  },
  {
   "cell_type": "code",
   "execution_count": null,
   "id": "7fe2068d-9948-4cbf-a20e-436b128542f2",
   "metadata": {},
   "outputs": [],
   "source": []
  },
  {
   "cell_type": "code",
   "execution_count": null,
   "id": "af5c6cc0-e92b-4fd7-bea5-7e56ccb3b842",
   "metadata": {},
   "outputs": [],
   "source": []
  },
  {
   "cell_type": "code",
   "execution_count": null,
   "id": "bed75cb6-5f30-4b82-9341-d6b2798af23f",
   "metadata": {},
   "outputs": [],
   "source": []
  },
  {
   "cell_type": "code",
   "execution_count": null,
   "id": "6c83421e-b12a-4cc1-820e-bf6640bd56e3",
   "metadata": {},
   "outputs": [],
   "source": []
  },
  {
   "cell_type": "code",
   "execution_count": null,
   "id": "3f1bd9ca-9dd5-4ec7-ac32-b1ccd70fbe39",
   "metadata": {},
   "outputs": [],
   "source": []
  },
  {
   "cell_type": "code",
   "execution_count": null,
   "id": "d100c5b2-20f3-4404-a460-7699bd4bf70b",
   "metadata": {},
   "outputs": [],
   "source": []
  },
  {
   "cell_type": "code",
   "execution_count": null,
   "id": "7ebf2f47-17a2-45be-b7c0-e804ed7ad60d",
   "metadata": {},
   "outputs": [],
   "source": []
  },
  {
   "cell_type": "code",
   "execution_count": null,
   "id": "c25bb472-96c5-41a0-b788-a986bf509546",
   "metadata": {},
   "outputs": [],
   "source": []
  },
  {
   "cell_type": "code",
   "execution_count": null,
   "id": "214fa86e-bea7-4617-80f3-9a81899432cf",
   "metadata": {},
   "outputs": [],
   "source": []
  },
  {
   "cell_type": "code",
   "execution_count": null,
   "id": "10b0a76c-6b14-4c3c-a06c-10165636bcb5",
   "metadata": {},
   "outputs": [],
   "source": []
  },
  {
   "cell_type": "markdown",
   "id": "0095b739-ed74-489b-ac9b-66004a43f2e1",
   "metadata": {},
   "source": [
    "### Which clubs have made the most money out of transfers?"
   ]
  },
  {
   "cell_type": "markdown",
   "id": "a6265a8c-c05c-4635-823d-cadae605421b",
   "metadata": {},
   "source": [
    "This value might be a little skewed has I have summed all values. We need to only sum the `in`"
   ]
  },
  {
   "cell_type": "markdown",
   "id": "74975701-748c-40b2-9e71-4a763e290d33",
   "metadata": {},
   "source": [
    "## SPANISH EDA"
   ]
  },
  {
   "cell_type": "markdown",
   "id": "6ce3f09e-a372-482a-aa19-e0631f3b21d1",
   "metadata": {},
   "source": [
    "While analysing the dataset we might need to clean a little bit further, as players have `in` and `out` values on their `transfer_movement` feature.\n",
    "This means that we will have **duplicate** values for the same player"
   ]
  }
 ],
 "metadata": {
  "kernelspec": {
   "display_name": "Python 3 (ipykernel)",
   "language": "python",
   "name": "python3"
  },
  "language_info": {
   "codemirror_mode": {
    "name": "ipython",
    "version": 3
   },
   "file_extension": ".py",
   "mimetype": "text/x-python",
   "name": "python",
   "nbconvert_exporter": "python",
   "pygments_lexer": "ipython3",
   "version": "3.8.12"
  }
 },
 "nbformat": 4,
 "nbformat_minor": 5
}
