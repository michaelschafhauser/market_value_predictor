{
 "cells": [
  {
   "cell_type": "code",
   "execution_count": 1,
   "id": "6cb7089f",
   "metadata": {},
   "outputs": [],
   "source": [
    "import pandas as pd\n",
    "import numpy as np\n",
    "import matplotlib.pyplot as plt"
   ]
  },
  {
   "cell_type": "markdown",
   "id": "643fcec7",
   "metadata": {},
   "source": [
    "# Loading dataset"
   ]
  },
  {
   "cell_type": "code",
   "execution_count": 2,
   "id": "f54e5fc2",
   "metadata": {},
   "outputs": [],
   "source": [
    "df = pd.read_csv(\"../data/transfer_history_combined.csv\")"
   ]
  },
  {
   "cell_type": "code",
   "execution_count": 3,
   "id": "340ee68d",
   "metadata": {},
   "outputs": [],
   "source": [
    "df.drop(\"Unnamed: 0\", axis=1 , inplace=True)"
   ]
  },
  {
   "cell_type": "markdown",
   "id": "d4044db6",
   "metadata": {},
   "source": [
    "# Exploring dataset"
   ]
  },
  {
   "cell_type": "code",
   "execution_count": 4,
   "id": "8fceea5a",
   "metadata": {},
   "outputs": [
    {
     "data": {
      "text/html": [
       "<div>\n",
       "<style scoped>\n",
       "    .dataframe tbody tr th:only-of-type {\n",
       "        vertical-align: middle;\n",
       "    }\n",
       "\n",
       "    .dataframe tbody tr th {\n",
       "        vertical-align: top;\n",
       "    }\n",
       "\n",
       "    .dataframe thead th {\n",
       "        text-align: right;\n",
       "    }\n",
       "</style>\n",
       "<table border=\"1\" class=\"dataframe\">\n",
       "  <thead>\n",
       "    <tr style=\"text-align: right;\">\n",
       "      <th></th>\n",
       "      <th>club_name</th>\n",
       "      <th>player_name</th>\n",
       "      <th>age</th>\n",
       "      <th>position</th>\n",
       "      <th>club_involved_name</th>\n",
       "      <th>fee</th>\n",
       "      <th>transfer_movement</th>\n",
       "      <th>transfer_period</th>\n",
       "      <th>fee_cleaned</th>\n",
       "      <th>league_name</th>\n",
       "      <th>year</th>\n",
       "      <th>season</th>\n",
       "    </tr>\n",
       "  </thead>\n",
       "  <tbody>\n",
       "    <tr>\n",
       "      <th>0</th>\n",
       "      <td>FC Girondins Bordeaux</td>\n",
       "      <td>Zinédine Zidane</td>\n",
       "      <td>20.0</td>\n",
       "      <td>Attacking Midfield</td>\n",
       "      <td>Cannes</td>\n",
       "      <td>£6.30m</td>\n",
       "      <td>in</td>\n",
       "      <td>Summer</td>\n",
       "      <td>6.3</td>\n",
       "      <td>Ligue 1</td>\n",
       "      <td>1992</td>\n",
       "      <td>1992/1993</td>\n",
       "    </tr>\n",
       "    <tr>\n",
       "      <th>1</th>\n",
       "      <td>FC Girondins Bordeaux</td>\n",
       "      <td>Laurent Croci</td>\n",
       "      <td>27.0</td>\n",
       "      <td>Defensive Midfield</td>\n",
       "      <td>FC Sochaux</td>\n",
       "      <td>?</td>\n",
       "      <td>in</td>\n",
       "      <td>Summer</td>\n",
       "      <td>NaN</td>\n",
       "      <td>Ligue 1</td>\n",
       "      <td>1992</td>\n",
       "      <td>1992/1993</td>\n",
       "    </tr>\n",
       "    <tr>\n",
       "      <th>2</th>\n",
       "      <td>FC Girondins Bordeaux</td>\n",
       "      <td>Philippe Lucas</td>\n",
       "      <td>28.0</td>\n",
       "      <td>Defensive Midfield</td>\n",
       "      <td>FC Sochaux</td>\n",
       "      <td>?</td>\n",
       "      <td>in</td>\n",
       "      <td>Summer</td>\n",
       "      <td>NaN</td>\n",
       "      <td>Ligue 1</td>\n",
       "      <td>1992</td>\n",
       "      <td>1992/1993</td>\n",
       "    </tr>\n",
       "    <tr>\n",
       "      <th>3</th>\n",
       "      <td>FC Girondins Bordeaux</td>\n",
       "      <td>Márcio Santos</td>\n",
       "      <td>22.0</td>\n",
       "      <td>Centre-Back</td>\n",
       "      <td>Botafogo</td>\n",
       "      <td>?</td>\n",
       "      <td>in</td>\n",
       "      <td>Summer</td>\n",
       "      <td>NaN</td>\n",
       "      <td>Ligue 1</td>\n",
       "      <td>1992</td>\n",
       "      <td>1992/1993</td>\n",
       "    </tr>\n",
       "    <tr>\n",
       "      <th>4</th>\n",
       "      <td>FC Girondins Bordeaux</td>\n",
       "      <td>Jean-Francois Daniel</td>\n",
       "      <td>28.0</td>\n",
       "      <td>Central Midfield</td>\n",
       "      <td>Cannes</td>\n",
       "      <td>?</td>\n",
       "      <td>in</td>\n",
       "      <td>Summer</td>\n",
       "      <td>NaN</td>\n",
       "      <td>Ligue 1</td>\n",
       "      <td>1992</td>\n",
       "      <td>1992/1993</td>\n",
       "    </tr>\n",
       "  </tbody>\n",
       "</table>\n",
       "</div>"
      ],
      "text/plain": [
       "               club_name           player_name   age            position  \\\n",
       "0  FC Girondins Bordeaux       Zinédine Zidane  20.0  Attacking Midfield   \n",
       "1  FC Girondins Bordeaux         Laurent Croci  27.0  Defensive Midfield   \n",
       "2  FC Girondins Bordeaux        Philippe Lucas  28.0  Defensive Midfield   \n",
       "3  FC Girondins Bordeaux         Márcio Santos  22.0         Centre-Back   \n",
       "4  FC Girondins Bordeaux  Jean-Francois Daniel  28.0    Central Midfield   \n",
       "\n",
       "  club_involved_name     fee transfer_movement transfer_period  fee_cleaned  \\\n",
       "0             Cannes  £6.30m                in          Summer          6.3   \n",
       "1         FC Sochaux       ?                in          Summer          NaN   \n",
       "2         FC Sochaux       ?                in          Summer          NaN   \n",
       "3           Botafogo       ?                in          Summer          NaN   \n",
       "4             Cannes       ?                in          Summer          NaN   \n",
       "\n",
       "  league_name  year     season  \n",
       "0     Ligue 1  1992  1992/1993  \n",
       "1     Ligue 1  1992  1992/1993  \n",
       "2     Ligue 1  1992  1992/1993  \n",
       "3     Ligue 1  1992  1992/1993  \n",
       "4     Ligue 1  1992  1992/1993  "
      ]
     },
     "execution_count": 4,
     "metadata": {},
     "output_type": "execute_result"
    }
   ],
   "source": [
    "df.head()"
   ]
  },
  {
   "cell_type": "code",
   "execution_count": 5,
   "id": "9bfb88eb",
   "metadata": {},
   "outputs": [
    {
     "data": {
      "text/plain": [
       "(174355, 12)"
      ]
     },
     "execution_count": 5,
     "metadata": {},
     "output_type": "execute_result"
    }
   ],
   "source": [
    "df.shape"
   ]
  },
  {
   "cell_type": "code",
   "execution_count": 6,
   "id": "f81403b0",
   "metadata": {},
   "outputs": [
    {
     "name": "stdout",
     "output_type": "stream",
     "text": [
      "<class 'pandas.core.frame.DataFrame'>\n",
      "RangeIndex: 174355 entries, 0 to 174354\n",
      "Data columns (total 12 columns):\n",
      " #   Column              Non-Null Count   Dtype  \n",
      "---  ------              --------------   -----  \n",
      " 0   club_name           174355 non-null  object \n",
      " 1   player_name         174355 non-null  object \n",
      " 2   age                 174301 non-null  float64\n",
      " 3   position            174352 non-null  object \n",
      " 4   club_involved_name  174355 non-null  object \n",
      " 5   fee                 174211 non-null  object \n",
      " 6   transfer_movement   174355 non-null  object \n",
      " 7   transfer_period     159923 non-null  object \n",
      " 8   fee_cleaned         143610 non-null  float64\n",
      " 9   league_name         174355 non-null  object \n",
      " 10  year                174355 non-null  int64  \n",
      " 11  season              174355 non-null  object \n",
      "dtypes: float64(2), int64(1), object(9)\n",
      "memory usage: 16.0+ MB\n"
     ]
    }
   ],
   "source": [
    "df.info()"
   ]
  },
  {
   "cell_type": "code",
   "execution_count": 7,
   "id": "c5727219",
   "metadata": {},
   "outputs": [
    {
     "data": {
      "text/plain": [
       "array([  6.3 ,    nan,   0.  , ..., 105.75,  21.  ,  26.19])"
      ]
     },
     "execution_count": 7,
     "metadata": {},
     "output_type": "execute_result"
    }
   ],
   "source": [
    "df.fee_cleaned.unique()"
   ]
  },
  {
   "cell_type": "code",
   "execution_count": 8,
   "id": "342d2a1b",
   "metadata": {},
   "outputs": [
    {
     "data": {
      "text/plain": [
       "array(['in', 'out'], dtype=object)"
      ]
     },
     "execution_count": 8,
     "metadata": {},
     "output_type": "execute_result"
    }
   ],
   "source": [
    "df.transfer_movement.unique()"
   ]
  },
  {
   "cell_type": "code",
   "execution_count": 9,
   "id": "5bbadbcc",
   "metadata": {},
   "outputs": [
    {
     "data": {
      "text/html": [
       "<div>\n",
       "<style scoped>\n",
       "    .dataframe tbody tr th:only-of-type {\n",
       "        vertical-align: middle;\n",
       "    }\n",
       "\n",
       "    .dataframe tbody tr th {\n",
       "        vertical-align: top;\n",
       "    }\n",
       "\n",
       "    .dataframe thead th {\n",
       "        text-align: right;\n",
       "    }\n",
       "</style>\n",
       "<table border=\"1\" class=\"dataframe\">\n",
       "  <thead>\n",
       "    <tr style=\"text-align: right;\">\n",
       "      <th></th>\n",
       "      <th>club_name</th>\n",
       "      <th>player_name</th>\n",
       "      <th>age</th>\n",
       "      <th>position</th>\n",
       "      <th>club_involved_name</th>\n",
       "      <th>fee</th>\n",
       "      <th>transfer_movement</th>\n",
       "      <th>transfer_period</th>\n",
       "      <th>fee_cleaned</th>\n",
       "      <th>league_name</th>\n",
       "      <th>year</th>\n",
       "      <th>season</th>\n",
       "    </tr>\n",
       "  </thead>\n",
       "  <tbody>\n",
       "    <tr>\n",
       "      <th>0</th>\n",
       "      <td>FC Girondins Bordeaux</td>\n",
       "      <td>Zinédine Zidane</td>\n",
       "      <td>20.0</td>\n",
       "      <td>Attacking Midfield</td>\n",
       "      <td>Cannes</td>\n",
       "      <td>£6.30m</td>\n",
       "      <td>in</td>\n",
       "      <td>Summer</td>\n",
       "      <td>6.30</td>\n",
       "      <td>Ligue 1</td>\n",
       "      <td>1992</td>\n",
       "      <td>1992/1993</td>\n",
       "    </tr>\n",
       "    <tr>\n",
       "      <th>12045</th>\n",
       "      <td>FC Girondins Bordeaux</td>\n",
       "      <td>Zinédine Zidane</td>\n",
       "      <td>24.0</td>\n",
       "      <td>Attacking Midfield</td>\n",
       "      <td>Juventus</td>\n",
       "      <td>£3.15m</td>\n",
       "      <td>out</td>\n",
       "      <td>Summer</td>\n",
       "      <td>3.15</td>\n",
       "      <td>Ligue 1</td>\n",
       "      <td>1996</td>\n",
       "      <td>1996/1997</td>\n",
       "    </tr>\n",
       "    <tr>\n",
       "      <th>13580</th>\n",
       "      <td>Juventus FC</td>\n",
       "      <td>Zinédine Zidane</td>\n",
       "      <td>24.0</td>\n",
       "      <td>Attacking Midfield</td>\n",
       "      <td>G. Bordeaux</td>\n",
       "      <td>£3.15m</td>\n",
       "      <td>in</td>\n",
       "      <td>Summer</td>\n",
       "      <td>3.15</td>\n",
       "      <td>Serie A</td>\n",
       "      <td>1996</td>\n",
       "      <td>1996/1997</td>\n",
       "    </tr>\n",
       "    <tr>\n",
       "      <th>34116</th>\n",
       "      <td>Juventus FC</td>\n",
       "      <td>Zinédine Zidane</td>\n",
       "      <td>29.0</td>\n",
       "      <td>Attacking Midfield</td>\n",
       "      <td>Real Madrid</td>\n",
       "      <td>£69.75m</td>\n",
       "      <td>out</td>\n",
       "      <td>Summer</td>\n",
       "      <td>69.75</td>\n",
       "      <td>Serie A</td>\n",
       "      <td>2001</td>\n",
       "      <td>2001/2002</td>\n",
       "    </tr>\n",
       "    <tr>\n",
       "      <th>36775</th>\n",
       "      <td>Real Madrid</td>\n",
       "      <td>Zinédine Zidane</td>\n",
       "      <td>29.0</td>\n",
       "      <td>Attacking Midfield</td>\n",
       "      <td>Juventus</td>\n",
       "      <td>£69.75m</td>\n",
       "      <td>in</td>\n",
       "      <td>Summer</td>\n",
       "      <td>69.75</td>\n",
       "      <td>Primera Division</td>\n",
       "      <td>2001</td>\n",
       "      <td>2001/2002</td>\n",
       "    </tr>\n",
       "    <tr>\n",
       "      <th>65801</th>\n",
       "      <td>Real Madrid</td>\n",
       "      <td>Zinédine Zidane</td>\n",
       "      <td>34.0</td>\n",
       "      <td>Attacking Midfield</td>\n",
       "      <td>Retired</td>\n",
       "      <td>-</td>\n",
       "      <td>out</td>\n",
       "      <td>Summer</td>\n",
       "      <td>0.00</td>\n",
       "      <td>Primera Division</td>\n",
       "      <td>2006</td>\n",
       "      <td>2006/2007</td>\n",
       "    </tr>\n",
       "  </tbody>\n",
       "</table>\n",
       "</div>"
      ],
      "text/plain": [
       "                   club_name      player_name   age            position  \\\n",
       "0      FC Girondins Bordeaux  Zinédine Zidane  20.0  Attacking Midfield   \n",
       "12045  FC Girondins Bordeaux  Zinédine Zidane  24.0  Attacking Midfield   \n",
       "13580            Juventus FC  Zinédine Zidane  24.0  Attacking Midfield   \n",
       "34116            Juventus FC  Zinédine Zidane  29.0  Attacking Midfield   \n",
       "36775            Real Madrid  Zinédine Zidane  29.0  Attacking Midfield   \n",
       "65801            Real Madrid  Zinédine Zidane  34.0  Attacking Midfield   \n",
       "\n",
       "      club_involved_name      fee transfer_movement transfer_period  \\\n",
       "0                 Cannes   £6.30m                in          Summer   \n",
       "12045           Juventus   £3.15m               out          Summer   \n",
       "13580        G. Bordeaux   £3.15m                in          Summer   \n",
       "34116        Real Madrid  £69.75m               out          Summer   \n",
       "36775           Juventus  £69.75m                in          Summer   \n",
       "65801            Retired        -               out          Summer   \n",
       "\n",
       "       fee_cleaned       league_name  year     season  \n",
       "0             6.30           Ligue 1  1992  1992/1993  \n",
       "12045         3.15           Ligue 1  1996  1996/1997  \n",
       "13580         3.15           Serie A  1996  1996/1997  \n",
       "34116        69.75           Serie A  2001  2001/2002  \n",
       "36775        69.75  Primera Division  2001  2001/2002  \n",
       "65801         0.00  Primera Division  2006  2006/2007  "
      ]
     },
     "execution_count": 9,
     "metadata": {},
     "output_type": "execute_result"
    }
   ],
   "source": [
    "df.loc[df[\"player_name\"]==\"Zinédine Zidane\"]"
   ]
  },
  {
   "cell_type": "markdown",
   "id": "4fb48751",
   "metadata": {},
   "source": [
    "# Cleaning data"
   ]
  },
  {
   "cell_type": "code",
   "execution_count": 10,
   "id": "4bab815a",
   "metadata": {},
   "outputs": [],
   "source": [
    "## dropping NaNs in fee_cleaned\n",
    "df = df.loc[df[\"fee_cleaned\"].notna()]"
   ]
  },
  {
   "cell_type": "code",
   "execution_count": 11,
   "id": "0b2b3e08",
   "metadata": {},
   "outputs": [],
   "source": [
    "## dropping 0.0 transfer fees\n",
    "df = df.loc[df[\"fee_cleaned\"]!=0]"
   ]
  },
  {
   "cell_type": "code",
   "execution_count": 12,
   "id": "ae74c241",
   "metadata": {},
   "outputs": [],
   "source": [
    "## dropping in vs. out duplications\n",
    "df = df.loc[df[\"transfer_movement\"]!=\"out\"]"
   ]
  },
  {
   "cell_type": "code",
   "execution_count": 13,
   "id": "66b3d6df",
   "metadata": {},
   "outputs": [],
   "source": [
    "df.drop([\"fee\", \"player_name\", \"season\", \"transfer_movement\"], axis=1, inplace=True)"
   ]
  },
  {
   "cell_type": "code",
   "execution_count": 14,
   "id": "23eac900",
   "metadata": {},
   "outputs": [
    {
     "data": {
      "text/plain": [
       "(17968, 8)"
      ]
     },
     "execution_count": 14,
     "metadata": {},
     "output_type": "execute_result"
    }
   ],
   "source": [
    "df.shape"
   ]
  },
  {
   "cell_type": "code",
   "execution_count": 15,
   "id": "517de325",
   "metadata": {},
   "outputs": [],
   "source": [
    "df.reset_index(drop=True, inplace=True)"
   ]
  },
  {
   "cell_type": "code",
   "execution_count": 16,
   "id": "0d0697a3",
   "metadata": {},
   "outputs": [
    {
     "name": "stdout",
     "output_type": "stream",
     "text": [
      "Number of clubs: 357\n",
      "Number of leagues: 9\n"
     ]
    }
   ],
   "source": [
    "print(f\"Number of clubs: {len(df.club_name.unique())}\")\n",
    "print(f\"Number of leagues: {len(df.league_name.unique())}\")"
   ]
  },
  {
   "cell_type": "code",
   "execution_count": 17,
   "id": "b2566b3d",
   "metadata": {},
   "outputs": [
    {
     "data": {
      "image/png": "[encoded data removed]",
      "text/plain": [
       "<Figure size 432x288 with 1 Axes>"
      ]
     },
     "metadata": {
      "needs_background": "light"
     },
     "output_type": "display_data"
    }
   ],
   "source": [
    "plt.hist(df.fee_cleaned);"
   ]
  },
  {
   "cell_type": "code",
   "execution_count": 18,
   "id": "f4479804",
   "metadata": {},
   "outputs": [
    {
     "name": "stderr",
     "output_type": "stream",
     "text": [
      "/home/alexpins/.pyenv/versions/3.8.12/envs/lewagon/lib/python3.8/site-packages/numpy/lib/histograms.py:839: RuntimeWarning: invalid value encountered in greater_equal\n",
      "  keep = (tmp_a >= first_edge)\n",
      "/home/alexpins/.pyenv/versions/3.8.12/envs/lewagon/lib/python3.8/site-packages/numpy/lib/histograms.py:840: RuntimeWarning: invalid value encountered in less_equal\n",
      "  keep &= (tmp_a <= last_edge)\n"
     ]
    },
    {
     "data": {
      "image/png": "[encoded data removed]",
      "text/plain": [
       "<Figure size 432x288 with 1 Axes>"
      ]
     },
     "metadata": {
      "needs_background": "light"
     },
     "output_type": "display_data"
    }
   ],
   "source": [
    "plt.hist(df.age);"
   ]
  },
  {
   "cell_type": "code",
   "execution_count": 19,
   "id": "fc38fd2f",
   "metadata": {},
   "outputs": [
    {
     "data": {
      "image/png": "[encoded data removed]",
      "text/plain": [
       "<Figure size 432x288 with 1 Axes>"
      ]
     },
     "metadata": {
      "needs_background": "light"
     },
     "output_type": "display_data"
    }
   ],
   "source": [
    "df[\"position\"].value_counts().plot(kind=\"bar\");"
   ]
  },
  {
   "cell_type": "code",
   "execution_count": 20,
   "id": "0c5c0026",
   "metadata": {},
   "outputs": [
    {
     "data": {
      "image/png": "[encoded data removed]",
      "text/plain": [
       "<Figure size 432x288 with 1 Axes>"
      ]
     },
     "metadata": {
      "needs_background": "light"
     },
     "output_type": "display_data"
    }
   ],
   "source": [
    "df[\"transfer_period\"].value_counts().plot(kind=\"bar\");"
   ]
  },
  {
   "cell_type": "code",
   "execution_count": 21,
   "id": "b745a607",
   "metadata": {},
   "outputs": [
    {
     "data": {
      "image/png": "[encoded data removed]",
      "text/plain": [
       "<Figure size 432x288 with 1 Axes>"
      ]
     },
     "metadata": {
      "needs_background": "light"
     },
     "output_type": "display_data"
    }
   ],
   "source": [
    "df[\"league_name\"].value_counts().plot(kind=\"bar\");"
   ]
  },
  {
   "cell_type": "code",
   "execution_count": 22,
   "id": "977a8cbf",
   "metadata": {},
   "outputs": [
    {
     "data": {
      "text/html": [
       "<div>\n",
       "<style scoped>\n",
       "    .dataframe tbody tr th:only-of-type {\n",
       "        vertical-align: middle;\n",
       "    }\n",
       "\n",
       "    .dataframe tbody tr th {\n",
       "        vertical-align: top;\n",
       "    }\n",
       "\n",
       "    .dataframe thead th {\n",
       "        text-align: right;\n",
       "    }\n",
       "</style>\n",
       "<table border=\"1\" class=\"dataframe\">\n",
       "  <thead>\n",
       "    <tr style=\"text-align: right;\">\n",
       "      <th></th>\n",
       "      <th>club_name</th>\n",
       "      <th>age</th>\n",
       "      <th>position</th>\n",
       "      <th>club_involved_name</th>\n",
       "      <th>transfer_period</th>\n",
       "      <th>fee_cleaned</th>\n",
       "      <th>league_name</th>\n",
       "      <th>year</th>\n",
       "    </tr>\n",
       "  </thead>\n",
       "  <tbody>\n",
       "    <tr>\n",
       "      <th>0</th>\n",
       "      <td>FC Girondins Bordeaux</td>\n",
       "      <td>20.0</td>\n",
       "      <td>Attacking Midfield</td>\n",
       "      <td>Cannes</td>\n",
       "      <td>Summer</td>\n",
       "      <td>6.300</td>\n",
       "      <td>Ligue 1</td>\n",
       "      <td>1992</td>\n",
       "    </tr>\n",
       "    <tr>\n",
       "      <th>1</th>\n",
       "      <td>RC Strasbourg Alsace</td>\n",
       "      <td>20.0</td>\n",
       "      <td>Attacking Midfield</td>\n",
       "      <td>Man City</td>\n",
       "      <td>Summer</td>\n",
       "      <td>0.450</td>\n",
       "      <td>Ligue 1</td>\n",
       "      <td>1992</td>\n",
       "    </tr>\n",
       "    <tr>\n",
       "      <th>2</th>\n",
       "      <td>RC Strasbourg Alsace</td>\n",
       "      <td>17.0</td>\n",
       "      <td>Centre-Forward</td>\n",
       "      <td>Jagiellonia</td>\n",
       "      <td>Summer</td>\n",
       "      <td>0.180</td>\n",
       "      <td>Ligue 1</td>\n",
       "      <td>1992</td>\n",
       "    </tr>\n",
       "    <tr>\n",
       "      <th>3</th>\n",
       "      <td>AS Monaco</td>\n",
       "      <td>27.0</td>\n",
       "      <td>Centre-Forward</td>\n",
       "      <td>Inter</td>\n",
       "      <td>Summer</td>\n",
       "      <td>6.300</td>\n",
       "      <td>Ligue 1</td>\n",
       "      <td>1992</td>\n",
       "    </tr>\n",
       "    <tr>\n",
       "      <th>4</th>\n",
       "      <td>AJ Auxerre</td>\n",
       "      <td>23.0</td>\n",
       "      <td>Left Midfield</td>\n",
       "      <td>JS Kabylie</td>\n",
       "      <td>Summer</td>\n",
       "      <td>0.034</td>\n",
       "      <td>Ligue 1</td>\n",
       "      <td>1992</td>\n",
       "    </tr>\n",
       "  </tbody>\n",
       "</table>\n",
       "</div>"
      ],
      "text/plain": [
       "               club_name   age            position club_involved_name  \\\n",
       "0  FC Girondins Bordeaux  20.0  Attacking Midfield             Cannes   \n",
       "1   RC Strasbourg Alsace  20.0  Attacking Midfield           Man City   \n",
       "2   RC Strasbourg Alsace  17.0      Centre-Forward        Jagiellonia   \n",
       "3              AS Monaco  27.0      Centre-Forward              Inter   \n",
       "4             AJ Auxerre  23.0       Left Midfield         JS Kabylie   \n",
       "\n",
       "  transfer_period  fee_cleaned league_name  year  \n",
       "0          Summer        6.300     Ligue 1  1992  \n",
       "1          Summer        0.450     Ligue 1  1992  \n",
       "2          Summer        0.180     Ligue 1  1992  \n",
       "3          Summer        6.300     Ligue 1  1992  \n",
       "4          Summer        0.034     Ligue 1  1992  "
      ]
     },
     "execution_count": 22,
     "metadata": {},
     "output_type": "execute_result"
    }
   ],
   "source": [
    "df.head()"
   ]
  },
  {
   "cell_type": "code",
   "execution_count": 23,
   "id": "6d55d489",
   "metadata": {},
   "outputs": [],
   "source": [
    "df = df.rename(\n",
    "    columns={\n",
    "        \"club_name\": \"receiving_club\",\n",
    "        \"club_involved_name\": \"giving_club\",\n",
    "        \"league_name\": \"receiving_league\"\n",
    "    })"
   ]
  },
  {
   "cell_type": "code",
   "execution_count": 24,
   "id": "88b61235",
   "metadata": {},
   "outputs": [
    {
     "data": {
      "text/html": [
       "<div>\n",
       "<style scoped>\n",
       "    .dataframe tbody tr th:only-of-type {\n",
       "        vertical-align: middle;\n",
       "    }\n",
       "\n",
       "    .dataframe tbody tr th {\n",
       "        vertical-align: top;\n",
       "    }\n",
       "\n",
       "    .dataframe thead th {\n",
       "        text-align: right;\n",
       "    }\n",
       "</style>\n",
       "<table border=\"1\" class=\"dataframe\">\n",
       "  <thead>\n",
       "    <tr style=\"text-align: right;\">\n",
       "      <th></th>\n",
       "      <th>receiving_club</th>\n",
       "      <th>receiving_league</th>\n",
       "    </tr>\n",
       "  </thead>\n",
       "  <tbody>\n",
       "    <tr>\n",
       "      <th>0</th>\n",
       "      <td>FC Girondins Bordeaux</td>\n",
       "      <td>Ligue 1</td>\n",
       "    </tr>\n",
       "    <tr>\n",
       "      <th>1</th>\n",
       "      <td>RC Strasbourg Alsace</td>\n",
       "      <td>Ligue 1</td>\n",
       "    </tr>\n",
       "    <tr>\n",
       "      <th>3</th>\n",
       "      <td>AS Monaco</td>\n",
       "      <td>Ligue 1</td>\n",
       "    </tr>\n",
       "    <tr>\n",
       "      <th>4</th>\n",
       "      <td>AJ Auxerre</td>\n",
       "      <td>Ligue 1</td>\n",
       "    </tr>\n",
       "    <tr>\n",
       "      <th>5</th>\n",
       "      <td>Paris Saint-Germain</td>\n",
       "      <td>Ligue 1</td>\n",
       "    </tr>\n",
       "  </tbody>\n",
       "</table>\n",
       "</div>"
      ],
      "text/plain": [
       "          receiving_club receiving_league\n",
       "0  FC Girondins Bordeaux          Ligue 1\n",
       "1   RC Strasbourg Alsace          Ligue 1\n",
       "3              AS Monaco          Ligue 1\n",
       "4             AJ Auxerre          Ligue 1\n",
       "5    Paris Saint-Germain          Ligue 1"
      ]
     },
     "execution_count": 24,
     "metadata": {},
     "output_type": "execute_result"
    }
   ],
   "source": [
    "name_league_matching = df[[\"receiving_club\", \"receiving_league\"]].drop_duplicates()\n",
    "name_league_matching.head()"
   ]
  },
  {
   "cell_type": "code",
   "execution_count": 25,
   "id": "d9c46c18",
   "metadata": {},
   "outputs": [
    {
     "data": {
      "text/html": [
       "<div>\n",
       "<style scoped>\n",
       "    .dataframe tbody tr th:only-of-type {\n",
       "        vertical-align: middle;\n",
       "    }\n",
       "\n",
       "    .dataframe tbody tr th {\n",
       "        vertical-align: top;\n",
       "    }\n",
       "\n",
       "    .dataframe thead th {\n",
       "        text-align: right;\n",
       "    }\n",
       "</style>\n",
       "<table border=\"1\" class=\"dataframe\">\n",
       "  <thead>\n",
       "    <tr style=\"text-align: right;\">\n",
       "      <th></th>\n",
       "      <th>receiving_club</th>\n",
       "      <th>age</th>\n",
       "      <th>position</th>\n",
       "      <th>giving_club</th>\n",
       "      <th>transfer_period</th>\n",
       "      <th>fee_cleaned</th>\n",
       "      <th>receiving_league</th>\n",
       "      <th>year</th>\n",
       "    </tr>\n",
       "  </thead>\n",
       "  <tbody>\n",
       "    <tr>\n",
       "      <th>0</th>\n",
       "      <td>FC Girondins Bordeaux</td>\n",
       "      <td>20.0</td>\n",
       "      <td>Attacking Midfield</td>\n",
       "      <td>Cannes</td>\n",
       "      <td>Summer</td>\n",
       "      <td>6.300</td>\n",
       "      <td>Ligue 1</td>\n",
       "      <td>1992</td>\n",
       "    </tr>\n",
       "    <tr>\n",
       "      <th>1</th>\n",
       "      <td>RC Strasbourg Alsace</td>\n",
       "      <td>20.0</td>\n",
       "      <td>Attacking Midfield</td>\n",
       "      <td>Man City</td>\n",
       "      <td>Summer</td>\n",
       "      <td>0.450</td>\n",
       "      <td>Ligue 1</td>\n",
       "      <td>1992</td>\n",
       "    </tr>\n",
       "    <tr>\n",
       "      <th>2</th>\n",
       "      <td>RC Strasbourg Alsace</td>\n",
       "      <td>17.0</td>\n",
       "      <td>Centre-Forward</td>\n",
       "      <td>Jagiellonia</td>\n",
       "      <td>Summer</td>\n",
       "      <td>0.180</td>\n",
       "      <td>Ligue 1</td>\n",
       "      <td>1992</td>\n",
       "    </tr>\n",
       "    <tr>\n",
       "      <th>3</th>\n",
       "      <td>AS Monaco</td>\n",
       "      <td>27.0</td>\n",
       "      <td>Centre-Forward</td>\n",
       "      <td>Inter</td>\n",
       "      <td>Summer</td>\n",
       "      <td>6.300</td>\n",
       "      <td>Ligue 1</td>\n",
       "      <td>1992</td>\n",
       "    </tr>\n",
       "    <tr>\n",
       "      <th>4</th>\n",
       "      <td>AJ Auxerre</td>\n",
       "      <td>23.0</td>\n",
       "      <td>Left Midfield</td>\n",
       "      <td>JS Kabylie</td>\n",
       "      <td>Summer</td>\n",
       "      <td>0.034</td>\n",
       "      <td>Ligue 1</td>\n",
       "      <td>1992</td>\n",
       "    </tr>\n",
       "  </tbody>\n",
       "</table>\n",
       "</div>"
      ],
      "text/plain": [
       "          receiving_club   age            position  giving_club  \\\n",
       "0  FC Girondins Bordeaux  20.0  Attacking Midfield       Cannes   \n",
       "1   RC Strasbourg Alsace  20.0  Attacking Midfield     Man City   \n",
       "2   RC Strasbourg Alsace  17.0      Centre-Forward  Jagiellonia   \n",
       "3              AS Monaco  27.0      Centre-Forward        Inter   \n",
       "4             AJ Auxerre  23.0       Left Midfield   JS Kabylie   \n",
       "\n",
       "  transfer_period  fee_cleaned receiving_league  year  \n",
       "0          Summer        6.300          Ligue 1  1992  \n",
       "1          Summer        0.450          Ligue 1  1992  \n",
       "2          Summer        0.180          Ligue 1  1992  \n",
       "3          Summer        6.300          Ligue 1  1992  \n",
       "4          Summer        0.034          Ligue 1  1992  "
      ]
     },
     "execution_count": 25,
     "metadata": {},
     "output_type": "execute_result"
    }
   ],
   "source": [
    "df.head()"
   ]
  },
  {
   "cell_type": "code",
   "execution_count": 26,
   "id": "8018b653",
   "metadata": {},
   "outputs": [],
   "source": [
    "def get_league(club):\n",
    "    try:\n",
    "        league = list(name_league_matching.loc[name_league_matching[\"receiving_club\"]==club].receiving_league)[0]\n",
    "        return league\n",
    "    except:\n",
    "        return \"NaN\""
   ]
  },
  {
   "cell_type": "code",
   "execution_count": 27,
   "id": "fe9e287c",
   "metadata": {},
   "outputs": [],
   "source": [
    "df = df[df[\"age\"].notna()]"
   ]
  },
  {
   "cell_type": "code",
   "execution_count": 28,
   "id": "d76f7266",
   "metadata": {},
   "outputs": [
    {
     "name": "stdout",
     "output_type": "stream",
     "text": [
      "<class 'pandas.core.frame.DataFrame'>\n",
      "Int64Index: 17965 entries, 0 to 17967\n",
      "Data columns (total 8 columns):\n",
      " #   Column            Non-Null Count  Dtype  \n",
      "---  ------            --------------  -----  \n",
      " 0   receiving_club    17965 non-null  object \n",
      " 1   age               17965 non-null  float64\n",
      " 2   position          17965 non-null  object \n",
      " 3   giving_club       17965 non-null  object \n",
      " 4   transfer_period   16493 non-null  object \n",
      " 5   fee_cleaned       17965 non-null  float64\n",
      " 6   receiving_league  17965 non-null  object \n",
      " 7   year              17965 non-null  int64  \n",
      "dtypes: float64(2), int64(1), object(5)\n",
      "memory usage: 1.2+ MB\n"
     ]
    }
   ],
   "source": [
    "df.info()"
   ]
  },
  {
   "cell_type": "code",
   "execution_count": 29,
   "id": "68ccf6e3",
   "metadata": {},
   "outputs": [
    {
     "data": {
      "text/html": [
       "<div>\n",
       "<style scoped>\n",
       "    .dataframe tbody tr th:only-of-type {\n",
       "        vertical-align: middle;\n",
       "    }\n",
       "\n",
       "    .dataframe tbody tr th {\n",
       "        vertical-align: top;\n",
       "    }\n",
       "\n",
       "    .dataframe thead th {\n",
       "        text-align: right;\n",
       "    }\n",
       "</style>\n",
       "<table border=\"1\" class=\"dataframe\">\n",
       "  <thead>\n",
       "    <tr style=\"text-align: right;\">\n",
       "      <th></th>\n",
       "      <th>age</th>\n",
       "      <th>fee_cleaned</th>\n",
       "      <th>year</th>\n",
       "    </tr>\n",
       "  </thead>\n",
       "  <tbody>\n",
       "    <tr>\n",
       "      <th>count</th>\n",
       "      <td>17965.000000</td>\n",
       "      <td>17965.000000</td>\n",
       "      <td>17965.000000</td>\n",
       "    </tr>\n",
       "    <tr>\n",
       "      <th>mean</th>\n",
       "      <td>24.200612</td>\n",
       "      <td>3.737029</td>\n",
       "      <td>2009.152018</td>\n",
       "    </tr>\n",
       "    <tr>\n",
       "      <th>std</th>\n",
       "      <td>3.552208</td>\n",
       "      <td>7.067637</td>\n",
       "      <td>7.649198</td>\n",
       "    </tr>\n",
       "    <tr>\n",
       "      <th>min</th>\n",
       "      <td>15.000000</td>\n",
       "      <td>0.002000</td>\n",
       "      <td>1992.000000</td>\n",
       "    </tr>\n",
       "    <tr>\n",
       "      <th>25%</th>\n",
       "      <td>22.000000</td>\n",
       "      <td>0.450000</td>\n",
       "      <td>2004.000000</td>\n",
       "    </tr>\n",
       "    <tr>\n",
       "      <th>50%</th>\n",
       "      <td>24.000000</td>\n",
       "      <td>1.440000</td>\n",
       "      <td>2010.000000</td>\n",
       "    </tr>\n",
       "    <tr>\n",
       "      <th>75%</th>\n",
       "      <td>27.000000</td>\n",
       "      <td>4.050000</td>\n",
       "      <td>2016.000000</td>\n",
       "    </tr>\n",
       "    <tr>\n",
       "      <th>max</th>\n",
       "      <td>39.000000</td>\n",
       "      <td>199.800000</td>\n",
       "      <td>2021.000000</td>\n",
       "    </tr>\n",
       "  </tbody>\n",
       "</table>\n",
       "</div>"
      ],
      "text/plain": [
       "                age   fee_cleaned          year\n",
       "count  17965.000000  17965.000000  17965.000000\n",
       "mean      24.200612      3.737029   2009.152018\n",
       "std        3.552208      7.067637      7.649198\n",
       "min       15.000000      0.002000   1992.000000\n",
       "25%       22.000000      0.450000   2004.000000\n",
       "50%       24.000000      1.440000   2010.000000\n",
       "75%       27.000000      4.050000   2016.000000\n",
       "max       39.000000    199.800000   2021.000000"
      ]
     },
     "execution_count": 29,
     "metadata": {},
     "output_type": "execute_result"
    }
   ],
   "source": [
    "df.describe()"
   ]
  },
  {
   "cell_type": "markdown",
   "id": "e04dcd3d",
   "metadata": {},
   "source": [
    "# Creating X and y"
   ]
  },
  {
   "cell_type": "code",
   "execution_count": 30,
   "id": "9bf367e8",
   "metadata": {},
   "outputs": [],
   "source": [
    "X = df.drop([\"fee_cleaned\"], axis=1)"
   ]
  },
  {
   "cell_type": "code",
   "execution_count": 31,
   "id": "3d53539b",
   "metadata": {},
   "outputs": [],
   "source": [
    "y = df.fee_cleaned"
   ]
  },
  {
   "cell_type": "code",
   "execution_count": 32,
   "id": "3da3a7db",
   "metadata": {},
   "outputs": [],
   "source": [
    "from sklearn.model_selection import train_test_split\n",
    "\n",
    "X_train, X_test, y_train, y_test = train_test_split(X, y, test_size=0.2)"
   ]
  },
  {
   "cell_type": "code",
   "execution_count": 33,
   "id": "d29068a9",
   "metadata": {},
   "outputs": [
    {
     "data": {
      "text/html": [
       "<div>\n",
       "<style scoped>\n",
       "    .dataframe tbody tr th:only-of-type {\n",
       "        vertical-align: middle;\n",
       "    }\n",
       "\n",
       "    .dataframe tbody tr th {\n",
       "        vertical-align: top;\n",
       "    }\n",
       "\n",
       "    .dataframe thead th {\n",
       "        text-align: right;\n",
       "    }\n",
       "</style>\n",
       "<table border=\"1\" class=\"dataframe\">\n",
       "  <thead>\n",
       "    <tr style=\"text-align: right;\">\n",
       "      <th></th>\n",
       "      <th>receiving_club</th>\n",
       "      <th>age</th>\n",
       "      <th>position</th>\n",
       "      <th>giving_club</th>\n",
       "      <th>transfer_period</th>\n",
       "      <th>receiving_league</th>\n",
       "      <th>year</th>\n",
       "    </tr>\n",
       "  </thead>\n",
       "  <tbody>\n",
       "    <tr>\n",
       "      <th>0</th>\n",
       "      <td>FC Girondins Bordeaux</td>\n",
       "      <td>20.0</td>\n",
       "      <td>Attacking Midfield</td>\n",
       "      <td>Cannes</td>\n",
       "      <td>Summer</td>\n",
       "      <td>Ligue 1</td>\n",
       "      <td>1992</td>\n",
       "    </tr>\n",
       "    <tr>\n",
       "      <th>1</th>\n",
       "      <td>RC Strasbourg Alsace</td>\n",
       "      <td>20.0</td>\n",
       "      <td>Attacking Midfield</td>\n",
       "      <td>Man City</td>\n",
       "      <td>Summer</td>\n",
       "      <td>Ligue 1</td>\n",
       "      <td>1992</td>\n",
       "    </tr>\n",
       "    <tr>\n",
       "      <th>2</th>\n",
       "      <td>RC Strasbourg Alsace</td>\n",
       "      <td>17.0</td>\n",
       "      <td>Centre-Forward</td>\n",
       "      <td>Jagiellonia</td>\n",
       "      <td>Summer</td>\n",
       "      <td>Ligue 1</td>\n",
       "      <td>1992</td>\n",
       "    </tr>\n",
       "    <tr>\n",
       "      <th>3</th>\n",
       "      <td>AS Monaco</td>\n",
       "      <td>27.0</td>\n",
       "      <td>Centre-Forward</td>\n",
       "      <td>Inter</td>\n",
       "      <td>Summer</td>\n",
       "      <td>Ligue 1</td>\n",
       "      <td>1992</td>\n",
       "    </tr>\n",
       "    <tr>\n",
       "      <th>4</th>\n",
       "      <td>AJ Auxerre</td>\n",
       "      <td>23.0</td>\n",
       "      <td>Left Midfield</td>\n",
       "      <td>JS Kabylie</td>\n",
       "      <td>Summer</td>\n",
       "      <td>Ligue 1</td>\n",
       "      <td>1992</td>\n",
       "    </tr>\n",
       "  </tbody>\n",
       "</table>\n",
       "</div>"
      ],
      "text/plain": [
       "          receiving_club   age            position  giving_club  \\\n",
       "0  FC Girondins Bordeaux  20.0  Attacking Midfield       Cannes   \n",
       "1   RC Strasbourg Alsace  20.0  Attacking Midfield     Man City   \n",
       "2   RC Strasbourg Alsace  17.0      Centre-Forward  Jagiellonia   \n",
       "3              AS Monaco  27.0      Centre-Forward        Inter   \n",
       "4             AJ Auxerre  23.0       Left Midfield   JS Kabylie   \n",
       "\n",
       "  transfer_period receiving_league  year  \n",
       "0          Summer          Ligue 1  1992  \n",
       "1          Summer          Ligue 1  1992  \n",
       "2          Summer          Ligue 1  1992  \n",
       "3          Summer          Ligue 1  1992  \n",
       "4          Summer          Ligue 1  1992  "
      ]
     },
     "execution_count": 33,
     "metadata": {},
     "output_type": "execute_result"
    }
   ],
   "source": [
    "X.head()"
   ]
  },
  {
   "cell_type": "code",
   "execution_count": 34,
   "id": "13bfc9b4",
   "metadata": {},
   "outputs": [
    {
     "data": {
      "text/plain": [
       "0    6.300\n",
       "1    0.450\n",
       "2    0.180\n",
       "3    6.300\n",
       "4    0.034\n",
       "Name: fee_cleaned, dtype: float64"
      ]
     },
     "execution_count": 34,
     "metadata": {},
     "output_type": "execute_result"
    }
   ],
   "source": [
    "y.head()"
   ]
  },
  {
   "cell_type": "markdown",
   "id": "d9d856c8",
   "metadata": {},
   "source": [
    "# Building pipeline"
   ]
  },
  {
   "cell_type": "code",
   "execution_count": 35,
   "id": "44970f84",
   "metadata": {},
   "outputs": [],
   "source": [
    "from sklearn.preprocessing import OneHotEncoder, MinMaxScaler\n",
    "from sklearn.impute import SimpleImputer\n",
    "from sklearn.compose import ColumnTransformer\n",
    "from sklearn.pipeline import Pipeline\n",
    "from sklearn.pipeline import make_pipeline\n",
    "from sklearn.linear_model import LinearRegression\n",
    "from sklearn import set_config"
   ]
  },
  {
   "cell_type": "code",
   "execution_count": 42,
   "id": "1bb14876",
   "metadata": {},
   "outputs": [],
   "source": [
    "set_config(display=\"diagram\")"
   ]
  },
  {
   "cell_type": "code",
   "execution_count": 37,
   "id": "60b6891f",
   "metadata": {},
   "outputs": [],
   "source": [
    "num_transformer = Pipeline([(\"scaler\", MinMaxScaler())])"
   ]
  },
  {
   "cell_type": "code",
   "execution_count": 38,
   "id": "2d96b8e7",
   "metadata": {},
   "outputs": [],
   "source": [
    "cat_transformer = Pipeline([\n",
    "    (\"imputer\", SimpleImputer(strategy=\"most_frequent\")),\n",
    "    (\"ohe\", OneHotEncoder(handle_unknown=\"ignore\"))\n",
    "])"
   ]
  },
  {
   "cell_type": "code",
   "execution_count": 39,
   "id": "aebc6325",
   "metadata": {},
   "outputs": [],
   "source": [
    "preprocessor = ColumnTransformer([\n",
    "    (\"num_tr\", num_transformer, [\"age\", \"year\"]),\n",
    "    (\"cat_tr\", cat_transformer, [\"receiving_club\", \"position\", \"giving_club\", \"transfer_period\", \"receiving_league\"])\n",
    "])"
   ]
  },
  {
   "cell_type": "code",
   "execution_count": 44,
   "id": "73935a85",
   "metadata": {},
   "outputs": [
    {
     "data": {
      "text/html": [
       "<style>#sk-669310e6-9545-47df-bd78-b86ae78e9028 {color: black;background-color: white;}#sk-669310e6-9545-47df-bd78-b86ae78e9028 pre{padding: 0;}#sk-669310e6-9545-47df-bd78-b86ae78e9028 div.sk-toggleable {background-color: white;}#sk-669310e6-9545-47df-bd78-b86ae78e9028 label.sk-toggleable__label {cursor: pointer;display: block;width: 100%;margin-bottom: 0;padding: 0.3em;box-sizing: border-box;text-align: center;}#sk-669310e6-9545-47df-bd78-b86ae78e9028 div.sk-toggleable__content {max-height: 0;max-width: 0;overflow: hidden;text-align: left;background-color: #f0f8ff;}#sk-669310e6-9545-47df-bd78-b86ae78e9028 div.sk-toggleable__content pre {margin: 0.2em;color: black;border-radius: 0.25em;background-color: #f0f8ff;}#sk-669310e6-9545-47df-bd78-b86ae78e9028 input.sk-toggleable__control:checked~div.sk-toggleable__content {max-height: 200px;max-width: 100%;overflow: auto;}#sk-669310e6-9545-47df-bd78-b86ae78e9028 div.sk-estimator input.sk-toggleable__control:checked~label.sk-toggleable__label {background-color: #d4ebff;}#sk-669310e6-9545-47df-bd78-b86ae78e9028 div.sk-label input.sk-toggleable__control:checked~label.sk-toggleable__label {background-color: #d4ebff;}#sk-669310e6-9545-47df-bd78-b86ae78e9028 input.sk-hidden--visually {border: 0;clip: rect(1px 1px 1px 1px);clip: rect(1px, 1px, 1px, 1px);height: 1px;margin: -1px;overflow: hidden;padding: 0;position: absolute;width: 1px;}#sk-669310e6-9545-47df-bd78-b86ae78e9028 div.sk-estimator {font-family: monospace;background-color: #f0f8ff;border: 1px dotted black;border-radius: 0.25em;box-sizing: border-box;margin-bottom: 0.5em;}#sk-669310e6-9545-47df-bd78-b86ae78e9028 div.sk-estimator:hover {background-color: #d4ebff;}#sk-669310e6-9545-47df-bd78-b86ae78e9028 div.sk-parallel-item::after {content: \"\";width: 100%;border-bottom: 1px solid gray;flex-grow: 1;}#sk-669310e6-9545-47df-bd78-b86ae78e9028 div.sk-label:hover label.sk-toggleable__label {background-color: #d4ebff;}#sk-669310e6-9545-47df-bd78-b86ae78e9028 div.sk-serial::before {content: \"\";position: absolute;border-left: 1px solid gray;box-sizing: border-box;top: 2em;bottom: 0;left: 50%;}#sk-669310e6-9545-47df-bd78-b86ae78e9028 div.sk-serial {display: flex;flex-direction: column;align-items: center;background-color: white;padding-right: 0.2em;padding-left: 0.2em;}#sk-669310e6-9545-47df-bd78-b86ae78e9028 div.sk-item {z-index: 1;}#sk-669310e6-9545-47df-bd78-b86ae78e9028 div.sk-parallel {display: flex;align-items: stretch;justify-content: center;background-color: white;}#sk-669310e6-9545-47df-bd78-b86ae78e9028 div.sk-parallel::before {content: \"\";position: absolute;border-left: 1px solid gray;box-sizing: border-box;top: 2em;bottom: 0;left: 50%;}#sk-669310e6-9545-47df-bd78-b86ae78e9028 div.sk-parallel-item {display: flex;flex-direction: column;position: relative;background-color: white;}#sk-669310e6-9545-47df-bd78-b86ae78e9028 div.sk-parallel-item:first-child::after {align-self: flex-end;width: 50%;}#sk-669310e6-9545-47df-bd78-b86ae78e9028 div.sk-parallel-item:last-child::after {align-self: flex-start;width: 50%;}#sk-669310e6-9545-47df-bd78-b86ae78e9028 div.sk-parallel-item:only-child::after {width: 0;}#sk-669310e6-9545-47df-bd78-b86ae78e9028 div.sk-dashed-wrapped {border: 1px dashed gray;margin: 0 0.4em 0.5em 0.4em;box-sizing: border-box;padding-bottom: 0.4em;background-color: white;position: relative;}#sk-669310e6-9545-47df-bd78-b86ae78e9028 div.sk-label label {font-family: monospace;font-weight: bold;background-color: white;display: inline-block;line-height: 1.2em;}#sk-669310e6-9545-47df-bd78-b86ae78e9028 div.sk-label-container {position: relative;z-index: 2;text-align: center;}#sk-669310e6-9545-47df-bd78-b86ae78e9028 div.sk-container {display: inline-block;position: relative;}</style><div id=\"sk-669310e6-9545-47df-bd78-b86ae78e9028\" class\"sk-top-container\"><div class=\"sk-container\"><div class=\"sk-item sk-dashed-wrapped\"><div class=\"sk-label-container\"><div class=\"sk-label sk-toggleable\"><input class=\"sk-toggleable__control sk-hidden--visually\" id=\"a5a3028e-25b1-402a-8735-a14b07b6561a\" type=\"checkbox\" ><label class=\"sk-toggleable__label\" for=\"a5a3028e-25b1-402a-8735-a14b07b6561a\">Pipeline</label><div class=\"sk-toggleable__content\"><pre>Pipeline(steps=[('columntransformer',\n",
       "                 ColumnTransformer(transformers=[('num_tr',\n",
       "                                                  Pipeline(steps=[('scaler',\n",
       "                                                                   MinMaxScaler())]),\n",
       "                                                  ['age', 'year']),\n",
       "                                                 ('cat_tr',\n",
       "                                                  Pipeline(steps=[('imputer',\n",
       "                                                                   SimpleImputer(strategy='most_frequent')),\n",
       "                                                                  ('ohe',\n",
       "                                                                   OneHotEncoder(handle_unknown='ignore'))]),\n",
       "                                                  ['receiving_club', 'position',\n",
       "                                                   'giving_club',\n",
       "                                                   'transfer_period',\n",
       "                                                   'receiving_league'])])),\n",
       "                ('linearregression', LinearRegression())])</pre></div></div></div><div class=\"sk-serial\"><div class=\"sk-item sk-dashed-wrapped\"><div class=\"sk-label-container\"><div class=\"sk-label sk-toggleable\"><input class=\"sk-toggleable__control sk-hidden--visually\" id=\"688f6a90-4b05-420b-a803-a86aac08c8d0\" type=\"checkbox\" ><label class=\"sk-toggleable__label\" for=\"688f6a90-4b05-420b-a803-a86aac08c8d0\">columntransformer: ColumnTransformer</label><div class=\"sk-toggleable__content\"><pre>ColumnTransformer(transformers=[('num_tr',\n",
       "                                 Pipeline(steps=[('scaler', MinMaxScaler())]),\n",
       "                                 ['age', 'year']),\n",
       "                                ('cat_tr',\n",
       "                                 Pipeline(steps=[('imputer',\n",
       "                                                  SimpleImputer(strategy='most_frequent')),\n",
       "                                                 ('ohe',\n",
       "                                                  OneHotEncoder(handle_unknown='ignore'))]),\n",
       "                                 ['receiving_club', 'position', 'giving_club',\n",
       "                                  'transfer_period', 'receiving_league'])])</pre></div></div></div><div class=\"sk-parallel\"><div class=\"sk-parallel-item\"><div class=\"sk-item\"><div class=\"sk-label-container\"><div class=\"sk-label sk-toggleable\"><input class=\"sk-toggleable__control sk-hidden--visually\" id=\"04118c96-a91b-43db-bcb3-153699067e7c\" type=\"checkbox\" ><label class=\"sk-toggleable__label\" for=\"04118c96-a91b-43db-bcb3-153699067e7c\">num_tr</label><div class=\"sk-toggleable__content\"><pre>['age', 'year']</pre></div></div></div><div class=\"sk-serial\"><div class=\"sk-item\"><div class=\"sk-serial\"><div class=\"sk-item\"><div class=\"sk-estimator sk-toggleable\"><input class=\"sk-toggleable__control sk-hidden--visually\" id=\"8de81671-683f-406a-90bd-4ac8e6a1ce43\" type=\"checkbox\" ><label class=\"sk-toggleable__label\" for=\"8de81671-683f-406a-90bd-4ac8e6a1ce43\">MinMaxScaler</label><div class=\"sk-toggleable__content\"><pre>MinMaxScaler()</pre></div></div></div></div></div></div></div></div><div class=\"sk-parallel-item\"><div class=\"sk-item\"><div class=\"sk-label-container\"><div class=\"sk-label sk-toggleable\"><input class=\"sk-toggleable__control sk-hidden--visually\" id=\"fc212021-e5e0-4145-8385-d957e7f59979\" type=\"checkbox\" ><label class=\"sk-toggleable__label\" for=\"fc212021-e5e0-4145-8385-d957e7f59979\">cat_tr</label><div class=\"sk-toggleable__content\"><pre>['receiving_club', 'position', 'giving_club', 'transfer_period', 'receiving_league']</pre></div></div></div><div class=\"sk-serial\"><div class=\"sk-item\"><div class=\"sk-serial\"><div class=\"sk-item\"><div class=\"sk-estimator sk-toggleable\"><input class=\"sk-toggleable__control sk-hidden--visually\" id=\"f1b88e65-f10d-480b-9ccd-33e42af9040f\" type=\"checkbox\" ><label class=\"sk-toggleable__label\" for=\"f1b88e65-f10d-480b-9ccd-33e42af9040f\">SimpleImputer</label><div class=\"sk-toggleable__content\"><pre>SimpleImputer(strategy='most_frequent')</pre></div></div></div><div class=\"sk-item\"><div class=\"sk-estimator sk-toggleable\"><input class=\"sk-toggleable__control sk-hidden--visually\" id=\"460c3f11-5b33-4443-8a76-73c795a6a3e3\" type=\"checkbox\" ><label class=\"sk-toggleable__label\" for=\"460c3f11-5b33-4443-8a76-73c795a6a3e3\">OneHotEncoder</label><div class=\"sk-toggleable__content\"><pre>OneHotEncoder(handle_unknown='ignore')</pre></div></div></div></div></div></div></div></div></div></div><div class=\"sk-item\"><div class=\"sk-estimator sk-toggleable\"><input class=\"sk-toggleable__control sk-hidden--visually\" id=\"bd097d82-298b-4888-90ae-c8996508ccc9\" type=\"checkbox\" ><label class=\"sk-toggleable__label\" for=\"bd097d82-298b-4888-90ae-c8996508ccc9\">LinearRegression</label><div class=\"sk-toggleable__content\"><pre>LinearRegression()</pre></div></div></div></div></div></div></div>"
      ],
      "text/plain": [
       "Pipeline(steps=[('columntransformer',\n",
       "                 ColumnTransformer(transformers=[('num_tr',\n",
       "                                                  Pipeline(steps=[('scaler',\n",
       "                                                                   MinMaxScaler())]),\n",
       "                                                  ['age', 'year']),\n",
       "                                                 ('cat_tr',\n",
       "                                                  Pipeline(steps=[('imputer',\n",
       "                                                                   SimpleImputer(strategy='most_frequent')),\n",
       "                                                                  ('ohe',\n",
       "                                                                   OneHotEncoder(handle_unknown='ignore'))]),\n",
       "                                                  ['receiving_club', 'position',\n",
       "                                                   'giving_club',\n",
       "                                                   'transfer_period',\n",
       "                                                   'receiving_league'])])),\n",
       "                ('linearregression', LinearRegression())])"
      ]
     },
     "execution_count": 44,
     "metadata": {},
     "output_type": "execute_result"
    }
   ],
   "source": [
    "pipe = make_pipeline(preprocessor, LinearRegression())\n",
    "pipe"
   ]
  },
  {
   "cell_type": "markdown",
   "id": "bbbe6347",
   "metadata": {},
   "source": [
    "# Fit model"
   ]
  },
  {
   "cell_type": "code",
   "execution_count": 46,
   "id": "81c3d67d",
   "metadata": {},
   "outputs": [
    {
     "data": {
      "text/html": [
       "<style>#sk-ed4ceb34-1f2e-4ba8-a428-d2dba21b9442 {color: black;background-color: white;}#sk-ed4ceb34-1f2e-4ba8-a428-d2dba21b9442 pre{padding: 0;}#sk-ed4ceb34-1f2e-4ba8-a428-d2dba21b9442 div.sk-toggleable {background-color: white;}#sk-ed4ceb34-1f2e-4ba8-a428-d2dba21b9442 label.sk-toggleable__label {cursor: pointer;display: block;width: 100%;margin-bottom: 0;padding: 0.3em;box-sizing: border-box;text-align: center;}#sk-ed4ceb34-1f2e-4ba8-a428-d2dba21b9442 div.sk-toggleable__content {max-height: 0;max-width: 0;overflow: hidden;text-align: left;background-color: #f0f8ff;}#sk-ed4ceb34-1f2e-4ba8-a428-d2dba21b9442 div.sk-toggleable__content pre {margin: 0.2em;color: black;border-radius: 0.25em;background-color: #f0f8ff;}#sk-ed4ceb34-1f2e-4ba8-a428-d2dba21b9442 input.sk-toggleable__control:checked~div.sk-toggleable__content {max-height: 200px;max-width: 100%;overflow: auto;}#sk-ed4ceb34-1f2e-4ba8-a428-d2dba21b9442 div.sk-estimator input.sk-toggleable__control:checked~label.sk-toggleable__label {background-color: #d4ebff;}#sk-ed4ceb34-1f2e-4ba8-a428-d2dba21b9442 div.sk-label input.sk-toggleable__control:checked~label.sk-toggleable__label {background-color: #d4ebff;}#sk-ed4ceb34-1f2e-4ba8-a428-d2dba21b9442 input.sk-hidden--visually {border: 0;clip: rect(1px 1px 1px 1px);clip: rect(1px, 1px, 1px, 1px);height: 1px;margin: -1px;overflow: hidden;padding: 0;position: absolute;width: 1px;}#sk-ed4ceb34-1f2e-4ba8-a428-d2dba21b9442 div.sk-estimator {font-family: monospace;background-color: #f0f8ff;border: 1px dotted black;border-radius: 0.25em;box-sizing: border-box;margin-bottom: 0.5em;}#sk-ed4ceb34-1f2e-4ba8-a428-d2dba21b9442 div.sk-estimator:hover {background-color: #d4ebff;}#sk-ed4ceb34-1f2e-4ba8-a428-d2dba21b9442 div.sk-parallel-item::after {content: \"\";width: 100%;border-bottom: 1px solid gray;flex-grow: 1;}#sk-ed4ceb34-1f2e-4ba8-a428-d2dba21b9442 div.sk-label:hover label.sk-toggleable__label {background-color: #d4ebff;}#sk-ed4ceb34-1f2e-4ba8-a428-d2dba21b9442 div.sk-serial::before {content: \"\";position: absolute;border-left: 1px solid gray;box-sizing: border-box;top: 2em;bottom: 0;left: 50%;}#sk-ed4ceb34-1f2e-4ba8-a428-d2dba21b9442 div.sk-serial {display: flex;flex-direction: column;align-items: center;background-color: white;padding-right: 0.2em;padding-left: 0.2em;}#sk-ed4ceb34-1f2e-4ba8-a428-d2dba21b9442 div.sk-item {z-index: 1;}#sk-ed4ceb34-1f2e-4ba8-a428-d2dba21b9442 div.sk-parallel {display: flex;align-items: stretch;justify-content: center;background-color: white;}#sk-ed4ceb34-1f2e-4ba8-a428-d2dba21b9442 div.sk-parallel::before {content: \"\";position: absolute;border-left: 1px solid gray;box-sizing: border-box;top: 2em;bottom: 0;left: 50%;}#sk-ed4ceb34-1f2e-4ba8-a428-d2dba21b9442 div.sk-parallel-item {display: flex;flex-direction: column;position: relative;background-color: white;}#sk-ed4ceb34-1f2e-4ba8-a428-d2dba21b9442 div.sk-parallel-item:first-child::after {align-self: flex-end;width: 50%;}#sk-ed4ceb34-1f2e-4ba8-a428-d2dba21b9442 div.sk-parallel-item:last-child::after {align-self: flex-start;width: 50%;}#sk-ed4ceb34-1f2e-4ba8-a428-d2dba21b9442 div.sk-parallel-item:only-child::after {width: 0;}#sk-ed4ceb34-1f2e-4ba8-a428-d2dba21b9442 div.sk-dashed-wrapped {border: 1px dashed gray;margin: 0 0.4em 0.5em 0.4em;box-sizing: border-box;padding-bottom: 0.4em;background-color: white;position: relative;}#sk-ed4ceb34-1f2e-4ba8-a428-d2dba21b9442 div.sk-label label {font-family: monospace;font-weight: bold;background-color: white;display: inline-block;line-height: 1.2em;}#sk-ed4ceb34-1f2e-4ba8-a428-d2dba21b9442 div.sk-label-container {position: relative;z-index: 2;text-align: center;}#sk-ed4ceb34-1f2e-4ba8-a428-d2dba21b9442 div.sk-container {display: inline-block;position: relative;}</style><div id=\"sk-ed4ceb34-1f2e-4ba8-a428-d2dba21b9442\" class\"sk-top-container\"><div class=\"sk-container\"><div class=\"sk-item sk-dashed-wrapped\"><div class=\"sk-label-container\"><div class=\"sk-label sk-toggleable\"><input class=\"sk-toggleable__control sk-hidden--visually\" id=\"61bdca08-630d-4039-964d-03ff42f3917f\" type=\"checkbox\" ><label class=\"sk-toggleable__label\" for=\"61bdca08-630d-4039-964d-03ff42f3917f\">Pipeline</label><div class=\"sk-toggleable__content\"><pre>Pipeline(steps=[('columntransformer',\n",
       "                 ColumnTransformer(transformers=[('num_tr',\n",
       "                                                  Pipeline(steps=[('scaler',\n",
       "                                                                   MinMaxScaler())]),\n",
       "                                                  ['age', 'year']),\n",
       "                                                 ('cat_tr',\n",
       "                                                  Pipeline(steps=[('imputer',\n",
       "                                                                   SimpleImputer(strategy='most_frequent')),\n",
       "                                                                  ('ohe',\n",
       "                                                                   OneHotEncoder(handle_unknown='ignore'))]),\n",
       "                                                  ['receiving_club', 'position',\n",
       "                                                   'giving_club',\n",
       "                                                   'transfer_period',\n",
       "                                                   'receiving_league'])])),\n",
       "                ('linearregression', LinearRegression())])</pre></div></div></div><div class=\"sk-serial\"><div class=\"sk-item sk-dashed-wrapped\"><div class=\"sk-label-container\"><div class=\"sk-label sk-toggleable\"><input class=\"sk-toggleable__control sk-hidden--visually\" id=\"c698f1a4-d7bc-4c9f-b860-3088b144240f\" type=\"checkbox\" ><label class=\"sk-toggleable__label\" for=\"c698f1a4-d7bc-4c9f-b860-3088b144240f\">columntransformer: ColumnTransformer</label><div class=\"sk-toggleable__content\"><pre>ColumnTransformer(transformers=[('num_tr',\n",
       "                                 Pipeline(steps=[('scaler', MinMaxScaler())]),\n",
       "                                 ['age', 'year']),\n",
       "                                ('cat_tr',\n",
       "                                 Pipeline(steps=[('imputer',\n",
       "                                                  SimpleImputer(strategy='most_frequent')),\n",
       "                                                 ('ohe',\n",
       "                                                  OneHotEncoder(handle_unknown='ignore'))]),\n",
       "                                 ['receiving_club', 'position', 'giving_club',\n",
       "                                  'transfer_period', 'receiving_league'])])</pre></div></div></div><div class=\"sk-parallel\"><div class=\"sk-parallel-item\"><div class=\"sk-item\"><div class=\"sk-label-container\"><div class=\"sk-label sk-toggleable\"><input class=\"sk-toggleable__control sk-hidden--visually\" id=\"9be5877f-17f7-494f-9b51-652a5a766c8f\" type=\"checkbox\" ><label class=\"sk-toggleable__label\" for=\"9be5877f-17f7-494f-9b51-652a5a766c8f\">num_tr</label><div class=\"sk-toggleable__content\"><pre>['age', 'year']</pre></div></div></div><div class=\"sk-serial\"><div class=\"sk-item\"><div class=\"sk-serial\"><div class=\"sk-item\"><div class=\"sk-estimator sk-toggleable\"><input class=\"sk-toggleable__control sk-hidden--visually\" id=\"c99a2c82-ec30-4325-86ff-8bdbbcb0fd6f\" type=\"checkbox\" ><label class=\"sk-toggleable__label\" for=\"c99a2c82-ec30-4325-86ff-8bdbbcb0fd6f\">MinMaxScaler</label><div class=\"sk-toggleable__content\"><pre>MinMaxScaler()</pre></div></div></div></div></div></div></div></div><div class=\"sk-parallel-item\"><div class=\"sk-item\"><div class=\"sk-label-container\"><div class=\"sk-label sk-toggleable\"><input class=\"sk-toggleable__control sk-hidden--visually\" id=\"3275cdee-9b4d-461b-95f4-aee2a0be140a\" type=\"checkbox\" ><label class=\"sk-toggleable__label\" for=\"3275cdee-9b4d-461b-95f4-aee2a0be140a\">cat_tr</label><div class=\"sk-toggleable__content\"><pre>['receiving_club', 'position', 'giving_club', 'transfer_period', 'receiving_league']</pre></div></div></div><div class=\"sk-serial\"><div class=\"sk-item\"><div class=\"sk-serial\"><div class=\"sk-item\"><div class=\"sk-estimator sk-toggleable\"><input class=\"sk-toggleable__control sk-hidden--visually\" id=\"2feab0c4-6b1d-4c91-a56a-9ea7bebdf34d\" type=\"checkbox\" ><label class=\"sk-toggleable__label\" for=\"2feab0c4-6b1d-4c91-a56a-9ea7bebdf34d\">SimpleImputer</label><div class=\"sk-toggleable__content\"><pre>SimpleImputer(strategy='most_frequent')</pre></div></div></div><div class=\"sk-item\"><div class=\"sk-estimator sk-toggleable\"><input class=\"sk-toggleable__control sk-hidden--visually\" id=\"1442a023-9dd1-434d-b499-518ddea9fc4a\" type=\"checkbox\" ><label class=\"sk-toggleable__label\" for=\"1442a023-9dd1-434d-b499-518ddea9fc4a\">OneHotEncoder</label><div class=\"sk-toggleable__content\"><pre>OneHotEncoder(handle_unknown='ignore')</pre></div></div></div></div></div></div></div></div></div></div><div class=\"sk-item\"><div class=\"sk-estimator sk-toggleable\"><input class=\"sk-toggleable__control sk-hidden--visually\" id=\"86fe7ff1-9c32-4a5e-86b8-14e6b242432d\" type=\"checkbox\" ><label class=\"sk-toggleable__label\" for=\"86fe7ff1-9c32-4a5e-86b8-14e6b242432d\">LinearRegression</label><div class=\"sk-toggleable__content\"><pre>LinearRegression()</pre></div></div></div></div></div></div></div>"
      ],
      "text/plain": [
       "Pipeline(steps=[('columntransformer',\n",
       "                 ColumnTransformer(transformers=[('num_tr',\n",
       "                                                  Pipeline(steps=[('scaler',\n",
       "                                                                   MinMaxScaler())]),\n",
       "                                                  ['age', 'year']),\n",
       "                                                 ('cat_tr',\n",
       "                                                  Pipeline(steps=[('imputer',\n",
       "                                                                   SimpleImputer(strategy='most_frequent')),\n",
       "                                                                  ('ohe',\n",
       "                                                                   OneHotEncoder(handle_unknown='ignore'))]),\n",
       "                                                  ['receiving_club', 'position',\n",
       "                                                   'giving_club',\n",
       "                                                   'transfer_period',\n",
       "                                                   'receiving_league'])])),\n",
       "                ('linearregression', LinearRegression())])"
      ]
     },
     "execution_count": 46,
     "metadata": {},
     "output_type": "execute_result"
    }
   ],
   "source": [
    "pipe.fit(X_train, y_train)"
   ]
  },
  {
   "cell_type": "markdown",
   "id": "80e400bd",
   "metadata": {},
   "source": [
    "Inflation normalizer"
   ]
  }
 ],
 "metadata": {
  "kernelspec": {
   "display_name": "Python 3 (ipykernel)",
   "language": "python",
   "name": "python3"
  },
  "language_info": {
   "codemirror_mode": {
    "name": "ipython",
    "version": 3
   },
   "file_extension": ".py",
   "mimetype": "text/x-python",
   "name": "python",
   "nbconvert_exporter": "python",
   "pygments_lexer": "ipython3",
   "version": "3.8.12"
  },
  "toc": {
   "base_numbering": 1,
   "nav_menu": {},
   "number_sections": true,
   "sideBar": true,
   "skip_h1_title": false,
   "title_cell": "Table of Contents",
   "title_sidebar": "Contents",
   "toc_cell": false,
   "toc_position": {},
   "toc_section_display": true,
   "toc_window_display": true
  }
 },
 "nbformat": 4,
 "nbformat_minor": 5
}
